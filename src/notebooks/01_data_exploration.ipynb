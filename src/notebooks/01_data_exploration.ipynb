{
 "cells": [
  {
   "cell_type": "code",
   "execution_count": 3,
   "metadata": {},
   "outputs": [
    {
     "name": "stdout",
     "output_type": "stream",
     "text": [
      "🔧 SETTING UP PROJECT PATHS\n",
      "==============================\n",
      "Current directory: C:\\Users\\joaqu\\Desktop\\code\\ML\\churn-prediction-project\\src\\notebooks\n",
      "Project root (src folder): C:\\Users\\joaqu\\Desktop\\code\\ML\\churn-prediction-project\\src\n",
      "Adding to Python path: C:\\Users\\joaqu\\Desktop\\code\\ML\\churn-prediction-project\\src\n",
      "✅ Added to Python path: C:\\Users\\joaqu\\Desktop\\code\\ML\\churn-prediction-project\\src\n",
      "Looking for churn_analysis at: C:\\Users\\joaqu\\Desktop\\code\\ML\\churn-prediction-project\\src\\churn_analysis\n",
      "churn_analysis exists: True\n",
      "Config folder exists: True\n",
      "✅ Successfully imported settings!\n",
      "Data file path: C:\\Users\\joaqu\\Desktop\\code\\ML\\churn-prediction-project\\src\\data\\raw\\WA_Fn-UseC_-Telco-Customer-Churn.csv\n",
      "Data file exists: True\n"
     ]
    },
    {
     "data": {
      "text/html": [
       "<pre style=\"white-space:pre;overflow-x:auto;line-height:normal;font-family:Menlo,'DejaVu Sans Mono',consolas,'Courier New',monospace\">✅ Visualization settings applied\n",
       "</pre>\n"
      ],
      "text/plain": [
       "✅ Visualization settings applied\n"
      ]
     },
     "metadata": {},
     "output_type": "display_data"
    }
   ],
   "source": [
    "import sys\n",
    "from pathlib import Path\n",
    "\n",
    "print(\"🔧 SETTING UP PROJECT PATHS\")\n",
    "print(\"=\" * 30)\n",
    "\n",
    "current_dir = Path.cwd()\n",
    "print(f\"Current directory: {current_dir}\")\n",
    "\n",
    "# Adding current_dir.parent to Python path (which contains churn_analysis)\n",
    "project_root = current_dir.parent\n",
    "src_path = project_root\n",
    "\n",
    "print(f\"Project root (src folder): {project_root}\")\n",
    "print(f\"Adding to Python path: {src_path}\")\n",
    "\n",
    "# Adding the src folder (project_root) to Python path\n",
    "if str(src_path) not in sys.path:\n",
    "    sys.path.insert(0, str(src_path))\n",
    "    print(f\"✅ Added to Python path: {src_path}\")\n",
    "\n",
    "# Verifying churn_analysis module is accessible\n",
    "churn_analysis_path = src_path / 'churn_analysis'\n",
    "print(f\"Looking for churn_analysis at: {churn_analysis_path}\")\n",
    "print(f\"churn_analysis exists: {churn_analysis_path.exists()}\")\n",
    "\n",
    "# Checking config folder\n",
    "config_path = churn_analysis_path / 'config'\n",
    "print(f\"Config folder exists: {config_path.exists()}\")\n",
    "\n",
    "# Trying to import\n",
    "try:\n",
    "    from churn_analysis.config.settings import TELCO_RAW_FILE, FIGURE_SIZE, RANDOM_STATE\n",
    "    print(\"✅ Successfully imported settings!\")\n",
    "    \n",
    "    # Testing the settings\n",
    "    print(f\"Data file path: {TELCO_RAW_FILE}\")\n",
    "    print(f\"Data file exists: {TELCO_RAW_FILE.exists()}\")\n",
    "    \n",
    "except ImportError as e:\n",
    "    print(f\"❌ Import failed: {e}\")\n",
    "    \n",
    "    # Debugging the config folder contents\n",
    "    if config_path.exists():\n",
    "        print(f\"Files in config folder:\")\n",
    "        for file in config_path.iterdir():\n",
    "            print(f\"  📄 {file.name}\")\n",
    "\n",
    "# Standard libraries\n",
    "import polars as pl\n",
    "import pandas as pd\n",
    "import numpy as np\n",
    "import matplotlib.pyplot as plt\n",
    "import seaborn as sns\n",
    "import plotly.express as px\n",
    "from rich import print\n",
    "import pyarrow as pa\n",
    "\n",
    "# Notebook setup\n",
    "try:\n",
    "    plt.style.use('seaborn-v0_8')\n",
    "    plt.rcParams['figure.figsize'] = FIGURE_SIZE\n",
    "    sns.set_palette(\"husl\")\n",
    "    print(\"✅ Visualization settings applied\")\n",
    "except:\n",
    "    # Fallback if settings import failed\n",
    "    plt.rcParams['figure.figsize'] = (12, 8)\n",
    "    print(\"⚠️ Using fallback visualization settings\")"
   ]
  },
  {
   "cell_type": "code",
   "execution_count": 16,
   "metadata": {},
   "outputs": [
    {
     "data": {
      "text/html": [
       "<pre style=\"white-space:pre;overflow-x:auto;line-height:normal;font-family:Menlo,'DejaVu Sans Mono',consolas,'Courier New',monospace\">🔍 Loading Telco Customer Churn Dataset<span style=\"color: #808000; text-decoration-color: #808000\">...</span>\n",
       "</pre>\n"
      ],
      "text/plain": [
       "🔍 Loading Telco Customer Churn Dataset\u001b[33m...\u001b[0m\n"
      ]
     },
     "metadata": {},
     "output_type": "display_data"
    },
    {
     "name": "stdout",
     "output_type": "stream",
     "text": [
      "✅ Dataset loaded: 7043 rows, 21 columns\n"
     ]
    },
    {
     "data": {
      "text/html": [
       "<pre style=\"white-space:pre;overflow-x:auto;line-height:normal;font-family:Menlo,'DejaVu Sans Mono',consolas,'Courier New',monospace\">📊 Dataset Info: <span style=\"font-weight: bold\">{</span><span style=\"color: #008000; text-decoration-color: #008000\">'shape'</span>: <span style=\"font-weight: bold\">(</span><span style=\"color: #008080; text-decoration-color: #008080; font-weight: bold\">7043</span>, <span style=\"color: #008080; text-decoration-color: #008080; font-weight: bold\">21</span><span style=\"font-weight: bold\">)</span>, <span style=\"color: #008000; text-decoration-color: #008000\">'columns'</span>: <span style=\"font-weight: bold\">[</span><span style=\"color: #008000; text-decoration-color: #008000\">'customerID'</span>, <span style=\"color: #008000; text-decoration-color: #008000\">'gender'</span>, <span style=\"color: #008000; text-decoration-color: #008000\">'SeniorCitizen'</span>, <span style=\"color: #008000; text-decoration-color: #008000\">'Partner'</span>, \n",
       "<span style=\"color: #008000; text-decoration-color: #008000\">'Dependents'</span>, <span style=\"color: #008000; text-decoration-color: #008000\">'tenure'</span>, <span style=\"color: #008000; text-decoration-color: #008000\">'PhoneService'</span>, <span style=\"color: #008000; text-decoration-color: #008000\">'MultipleLines'</span>, <span style=\"color: #008000; text-decoration-color: #008000\">'InternetService'</span>, <span style=\"color: #008000; text-decoration-color: #008000\">'OnlineSecurity'</span>, <span style=\"color: #008000; text-decoration-color: #008000\">'OnlineBackup'</span>, \n",
       "<span style=\"color: #008000; text-decoration-color: #008000\">'DeviceProtection'</span>, <span style=\"color: #008000; text-decoration-color: #008000\">'TechSupport'</span>, <span style=\"color: #008000; text-decoration-color: #008000\">'StreamingTV'</span>, <span style=\"color: #008000; text-decoration-color: #008000\">'StreamingMovies'</span>, <span style=\"color: #008000; text-decoration-color: #008000\">'Contract'</span>, <span style=\"color: #008000; text-decoration-color: #008000\">'PaperlessBilling'</span>, \n",
       "<span style=\"color: #008000; text-decoration-color: #008000\">'PaymentMethod'</span>, <span style=\"color: #008000; text-decoration-color: #008000\">'MonthlyCharges'</span>, <span style=\"color: #008000; text-decoration-color: #008000\">'TotalCharges'</span>, <span style=\"color: #008000; text-decoration-color: #008000\">'Churn'</span><span style=\"font-weight: bold\">]</span>, <span style=\"color: #008000; text-decoration-color: #008000\">'null_count'</span>: <span style=\"color: #008080; text-decoration-color: #008080; font-weight: bold\">11</span>, <span style=\"color: #008000; text-decoration-color: #008000\">'dtypes'</span>: <span style=\"font-weight: bold\">{</span><span style=\"color: #008000; text-decoration-color: #008000\">'customerID'</span>: <span style=\"color: #008000; text-decoration-color: #008000\">'String'</span>, \n",
       "<span style=\"color: #008000; text-decoration-color: #008000\">'gender'</span>: <span style=\"color: #008000; text-decoration-color: #008000\">'String'</span>, <span style=\"color: #008000; text-decoration-color: #008000\">'SeniorCitizen'</span>: <span style=\"color: #008000; text-decoration-color: #008000\">'Int64'</span>, <span style=\"color: #008000; text-decoration-color: #008000\">'Partner'</span>: <span style=\"color: #008000; text-decoration-color: #008000\">'String'</span>, <span style=\"color: #008000; text-decoration-color: #008000\">'Dependents'</span>: <span style=\"color: #008000; text-decoration-color: #008000\">'String'</span>, <span style=\"color: #008000; text-decoration-color: #008000\">'tenure'</span>: <span style=\"color: #008000; text-decoration-color: #008000\">'Int64'</span>, \n",
       "<span style=\"color: #008000; text-decoration-color: #008000\">'PhoneService'</span>: <span style=\"color: #008000; text-decoration-color: #008000\">'String'</span>, <span style=\"color: #008000; text-decoration-color: #008000\">'MultipleLines'</span>: <span style=\"color: #008000; text-decoration-color: #008000\">'String'</span>, <span style=\"color: #008000; text-decoration-color: #008000\">'InternetService'</span>: <span style=\"color: #008000; text-decoration-color: #008000\">'String'</span>, <span style=\"color: #008000; text-decoration-color: #008000\">'OnlineSecurity'</span>: <span style=\"color: #008000; text-decoration-color: #008000\">'String'</span>, \n",
       "<span style=\"color: #008000; text-decoration-color: #008000\">'OnlineBackup'</span>: <span style=\"color: #008000; text-decoration-color: #008000\">'String'</span>, <span style=\"color: #008000; text-decoration-color: #008000\">'DeviceProtection'</span>: <span style=\"color: #008000; text-decoration-color: #008000\">'String'</span>, <span style=\"color: #008000; text-decoration-color: #008000\">'TechSupport'</span>: <span style=\"color: #008000; text-decoration-color: #008000\">'String'</span>, <span style=\"color: #008000; text-decoration-color: #008000\">'StreamingTV'</span>: <span style=\"color: #008000; text-decoration-color: #008000\">'String'</span>, \n",
       "<span style=\"color: #008000; text-decoration-color: #008000\">'StreamingMovies'</span>: <span style=\"color: #008000; text-decoration-color: #008000\">'String'</span>, <span style=\"color: #008000; text-decoration-color: #008000\">'Contract'</span>: <span style=\"color: #008000; text-decoration-color: #008000\">'String'</span>, <span style=\"color: #008000; text-decoration-color: #008000\">'PaperlessBilling'</span>: <span style=\"color: #008000; text-decoration-color: #008000\">'String'</span>, <span style=\"color: #008000; text-decoration-color: #008000\">'PaymentMethod'</span>: <span style=\"color: #008000; text-decoration-color: #008000\">'String'</span>, \n",
       "<span style=\"color: #008000; text-decoration-color: #008000\">'MonthlyCharges'</span>: <span style=\"color: #008000; text-decoration-color: #008000\">'Float64'</span>, <span style=\"color: #008000; text-decoration-color: #008000\">'TotalCharges'</span>: <span style=\"color: #008000; text-decoration-color: #008000\">'Float64'</span>, <span style=\"color: #008000; text-decoration-color: #008000\">'Churn'</span>: <span style=\"color: #008000; text-decoration-color: #008000\">'String'</span><span style=\"font-weight: bold\">}}</span>\n",
       "</pre>\n"
      ],
      "text/plain": [
       "📊 Dataset Info: \u001b[1m{\u001b[0m\u001b[32m'shape'\u001b[0m: \u001b[1m(\u001b[0m\u001b[1;36m7043\u001b[0m, \u001b[1;36m21\u001b[0m\u001b[1m)\u001b[0m, \u001b[32m'columns'\u001b[0m: \u001b[1m[\u001b[0m\u001b[32m'customerID'\u001b[0m, \u001b[32m'gender'\u001b[0m, \u001b[32m'SeniorCitizen'\u001b[0m, \u001b[32m'Partner'\u001b[0m, \n",
       "\u001b[32m'Dependents'\u001b[0m, \u001b[32m'tenure'\u001b[0m, \u001b[32m'PhoneService'\u001b[0m, \u001b[32m'MultipleLines'\u001b[0m, \u001b[32m'InternetService'\u001b[0m, \u001b[32m'OnlineSecurity'\u001b[0m, \u001b[32m'OnlineBackup'\u001b[0m, \n",
       "\u001b[32m'DeviceProtection'\u001b[0m, \u001b[32m'TechSupport'\u001b[0m, \u001b[32m'StreamingTV'\u001b[0m, \u001b[32m'StreamingMovies'\u001b[0m, \u001b[32m'Contract'\u001b[0m, \u001b[32m'PaperlessBilling'\u001b[0m, \n",
       "\u001b[32m'PaymentMethod'\u001b[0m, \u001b[32m'MonthlyCharges'\u001b[0m, \u001b[32m'TotalCharges'\u001b[0m, \u001b[32m'Churn'\u001b[0m\u001b[1m]\u001b[0m, \u001b[32m'null_count'\u001b[0m: \u001b[1;36m11\u001b[0m, \u001b[32m'dtypes'\u001b[0m: \u001b[1m{\u001b[0m\u001b[32m'customerID'\u001b[0m: \u001b[32m'String'\u001b[0m, \n",
       "\u001b[32m'gender'\u001b[0m: \u001b[32m'String'\u001b[0m, \u001b[32m'SeniorCitizen'\u001b[0m: \u001b[32m'Int64'\u001b[0m, \u001b[32m'Partner'\u001b[0m: \u001b[32m'String'\u001b[0m, \u001b[32m'Dependents'\u001b[0m: \u001b[32m'String'\u001b[0m, \u001b[32m'tenure'\u001b[0m: \u001b[32m'Int64'\u001b[0m, \n",
       "\u001b[32m'PhoneService'\u001b[0m: \u001b[32m'String'\u001b[0m, \u001b[32m'MultipleLines'\u001b[0m: \u001b[32m'String'\u001b[0m, \u001b[32m'InternetService'\u001b[0m: \u001b[32m'String'\u001b[0m, \u001b[32m'OnlineSecurity'\u001b[0m: \u001b[32m'String'\u001b[0m, \n",
       "\u001b[32m'OnlineBackup'\u001b[0m: \u001b[32m'String'\u001b[0m, \u001b[32m'DeviceProtection'\u001b[0m: \u001b[32m'String'\u001b[0m, \u001b[32m'TechSupport'\u001b[0m: \u001b[32m'String'\u001b[0m, \u001b[32m'StreamingTV'\u001b[0m: \u001b[32m'String'\u001b[0m, \n",
       "\u001b[32m'StreamingMovies'\u001b[0m: \u001b[32m'String'\u001b[0m, \u001b[32m'Contract'\u001b[0m: \u001b[32m'String'\u001b[0m, \u001b[32m'PaperlessBilling'\u001b[0m: \u001b[32m'String'\u001b[0m, \u001b[32m'PaymentMethod'\u001b[0m: \u001b[32m'String'\u001b[0m, \n",
       "\u001b[32m'MonthlyCharges'\u001b[0m: \u001b[32m'Float64'\u001b[0m, \u001b[32m'TotalCharges'\u001b[0m: \u001b[32m'Float64'\u001b[0m, \u001b[32m'Churn'\u001b[0m: \u001b[32m'String'\u001b[0m\u001b[1m}\u001b[0m\u001b[1m}\u001b[0m\n"
      ]
     },
     "metadata": {},
     "output_type": "display_data"
    }
   ],
   "source": [
    "# Cell 2: Load and initial inspection\n",
    "from data.loaders.loaders import load_telco_data, get_dataset_info\n",
    "from churn_analysis.visualization.display_utils import create_rich_table, display_insights_summary, display_business_alert\n",
    "\n",
    "print(\"🔍 Loading Telco Customer Churn Dataset...\")\n",
    "df= load_telco_data()\n",
    "\n",
    "info= get_dataset_info(df)\n",
    "print(f\"📊 Dataset Info: {info}\")"
   ]
  },
  {
   "cell_type": "code",
   "execution_count": 5,
   "metadata": {
    "scrolled": true
   },
   "outputs": [
    {
     "data": {
      "text/html": [
       "<pre style=\"white-space:pre;overflow-x:auto;line-height:normal;font-family:Menlo,'DejaVu Sans Mono',consolas,'Courier New',monospace\">🎯 TARGET VARIABLE ANALYSIS <span style=\"font-weight: bold\">(</span>CHURN RATE<span style=\"font-weight: bold\">)</span>\n",
       "</pre>\n"
      ],
      "text/plain": [
       "🎯 TARGET VARIABLE ANALYSIS \u001b[1m(\u001b[0mCHURN RATE\u001b[1m)\u001b[0m\n"
      ]
     },
     "metadata": {},
     "output_type": "display_data"
    },
    {
     "data": {
      "text/html": [
       "<pre style=\"white-space:pre;overflow-x:auto;line-height:normal;font-family:Menlo,'DejaVu Sans Mono',consolas,'Courier New',monospace\">========================================\n",
       "</pre>\n"
      ],
      "text/plain": [
       "========================================\n"
      ]
     },
     "metadata": {},
     "output_type": "display_data"
    },
    {
     "data": {
      "text/html": [
       "<pre style=\"white-space:pre;overflow-x:auto;line-height:normal;font-family:Menlo,'DejaVu Sans Mono',consolas,'Courier New',monospace\">Comprehensive Churn Analysis:\n",
       "</pre>\n"
      ],
      "text/plain": [
       "Comprehensive Churn Analysis:\n"
      ]
     },
     "metadata": {},
     "output_type": "display_data"
    },
    {
     "data": {
      "text/html": [
       "<pre style=\"white-space:pre;overflow-x:auto;line-height:normal;font-family:Menlo,'DejaVu Sans Mono',consolas,'Courier New',monospace\">shape: <span style=\"font-weight: bold\">(</span><span style=\"color: #008080; text-decoration-color: #008080; font-weight: bold\">2</span>, <span style=\"color: #008080; text-decoration-color: #008080; font-weight: bold\">3</span><span style=\"font-weight: bold\">)</span>\n",
       "┌───────┬───────┬────────────┐\n",
       "│ Churn ┆ count ┆ percentage │\n",
       "│ ---   ┆ ---   ┆ ---        │\n",
       "│ str   ┆ u32   ┆ f64        │\n",
       "╞═══════╪═══════╪════════════╡\n",
       "│ No    ┆ <span style=\"color: #008080; text-decoration-color: #008080; font-weight: bold\">5174</span>  ┆ <span style=\"color: #008080; text-decoration-color: #008080; font-weight: bold\">73.463013</span>  │\n",
       "│ Yes   ┆ <span style=\"color: #008080; text-decoration-color: #008080; font-weight: bold\">1869</span>  ┆ <span style=\"color: #008080; text-decoration-color: #008080; font-weight: bold\">26.536987</span>  │\n",
       "└───────┴───────┴────────────┘\n",
       "</pre>\n"
      ],
      "text/plain": [
       "shape: \u001b[1m(\u001b[0m\u001b[1;36m2\u001b[0m, \u001b[1;36m3\u001b[0m\u001b[1m)\u001b[0m\n",
       "┌───────┬───────┬────────────┐\n",
       "│ Churn ┆ count ┆ percentage │\n",
       "│ ---   ┆ ---   ┆ ---        │\n",
       "│ str   ┆ u32   ┆ f64        │\n",
       "╞═══════╪═══════╪════════════╡\n",
       "│ No    ┆ \u001b[1;36m5174\u001b[0m  ┆ \u001b[1;36m73.463013\u001b[0m  │\n",
       "│ Yes   ┆ \u001b[1;36m1869\u001b[0m  ┆ \u001b[1;36m26.536987\u001b[0m  │\n",
       "└───────┴───────┴────────────┘\n"
      ]
     },
     "metadata": {},
     "output_type": "display_data"
    },
    {
     "data": {
      "text/html": [
       "<pre style=\"white-space:pre;overflow-x:auto;line-height:normal;font-family:Menlo,'DejaVu Sans Mono',consolas,'Courier New',monospace\">\n",
       "📊 KEY METRICS:\n",
       "</pre>\n"
      ],
      "text/plain": [
       "\n",
       "📊 KEY METRICS:\n"
      ]
     },
     "metadata": {},
     "output_type": "display_data"
    },
    {
     "data": {
      "text/html": [
       "<pre style=\"white-space:pre;overflow-x:auto;line-height:normal;font-family:Menlo,'DejaVu Sans Mono',consolas,'Courier New',monospace\">   Total Customers: <span style=\"color: #008080; text-decoration-color: #008080; font-weight: bold\">7</span>,<span style=\"color: #008080; text-decoration-color: #008080; font-weight: bold\">043</span>\n",
       "</pre>\n"
      ],
      "text/plain": [
       "   Total Customers: \u001b[1;36m7\u001b[0m,\u001b[1;36m043\u001b[0m\n"
      ]
     },
     "metadata": {},
     "output_type": "display_data"
    },
    {
     "data": {
      "text/html": [
       "<pre style=\"white-space:pre;overflow-x:auto;line-height:normal;font-family:Menlo,'DejaVu Sans Mono',consolas,'Courier New',monospace\">   Churned Customers: <span style=\"color: #008080; text-decoration-color: #008080; font-weight: bold\">1</span>,<span style=\"color: #008080; text-decoration-color: #008080; font-weight: bold\">869</span>\n",
       "</pre>\n"
      ],
      "text/plain": [
       "   Churned Customers: \u001b[1;36m1\u001b[0m,\u001b[1;36m869\u001b[0m\n"
      ]
     },
     "metadata": {},
     "output_type": "display_data"
    },
    {
     "data": {
      "text/html": [
       "<pre style=\"white-space:pre;overflow-x:auto;line-height:normal;font-family:Menlo,'DejaVu Sans Mono',consolas,'Courier New',monospace\">   Retention Rate: <span style=\"color: #008080; text-decoration-color: #008080; font-weight: bold\">73.5</span>%\n",
       "</pre>\n"
      ],
      "text/plain": [
       "   Retention Rate: \u001b[1;36m73.5\u001b[0m%\n"
      ]
     },
     "metadata": {},
     "output_type": "display_data"
    },
    {
     "data": {
      "text/html": [
       "<pre style=\"white-space:pre;overflow-x:auto;line-height:normal;font-family:Menlo,'DejaVu Sans Mono',consolas,'Courier New',monospace\">   🚨 CHURN RATE: <span style=\"color: #008080; text-decoration-color: #008080; font-weight: bold\">26.5</span>%\n",
       "</pre>\n"
      ],
      "text/plain": [
       "   🚨 CHURN RATE: \u001b[1;36m26.5\u001b[0m%\n"
      ]
     },
     "metadata": {},
     "output_type": "display_data"
    },
    {
     "data": {
      "application/vnd.plotly.v1+json": {
       "config": {
        "plotlyServerURL": "https://plot.ly"
       },
       "data": [
        {
         "marker": {
          "color": [
           "lightblue",
           "lightcoral"
          ]
         },
         "name": "Count",
         "type": "bar",
         "x": [
          "No",
          "Yes"
         ],
         "xaxis": "x",
         "y": {
          "bdata": "NhQAAE0HAAA=",
          "dtype": "u4"
         },
         "yaxis": "y"
        },
        {
         "domain": {
          "x": [
           0.55,
           1
          ],
          "y": [
           0,
           1
          ]
         },
         "labels": [
          "No",
          "Yes"
         ],
         "marker": {
          "colors": [
           "lightblue",
           "lightcoral"
          ]
         },
         "name": "Percentage",
         "type": "pie",
         "values": {
          "bdata": "6u7xAKJdUkBWRDj8d4k6QA==",
          "dtype": "f8"
         }
        }
       ],
       "layout": {
        "annotations": [
         {
          "font": {
           "size": 16
          },
          "showarrow": false,
          "text": "Customers that Churn",
          "x": 0.225,
          "xanchor": "center",
          "xref": "paper",
          "y": 1,
          "yanchor": "bottom",
          "yref": "paper"
         },
         {
          "font": {
           "size": 16
          },
          "showarrow": false,
          "text": "Percentage Distribution",
          "x": 0.775,
          "xanchor": "center",
          "xref": "paper",
          "y": 1,
          "yanchor": "bottom",
          "yref": "paper"
         }
        ],
        "height": 400,
        "showlegend": false,
        "template": {
         "data": {
          "bar": [
           {
            "error_x": {
             "color": "#2a3f5f"
            },
            "error_y": {
             "color": "#2a3f5f"
            },
            "marker": {
             "line": {
              "color": "#E5ECF6",
              "width": 0.5
             },
             "pattern": {
              "fillmode": "overlay",
              "size": 10,
              "solidity": 0.2
             }
            },
            "type": "bar"
           }
          ],
          "barpolar": [
           {
            "marker": {
             "line": {
              "color": "#E5ECF6",
              "width": 0.5
             },
             "pattern": {
              "fillmode": "overlay",
              "size": 10,
              "solidity": 0.2
             }
            },
            "type": "barpolar"
           }
          ],
          "carpet": [
           {
            "aaxis": {
             "endlinecolor": "#2a3f5f",
             "gridcolor": "white",
             "linecolor": "white",
             "minorgridcolor": "white",
             "startlinecolor": "#2a3f5f"
            },
            "baxis": {
             "endlinecolor": "#2a3f5f",
             "gridcolor": "white",
             "linecolor": "white",
             "minorgridcolor": "white",
             "startlinecolor": "#2a3f5f"
            },
            "type": "carpet"
           }
          ],
          "choropleth": [
           {
            "colorbar": {
             "outlinewidth": 0,
             "ticks": ""
            },
            "type": "choropleth"
           }
          ],
          "contour": [
           {
            "colorbar": {
             "outlinewidth": 0,
             "ticks": ""
            },
            "colorscale": [
             [
              0,
              "#0d0887"
             ],
             [
              0.1111111111111111,
              "#46039f"
             ],
             [
              0.2222222222222222,
              "#7201a8"
             ],
             [
              0.3333333333333333,
              "#9c179e"
             ],
             [
              0.4444444444444444,
              "#bd3786"
             ],
             [
              0.5555555555555556,
              "#d8576b"
             ],
             [
              0.6666666666666666,
              "#ed7953"
             ],
             [
              0.7777777777777778,
              "#fb9f3a"
             ],
             [
              0.8888888888888888,
              "#fdca26"
             ],
             [
              1,
              "#f0f921"
             ]
            ],
            "type": "contour"
           }
          ],
          "contourcarpet": [
           {
            "colorbar": {
             "outlinewidth": 0,
             "ticks": ""
            },
            "type": "contourcarpet"
           }
          ],
          "heatmap": [
           {
            "colorbar": {
             "outlinewidth": 0,
             "ticks": ""
            },
            "colorscale": [
             [
              0,
              "#0d0887"
             ],
             [
              0.1111111111111111,
              "#46039f"
             ],
             [
              0.2222222222222222,
              "#7201a8"
             ],
             [
              0.3333333333333333,
              "#9c179e"
             ],
             [
              0.4444444444444444,
              "#bd3786"
             ],
             [
              0.5555555555555556,
              "#d8576b"
             ],
             [
              0.6666666666666666,
              "#ed7953"
             ],
             [
              0.7777777777777778,
              "#fb9f3a"
             ],
             [
              0.8888888888888888,
              "#fdca26"
             ],
             [
              1,
              "#f0f921"
             ]
            ],
            "type": "heatmap"
           }
          ],
          "histogram": [
           {
            "marker": {
             "pattern": {
              "fillmode": "overlay",
              "size": 10,
              "solidity": 0.2
             }
            },
            "type": "histogram"
           }
          ],
          "histogram2d": [
           {
            "colorbar": {
             "outlinewidth": 0,
             "ticks": ""
            },
            "colorscale": [
             [
              0,
              "#0d0887"
             ],
             [
              0.1111111111111111,
              "#46039f"
             ],
             [
              0.2222222222222222,
              "#7201a8"
             ],
             [
              0.3333333333333333,
              "#9c179e"
             ],
             [
              0.4444444444444444,
              "#bd3786"
             ],
             [
              0.5555555555555556,
              "#d8576b"
             ],
             [
              0.6666666666666666,
              "#ed7953"
             ],
             [
              0.7777777777777778,
              "#fb9f3a"
             ],
             [
              0.8888888888888888,
              "#fdca26"
             ],
             [
              1,
              "#f0f921"
             ]
            ],
            "type": "histogram2d"
           }
          ],
          "histogram2dcontour": [
           {
            "colorbar": {
             "outlinewidth": 0,
             "ticks": ""
            },
            "colorscale": [
             [
              0,
              "#0d0887"
             ],
             [
              0.1111111111111111,
              "#46039f"
             ],
             [
              0.2222222222222222,
              "#7201a8"
             ],
             [
              0.3333333333333333,
              "#9c179e"
             ],
             [
              0.4444444444444444,
              "#bd3786"
             ],
             [
              0.5555555555555556,
              "#d8576b"
             ],
             [
              0.6666666666666666,
              "#ed7953"
             ],
             [
              0.7777777777777778,
              "#fb9f3a"
             ],
             [
              0.8888888888888888,
              "#fdca26"
             ],
             [
              1,
              "#f0f921"
             ]
            ],
            "type": "histogram2dcontour"
           }
          ],
          "mesh3d": [
           {
            "colorbar": {
             "outlinewidth": 0,
             "ticks": ""
            },
            "type": "mesh3d"
           }
          ],
          "parcoords": [
           {
            "line": {
             "colorbar": {
              "outlinewidth": 0,
              "ticks": ""
             }
            },
            "type": "parcoords"
           }
          ],
          "pie": [
           {
            "automargin": true,
            "type": "pie"
           }
          ],
          "scatter": [
           {
            "fillpattern": {
             "fillmode": "overlay",
             "size": 10,
             "solidity": 0.2
            },
            "type": "scatter"
           }
          ],
          "scatter3d": [
           {
            "line": {
             "colorbar": {
              "outlinewidth": 0,
              "ticks": ""
             }
            },
            "marker": {
             "colorbar": {
              "outlinewidth": 0,
              "ticks": ""
             }
            },
            "type": "scatter3d"
           }
          ],
          "scattercarpet": [
           {
            "marker": {
             "colorbar": {
              "outlinewidth": 0,
              "ticks": ""
             }
            },
            "type": "scattercarpet"
           }
          ],
          "scattergeo": [
           {
            "marker": {
             "colorbar": {
              "outlinewidth": 0,
              "ticks": ""
             }
            },
            "type": "scattergeo"
           }
          ],
          "scattergl": [
           {
            "marker": {
             "colorbar": {
              "outlinewidth": 0,
              "ticks": ""
             }
            },
            "type": "scattergl"
           }
          ],
          "scattermap": [
           {
            "marker": {
             "colorbar": {
              "outlinewidth": 0,
              "ticks": ""
             }
            },
            "type": "scattermap"
           }
          ],
          "scattermapbox": [
           {
            "marker": {
             "colorbar": {
              "outlinewidth": 0,
              "ticks": ""
             }
            },
            "type": "scattermapbox"
           }
          ],
          "scatterpolar": [
           {
            "marker": {
             "colorbar": {
              "outlinewidth": 0,
              "ticks": ""
             }
            },
            "type": "scatterpolar"
           }
          ],
          "scatterpolargl": [
           {
            "marker": {
             "colorbar": {
              "outlinewidth": 0,
              "ticks": ""
             }
            },
            "type": "scatterpolargl"
           }
          ],
          "scatterternary": [
           {
            "marker": {
             "colorbar": {
              "outlinewidth": 0,
              "ticks": ""
             }
            },
            "type": "scatterternary"
           }
          ],
          "surface": [
           {
            "colorbar": {
             "outlinewidth": 0,
             "ticks": ""
            },
            "colorscale": [
             [
              0,
              "#0d0887"
             ],
             [
              0.1111111111111111,
              "#46039f"
             ],
             [
              0.2222222222222222,
              "#7201a8"
             ],
             [
              0.3333333333333333,
              "#9c179e"
             ],
             [
              0.4444444444444444,
              "#bd3786"
             ],
             [
              0.5555555555555556,
              "#d8576b"
             ],
             [
              0.6666666666666666,
              "#ed7953"
             ],
             [
              0.7777777777777778,
              "#fb9f3a"
             ],
             [
              0.8888888888888888,
              "#fdca26"
             ],
             [
              1,
              "#f0f921"
             ]
            ],
            "type": "surface"
           }
          ],
          "table": [
           {
            "cells": {
             "fill": {
              "color": "#EBF0F8"
             },
             "line": {
              "color": "white"
             }
            },
            "header": {
             "fill": {
              "color": "#C8D4E3"
             },
             "line": {
              "color": "white"
             }
            },
            "type": "table"
           }
          ]
         },
         "layout": {
          "annotationdefaults": {
           "arrowcolor": "#2a3f5f",
           "arrowhead": 0,
           "arrowwidth": 1
          },
          "autotypenumbers": "strict",
          "coloraxis": {
           "colorbar": {
            "outlinewidth": 0,
            "ticks": ""
           }
          },
          "colorscale": {
           "diverging": [
            [
             0,
             "#8e0152"
            ],
            [
             0.1,
             "#c51b7d"
            ],
            [
             0.2,
             "#de77ae"
            ],
            [
             0.3,
             "#f1b6da"
            ],
            [
             0.4,
             "#fde0ef"
            ],
            [
             0.5,
             "#f7f7f7"
            ],
            [
             0.6,
             "#e6f5d0"
            ],
            [
             0.7,
             "#b8e186"
            ],
            [
             0.8,
             "#7fbc41"
            ],
            [
             0.9,
             "#4d9221"
            ],
            [
             1,
             "#276419"
            ]
           ],
           "sequential": [
            [
             0,
             "#0d0887"
            ],
            [
             0.1111111111111111,
             "#46039f"
            ],
            [
             0.2222222222222222,
             "#7201a8"
            ],
            [
             0.3333333333333333,
             "#9c179e"
            ],
            [
             0.4444444444444444,
             "#bd3786"
            ],
            [
             0.5555555555555556,
             "#d8576b"
            ],
            [
             0.6666666666666666,
             "#ed7953"
            ],
            [
             0.7777777777777778,
             "#fb9f3a"
            ],
            [
             0.8888888888888888,
             "#fdca26"
            ],
            [
             1,
             "#f0f921"
            ]
           ],
           "sequentialminus": [
            [
             0,
             "#0d0887"
            ],
            [
             0.1111111111111111,
             "#46039f"
            ],
            [
             0.2222222222222222,
             "#7201a8"
            ],
            [
             0.3333333333333333,
             "#9c179e"
            ],
            [
             0.4444444444444444,
             "#bd3786"
            ],
            [
             0.5555555555555556,
             "#d8576b"
            ],
            [
             0.6666666666666666,
             "#ed7953"
            ],
            [
             0.7777777777777778,
             "#fb9f3a"
            ],
            [
             0.8888888888888888,
             "#fdca26"
            ],
            [
             1,
             "#f0f921"
            ]
           ]
          },
          "colorway": [
           "#636efa",
           "#EF553B",
           "#00cc96",
           "#ab63fa",
           "#FFA15A",
           "#19d3f3",
           "#FF6692",
           "#B6E880",
           "#FF97FF",
           "#FECB52"
          ],
          "font": {
           "color": "#2a3f5f"
          },
          "geo": {
           "bgcolor": "white",
           "lakecolor": "white",
           "landcolor": "#E5ECF6",
           "showlakes": true,
           "showland": true,
           "subunitcolor": "white"
          },
          "hoverlabel": {
           "align": "left"
          },
          "hovermode": "closest",
          "mapbox": {
           "style": "light"
          },
          "paper_bgcolor": "white",
          "plot_bgcolor": "#E5ECF6",
          "polar": {
           "angularaxis": {
            "gridcolor": "white",
            "linecolor": "white",
            "ticks": ""
           },
           "bgcolor": "#E5ECF6",
           "radialaxis": {
            "gridcolor": "white",
            "linecolor": "white",
            "ticks": ""
           }
          },
          "scene": {
           "xaxis": {
            "backgroundcolor": "#E5ECF6",
            "gridcolor": "white",
            "gridwidth": 2,
            "linecolor": "white",
            "showbackground": true,
            "ticks": "",
            "zerolinecolor": "white"
           },
           "yaxis": {
            "backgroundcolor": "#E5ECF6",
            "gridcolor": "white",
            "gridwidth": 2,
            "linecolor": "white",
            "showbackground": true,
            "ticks": "",
            "zerolinecolor": "white"
           },
           "zaxis": {
            "backgroundcolor": "#E5ECF6",
            "gridcolor": "white",
            "gridwidth": 2,
            "linecolor": "white",
            "showbackground": true,
            "ticks": "",
            "zerolinecolor": "white"
           }
          },
          "shapedefaults": {
           "line": {
            "color": "#2a3f5f"
           }
          },
          "ternary": {
           "aaxis": {
            "gridcolor": "white",
            "linecolor": "white",
            "ticks": ""
           },
           "baxis": {
            "gridcolor": "white",
            "linecolor": "white",
            "ticks": ""
           },
           "bgcolor": "#E5ECF6",
           "caxis": {
            "gridcolor": "white",
            "linecolor": "white",
            "ticks": ""
           }
          },
          "title": {
           "x": 0.05
          },
          "xaxis": {
           "automargin": true,
           "gridcolor": "white",
           "linecolor": "white",
           "ticks": "",
           "title": {
            "standoff": 15
           },
           "zerolinecolor": "white",
           "zerolinewidth": 2
          },
          "yaxis": {
           "automargin": true,
           "gridcolor": "white",
           "linecolor": "white",
           "ticks": "",
           "title": {
            "standoff": 15
           },
           "zerolinecolor": "white",
           "zerolinewidth": 2
          }
         }
        },
        "title": {
         "text": "Customer Churn Rate Analysis"
        },
        "xaxis": {
         "anchor": "y",
         "domain": [
          0,
          0.45
         ]
        },
        "yaxis": {
         "anchor": "x",
         "domain": [
          0,
          1
         ]
        }
       }
      },
      "image/png": "[encoded data removed]"
     },
     "metadata": {},
     "output_type": "display_data"
    }
   ],
   "source": [
    "# Cell 3: Target Variable Analysis - Churn Rate\n",
    "print(\"🎯 TARGET VARIABLE ANALYSIS (CHURN RATE)\")\n",
    "print(\"=\" * 40)\n",
    "\n",
    "churn_analysis = df.select([\n",
    "    pl.col(\"Churn\").value_counts().alias(\"distribution\")\n",
    "]).unnest(\"distribution\").with_columns([\n",
    "    (pl.col(\"count\") / pl.col(\"count\").sum() * 100).alias(\"percentage\")\n",
    "]).sort(\"Churn\")\n",
    "\n",
    "print(\"Comprehensive Churn Analysis:\")\n",
    "print(churn_analysis)\n",
    "\n",
    "# Extracting key metrics\n",
    "total_customers = df.height\n",
    "churned_customers = df.filter(pl.col(\"Churn\") == \"Yes\").height\n",
    "churn_rate = (churned_customers / total_customers) * 100\n",
    "\n",
    "print(f\"\\n📊 KEY METRICS:\")\n",
    "print(f\"   Total Customers: {total_customers:,}\")\n",
    "print(f\"   Churned Customers: {churned_customers:,}\")\n",
    "print(f\"   Retention Rate: {100 - churn_rate:.1f}%\")\n",
    "print(f\"   🚨 CHURN RATE: {churn_rate:.1f}%\")\n",
    "\n",
    "# Visualization with plotly\n",
    "import plotly.graph_objects as go\n",
    "from plotly.subplots import make_subplots\n",
    "\n",
    "# Converting to pandas for easier plotting\n",
    "churn_data = churn_analysis.to_pandas()\n",
    "\n",
    "# Creating subplots\n",
    "fig = make_subplots(\n",
    "    rows=1, cols=2,\n",
    "    subplot_titles=('Customers that Churn', 'Percentage Distribution'),\n",
    "    specs=[[{\"type\": \"bar\"}, {\"type\": \"pie\"}]]\n",
    ")\n",
    "\n",
    "# Bar chart\n",
    "fig.add_trace(\n",
    "    go.Bar(\n",
    "        x=churn_data[\"Churn\"],\n",
    "        y=churn_data[\"count\"],\n",
    "        marker_color=['lightblue', 'lightcoral'],\n",
    "        name=\"Count\"\n",
    "    ),\n",
    "    row=1, col=1\n",
    ")\n",
    "\n",
    "# Pie chart\n",
    "fig.add_trace(\n",
    "    go.Pie(\n",
    "        labels=churn_data[\"Churn\"],\n",
    "        values=churn_data[\"percentage\"],\n",
    "        marker_colors=['lightblue', 'lightcoral'],\n",
    "        name=\"Percentage\"\n",
    "    ),\n",
    "    row=1, col=2\n",
    ")\n",
    "\n",
    "fig.update_layout(\n",
    "    title_text=\"Customer Churn Rate Analysis\",\n",
    "    height=400,\n",
    "    showlegend=False\n",
    ")\n",
    "\n",
    "fig.show()"
   ]
  },
  {
   "cell_type": "code",
   "execution_count": 20,
   "metadata": {
    "scrolled": true
   },
   "outputs": [
    {
     "data": {
      "text/html": [
       "<pre style=\"white-space:pre;overflow-x:auto;line-height:normal;font-family:Menlo,'DejaVu Sans Mono',consolas,'Courier New',monospace\">💰 FINANCIAL IMPACT OF CUSTUMER CHURN\n",
       "</pre>\n"
      ],
      "text/plain": [
       "💰 FINANCIAL IMPACT OF CUSTUMER CHURN\n"
      ]
     },
     "metadata": {},
     "output_type": "display_data"
    },
    {
     "data": {
      "text/html": [
       "<pre style=\"white-space:pre;overflow-x:auto;line-height:normal;font-family:Menlo,'DejaVu Sans Mono',consolas,'Courier New',monospace\">========================================\n",
       "</pre>\n"
      ],
      "text/plain": [
       "========================================\n"
      ]
     },
     "metadata": {},
     "output_type": "display_data"
    },
    {
     "data": {
      "text/html": [
       "<pre style=\"white-space:pre;overflow-x:auto;line-height:normal;font-family:Menlo,'DejaVu Sans Mono',consolas,'Courier New',monospace\">💳 Revenue Analysis by Churn Status:\n",
       "</pre>\n"
      ],
      "text/plain": [
       "💳 Revenue Analysis by Churn Status:\n"
      ]
     },
     "metadata": {},
     "output_type": "display_data"
    },
    {
     "data": {
      "text/html": [
       "<pre style=\"white-space:pre;overflow-x:auto;line-height:normal;font-family:Menlo,'DejaVu Sans Mono',consolas,'Courier New',monospace\">shape: <span style=\"font-weight: bold\">(</span><span style=\"color: #008080; text-decoration-color: #008080; font-weight: bold\">2</span>, <span style=\"color: #008080; text-decoration-color: #008080; font-weight: bold\">7</span><span style=\"font-weight: bold\">)</span>\n",
       "┌─────┬─────┬─────┬─────┬─────┬─────┬─────┐\n",
       "│ Chu ┆ Cus ┆ Avg ┆ Tot ┆ Avg ┆ Tot ┆ Avg │\n",
       "│ rn  ┆ tom ┆ _Mo ┆ al_ ┆ _Li ┆ al_ ┆ _Te │\n",
       "│ --- ┆ er_ ┆ nth ┆ Mon ┆ fet ┆ Lif ┆ nur │\n",
       "│ str ┆ cou ┆ ly_ ┆ thl ┆ ime ┆ eti ┆ e_M │\n",
       "│     ┆ nt  ┆ Rev ┆ y_R ┆ _Va ┆ me_ ┆ ont │\n",
       "│     ┆ --- ┆ enu ┆ eve ┆ lue ┆ Rev ┆ hs  │\n",
       "│     ┆ u32 ┆ e   ┆ nue ┆ --- ┆ enu ┆ --- │\n",
       "│     ┆     ┆ --- ┆ --- ┆ f64 ┆ e   ┆ f64 │\n",
       "│     ┆     ┆ f64 ┆ f64 ┆     ┆ --- ┆     │\n",
       "│     ┆     ┆     ┆     ┆     ┆ f64 ┆     │\n",
       "╞═════╪═════╪═════╪═════╪═════╪═════╪═════╡\n",
       "│ Yes ┆ <span style=\"color: #008080; text-decoration-color: #008080; font-weight: bold\">186</span> ┆ <span style=\"color: #008080; text-decoration-color: #008080; font-weight: bold\">74</span>. ┆ <span style=\"color: #008080; text-decoration-color: #008080; font-weight: bold\">139</span> ┆ <span style=\"color: #008080; text-decoration-color: #008080; font-weight: bold\">153</span> ┆ <span style=\"color: #008080; text-decoration-color: #008080; font-weight: bold\">2.8</span> ┆ <span style=\"color: #008080; text-decoration-color: #008080; font-weight: bold\">17</span>. │\n",
       "│     ┆ <span style=\"color: #008080; text-decoration-color: #008080; font-weight: bold\">9</span>   ┆ <span style=\"color: #008080; text-decoration-color: #008080; font-weight: bold\">441</span> ┆ <span style=\"color: #008080; text-decoration-color: #008080; font-weight: bold\">130</span> ┆ <span style=\"color: #008080; text-decoration-color: #008080; font-weight: bold\">1.7</span> ┆ <span style=\"color: #008080; text-decoration-color: #008080; font-weight: bold\">629</span> ┆ <span style=\"color: #008080; text-decoration-color: #008080; font-weight: bold\">979</span> │\n",
       "│     ┆     ┆ <span style=\"color: #008080; text-decoration-color: #008080; font-weight: bold\">332</span> ┆ .<span style=\"color: #008080; text-decoration-color: #008080; font-weight: bold\">85</span> ┆ <span style=\"color: #008080; text-decoration-color: #008080; font-weight: bold\">960</span> ┆ e6  ┆ <span style=\"color: #008080; text-decoration-color: #008080; font-weight: bold\">133</span> │\n",
       "│     ┆     ┆     ┆     ┆ <span style=\"color: #008080; text-decoration-color: #008080; font-weight: bold\">94</span>  ┆     ┆     │\n",
       "│ No  ┆ <span style=\"color: #008080; text-decoration-color: #008080; font-weight: bold\">517</span> ┆ <span style=\"color: #008080; text-decoration-color: #008080; font-weight: bold\">61</span>. ┆ <span style=\"color: #008080; text-decoration-color: #008080; font-weight: bold\">316</span> ┆ <span style=\"color: #008080; text-decoration-color: #008080; font-weight: bold\">255</span> ┆ <span style=\"color: #008080; text-decoration-color: #008080; font-weight: bold\">1.3</span> ┆ <span style=\"color: #008080; text-decoration-color: #008080; font-weight: bold\">37</span>. │\n",
       "│     ┆ <span style=\"color: #008080; text-decoration-color: #008080; font-weight: bold\">4</span>   ┆ <span style=\"color: #008080; text-decoration-color: #008080; font-weight: bold\">265</span> ┆ <span style=\"color: #008080; text-decoration-color: #008080; font-weight: bold\">985</span> ┆ <span style=\"color: #008080; text-decoration-color: #008080; font-weight: bold\">5.3</span> ┆ <span style=\"color: #008080; text-decoration-color: #008080; font-weight: bold\">193</span> ┆ <span style=\"color: #008080; text-decoration-color: #008080; font-weight: bold\">569</span> │\n",
       "│     ┆     ┆ <span style=\"color: #008080; text-decoration-color: #008080; font-weight: bold\">124</span> ┆ .<span style=\"color: #008080; text-decoration-color: #008080; font-weight: bold\">75</span> ┆ <span style=\"color: #008080; text-decoration-color: #008080; font-weight: bold\">441</span> ┆ e7  ┆ <span style=\"color: #008080; text-decoration-color: #008080; font-weight: bold\">965</span> │\n",
       "│     ┆     ┆     ┆     ┆ <span style=\"color: #008080; text-decoration-color: #008080; font-weight: bold\">41</span>  ┆     ┆     │\n",
       "└─────┴─────┴─────┴─────┴─────┴─────┴─────┘\n",
       "</pre>\n"
      ],
      "text/plain": [
       "shape: \u001b[1m(\u001b[0m\u001b[1;36m2\u001b[0m, \u001b[1;36m7\u001b[0m\u001b[1m)\u001b[0m\n",
       "┌─────┬─────┬─────┬─────┬─────┬─────┬─────┐\n",
       "│ Chu ┆ Cus ┆ Avg ┆ Tot ┆ Avg ┆ Tot ┆ Avg │\n",
       "│ rn  ┆ tom ┆ _Mo ┆ al_ ┆ _Li ┆ al_ ┆ _Te │\n",
       "│ --- ┆ er_ ┆ nth ┆ Mon ┆ fet ┆ Lif ┆ nur │\n",
       "│ str ┆ cou ┆ ly_ ┆ thl ┆ ime ┆ eti ┆ e_M │\n",
       "│     ┆ nt  ┆ Rev ┆ y_R ┆ _Va ┆ me_ ┆ ont │\n",
       "│     ┆ --- ┆ enu ┆ eve ┆ lue ┆ Rev ┆ hs  │\n",
       "│     ┆ u32 ┆ e   ┆ nue ┆ --- ┆ enu ┆ --- │\n",
       "│     ┆     ┆ --- ┆ --- ┆ f64 ┆ e   ┆ f64 │\n",
       "│     ┆     ┆ f64 ┆ f64 ┆     ┆ --- ┆     │\n",
       "│     ┆     ┆     ┆     ┆     ┆ f64 ┆     │\n",
       "╞═════╪═════╪═════╪═════╪═════╪═════╪═════╡\n",
       "│ Yes ┆ \u001b[1;36m186\u001b[0m ┆ \u001b[1;36m74\u001b[0m. ┆ \u001b[1;36m139\u001b[0m ┆ \u001b[1;36m153\u001b[0m ┆ \u001b[1;36m2.8\u001b[0m ┆ \u001b[1;36m17\u001b[0m. │\n",
       "│     ┆ \u001b[1;36m9\u001b[0m   ┆ \u001b[1;36m441\u001b[0m ┆ \u001b[1;36m130\u001b[0m ┆ \u001b[1;36m1.7\u001b[0m ┆ \u001b[1;36m629\u001b[0m ┆ \u001b[1;36m979\u001b[0m │\n",
       "│     ┆     ┆ \u001b[1;36m332\u001b[0m ┆ .\u001b[1;36m85\u001b[0m ┆ \u001b[1;36m960\u001b[0m ┆ e6  ┆ \u001b[1;36m133\u001b[0m │\n",
       "│     ┆     ┆     ┆     ┆ \u001b[1;36m94\u001b[0m  ┆     ┆     │\n",
       "│ No  ┆ \u001b[1;36m517\u001b[0m ┆ \u001b[1;36m61\u001b[0m. ┆ \u001b[1;36m316\u001b[0m ┆ \u001b[1;36m255\u001b[0m ┆ \u001b[1;36m1.3\u001b[0m ┆ \u001b[1;36m37\u001b[0m. │\n",
       "│     ┆ \u001b[1;36m4\u001b[0m   ┆ \u001b[1;36m265\u001b[0m ┆ \u001b[1;36m985\u001b[0m ┆ \u001b[1;36m5.3\u001b[0m ┆ \u001b[1;36m193\u001b[0m ┆ \u001b[1;36m569\u001b[0m │\n",
       "│     ┆     ┆ \u001b[1;36m124\u001b[0m ┆ .\u001b[1;36m75\u001b[0m ┆ \u001b[1;36m441\u001b[0m ┆ e7  ┆ \u001b[1;36m965\u001b[0m │\n",
       "│     ┆     ┆     ┆     ┆ \u001b[1;36m41\u001b[0m  ┆     ┆     │\n",
       "└─────┴─────┴─────┴─────┴─────┴─────┴─────┘\n"
      ]
     },
     "metadata": {},
     "output_type": "display_data"
    },
    {
     "data": {
      "text/html": [
       "<pre style=\"white-space:pre;overflow-x:auto;line-height:normal;font-family:Menlo,'DejaVu Sans Mono',consolas,'Courier New',monospace\">\n",
       "🚨 FINANCIAL IMPACT SUMMARY:\n",
       "</pre>\n"
      ],
      "text/plain": [
       "\n",
       "🚨 FINANCIAL IMPACT SUMMARY:\n"
      ]
     },
     "metadata": {},
     "output_type": "display_data"
    },
    {
     "data": {
      "text/html": [
       "<pre style=\"white-space:pre;overflow-x:auto;line-height:normal;font-family:Menlo,'DejaVu Sans Mono',consolas,'Courier New',monospace\">   Monthly Revenue Lost: $<span style=\"color: #008080; text-decoration-color: #008080; font-weight: bold\">139</span>,<span style=\"color: #008080; text-decoration-color: #008080; font-weight: bold\">131</span>\n",
       "</pre>\n"
      ],
      "text/plain": [
       "   Monthly Revenue Lost: $\u001b[1;36m139\u001b[0m,\u001b[1;36m131\u001b[0m\n"
      ]
     },
     "metadata": {},
     "output_type": "display_data"
    },
    {
     "data": {
      "text/html": [
       "<pre style=\"white-space:pre;overflow-x:auto;line-height:normal;font-family:Menlo,'DejaVu Sans Mono',consolas,'Courier New',monospace\">   Annual Revenue Lost: $<span style=\"color: #008080; text-decoration-color: #008080; font-weight: bold\">1</span>,<span style=\"color: #008080; text-decoration-color: #008080; font-weight: bold\">669</span>,<span style=\"color: #008080; text-decoration-color: #008080; font-weight: bold\">570</span>\n",
       "</pre>\n"
      ],
      "text/plain": [
       "   Annual Revenue Lost: $\u001b[1;36m1\u001b[0m,\u001b[1;36m669\u001b[0m,\u001b[1;36m570\u001b[0m\n"
      ]
     },
     "metadata": {},
     "output_type": "display_data"
    },
    {
     "data": {
      "text/html": [
       "<pre style=\"white-space:pre;overflow-x:auto;line-height:normal;font-family:Menlo,'DejaVu Sans Mono',consolas,'Courier New',monospace\">   Average Monthly Value per Churned Customer: $<span style=\"color: #008080; text-decoration-color: #008080; font-weight: bold\">74.44</span>\n",
       "</pre>\n"
      ],
      "text/plain": [
       "   Average Monthly Value per Churned Customer: $\u001b[1;36m74.44\u001b[0m\n"
      ]
     },
     "metadata": {},
     "output_type": "display_data"
    },
    {
     "data": {
      "text/html": [
       "<pre style=\"white-space:pre;overflow-x:auto;line-height:normal;font-family:Menlo,'DejaVu Sans Mono',consolas,'Courier New',monospace\">   Average Lifetime Value Lost per Churned Customer: $<span style=\"color: #008080; text-decoration-color: #008080; font-weight: bold\">1531.80</span>\n",
       "</pre>\n"
      ],
      "text/plain": [
       "   Average Lifetime Value Lost per Churned Customer: $\u001b[1;36m1531.80\u001b[0m\n"
      ]
     },
     "metadata": {},
     "output_type": "display_data"
    },
    {
     "data": {
      "text/html": [
       "<pre style=\"white-space:pre;overflow-x:auto;line-height:normal;font-family:Menlo,'DejaVu Sans Mono',consolas,'Courier New',monospace\">   Total Customer Lifetime Value Lost: $<span style=\"color: #008080; text-decoration-color: #008080; font-weight: bold\">2</span>,<span style=\"color: #008080; text-decoration-color: #008080; font-weight: bold\">862</span>,<span style=\"color: #008080; text-decoration-color: #008080; font-weight: bold\">927</span>\n",
       "</pre>\n"
      ],
      "text/plain": [
       "   Total Customer Lifetime Value Lost: $\u001b[1;36m2\u001b[0m,\u001b[1;36m862\u001b[0m,\u001b[1;36m927\u001b[0m\n"
      ]
     },
     "metadata": {},
     "output_type": "display_data"
    }
   ],
   "source": [
    "print(\"💰 FINANCIAL IMPACT OF CUSTUMER CHURN\")\n",
    "print(\"=\" * 40)\n",
    "\n",
    "#Revenue Analysis:\n",
    "revenue_analysis= df.group_by(\"Churn\").agg([\n",
    "    pl.col(\"customerID\").count().alias(\"Customer_count\"),\n",
    "    pl.col(\"MonthlyCharges\").mean().alias(\"Avg_Monthly_Revenue\"),\n",
    "    pl.col(\"MonthlyCharges\").sum().alias(\"Total_Monthly_Revenue\"),\n",
    "    pl.col(\"TotalCharges\").mean().alias(\"Avg_Lifetime_Value\"),\n",
    "    pl.col(\"TotalCharges\").sum().alias(\"Total_Lifetime_Revenue\"),\n",
    "    pl.col(\"tenure\").mean().alias(\"Avg_Tenure_Months\")\n",
    "])\n",
    "\n",
    "print(\"💳 Revenue Analysis by Churn Status:\")\n",
    "print(revenue_analysis)\n",
    "\n",
    "#Calculating finantial impacts:\n",
    "churned_revenue= revenue_analysis.filter(pl.col(\"Churn\") == \"Yes\")\n",
    "retained_revenue= revenue_analysis.filter(pl.col(\"Churn\") == \"No\")\n",
    "\n",
    "#Extracting values for calculations:\n",
    "churned_monthly= churned_revenue[\"Total_Monthly_Revenue\"][0]\n",
    "churned_avg_monthly= churned_revenue[\"Avg_Monthly_Revenue\"][0]\n",
    "churned_avg_lifetime= churned_revenue[\"Avg_Lifetime_Value\"][0]\n",
    "\n",
    "retained_monthly= retained_revenue[\"Total_Monthly_Revenue\"][0]\n",
    "retained_avg_monthly= retained_revenue[\"Avg_Monthly_Revenue\"][0]\n",
    "retained_avg_lifetime= retained_revenue[\"Avg_Lifetime_Value\"][0]\n",
    "\n",
    "#Calculating annual impact:\n",
    "monthly_revenue_lost= churned_monthly\n",
    "annual_revenue_lost= monthly_revenue_lost * 12\n",
    "\n",
    "print(f\"\\n🚨 FINANCIAL IMPACT SUMMARY:\")\n",
    "print(f\"   Monthly Revenue Lost: ${monthly_revenue_lost:,.0f}\")\n",
    "print(f\"   Annual Revenue Lost: ${annual_revenue_lost:,.0f}\")\n",
    "print(f\"   Average Monthly Value per Churned Customer: ${churned_avg_monthly:.2f}\")\n",
    "print(f\"   Average Lifetime Value Lost per Churned Customer: ${churned_avg_lifetime:.2f}\")\n",
    "\n",
    "# Customer acquisition cost perspective\n",
    "total_lifetime_lost = churned_revenue[\"Total_Lifetime_Revenue\"][0]\n",
    "print(f\"   Total Customer Lifetime Value Lost: ${total_lifetime_lost:,.0f}\")\n"
   ]
  },
  {
   "cell_type": "code",
   "execution_count": 30,
   "metadata": {
    "scrolled": true
   },
   "outputs": [
    {
     "data": {
      "text/html": [
       "<pre style=\"white-space:pre;overflow-x:auto;line-height:normal;font-family:Menlo,'DejaVu Sans Mono',consolas,'Courier New',monospace\">📊 REVENUE RISK BY CUSTOMER SEGMENTS\n",
       "</pre>\n"
      ],
      "text/plain": [
       "📊 REVENUE RISK BY CUSTOMER SEGMENTS\n"
      ]
     },
     "metadata": {},
     "output_type": "display_data"
    },
    {
     "data": {
      "text/html": [
       "<pre style=\"white-space:pre;overflow-x:auto;line-height:normal;font-family:Menlo,'DejaVu Sans Mono',consolas,'Courier New',monospace\">========================================\n",
       "</pre>\n"
      ],
      "text/plain": [
       "========================================\n"
      ]
     },
     "metadata": {},
     "output_type": "display_data"
    },
    {
     "data": {
      "text/html": [
       "<pre style=\"white-space:pre;overflow-x:auto;line-height:normal;font-family:Menlo,'DejaVu Sans Mono',consolas,'Courier New',monospace\">Revenue Analysis by Customer Value Segment:\n",
       "</pre>\n"
      ],
      "text/plain": [
       "Revenue Analysis by Customer Value Segment:\n"
      ]
     },
     "metadata": {},
     "output_type": "display_data"
    },
    {
     "data": {
      "text/html": [
       "<pre style=\"white-space:pre;overflow-x:auto;line-height:normal;font-family:Menlo,'DejaVu Sans Mono',consolas,'Courier New',monospace\">shape: <span style=\"font-weight: bold\">(</span><span style=\"color: #008080; text-decoration-color: #008080; font-weight: bold\">8</span>, <span style=\"color: #008080; text-decoration-color: #008080; font-weight: bold\">5</span><span style=\"font-weight: bold\">)</span>\n",
       "┌───────────────────────────┬───────┬────────────────┬─────────────────┬────────────────────┐\n",
       "│ Value_Segment             ┆ Churn ┆ Customer_Count ┆ Monthly_Revenue ┆ Avg_Monthly_Charge │\n",
       "│ ---                       ┆ ---   ┆ ---            ┆ ---             ┆ ---                │\n",
       "│ str                       ┆ str   ┆ u32            ┆ f64             ┆ f64                │\n",
       "╞═══════════════════════════╪═══════╪════════════════╪═════════════════╪════════════════════╡\n",
       "│ High Value <span style=\"font-weight: bold\">(</span>+$<span style=\"color: #008080; text-decoration-color: #008080; font-weight: bold\">80</span><span style=\"font-weight: bold\">)</span>         ┆ Yes   ┆ <span style=\"color: #008080; text-decoration-color: #008080; font-weight: bold\">910</span>            ┆ <span style=\"color: #008080; text-decoration-color: #008080; font-weight: bold\">85669.35</span>        ┆ <span style=\"color: #008080; text-decoration-color: #008080; font-weight: bold\">94.142143</span>          │\n",
       "│ High Value <span style=\"font-weight: bold\">(</span>+$<span style=\"color: #008080; text-decoration-color: #008080; font-weight: bold\">80</span><span style=\"font-weight: bold\">)</span>         ┆ No    ┆ <span style=\"color: #008080; text-decoration-color: #008080; font-weight: bold\">1767</span>           ┆ <span style=\"color: #008080; text-decoration-color: #008080; font-weight: bold\">169611.5</span>        ┆ <span style=\"color: #008080; text-decoration-color: #008080; font-weight: bold\">95.988398</span>          │\n",
       "│ Low Value <span style=\"font-weight: bold\">(</span>&lt;$<span style=\"color: #008080; text-decoration-color: #008080; font-weight: bold\">30</span><span style=\"font-weight: bold\">)</span>          ┆ Yes   ┆ <span style=\"color: #008080; text-decoration-color: #008080; font-weight: bold\">162</span>            ┆ <span style=\"color: #008080; text-decoration-color: #008080; font-weight: bold\">3583.75</span>         ┆ <span style=\"color: #008080; text-decoration-color: #008080; font-weight: bold\">22.121914</span>          │\n",
       "│ Low Value <span style=\"font-weight: bold\">(</span>&lt;$<span style=\"color: #008080; text-decoration-color: #008080; font-weight: bold\">30</span><span style=\"font-weight: bold\">)</span>          ┆ No    ┆ <span style=\"color: #008080; text-decoration-color: #008080; font-weight: bold\">1491</span>           ┆ <span style=\"color: #008080; text-decoration-color: #008080; font-weight: bold\">31961.6</span>         ┆ <span style=\"color: #008080; text-decoration-color: #008080; font-weight: bold\">21.436351</span>          │\n",
       "│ Low-Medium Value <span style=\"font-weight: bold\">(</span>$<span style=\"color: #008080; text-decoration-color: #008080; font-weight: bold\">30</span>-<span style=\"color: #008080; text-decoration-color: #008080; font-weight: bold\">49</span><span style=\"font-weight: bold\">)</span> ┆ Yes   ┆ <span style=\"color: #008080; text-decoration-color: #008080; font-weight: bold\">199</span>            ┆ <span style=\"color: #008080; text-decoration-color: #008080; font-weight: bold\">8527.15</span>         ┆ <span style=\"color: #008080; text-decoration-color: #008080; font-weight: bold\">42.85</span>              │\n",
       "│ Low-Medium Value <span style=\"font-weight: bold\">(</span>$<span style=\"color: #008080; text-decoration-color: #008080; font-weight: bold\">30</span>-<span style=\"color: #008080; text-decoration-color: #008080; font-weight: bold\">49</span><span style=\"font-weight: bold\">)</span> ┆ No    ┆ <span style=\"color: #008080; text-decoration-color: #008080; font-weight: bold\">442</span>            ┆ <span style=\"color: #008080; text-decoration-color: #008080; font-weight: bold\">18867.6</span>         ┆ <span style=\"color: #008080; text-decoration-color: #008080; font-weight: bold\">42.686878</span>          │\n",
       "│ Medium Value <span style=\"font-weight: bold\">(</span>$<span style=\"color: #008080; text-decoration-color: #008080; font-weight: bold\">50</span>-<span style=\"color: #008080; text-decoration-color: #008080; font-weight: bold\">79</span><span style=\"font-weight: bold\">)</span>     ┆ No    ┆ <span style=\"color: #008080; text-decoration-color: #008080; font-weight: bold\">1474</span>           ┆ <span style=\"color: #008080; text-decoration-color: #008080; font-weight: bold\">96545.05</span>        ┆ <span style=\"color: #008080; text-decoration-color: #008080; font-weight: bold\">65.498677</span>          │\n",
       "│ Medium Value <span style=\"font-weight: bold\">(</span>$<span style=\"color: #008080; text-decoration-color: #008080; font-weight: bold\">50</span>-<span style=\"color: #008080; text-decoration-color: #008080; font-weight: bold\">79</span><span style=\"font-weight: bold\">)</span>     ┆ Yes   ┆ <span style=\"color: #008080; text-decoration-color: #008080; font-weight: bold\">598</span>            ┆ <span style=\"color: #008080; text-decoration-color: #008080; font-weight: bold\">41350.6</span>         ┆ <span style=\"color: #008080; text-decoration-color: #008080; font-weight: bold\">69.148161</span>          │\n",
       "└───────────────────────────┴───────┴────────────────┴─────────────────┴────────────────────┘\n",
       "</pre>\n"
      ],
      "text/plain": [
       "shape: \u001b[1m(\u001b[0m\u001b[1;36m8\u001b[0m, \u001b[1;36m5\u001b[0m\u001b[1m)\u001b[0m\n",
       "┌───────────────────────────┬───────┬────────────────┬─────────────────┬────────────────────┐\n",
       "│ Value_Segment             ┆ Churn ┆ Customer_Count ┆ Monthly_Revenue ┆ Avg_Monthly_Charge │\n",
       "│ ---                       ┆ ---   ┆ ---            ┆ ---             ┆ ---                │\n",
       "│ str                       ┆ str   ┆ u32            ┆ f64             ┆ f64                │\n",
       "╞═══════════════════════════╪═══════╪════════════════╪═════════════════╪════════════════════╡\n",
       "│ High Value \u001b[1m(\u001b[0m+$\u001b[1;36m80\u001b[0m\u001b[1m)\u001b[0m         ┆ Yes   ┆ \u001b[1;36m910\u001b[0m            ┆ \u001b[1;36m85669.35\u001b[0m        ┆ \u001b[1;36m94.142143\u001b[0m          │\n",
       "│ High Value \u001b[1m(\u001b[0m+$\u001b[1;36m80\u001b[0m\u001b[1m)\u001b[0m         ┆ No    ┆ \u001b[1;36m1767\u001b[0m           ┆ \u001b[1;36m169611.5\u001b[0m        ┆ \u001b[1;36m95.988398\u001b[0m          │\n",
       "│ Low Value \u001b[1m(\u001b[0m<$\u001b[1;36m30\u001b[0m\u001b[1m)\u001b[0m          ┆ Yes   ┆ \u001b[1;36m162\u001b[0m            ┆ \u001b[1;36m3583.75\u001b[0m         ┆ \u001b[1;36m22.121914\u001b[0m          │\n",
       "│ Low Value \u001b[1m(\u001b[0m<$\u001b[1;36m30\u001b[0m\u001b[1m)\u001b[0m          ┆ No    ┆ \u001b[1;36m1491\u001b[0m           ┆ \u001b[1;36m31961.6\u001b[0m         ┆ \u001b[1;36m21.436351\u001b[0m          │\n",
       "│ Low-Medium Value \u001b[1m(\u001b[0m$\u001b[1;36m30\u001b[0m-\u001b[1;36m49\u001b[0m\u001b[1m)\u001b[0m ┆ Yes   ┆ \u001b[1;36m199\u001b[0m            ┆ \u001b[1;36m8527.15\u001b[0m         ┆ \u001b[1;36m42.85\u001b[0m              │\n",
       "│ Low-Medium Value \u001b[1m(\u001b[0m$\u001b[1;36m30\u001b[0m-\u001b[1;36m49\u001b[0m\u001b[1m)\u001b[0m ┆ No    ┆ \u001b[1;36m442\u001b[0m            ┆ \u001b[1;36m18867.6\u001b[0m         ┆ \u001b[1;36m42.686878\u001b[0m          │\n",
       "│ Medium Value \u001b[1m(\u001b[0m$\u001b[1;36m50\u001b[0m-\u001b[1;36m79\u001b[0m\u001b[1m)\u001b[0m     ┆ No    ┆ \u001b[1;36m1474\u001b[0m           ┆ \u001b[1;36m96545.05\u001b[0m        ┆ \u001b[1;36m65.498677\u001b[0m          │\n",
       "│ Medium Value \u001b[1m(\u001b[0m$\u001b[1;36m50\u001b[0m-\u001b[1;36m79\u001b[0m\u001b[1m)\u001b[0m     ┆ Yes   ┆ \u001b[1;36m598\u001b[0m            ┆ \u001b[1;36m41350.6\u001b[0m         ┆ \u001b[1;36m69.148161\u001b[0m          │\n",
       "└───────────────────────────┴───────┴────────────────┴─────────────────┴────────────────────┘\n"
      ]
     },
     "metadata": {},
     "output_type": "display_data"
    },
    {
     "data": {
      "text/html": [
       "<pre style=\"white-space:pre;overflow-x:auto;line-height:normal;font-family:Menlo,'DejaVu Sans Mono',consolas,'Courier New',monospace\">\n",
       "🔍 KEY INSIGHTS FROM SEGMENT ANALYSIS:\n",
       "</pre>\n"
      ],
      "text/plain": [
       "\n",
       "🔍 KEY INSIGHTS FROM SEGMENT ANALYSIS:\n"
      ]
     },
     "metadata": {},
     "output_type": "display_data"
    },
    {
     "data": {
      "text/html": [
       "<pre style=\"white-space:pre;overflow-x:auto;line-height:normal;font-family:Menlo,'DejaVu Sans Mono',consolas,'Courier New',monospace\">---------------------------------------------\n",
       "</pre>\n"
      ],
      "text/plain": [
       "---------------------------------------------\n"
      ]
     },
     "metadata": {},
     "output_type": "display_data"
    },
    {
     "data": {
      "text/html": [
       "<pre style=\"white-space:pre;overflow-x:auto;line-height:normal;font-family:Menlo,'DejaVu Sans Mono',consolas,'Courier New',monospace\">📈 Low Value <span style=\"font-weight: bold\">(</span>&lt;$<span style=\"color: #008080; text-decoration-color: #008080; font-weight: bold\">30</span><span style=\"font-weight: bold\">)</span>:\n",
       "</pre>\n"
      ],
      "text/plain": [
       "📈 Low Value \u001b[1m(\u001b[0m<$\u001b[1;36m30\u001b[0m\u001b[1m)\u001b[0m:\n"
      ]
     },
     "metadata": {},
     "output_type": "display_data"
    },
    {
     "data": {
      "text/html": [
       "<pre style=\"white-space:pre;overflow-x:auto;line-height:normal;font-family:Menlo,'DejaVu Sans Mono',consolas,'Courier New',monospace\">   └── Total customers: <span style=\"color: #008080; text-decoration-color: #008080; font-weight: bold\">1</span>,<span style=\"color: #008080; text-decoration-color: #008080; font-weight: bold\">653</span>\n",
       "</pre>\n"
      ],
      "text/plain": [
       "   └── Total customers: \u001b[1;36m1\u001b[0m,\u001b[1;36m653\u001b[0m\n"
      ]
     },
     "metadata": {},
     "output_type": "display_data"
    },
    {
     "data": {
      "text/html": [
       "<pre style=\"white-space:pre;overflow-x:auto;line-height:normal;font-family:Menlo,'DejaVu Sans Mono',consolas,'Courier New',monospace\">   └── Churned: <span style=\"color: #008080; text-decoration-color: #008080; font-weight: bold\">162</span> <span style=\"font-weight: bold\">(</span><span style=\"color: #008080; text-decoration-color: #008080; font-weight: bold\">9.8</span>%<span style=\"font-weight: bold\">)</span>\n",
       "</pre>\n"
      ],
      "text/plain": [
       "   └── Churned: \u001b[1;36m162\u001b[0m \u001b[1m(\u001b[0m\u001b[1;36m9.8\u001b[0m%\u001b[1m)\u001b[0m\n"
      ]
     },
     "metadata": {},
     "output_type": "display_data"
    },
    {
     "data": {
      "text/html": [
       "<pre style=\"white-space:pre;overflow-x:auto;line-height:normal;font-family:Menlo,'DejaVu Sans Mono',consolas,'Courier New',monospace\">\n",
       "</pre>\n"
      ],
      "text/plain": [
       "\n"
      ]
     },
     "metadata": {},
     "output_type": "display_data"
    },
    {
     "data": {
      "text/html": [
       "<pre style=\"white-space:pre;overflow-x:auto;line-height:normal;font-family:Menlo,'DejaVu Sans Mono',consolas,'Courier New',monospace\">📈 Low-Medium Value <span style=\"font-weight: bold\">(</span>$<span style=\"color: #008080; text-decoration-color: #008080; font-weight: bold\">30</span>-<span style=\"color: #008080; text-decoration-color: #008080; font-weight: bold\">49</span><span style=\"font-weight: bold\">)</span>:\n",
       "</pre>\n"
      ],
      "text/plain": [
       "📈 Low-Medium Value \u001b[1m(\u001b[0m$\u001b[1;36m30\u001b[0m-\u001b[1;36m49\u001b[0m\u001b[1m)\u001b[0m:\n"
      ]
     },
     "metadata": {},
     "output_type": "display_data"
    },
    {
     "data": {
      "text/html": [
       "<pre style=\"white-space:pre;overflow-x:auto;line-height:normal;font-family:Menlo,'DejaVu Sans Mono',consolas,'Courier New',monospace\">   └── Total customers: <span style=\"color: #008080; text-decoration-color: #008080; font-weight: bold\">641</span>\n",
       "</pre>\n"
      ],
      "text/plain": [
       "   └── Total customers: \u001b[1;36m641\u001b[0m\n"
      ]
     },
     "metadata": {},
     "output_type": "display_data"
    },
    {
     "data": {
      "text/html": [
       "<pre style=\"white-space:pre;overflow-x:auto;line-height:normal;font-family:Menlo,'DejaVu Sans Mono',consolas,'Courier New',monospace\">   └── Churned: <span style=\"color: #008080; text-decoration-color: #008080; font-weight: bold\">199</span> <span style=\"font-weight: bold\">(</span><span style=\"color: #008080; text-decoration-color: #008080; font-weight: bold\">31.0</span>%<span style=\"font-weight: bold\">)</span>\n",
       "</pre>\n"
      ],
      "text/plain": [
       "   └── Churned: \u001b[1;36m199\u001b[0m \u001b[1m(\u001b[0m\u001b[1;36m31.0\u001b[0m%\u001b[1m)\u001b[0m\n"
      ]
     },
     "metadata": {},
     "output_type": "display_data"
    },
    {
     "data": {
      "text/html": [
       "<pre style=\"white-space:pre;overflow-x:auto;line-height:normal;font-family:Menlo,'DejaVu Sans Mono',consolas,'Courier New',monospace\">\n",
       "</pre>\n"
      ],
      "text/plain": [
       "\n"
      ]
     },
     "metadata": {},
     "output_type": "display_data"
    },
    {
     "data": {
      "text/html": [
       "<pre style=\"white-space:pre;overflow-x:auto;line-height:normal;font-family:Menlo,'DejaVu Sans Mono',consolas,'Courier New',monospace\">📈 Medium Value <span style=\"font-weight: bold\">(</span>$<span style=\"color: #008080; text-decoration-color: #008080; font-weight: bold\">50</span>-<span style=\"color: #008080; text-decoration-color: #008080; font-weight: bold\">79</span><span style=\"font-weight: bold\">)</span>:\n",
       "</pre>\n"
      ],
      "text/plain": [
       "📈 Medium Value \u001b[1m(\u001b[0m$\u001b[1;36m50\u001b[0m-\u001b[1;36m79\u001b[0m\u001b[1m)\u001b[0m:\n"
      ]
     },
     "metadata": {},
     "output_type": "display_data"
    },
    {
     "data": {
      "text/html": [
       "<pre style=\"white-space:pre;overflow-x:auto;line-height:normal;font-family:Menlo,'DejaVu Sans Mono',consolas,'Courier New',monospace\">   └── Total customers: <span style=\"color: #008080; text-decoration-color: #008080; font-weight: bold\">2</span>,<span style=\"color: #008080; text-decoration-color: #008080; font-weight: bold\">072</span>\n",
       "</pre>\n"
      ],
      "text/plain": [
       "   └── Total customers: \u001b[1;36m2\u001b[0m,\u001b[1;36m072\u001b[0m\n"
      ]
     },
     "metadata": {},
     "output_type": "display_data"
    },
    {
     "data": {
      "text/html": [
       "<pre style=\"white-space:pre;overflow-x:auto;line-height:normal;font-family:Menlo,'DejaVu Sans Mono',consolas,'Courier New',monospace\">   └── Churned: <span style=\"color: #008080; text-decoration-color: #008080; font-weight: bold\">598</span> <span style=\"font-weight: bold\">(</span><span style=\"color: #008080; text-decoration-color: #008080; font-weight: bold\">28.9</span>%<span style=\"font-weight: bold\">)</span>\n",
       "</pre>\n"
      ],
      "text/plain": [
       "   └── Churned: \u001b[1;36m598\u001b[0m \u001b[1m(\u001b[0m\u001b[1;36m28.9\u001b[0m%\u001b[1m)\u001b[0m\n"
      ]
     },
     "metadata": {},
     "output_type": "display_data"
    },
    {
     "data": {
      "text/html": [
       "<pre style=\"white-space:pre;overflow-x:auto;line-height:normal;font-family:Menlo,'DejaVu Sans Mono',consolas,'Courier New',monospace\">\n",
       "</pre>\n"
      ],
      "text/plain": [
       "\n"
      ]
     },
     "metadata": {},
     "output_type": "display_data"
    },
    {
     "data": {
      "text/html": [
       "<pre style=\"white-space:pre;overflow-x:auto;line-height:normal;font-family:Menlo,'DejaVu Sans Mono',consolas,'Courier New',monospace\">📈 High Value <span style=\"font-weight: bold\">(</span>+$<span style=\"color: #008080; text-decoration-color: #008080; font-weight: bold\">80</span><span style=\"font-weight: bold\">)</span>:\n",
       "</pre>\n"
      ],
      "text/plain": [
       "📈 High Value \u001b[1m(\u001b[0m+$\u001b[1;36m80\u001b[0m\u001b[1m)\u001b[0m:\n"
      ]
     },
     "metadata": {},
     "output_type": "display_data"
    },
    {
     "data": {
      "text/html": [
       "<pre style=\"white-space:pre;overflow-x:auto;line-height:normal;font-family:Menlo,'DejaVu Sans Mono',consolas,'Courier New',monospace\">   └── Total customers: <span style=\"color: #008080; text-decoration-color: #008080; font-weight: bold\">2</span>,<span style=\"color: #008080; text-decoration-color: #008080; font-weight: bold\">677</span>\n",
       "</pre>\n"
      ],
      "text/plain": [
       "   └── Total customers: \u001b[1;36m2\u001b[0m,\u001b[1;36m677\u001b[0m\n"
      ]
     },
     "metadata": {},
     "output_type": "display_data"
    },
    {
     "data": {
      "text/html": [
       "<pre style=\"white-space:pre;overflow-x:auto;line-height:normal;font-family:Menlo,'DejaVu Sans Mono',consolas,'Courier New',monospace\">   └── Churned: <span style=\"color: #008080; text-decoration-color: #008080; font-weight: bold\">910</span> <span style=\"font-weight: bold\">(</span><span style=\"color: #008080; text-decoration-color: #008080; font-weight: bold\">34.0</span>%<span style=\"font-weight: bold\">)</span>\n",
       "</pre>\n"
      ],
      "text/plain": [
       "   └── Churned: \u001b[1;36m910\u001b[0m \u001b[1m(\u001b[0m\u001b[1;36m34.0\u001b[0m%\u001b[1m)\u001b[0m\n"
      ]
     },
     "metadata": {},
     "output_type": "display_data"
    },
    {
     "data": {
      "text/html": [
       "<pre style=\"white-space:pre;overflow-x:auto;line-height:normal;font-family:Menlo,'DejaVu Sans Mono',consolas,'Courier New',monospace\">\n",
       "</pre>\n"
      ],
      "text/plain": [
       "\n"
      ]
     },
     "metadata": {},
     "output_type": "display_data"
    },
    {
     "data": {
      "text/html": [
       "<pre style=\"white-space:pre;overflow-x:auto;line-height:normal;font-family:Menlo,'DejaVu Sans Mono',consolas,'Courier New',monospace\">\n",
       "💰 Revenue Risk Summary by Segment:\n",
       "</pre>\n"
      ],
      "text/plain": [
       "\n",
       "💰 Revenue Risk Summary by Segment:\n"
      ]
     },
     "metadata": {},
     "output_type": "display_data"
    },
    {
     "data": {
      "text/html": [
       "<pre style=\"white-space:pre;overflow-x:auto;line-height:normal;font-family:Menlo,'DejaVu Sans Mono',consolas,'Courier New',monospace\">shape: <span style=\"font-weight: bold\">(</span><span style=\"color: #008080; text-decoration-color: #008080; font-weight: bold\">4</span>, <span style=\"color: #008080; text-decoration-color: #008080; font-weight: bold\">7</span><span style=\"font-weight: bold\">)</span>\n",
       "┌──────────────┬──────────────┬──────────────┬──────────────┬──────────────┬────────────┬─────────────┐\n",
       "│ Value_Segmen ┆ Total_Custom ┆ Churned_Cust ┆ Total_Monthl ┆ Avg_Monthly_ ┆ Churn_Rate ┆ Annual_Reve │\n",
       "│ t            ┆ ers          ┆ omers        ┆ y_Revenue    ┆ Charges      ┆ ---        ┆ nue_At_Risk │\n",
       "│ ---          ┆ ---          ┆ ---          ┆ ---          ┆ ---          ┆ f64        ┆ ---         │\n",
       "│ str          ┆ u32          ┆ u32          ┆ f64          ┆ f64          ┆            ┆ f64         │\n",
       "╞══════════════╪══════════════╪══════════════╪══════════════╪══════════════╪════════════╪═════════════╡\n",
       "│ High Value   ┆ <span style=\"color: #008080; text-decoration-color: #008080; font-weight: bold\">2677</span>         ┆ <span style=\"color: #008080; text-decoration-color: #008080; font-weight: bold\">910</span>          ┆ <span style=\"color: #008080; text-decoration-color: #008080; font-weight: bold\">255280.85</span>    ┆ <span style=\"color: #008080; text-decoration-color: #008080; font-weight: bold\">95.360796</span>    ┆ <span style=\"color: #008080; text-decoration-color: #008080; font-weight: bold\">33.993276</span>  ┆ <span style=\"color: #008080; text-decoration-color: #008080; font-weight: bold\">1.0413e6</span>    │\n",
       "│ <span style=\"font-weight: bold\">(</span>+$<span style=\"color: #008080; text-decoration-color: #008080; font-weight: bold\">80</span><span style=\"font-weight: bold\">)</span>       ┆              ┆              ┆              ┆              ┆            ┆             │\n",
       "│ Medium Value ┆ <span style=\"color: #008080; text-decoration-color: #008080; font-weight: bold\">2072</span>         ┆ <span style=\"color: #008080; text-decoration-color: #008080; font-weight: bold\">598</span>          ┆ <span style=\"color: #008080; text-decoration-color: #008080; font-weight: bold\">137895.65</span>    ┆ <span style=\"color: #008080; text-decoration-color: #008080; font-weight: bold\">66.551955</span>    ┆ <span style=\"color: #008080; text-decoration-color: #008080; font-weight: bold\">28.861004</span>  ┆ <span style=\"color: #008080; text-decoration-color: #008080; font-weight: bold\">477576.8264</span> │\n",
       "│ <span style=\"font-weight: bold\">(</span>$<span style=\"color: #008080; text-decoration-color: #008080; font-weight: bold\">50</span>-<span style=\"color: #008080; text-decoration-color: #008080; font-weight: bold\">79</span><span style=\"font-weight: bold\">)</span>     ┆              ┆              ┆              ┆              ┆            ┆ <span style=\"color: #008080; text-decoration-color: #008080; font-weight: bold\">48</span>          │\n",
       "│ Low-Medium   ┆ <span style=\"color: #008080; text-decoration-color: #008080; font-weight: bold\">641</span>          ┆ <span style=\"color: #008080; text-decoration-color: #008080; font-weight: bold\">199</span>          ┆ <span style=\"color: #008080; text-decoration-color: #008080; font-weight: bold\">27394.75</span>     ┆ <span style=\"color: #008080; text-decoration-color: #008080; font-weight: bold\">42.73752</span>     ┆ <span style=\"color: #008080; text-decoration-color: #008080; font-weight: bold\">31.045242</span>  ┆ <span style=\"color: #008080; text-decoration-color: #008080; font-weight: bold\">102057.1965</span> │\n",
       "│ Value        ┆              ┆              ┆              ┆              ┆            ┆ <span style=\"color: #008080; text-decoration-color: #008080; font-weight: bold\">68</span>          │\n",
       "│ <span style=\"font-weight: bold\">(</span>$<span style=\"color: #008080; text-decoration-color: #008080; font-weight: bold\">30</span>-<span style=\"color: #008080; text-decoration-color: #008080; font-weight: bold\">49</span><span style=\"font-weight: bold\">)</span>     ┆              ┆              ┆              ┆              ┆            ┆             │\n",
       "│ Low Value    ┆ <span style=\"color: #008080; text-decoration-color: #008080; font-weight: bold\">1653</span>         ┆ <span style=\"color: #008080; text-decoration-color: #008080; font-weight: bold\">162</span>          ┆ <span style=\"color: #008080; text-decoration-color: #008080; font-weight: bold\">35545.35</span>     ┆ <span style=\"color: #008080; text-decoration-color: #008080; font-weight: bold\">21.503539</span>    ┆ <span style=\"color: #008080; text-decoration-color: #008080; font-weight: bold\">9.800363</span>   ┆ <span style=\"color: #008080; text-decoration-color: #008080; font-weight: bold\">41802.87985</span> │\n",
       "│ <span style=\"font-weight: bold\">(</span>&lt;$<span style=\"color: #008080; text-decoration-color: #008080; font-weight: bold\">30</span><span style=\"font-weight: bold\">)</span>       ┆              ┆              ┆              ┆              ┆            ┆ <span style=\"color: #008080; text-decoration-color: #008080; font-weight: bold\">5</span>           │\n",
       "└──────────────┴──────────────┴──────────────┴──────────────┴──────────────┴────────────┴─────────────┘\n",
       "</pre>\n"
      ],
      "text/plain": [
       "shape: \u001b[1m(\u001b[0m\u001b[1;36m4\u001b[0m, \u001b[1;36m7\u001b[0m\u001b[1m)\u001b[0m\n",
       "┌──────────────┬──────────────┬──────────────┬──────────────┬──────────────┬────────────┬─────────────┐\n",
       "│ Value_Segmen ┆ Total_Custom ┆ Churned_Cust ┆ Total_Monthl ┆ Avg_Monthly_ ┆ Churn_Rate ┆ Annual_Reve │\n",
       "│ t            ┆ ers          ┆ omers        ┆ y_Revenue    ┆ Charges      ┆ ---        ┆ nue_At_Risk │\n",
       "│ ---          ┆ ---          ┆ ---          ┆ ---          ┆ ---          ┆ f64        ┆ ---         │\n",
       "│ str          ┆ u32          ┆ u32          ┆ f64          ┆ f64          ┆            ┆ f64         │\n",
       "╞══════════════╪══════════════╪══════════════╪══════════════╪══════════════╪════════════╪═════════════╡\n",
       "│ High Value   ┆ \u001b[1;36m2677\u001b[0m         ┆ \u001b[1;36m910\u001b[0m          ┆ \u001b[1;36m255280.85\u001b[0m    ┆ \u001b[1;36m95.360796\u001b[0m    ┆ \u001b[1;36m33.993276\u001b[0m  ┆ \u001b[1;36m1.0413e6\u001b[0m    │\n",
       "│ \u001b[1m(\u001b[0m+$\u001b[1;36m80\u001b[0m\u001b[1m)\u001b[0m       ┆              ┆              ┆              ┆              ┆            ┆             │\n",
       "│ Medium Value ┆ \u001b[1;36m2072\u001b[0m         ┆ \u001b[1;36m598\u001b[0m          ┆ \u001b[1;36m137895.65\u001b[0m    ┆ \u001b[1;36m66.551955\u001b[0m    ┆ \u001b[1;36m28.861004\u001b[0m  ┆ \u001b[1;36m477576.8264\u001b[0m │\n",
       "│ \u001b[1m(\u001b[0m$\u001b[1;36m50\u001b[0m-\u001b[1;36m79\u001b[0m\u001b[1m)\u001b[0m     ┆              ┆              ┆              ┆              ┆            ┆ \u001b[1;36m48\u001b[0m          │\n",
       "│ Low-Medium   ┆ \u001b[1;36m641\u001b[0m          ┆ \u001b[1;36m199\u001b[0m          ┆ \u001b[1;36m27394.75\u001b[0m     ┆ \u001b[1;36m42.73752\u001b[0m     ┆ \u001b[1;36m31.045242\u001b[0m  ┆ \u001b[1;36m102057.1965\u001b[0m │\n",
       "│ Value        ┆              ┆              ┆              ┆              ┆            ┆ \u001b[1;36m68\u001b[0m          │\n",
       "│ \u001b[1m(\u001b[0m$\u001b[1;36m30\u001b[0m-\u001b[1;36m49\u001b[0m\u001b[1m)\u001b[0m     ┆              ┆              ┆              ┆              ┆            ┆             │\n",
       "│ Low Value    ┆ \u001b[1;36m1653\u001b[0m         ┆ \u001b[1;36m162\u001b[0m          ┆ \u001b[1;36m35545.35\u001b[0m     ┆ \u001b[1;36m21.503539\u001b[0m    ┆ \u001b[1;36m9.800363\u001b[0m   ┆ \u001b[1;36m41802.87985\u001b[0m │\n",
       "│ \u001b[1m(\u001b[0m<$\u001b[1;36m30\u001b[0m\u001b[1m)\u001b[0m       ┆              ┆              ┆              ┆              ┆            ┆ \u001b[1;36m5\u001b[0m           │\n",
       "└──────────────┴──────────────┴──────────────┴──────────────┴──────────────┴────────────┴─────────────┘\n"
      ]
     },
     "metadata": {},
     "output_type": "display_data"
    },
    {
     "data": {
      "text/html": [
       "<pre style=\"white-space:pre;overflow-x:auto;line-height:normal;font-family:Menlo,'DejaVu Sans Mono',consolas,'Courier New',monospace\">\n",
       "💰 FINANCIAL IMPACT INSIGHTS:\n",
       "</pre>\n"
      ],
      "text/plain": [
       "\n",
       "💰 FINANCIAL IMPACT INSIGHTS:\n"
      ]
     },
     "metadata": {},
     "output_type": "display_data"
    },
    {
     "data": {
      "text/html": [
       "<pre style=\"white-space:pre;overflow-x:auto;line-height:normal;font-family:Menlo,'DejaVu Sans Mono',consolas,'Courier New',monospace\">---------------------------------------------\n",
       "</pre>\n"
      ],
      "text/plain": [
       "---------------------------------------------\n"
      ]
     },
     "metadata": {},
     "output_type": "display_data"
    },
    {
     "data": {
      "text/html": [
       "<pre style=\"white-space:pre;overflow-x:auto;line-height:normal;font-family:Menlo,'DejaVu Sans Mono',consolas,'Courier New',monospace\">🚨 TOTAL ANNUAL REVENUE AT RISK: $<span style=\"color: #008080; text-decoration-color: #008080; font-weight: bold\">1</span>,<span style=\"color: #008080; text-decoration-color: #008080; font-weight: bold\">662</span>,<span style=\"color: #008080; text-decoration-color: #008080; font-weight: bold\">777</span>\n",
       "</pre>\n"
      ],
      "text/plain": [
       "🚨 TOTAL ANNUAL REVENUE AT RISK: $\u001b[1;36m1\u001b[0m,\u001b[1;36m662\u001b[0m,\u001b[1;36m777\u001b[0m\n"
      ]
     },
     "metadata": {},
     "output_type": "display_data"
    },
    {
     "data": {
      "text/html": [
       "<pre style=\"white-space:pre;overflow-x:auto;line-height:normal;font-family:Menlo,'DejaVu Sans Mono',consolas,'Courier New',monospace\">\n",
       "</pre>\n"
      ],
      "text/plain": [
       "\n"
      ]
     },
     "metadata": {},
     "output_type": "display_data"
    },
    {
     "data": {
      "text/html": [
       "<pre style=\"white-space:pre;overflow-x:auto;line-height:normal;font-family:Menlo,'DejaVu Sans Mono',consolas,'Courier New',monospace\">💎 High Value <span style=\"font-weight: bold\">(</span>+$<span style=\"color: #008080; text-decoration-color: #008080; font-weight: bold\">80</span><span style=\"font-weight: bold\">)</span> Segment:\n",
       "</pre>\n"
      ],
      "text/plain": [
       "💎 High Value \u001b[1m(\u001b[0m+$\u001b[1;36m80\u001b[0m\u001b[1m)\u001b[0m Segment:\n"
      ]
     },
     "metadata": {},
     "output_type": "display_data"
    },
    {
     "data": {
      "text/html": [
       "<pre style=\"white-space:pre;overflow-x:auto;line-height:normal;font-family:Menlo,'DejaVu Sans Mono',consolas,'Courier New',monospace\">   ├── Risk Level: 🔴 HIGH RISK <span style=\"font-weight: bold\">(</span><span style=\"color: #008080; text-decoration-color: #008080; font-weight: bold\">34.0</span>% churn<span style=\"font-weight: bold\">)</span>\n",
       "</pre>\n"
      ],
      "text/plain": [
       "   ├── Risk Level: 🔴 HIGH RISK \u001b[1m(\u001b[0m\u001b[1;36m34.0\u001b[0m% churn\u001b[1m)\u001b[0m\n"
      ]
     },
     "metadata": {},
     "output_type": "display_data"
    },
    {
     "data": {
      "text/html": [
       "<pre style=\"white-space:pre;overflow-x:auto;line-height:normal;font-family:Menlo,'DejaVu Sans Mono',consolas,'Courier New',monospace\">   ├── Customer Base: <span style=\"color: #008080; text-decoration-color: #008080; font-weight: bold\">2</span>,<span style=\"color: #008080; text-decoration-color: #008080; font-weight: bold\">677</span> customers\n",
       "</pre>\n"
      ],
      "text/plain": [
       "   ├── Customer Base: \u001b[1;36m2\u001b[0m,\u001b[1;36m677\u001b[0m customers\n"
      ]
     },
     "metadata": {},
     "output_type": "display_data"
    },
    {
     "data": {
      "text/html": [
       "<pre style=\"white-space:pre;overflow-x:auto;line-height:normal;font-family:Menlo,'DejaVu Sans Mono',consolas,'Courier New',monospace\">   ├── Average Monthly Value: $<span style=\"color: #008080; text-decoration-color: #008080; font-weight: bold\">95.36</span>\n",
       "</pre>\n"
      ],
      "text/plain": [
       "   ├── Average Monthly Value: $\u001b[1;36m95.36\u001b[0m\n"
      ]
     },
     "metadata": {},
     "output_type": "display_data"
    },
    {
     "data": {
      "text/html": [
       "<pre style=\"white-space:pre;overflow-x:auto;line-height:normal;font-family:Menlo,'DejaVu Sans Mono',consolas,'Courier New',monospace\">   ├── Customers Lost: <span style=\"color: #008080; text-decoration-color: #008080; font-weight: bold\">910</span>\n",
       "</pre>\n"
      ],
      "text/plain": [
       "   ├── Customers Lost: \u001b[1;36m910\u001b[0m\n"
      ]
     },
     "metadata": {},
     "output_type": "display_data"
    },
    {
     "data": {
      "text/html": [
       "<pre style=\"white-space:pre;overflow-x:auto;line-height:normal;font-family:Menlo,'DejaVu Sans Mono',consolas,'Courier New',monospace\">   └── Annual Revenue at Risk: $<span style=\"color: #008080; text-decoration-color: #008080; font-weight: bold\">1</span>,<span style=\"color: #008080; text-decoration-color: #008080; font-weight: bold\">041</span>,<span style=\"color: #008080; text-decoration-color: #008080; font-weight: bold\">340</span>\n",
       "</pre>\n"
      ],
      "text/plain": [
       "   └── Annual Revenue at Risk: $\u001b[1;36m1\u001b[0m,\u001b[1;36m041\u001b[0m,\u001b[1;36m340\u001b[0m\n"
      ]
     },
     "metadata": {},
     "output_type": "display_data"
    },
    {
     "data": {
      "text/html": [
       "<pre style=\"white-space:pre;overflow-x:auto;line-height:normal;font-family:Menlo,'DejaVu Sans Mono',consolas,'Courier New',monospace\">\n",
       "</pre>\n"
      ],
      "text/plain": [
       "\n"
      ]
     },
     "metadata": {},
     "output_type": "display_data"
    },
    {
     "data": {
      "text/html": [
       "<pre style=\"white-space:pre;overflow-x:auto;line-height:normal;font-family:Menlo,'DejaVu Sans Mono',consolas,'Courier New',monospace\">💎 Medium Value <span style=\"font-weight: bold\">(</span>$<span style=\"color: #008080; text-decoration-color: #008080; font-weight: bold\">50</span>-<span style=\"color: #008080; text-decoration-color: #008080; font-weight: bold\">79</span><span style=\"font-weight: bold\">)</span> Segment:\n",
       "</pre>\n"
      ],
      "text/plain": [
       "💎 Medium Value \u001b[1m(\u001b[0m$\u001b[1;36m50\u001b[0m-\u001b[1;36m79\u001b[0m\u001b[1m)\u001b[0m Segment:\n"
      ]
     },
     "metadata": {},
     "output_type": "display_data"
    },
    {
     "data": {
      "text/html": [
       "<pre style=\"white-space:pre;overflow-x:auto;line-height:normal;font-family:Menlo,'DejaVu Sans Mono',consolas,'Courier New',monospace\">   ├── Risk Level: 🟡 MEDIUM RISK <span style=\"font-weight: bold\">(</span><span style=\"color: #008080; text-decoration-color: #008080; font-weight: bold\">28.9</span>% churn<span style=\"font-weight: bold\">)</span>\n",
       "</pre>\n"
      ],
      "text/plain": [
       "   ├── Risk Level: 🟡 MEDIUM RISK \u001b[1m(\u001b[0m\u001b[1;36m28.9\u001b[0m% churn\u001b[1m)\u001b[0m\n"
      ]
     },
     "metadata": {},
     "output_type": "display_data"
    },
    {
     "data": {
      "text/html": [
       "<pre style=\"white-space:pre;overflow-x:auto;line-height:normal;font-family:Menlo,'DejaVu Sans Mono',consolas,'Courier New',monospace\">   ├── Customer Base: <span style=\"color: #008080; text-decoration-color: #008080; font-weight: bold\">2</span>,<span style=\"color: #008080; text-decoration-color: #008080; font-weight: bold\">072</span> customers\n",
       "</pre>\n"
      ],
      "text/plain": [
       "   ├── Customer Base: \u001b[1;36m2\u001b[0m,\u001b[1;36m072\u001b[0m customers\n"
      ]
     },
     "metadata": {},
     "output_type": "display_data"
    },
    {
     "data": {
      "text/html": [
       "<pre style=\"white-space:pre;overflow-x:auto;line-height:normal;font-family:Menlo,'DejaVu Sans Mono',consolas,'Courier New',monospace\">   ├── Average Monthly Value: $<span style=\"color: #008080; text-decoration-color: #008080; font-weight: bold\">66.55</span>\n",
       "</pre>\n"
      ],
      "text/plain": [
       "   ├── Average Monthly Value: $\u001b[1;36m66.55\u001b[0m\n"
      ]
     },
     "metadata": {},
     "output_type": "display_data"
    },
    {
     "data": {
      "text/html": [
       "<pre style=\"white-space:pre;overflow-x:auto;line-height:normal;font-family:Menlo,'DejaVu Sans Mono',consolas,'Courier New',monospace\">   ├── Customers Lost: <span style=\"color: #008080; text-decoration-color: #008080; font-weight: bold\">598</span>\n",
       "</pre>\n"
      ],
      "text/plain": [
       "   ├── Customers Lost: \u001b[1;36m598\u001b[0m\n"
      ]
     },
     "metadata": {},
     "output_type": "display_data"
    },
    {
     "data": {
      "text/html": [
       "<pre style=\"white-space:pre;overflow-x:auto;line-height:normal;font-family:Menlo,'DejaVu Sans Mono',consolas,'Courier New',monospace\">   └── Annual Revenue at Risk: $<span style=\"color: #008080; text-decoration-color: #008080; font-weight: bold\">477</span>,<span style=\"color: #008080; text-decoration-color: #008080; font-weight: bold\">577</span>\n",
       "</pre>\n"
      ],
      "text/plain": [
       "   └── Annual Revenue at Risk: $\u001b[1;36m477\u001b[0m,\u001b[1;36m577\u001b[0m\n"
      ]
     },
     "metadata": {},
     "output_type": "display_data"
    },
    {
     "data": {
      "text/html": [
       "<pre style=\"white-space:pre;overflow-x:auto;line-height:normal;font-family:Menlo,'DejaVu Sans Mono',consolas,'Courier New',monospace\">\n",
       "</pre>\n"
      ],
      "text/plain": [
       "\n"
      ]
     },
     "metadata": {},
     "output_type": "display_data"
    },
    {
     "data": {
      "text/html": [
       "<pre style=\"white-space:pre;overflow-x:auto;line-height:normal;font-family:Menlo,'DejaVu Sans Mono',consolas,'Courier New',monospace\">💎 Low-Medium Value <span style=\"font-weight: bold\">(</span>$<span style=\"color: #008080; text-decoration-color: #008080; font-weight: bold\">30</span>-<span style=\"color: #008080; text-decoration-color: #008080; font-weight: bold\">49</span><span style=\"font-weight: bold\">)</span> Segment:\n",
       "</pre>\n"
      ],
      "text/plain": [
       "💎 Low-Medium Value \u001b[1m(\u001b[0m$\u001b[1;36m30\u001b[0m-\u001b[1;36m49\u001b[0m\u001b[1m)\u001b[0m Segment:\n"
      ]
     },
     "metadata": {},
     "output_type": "display_data"
    },
    {
     "data": {
      "text/html": [
       "<pre style=\"white-space:pre;overflow-x:auto;line-height:normal;font-family:Menlo,'DejaVu Sans Mono',consolas,'Courier New',monospace\">   ├── Risk Level: 🔴 HIGH RISK <span style=\"font-weight: bold\">(</span><span style=\"color: #008080; text-decoration-color: #008080; font-weight: bold\">31.0</span>% churn<span style=\"font-weight: bold\">)</span>\n",
       "</pre>\n"
      ],
      "text/plain": [
       "   ├── Risk Level: 🔴 HIGH RISK \u001b[1m(\u001b[0m\u001b[1;36m31.0\u001b[0m% churn\u001b[1m)\u001b[0m\n"
      ]
     },
     "metadata": {},
     "output_type": "display_data"
    },
    {
     "data": {
      "text/html": [
       "<pre style=\"white-space:pre;overflow-x:auto;line-height:normal;font-family:Menlo,'DejaVu Sans Mono',consolas,'Courier New',monospace\">   ├── Customer Base: <span style=\"color: #008080; text-decoration-color: #008080; font-weight: bold\">641</span> customers\n",
       "</pre>\n"
      ],
      "text/plain": [
       "   ├── Customer Base: \u001b[1;36m641\u001b[0m customers\n"
      ]
     },
     "metadata": {},
     "output_type": "display_data"
    },
    {
     "data": {
      "text/html": [
       "<pre style=\"white-space:pre;overflow-x:auto;line-height:normal;font-family:Menlo,'DejaVu Sans Mono',consolas,'Courier New',monospace\">   ├── Average Monthly Value: $<span style=\"color: #008080; text-decoration-color: #008080; font-weight: bold\">42.74</span>\n",
       "</pre>\n"
      ],
      "text/plain": [
       "   ├── Average Monthly Value: $\u001b[1;36m42.74\u001b[0m\n"
      ]
     },
     "metadata": {},
     "output_type": "display_data"
    },
    {
     "data": {
      "text/html": [
       "<pre style=\"white-space:pre;overflow-x:auto;line-height:normal;font-family:Menlo,'DejaVu Sans Mono',consolas,'Courier New',monospace\">   ├── Customers Lost: <span style=\"color: #008080; text-decoration-color: #008080; font-weight: bold\">199</span>\n",
       "</pre>\n"
      ],
      "text/plain": [
       "   ├── Customers Lost: \u001b[1;36m199\u001b[0m\n"
      ]
     },
     "metadata": {},
     "output_type": "display_data"
    },
    {
     "data": {
      "text/html": [
       "<pre style=\"white-space:pre;overflow-x:auto;line-height:normal;font-family:Menlo,'DejaVu Sans Mono',consolas,'Courier New',monospace\">   └── Annual Revenue at Risk: $<span style=\"color: #008080; text-decoration-color: #008080; font-weight: bold\">102</span>,<span style=\"color: #008080; text-decoration-color: #008080; font-weight: bold\">057</span>\n",
       "</pre>\n"
      ],
      "text/plain": [
       "   └── Annual Revenue at Risk: $\u001b[1;36m102\u001b[0m,\u001b[1;36m057\u001b[0m\n"
      ]
     },
     "metadata": {},
     "output_type": "display_data"
    },
    {
     "data": {
      "text/html": [
       "<pre style=\"white-space:pre;overflow-x:auto;line-height:normal;font-family:Menlo,'DejaVu Sans Mono',consolas,'Courier New',monospace\">\n",
       "</pre>\n"
      ],
      "text/plain": [
       "\n"
      ]
     },
     "metadata": {},
     "output_type": "display_data"
    },
    {
     "data": {
      "text/html": [
       "<pre style=\"white-space:pre;overflow-x:auto;line-height:normal;font-family:Menlo,'DejaVu Sans Mono',consolas,'Courier New',monospace\">💎 Low Value <span style=\"font-weight: bold\">(</span>&lt;$<span style=\"color: #008080; text-decoration-color: #008080; font-weight: bold\">30</span><span style=\"font-weight: bold\">)</span> Segment:\n",
       "</pre>\n"
      ],
      "text/plain": [
       "💎 Low Value \u001b[1m(\u001b[0m<$\u001b[1;36m30\u001b[0m\u001b[1m)\u001b[0m Segment:\n"
      ]
     },
     "metadata": {},
     "output_type": "display_data"
    },
    {
     "data": {
      "text/html": [
       "<pre style=\"white-space:pre;overflow-x:auto;line-height:normal;font-family:Menlo,'DejaVu Sans Mono',consolas,'Courier New',monospace\">   ├── Risk Level: 🟢 LOW RISK <span style=\"font-weight: bold\">(</span><span style=\"color: #008080; text-decoration-color: #008080; font-weight: bold\">9.8</span>% churn<span style=\"font-weight: bold\">)</span>\n",
       "</pre>\n"
      ],
      "text/plain": [
       "   ├── Risk Level: 🟢 LOW RISK \u001b[1m(\u001b[0m\u001b[1;36m9.8\u001b[0m% churn\u001b[1m)\u001b[0m\n"
      ]
     },
     "metadata": {},
     "output_type": "display_data"
    },
    {
     "data": {
      "text/html": [
       "<pre style=\"white-space:pre;overflow-x:auto;line-height:normal;font-family:Menlo,'DejaVu Sans Mono',consolas,'Courier New',monospace\">   ├── Customer Base: <span style=\"color: #008080; text-decoration-color: #008080; font-weight: bold\">1</span>,<span style=\"color: #008080; text-decoration-color: #008080; font-weight: bold\">653</span> customers\n",
       "</pre>\n"
      ],
      "text/plain": [
       "   ├── Customer Base: \u001b[1;36m1\u001b[0m,\u001b[1;36m653\u001b[0m customers\n"
      ]
     },
     "metadata": {},
     "output_type": "display_data"
    },
    {
     "data": {
      "text/html": [
       "<pre style=\"white-space:pre;overflow-x:auto;line-height:normal;font-family:Menlo,'DejaVu Sans Mono',consolas,'Courier New',monospace\">   ├── Average Monthly Value: $<span style=\"color: #008080; text-decoration-color: #008080; font-weight: bold\">21.50</span>\n",
       "</pre>\n"
      ],
      "text/plain": [
       "   ├── Average Monthly Value: $\u001b[1;36m21.50\u001b[0m\n"
      ]
     },
     "metadata": {},
     "output_type": "display_data"
    },
    {
     "data": {
      "text/html": [
       "<pre style=\"white-space:pre;overflow-x:auto;line-height:normal;font-family:Menlo,'DejaVu Sans Mono',consolas,'Courier New',monospace\">   ├── Customers Lost: <span style=\"color: #008080; text-decoration-color: #008080; font-weight: bold\">162</span>\n",
       "</pre>\n"
      ],
      "text/plain": [
       "   ├── Customers Lost: \u001b[1;36m162\u001b[0m\n"
      ]
     },
     "metadata": {},
     "output_type": "display_data"
    },
    {
     "data": {
      "text/html": [
       "<pre style=\"white-space:pre;overflow-x:auto;line-height:normal;font-family:Menlo,'DejaVu Sans Mono',consolas,'Courier New',monospace\">   └── Annual Revenue at Risk: $<span style=\"color: #008080; text-decoration-color: #008080; font-weight: bold\">41</span>,<span style=\"color: #008080; text-decoration-color: #008080; font-weight: bold\">803</span>\n",
       "</pre>\n"
      ],
      "text/plain": [
       "   └── Annual Revenue at Risk: $\u001b[1;36m41\u001b[0m,\u001b[1;36m803\u001b[0m\n"
      ]
     },
     "metadata": {},
     "output_type": "display_data"
    },
    {
     "data": {
      "text/html": [
       "<pre style=\"white-space:pre;overflow-x:auto;line-height:normal;font-family:Menlo,'DejaVu Sans Mono',consolas,'Courier New',monospace\">\n",
       "</pre>\n"
      ],
      "text/plain": [
       "\n"
      ]
     },
     "metadata": {},
     "output_type": "display_data"
    },
    {
     "data": {
      "text/html": [
       "<pre style=\"white-space:pre;overflow-x:auto;line-height:normal;font-family:Menlo,'DejaVu Sans Mono',consolas,'Courier New',monospace\">🎯 STRATEGIC INSIGHTS:\n",
       "</pre>\n"
      ],
      "text/plain": [
       "🎯 STRATEGIC INSIGHTS:\n"
      ]
     },
     "metadata": {},
     "output_type": "display_data"
    },
    {
     "data": {
      "text/html": [
       "<pre style=\"white-space:pre;overflow-x:auto;line-height:normal;font-family:Menlo,'DejaVu Sans Mono',consolas,'Courier New',monospace\">   ⭐ Most Valuable Segment: High Value <span style=\"font-weight: bold\">(</span>+$<span style=\"color: #008080; text-decoration-color: #008080; font-weight: bold\">80</span><span style=\"font-weight: bold\">)</span>\n",
       "</pre>\n"
      ],
      "text/plain": [
       "   ⭐ Most Valuable Segment: High Value \u001b[1m(\u001b[0m+$\u001b[1;36m80\u001b[0m\u001b[1m)\u001b[0m\n"
      ]
     },
     "metadata": {},
     "output_type": "display_data"
    },
    {
     "data": {
      "text/html": [
       "<pre style=\"white-space:pre;overflow-x:auto;line-height:normal;font-family:Menlo,'DejaVu Sans Mono',consolas,'Courier New',monospace\">      └── Churn Rate: <span style=\"color: #008080; text-decoration-color: #008080; font-weight: bold\">34.0</span>% <span style=\"font-weight: bold\">(</span>NEEDS ATTENTION<span style=\"font-weight: bold\">)</span>\n",
       "</pre>\n"
      ],
      "text/plain": [
       "      └── Churn Rate: \u001b[1;36m34.0\u001b[0m% \u001b[1m(\u001b[0mNEEDS ATTENTION\u001b[1m)\u001b[0m\n"
      ]
     },
     "metadata": {},
     "output_type": "display_data"
    },
    {
     "data": {
      "text/html": [
       "<pre style=\"white-space:pre;overflow-x:auto;line-height:normal;font-family:Menlo,'DejaVu Sans Mono',consolas,'Courier New',monospace\">   ⚠️  Highest Risk Segment: High Value <span style=\"font-weight: bold\">(</span>+$<span style=\"color: #008080; text-decoration-color: #008080; font-weight: bold\">80</span><span style=\"font-weight: bold\">)</span> <span style=\"font-weight: bold\">(</span><span style=\"color: #008080; text-decoration-color: #008080; font-weight: bold\">34.0</span>% churn<span style=\"font-weight: bold\">)</span>\n",
       "</pre>\n"
      ],
      "text/plain": [
       "   ⚠️  Highest Risk Segment: High Value \u001b[1m(\u001b[0m+$\u001b[1;36m80\u001b[0m\u001b[1m)\u001b[0m \u001b[1m(\u001b[0m\u001b[1;36m34.0\u001b[0m% churn\u001b[1m)\u001b[0m\n"
      ]
     },
     "metadata": {},
     "output_type": "display_data"
    },
    {
     "data": {
      "text/html": [
       "<pre style=\"white-space:pre;overflow-x:auto;line-height:normal;font-family:Menlo,'DejaVu Sans Mono',consolas,'Courier New',monospace\">\n",
       "🚨 Highest Revenue Risk Segments <span style=\"font-weight: bold\">(</span>+<span style=\"color: #008080; text-decoration-color: #008080; font-weight: bold\">25</span>% churn<span style=\"font-weight: bold\">)</span>:\n",
       "</pre>\n"
      ],
      "text/plain": [
       "\n",
       "🚨 Highest Revenue Risk Segments \u001b[1m(\u001b[0m+\u001b[1;36m25\u001b[0m% churn\u001b[1m)\u001b[0m:\n"
      ]
     },
     "metadata": {},
     "output_type": "display_data"
    },
    {
     "data": {
      "text/html": [
       "<pre style=\"white-space:pre;overflow-x:auto;line-height:normal;font-family:Menlo,'DejaVu Sans Mono',consolas,'Courier New',monospace\">shape: <span style=\"font-weight: bold\">(</span><span style=\"color: #008080; text-decoration-color: #008080; font-weight: bold\">3</span>, <span style=\"color: #008080; text-decoration-color: #008080; font-weight: bold\">3</span><span style=\"font-weight: bold\">)</span>\n",
       "┌───────────────────────────┬────────────┬────────────────────────┐\n",
       "│ Value_Segment             ┆ Churn_Rate ┆ Annual_Revenue_At_Risk │\n",
       "│ ---                       ┆ ---        ┆ ---                    │\n",
       "│ str                       ┆ f64        ┆ f64                    │\n",
       "╞═══════════════════════════╪════════════╪════════════════════════╡\n",
       "│ High Value <span style=\"font-weight: bold\">(</span>+$<span style=\"color: #008080; text-decoration-color: #008080; font-weight: bold\">80</span><span style=\"font-weight: bold\">)</span>         ┆ <span style=\"color: #008080; text-decoration-color: #008080; font-weight: bold\">33.993276</span>  ┆ <span style=\"color: #008080; text-decoration-color: #008080; font-weight: bold\">1.0413e6</span>               │\n",
       "│ Medium Value <span style=\"font-weight: bold\">(</span>$<span style=\"color: #008080; text-decoration-color: #008080; font-weight: bold\">50</span>-<span style=\"color: #008080; text-decoration-color: #008080; font-weight: bold\">79</span><span style=\"font-weight: bold\">)</span>     ┆ <span style=\"color: #008080; text-decoration-color: #008080; font-weight: bold\">28.861004</span>  ┆ <span style=\"color: #008080; text-decoration-color: #008080; font-weight: bold\">477576.826448</span>          │\n",
       "│ Low-Medium Value <span style=\"font-weight: bold\">(</span>$<span style=\"color: #008080; text-decoration-color: #008080; font-weight: bold\">30</span>-<span style=\"color: #008080; text-decoration-color: #008080; font-weight: bold\">49</span><span style=\"font-weight: bold\">)</span> ┆ <span style=\"color: #008080; text-decoration-color: #008080; font-weight: bold\">31.045242</span>  ┆ <span style=\"color: #008080; text-decoration-color: #008080; font-weight: bold\">102057.196568</span>          │\n",
       "└───────────────────────────┴────────────┴────────────────────────┘\n",
       "</pre>\n"
      ],
      "text/plain": [
       "shape: \u001b[1m(\u001b[0m\u001b[1;36m3\u001b[0m, \u001b[1;36m3\u001b[0m\u001b[1m)\u001b[0m\n",
       "┌───────────────────────────┬────────────┬────────────────────────┐\n",
       "│ Value_Segment             ┆ Churn_Rate ┆ Annual_Revenue_At_Risk │\n",
       "│ ---                       ┆ ---        ┆ ---                    │\n",
       "│ str                       ┆ f64        ┆ f64                    │\n",
       "╞═══════════════════════════╪════════════╪════════════════════════╡\n",
       "│ High Value \u001b[1m(\u001b[0m+$\u001b[1;36m80\u001b[0m\u001b[1m)\u001b[0m         ┆ \u001b[1;36m33.993276\u001b[0m  ┆ \u001b[1;36m1.0413e6\u001b[0m               │\n",
       "│ Medium Value \u001b[1m(\u001b[0m$\u001b[1;36m50\u001b[0m-\u001b[1;36m79\u001b[0m\u001b[1m)\u001b[0m     ┆ \u001b[1;36m28.861004\u001b[0m  ┆ \u001b[1;36m477576.826448\u001b[0m          │\n",
       "│ Low-Medium Value \u001b[1m(\u001b[0m$\u001b[1;36m30\u001b[0m-\u001b[1;36m49\u001b[0m\u001b[1m)\u001b[0m ┆ \u001b[1;36m31.045242\u001b[0m  ┆ \u001b[1;36m102057.196568\u001b[0m          │\n",
       "└───────────────────────────┴────────────┴────────────────────────┘\n"
      ]
     },
     "metadata": {},
     "output_type": "display_data"
    },
    {
     "data": {
      "text/html": [
       "<pre style=\"white-space:pre;overflow-x:auto;line-height:normal;font-family:Menlo,'DejaVu Sans Mono',consolas,'Courier New',monospace\">\n",
       "🚨 CRITICAL BUSINESS ALERTS:\n",
       "</pre>\n"
      ],
      "text/plain": [
       "\n",
       "🚨 CRITICAL BUSINESS ALERTS:\n"
      ]
     },
     "metadata": {},
     "output_type": "display_data"
    },
    {
     "data": {
      "text/html": [
       "<pre style=\"white-space:pre;overflow-x:auto;line-height:normal;font-family:Menlo,'DejaVu Sans Mono',consolas,'Courier New',monospace\">---------------------------------------------\n",
       "</pre>\n"
      ],
      "text/plain": [
       "---------------------------------------------\n"
      ]
     },
     "metadata": {},
     "output_type": "display_data"
    },
    {
     "data": {
      "text/html": [
       "<pre style=\"white-space:pre;overflow-x:auto;line-height:normal;font-family:Menlo,'DejaVu Sans Mono',consolas,'Courier New',monospace\">⚠️  ALERT #<span style=\"color: #008080; text-decoration-color: #008080; font-weight: bold\">1</span>: High Value <span style=\"font-weight: bold\">(</span>+$<span style=\"color: #008080; text-decoration-color: #008080; font-weight: bold\">80</span><span style=\"font-weight: bold\">)</span>\n",
       "</pre>\n"
      ],
      "text/plain": [
       "⚠️  ALERT #\u001b[1;36m1\u001b[0m: High Value \u001b[1m(\u001b[0m+$\u001b[1;36m80\u001b[0m\u001b[1m)\u001b[0m\n"
      ]
     },
     "metadata": {},
     "output_type": "display_data"
    },
    {
     "data": {
      "text/html": [
       "<pre style=\"white-space:pre;overflow-x:auto;line-height:normal;font-family:Menlo,'DejaVu Sans Mono',consolas,'Courier New',monospace\">   ├── Churn Rate: <span style=\"color: #008080; text-decoration-color: #008080; font-weight: bold\">34.0</span>% <span style=\"font-weight: bold\">(</span>ABOVE <span style=\"color: #008080; text-decoration-color: #008080; font-weight: bold\">25</span>% THRESHOLD<span style=\"font-weight: bold\">)</span>\n",
       "</pre>\n"
      ],
      "text/plain": [
       "   ├── Churn Rate: \u001b[1;36m34.0\u001b[0m% \u001b[1m(\u001b[0mABOVE \u001b[1;36m25\u001b[0m% THRESHOLD\u001b[1m)\u001b[0m\n"
      ]
     },
     "metadata": {},
     "output_type": "display_data"
    },
    {
     "data": {
      "text/html": [
       "<pre style=\"white-space:pre;overflow-x:auto;line-height:normal;font-family:Menlo,'DejaVu Sans Mono',consolas,'Courier New',monospace\">   ├── Revenue at Risk: $<span style=\"color: #008080; text-decoration-color: #008080; font-weight: bold\">1</span>,<span style=\"color: #008080; text-decoration-color: #008080; font-weight: bold\">041</span>,<span style=\"color: #008080; text-decoration-color: #008080; font-weight: bold\">340</span> annually\n",
       "</pre>\n"
      ],
      "text/plain": [
       "   ├── Revenue at Risk: $\u001b[1;36m1\u001b[0m,\u001b[1;36m041\u001b[0m,\u001b[1;36m340\u001b[0m annually\n"
      ]
     },
     "metadata": {},
     "output_type": "display_data"
    },
    {
     "data": {
      "text/html": [
       "<pre style=\"white-space:pre;overflow-x:auto;line-height:normal;font-family:Menlo,'DejaVu Sans Mono',consolas,'Courier New',monospace\">   └── Recommended Action: IMMEDIATE RETENTION STRATEGY\n",
       "</pre>\n"
      ],
      "text/plain": [
       "   └── Recommended Action: IMMEDIATE RETENTION STRATEGY\n"
      ]
     },
     "metadata": {},
     "output_type": "display_data"
    },
    {
     "data": {
      "text/html": [
       "<pre style=\"white-space:pre;overflow-x:auto;line-height:normal;font-family:Menlo,'DejaVu Sans Mono',consolas,'Courier New',monospace\">\n",
       "</pre>\n"
      ],
      "text/plain": [
       "\n"
      ]
     },
     "metadata": {},
     "output_type": "display_data"
    },
    {
     "data": {
      "text/html": [
       "<pre style=\"white-space:pre;overflow-x:auto;line-height:normal;font-family:Menlo,'DejaVu Sans Mono',consolas,'Courier New',monospace\">⚠️  ALERT #<span style=\"color: #008080; text-decoration-color: #008080; font-weight: bold\">2</span>: Medium Value <span style=\"font-weight: bold\">(</span>$<span style=\"color: #008080; text-decoration-color: #008080; font-weight: bold\">50</span>-<span style=\"color: #008080; text-decoration-color: #008080; font-weight: bold\">79</span><span style=\"font-weight: bold\">)</span>\n",
       "</pre>\n"
      ],
      "text/plain": [
       "⚠️  ALERT #\u001b[1;36m2\u001b[0m: Medium Value \u001b[1m(\u001b[0m$\u001b[1;36m50\u001b[0m-\u001b[1;36m79\u001b[0m\u001b[1m)\u001b[0m\n"
      ]
     },
     "metadata": {},
     "output_type": "display_data"
    },
    {
     "data": {
      "text/html": [
       "<pre style=\"white-space:pre;overflow-x:auto;line-height:normal;font-family:Menlo,'DejaVu Sans Mono',consolas,'Courier New',monospace\">   ├── Churn Rate: <span style=\"color: #008080; text-decoration-color: #008080; font-weight: bold\">28.9</span>% <span style=\"font-weight: bold\">(</span>ABOVE <span style=\"color: #008080; text-decoration-color: #008080; font-weight: bold\">25</span>% THRESHOLD<span style=\"font-weight: bold\">)</span>\n",
       "</pre>\n"
      ],
      "text/plain": [
       "   ├── Churn Rate: \u001b[1;36m28.9\u001b[0m% \u001b[1m(\u001b[0mABOVE \u001b[1;36m25\u001b[0m% THRESHOLD\u001b[1m)\u001b[0m\n"
      ]
     },
     "metadata": {},
     "output_type": "display_data"
    },
    {
     "data": {
      "text/html": [
       "<pre style=\"white-space:pre;overflow-x:auto;line-height:normal;font-family:Menlo,'DejaVu Sans Mono',consolas,'Courier New',monospace\">   ├── Revenue at Risk: $<span style=\"color: #008080; text-decoration-color: #008080; font-weight: bold\">477</span>,<span style=\"color: #008080; text-decoration-color: #008080; font-weight: bold\">577</span> annually\n",
       "</pre>\n"
      ],
      "text/plain": [
       "   ├── Revenue at Risk: $\u001b[1;36m477\u001b[0m,\u001b[1;36m577\u001b[0m annually\n"
      ]
     },
     "metadata": {},
     "output_type": "display_data"
    },
    {
     "data": {
      "text/html": [
       "<pre style=\"white-space:pre;overflow-x:auto;line-height:normal;font-family:Menlo,'DejaVu Sans Mono',consolas,'Courier New',monospace\">   └── Recommended Action: IMMEDIATE RETENTION STRATEGY\n",
       "</pre>\n"
      ],
      "text/plain": [
       "   └── Recommended Action: IMMEDIATE RETENTION STRATEGY\n"
      ]
     },
     "metadata": {},
     "output_type": "display_data"
    },
    {
     "data": {
      "text/html": [
       "<pre style=\"white-space:pre;overflow-x:auto;line-height:normal;font-family:Menlo,'DejaVu Sans Mono',consolas,'Courier New',monospace\">\n",
       "</pre>\n"
      ],
      "text/plain": [
       "\n"
      ]
     },
     "metadata": {},
     "output_type": "display_data"
    },
    {
     "data": {
      "text/html": [
       "<pre style=\"white-space:pre;overflow-x:auto;line-height:normal;font-family:Menlo,'DejaVu Sans Mono',consolas,'Courier New',monospace\">⚠️  ALERT #<span style=\"color: #008080; text-decoration-color: #008080; font-weight: bold\">3</span>: Low-Medium Value <span style=\"font-weight: bold\">(</span>$<span style=\"color: #008080; text-decoration-color: #008080; font-weight: bold\">30</span>-<span style=\"color: #008080; text-decoration-color: #008080; font-weight: bold\">49</span><span style=\"font-weight: bold\">)</span>\n",
       "</pre>\n"
      ],
      "text/plain": [
       "⚠️  ALERT #\u001b[1;36m3\u001b[0m: Low-Medium Value \u001b[1m(\u001b[0m$\u001b[1;36m30\u001b[0m-\u001b[1;36m49\u001b[0m\u001b[1m)\u001b[0m\n"
      ]
     },
     "metadata": {},
     "output_type": "display_data"
    },
    {
     "data": {
      "text/html": [
       "<pre style=\"white-space:pre;overflow-x:auto;line-height:normal;font-family:Menlo,'DejaVu Sans Mono',consolas,'Courier New',monospace\">   ├── Churn Rate: <span style=\"color: #008080; text-decoration-color: #008080; font-weight: bold\">31.0</span>% <span style=\"font-weight: bold\">(</span>ABOVE <span style=\"color: #008080; text-decoration-color: #008080; font-weight: bold\">25</span>% THRESHOLD<span style=\"font-weight: bold\">)</span>\n",
       "</pre>\n"
      ],
      "text/plain": [
       "   ├── Churn Rate: \u001b[1;36m31.0\u001b[0m% \u001b[1m(\u001b[0mABOVE \u001b[1;36m25\u001b[0m% THRESHOLD\u001b[1m)\u001b[0m\n"
      ]
     },
     "metadata": {},
     "output_type": "display_data"
    },
    {
     "data": {
      "text/html": [
       "<pre style=\"white-space:pre;overflow-x:auto;line-height:normal;font-family:Menlo,'DejaVu Sans Mono',consolas,'Courier New',monospace\">   ├── Revenue at Risk: $<span style=\"color: #008080; text-decoration-color: #008080; font-weight: bold\">102</span>,<span style=\"color: #008080; text-decoration-color: #008080; font-weight: bold\">057</span> annually\n",
       "</pre>\n"
      ],
      "text/plain": [
       "   ├── Revenue at Risk: $\u001b[1;36m102\u001b[0m,\u001b[1;36m057\u001b[0m annually\n"
      ]
     },
     "metadata": {},
     "output_type": "display_data"
    },
    {
     "data": {
      "text/html": [
       "<pre style=\"white-space:pre;overflow-x:auto;line-height:normal;font-family:Menlo,'DejaVu Sans Mono',consolas,'Courier New',monospace\">   └── Recommended Action: IMMEDIATE RETENTION STRATEGY\n",
       "</pre>\n"
      ],
      "text/plain": [
       "   └── Recommended Action: IMMEDIATE RETENTION STRATEGY\n"
      ]
     },
     "metadata": {},
     "output_type": "display_data"
    },
    {
     "data": {
      "text/html": [
       "<pre style=\"white-space:pre;overflow-x:auto;line-height:normal;font-family:Menlo,'DejaVu Sans Mono',consolas,'Courier New',monospace\">\n",
       "</pre>\n"
      ],
      "text/plain": [
       "\n"
      ]
     },
     "metadata": {},
     "output_type": "display_data"
    },
    {
     "data": {
      "text/html": [
       "<pre style=\"white-space:pre;overflow-x:auto;line-height:normal;font-family:Menlo,'DejaVu Sans Mono',consolas,'Courier New',monospace\">✅ GOOD NEWS: No segments exceed <span style=\"color: #008080; text-decoration-color: #008080; font-weight: bold\">25</span>% churn threshold!\n",
       "</pre>\n"
      ],
      "text/plain": [
       "✅ GOOD NEWS: No segments exceed \u001b[1;36m25\u001b[0m% churn threshold!\n"
      ]
     },
     "metadata": {},
     "output_type": "display_data"
    },
    {
     "data": {
      "text/html": [
       "<pre style=\"white-space:pre;overflow-x:auto;line-height:normal;font-family:Menlo,'DejaVu Sans Mono',consolas,'Courier New',monospace\">\n",
       "============================================================\n",
       "</pre>\n"
      ],
      "text/plain": [
       "\n",
       "============================================================\n"
      ]
     },
     "metadata": {},
     "output_type": "display_data"
    }
   ],
   "source": [
    "# Revenue Risk by Customer Segment:\n",
    "print(\"📊 REVENUE RISK BY CUSTOMER SEGMENTS\")\n",
    "print(\"=\" * 40)\n",
    "\n",
    "# Defining customer value segments based on monthly charges:\n",
    "df_with_segments = df.with_columns([\n",
    "    pl.when(pl.col(\"MonthlyCharges\") >= 80)\n",
    "    .then(pl.lit(\"High Value (+$80)\"))\n",
    "    .when(pl.col(\"MonthlyCharges\") >= 50)\n",
    "    .then(pl.lit(\"Medium Value ($50-79)\"))\n",
    "    .when(pl.col(\"MonthlyCharges\") >= 30)\n",
    "    .then(pl.lit(\"Low-Medium Value ($30-49)\"))\n",
    "    .otherwise(pl.lit(\"Low Value (<$30)\"))\n",
    "    .alias(\"Value_Segment\")\n",
    "])\n",
    "\n",
    "# Analyzing churn and revenue by value segments:\n",
    "segment_analysis = df_with_segments.group_by([\"Value_Segment\", \"Churn\"]).agg([\n",
    "    pl.col(\"customerID\").count().alias(\"Customer_Count\"),\n",
    "    pl.col(\"MonthlyCharges\").sum().alias(\"Monthly_Revenue\"),\n",
    "    pl.col(\"MonthlyCharges\").mean().alias(\"Avg_Monthly_Charge\")\n",
    "]).sort(\"Value_Segment\")\n",
    "\n",
    "print(\"Revenue Analysis by Customer Value Segment:\")\n",
    "print(segment_analysis)\n",
    "\n",
    "# 📊 READABLE INSIGHTS FROM SEGMENT ANALYSIS\n",
    "print(\"\\n\" + \"🔍 KEY INSIGHTS FROM SEGMENT ANALYSIS:\")\n",
    "print(\"-\" * 45)\n",
    "\n",
    "segment_totals = df_with_segments.group_by(\"Value_Segment\").agg([\n",
    "    pl.col(\"customerID\").count().alias(\"total\"),\n",
    "    (pl.col(\"Churn\") == \"Yes\").sum().alias(\"churned\")\n",
    "]).with_columns([\n",
    "    (pl.col(\"churned\") / pl.col(\"total\") * 100).alias(\"churn_rate\")\n",
    "])\n",
    "\n",
    "for row in segment_totals.iter_rows(named=True):\n",
    "    segment = row[\"Value_Segment\"]\n",
    "    total = row[\"total\"]\n",
    "    churned = row[\"churned\"]\n",
    "    churn_rate = row[\"churn_rate\"]\n",
    "    \n",
    "    print(f\"📈 {segment}:\")\n",
    "    print(f\"   └── Total customers: {total:,}\")\n",
    "    print(f\"   └── Churned: {churned:,} ({churn_rate:.1f}%)\")\n",
    "    print()\n",
    "\n",
    "# Calculating churn rate and revenue impact by segment:\n",
    "segment_summary = df_with_segments.group_by(\"Value_Segment\").agg([\n",
    "    pl.col(\"customerID\").count().alias(\"Total_Customers\"),\n",
    "    (pl.col(\"Churn\") == \"Yes\").sum().alias(\"Churned_Customers\"),\n",
    "    pl.col(\"MonthlyCharges\").sum().alias(\"Total_Monthly_Revenue\"),\n",
    "    pl.col(\"MonthlyCharges\").mean().alias(\"Avg_Monthly_Charges\")\n",
    "]).with_columns([\n",
    "    (pl.col(\"Churned_Customers\") / pl.col(\"Total_Customers\") * 100).alias(\"Churn_Rate\"),\n",
    "    (pl.col(\"Churned_Customers\") * pl.col(\"Avg_Monthly_Charges\") * 12).alias(\"Annual_Revenue_At_Risk\")\n",
    "]).sort(\"Avg_Monthly_Charges\", descending=True)\n",
    "\n",
    "print(f\"\\n💰 Revenue Risk Summary by Segment:\")\n",
    "print(segment_summary)\n",
    "\n",
    "# 💰 READABLE FINANCIAL INSIGHTS\n",
    "print(\"\\n\" + \"💰 FINANCIAL IMPACT INSIGHTS:\")\n",
    "print(\"-\" * 45)\n",
    "\n",
    "total_revenue_at_risk = segment_summary[\"Annual_Revenue_At_Risk\"].sum()\n",
    "highest_value_segment = segment_summary.filter(pl.col(\"Avg_Monthly_Charges\") == pl.col(\"Avg_Monthly_Charges\").max())\n",
    "highest_risk_segment = segment_summary.filter(pl.col(\"Churn_Rate\") == pl.col(\"Churn_Rate\").max())\n",
    "\n",
    "print(f\"🚨 TOTAL ANNUAL REVENUE AT RISK: ${total_revenue_at_risk:,.0f}\")\n",
    "print()\n",
    "\n",
    "for row in segment_summary.iter_rows(named=True):\n",
    "    segment = row[\"Value_Segment\"]\n",
    "    customers = row[\"Total_Customers\"]\n",
    "    churned = row[\"Churned_Customers\"]\n",
    "    churn_rate = row[\"Churn_Rate\"]\n",
    "    avg_monthly = row[\"Avg_Monthly_Charges\"]\n",
    "    annual_risk = row[\"Annual_Revenue_At_Risk\"]\n",
    "    \n",
    "    risk_level = \"🔴 HIGH\" if churn_rate > 30 else \"🟡 MEDIUM\" if churn_rate > 20 else \"🟢 LOW\"\n",
    "    \n",
    "    print(f\"💎 {segment} Segment:\")\n",
    "    print(f\"   ├── Risk Level: {risk_level} RISK ({churn_rate:.1f}% churn)\")\n",
    "    print(f\"   ├── Customer Base: {customers:,} customers\")\n",
    "    print(f\"   ├── Average Monthly Value: ${avg_monthly:.2f}\")\n",
    "    print(f\"   ├── Customers Lost: {churned:,}\")\n",
    "    print(f\"   └── Annual Revenue at Risk: ${annual_risk:,.0f}\")\n",
    "    print()\n",
    "\n",
    "# Key business insights\n",
    "highest_value_name = highest_value_segment[\"Value_Segment\"][0]\n",
    "highest_value_churn = highest_value_segment[\"Churn_Rate\"][0]\n",
    "highest_risk_name = highest_risk_segment[\"Value_Segment\"][0]\n",
    "highest_risk_rate = highest_risk_segment[\"Churn_Rate\"][0]\n",
    "\n",
    "print(\"🎯 STRATEGIC INSIGHTS:\")\n",
    "print(f\"   ⭐ Most Valuable Segment: {highest_value_name}\")\n",
    "print(f\"      └── Churn Rate: {highest_value_churn:.1f}% {'(GOOD)' if highest_value_churn < 25 else '(NEEDS ATTENTION)'}\")\n",
    "print(f\"   ⚠️  Highest Risk Segment: {highest_risk_name} ({highest_risk_rate:.1f}% churn)\")\n",
    "\n",
    "# Finding the highest risk segment:\n",
    "high_risk_revenue = segment_summary.filter(pl.col(\"Churn_Rate\") > 25).sort(\"Annual_Revenue_At_Risk\", descending=True)\n",
    "print(f\"\\n🚨 Highest Revenue Risk Segments (+25% churn):\")\n",
    "print(high_risk_revenue.select([\"Value_Segment\", \"Churn_Rate\", \"Annual_Revenue_At_Risk\"]))\n",
    "\n",
    "# 🚨 CRITICAL BUSINESS ALERTS\n",
    "print(\"\\n\" + \"🚨 CRITICAL BUSINESS ALERTS:\")\n",
    "print(\"-\" * 45)\n",
    "\n",
    "critical_segments = high_risk_revenue.iter_rows(named=True)\n",
    "for i, row in enumerate(critical_segments, 1):\n",
    "    segment = row[\"Value_Segment\"]\n",
    "    churn_rate = row[\"Churn_Rate\"]\n",
    "    revenue_risk = row[\"Annual_Revenue_At_Risk\"]\n",
    "    \n",
    "    print(f\"⚠️  ALERT #{i}: {segment}\")\n",
    "    print(f\"   ├── Churn Rate: {churn_rate:.1f}% (ABOVE 25% THRESHOLD)\")\n",
    "    print(f\"   ├── Revenue at Risk: ${revenue_risk:,.0f} annually\")\n",
    "    print(f\"   └── Recommended Action: IMMEDIATE RETENTION STRATEGY\")\n",
    "    print()\n",
    "\n",
    "# Calculate potential impact of improvements\n",
    "if len(list(critical_segments)) > 0:\n",
    "    total_critical_risk = high_risk_revenue[\"Annual_Revenue_At_Risk\"].sum()\n",
    "    potential_savings_25_percent = total_critical_risk * 0.25\n",
    "    potential_savings_50_percent = total_critical_risk * 0.50\n",
    "    \n",
    "    print(\"💡 OPPORTUNITY ANALYSIS:\")\n",
    "    print(f\"   🎯 25% Churn Reduction in High-Risk Segments: ${potential_savings_25_percent:,.0f} savings\")\n",
    "    print(f\"   🎯 50% Churn Reduction in High-Risk Segments: ${potential_savings_50_percent:,.0f} savings\")\n",
    "    print(f\"   📊 Total High-Risk Revenue: ${total_critical_risk:,.0f}\")\n",
    "else:\n",
    "    print(\"✅ GOOD NEWS: No segments exceed 25% churn threshold!\")\n",
    "\n",
    "print(\"\\n\" + \"=\"*60)"
   ]
  },
  {
   "cell_type": "code",
   "execution_count": 17,
   "metadata": {
    "scrolled": true
   },
   "outputs": [
    {
     "data": {
      "text/html": [
       "<pre style=\"white-space:pre;overflow-x:auto;line-height:normal;font-family:Menlo,'DejaVu Sans Mono',consolas,'Courier New',monospace\">📋 CONTRACT TYPE REVENUE IMPACT\n",
       "</pre>\n"
      ],
      "text/plain": [
       "📋 CONTRACT TYPE REVENUE IMPACT\n"
      ]
     },
     "metadata": {},
     "output_type": "display_data"
    },
    {
     "data": {
      "text/html": [
       "<pre style=\"white-space:pre;overflow-x:auto;line-height:normal;font-family:Menlo,'DejaVu Sans Mono',consolas,'Courier New',monospace\">==================================================\n",
       "</pre>\n"
      ],
      "text/plain": [
       "==================================================\n"
      ]
     },
     "metadata": {},
     "output_type": "display_data"
    },
    {
     "data": {
      "text/html": [
       "<pre style=\"white-space:pre;overflow-x:auto;line-height:normal;font-family:Menlo,'DejaVu Sans Mono',consolas,'Courier New',monospace\">🔍 Available Contract Types:\n",
       "</pre>\n"
      ],
      "text/plain": [
       "🔍 Available Contract Types:\n"
      ]
     },
     "metadata": {},
     "output_type": "display_data"
    },
    {
     "data": {
      "text/html": [
       "<pre style=\"white-space:pre;overflow-x:auto;line-height:normal;font-family:Menlo,'DejaVu Sans Mono',consolas,'Courier New',monospace\">   - <span style=\"color: #008000; text-decoration-color: #008000\">'Month-to-month'</span>\n",
       "</pre>\n"
      ],
      "text/plain": [
       "   - \u001b[32m'Month-to-month'\u001b[0m\n"
      ]
     },
     "metadata": {},
     "output_type": "display_data"
    },
    {
     "data": {
      "text/html": [
       "<pre style=\"white-space:pre;overflow-x:auto;line-height:normal;font-family:Menlo,'DejaVu Sans Mono',consolas,'Courier New',monospace\">   - <span style=\"color: #008000; text-decoration-color: #008000\">'Two year'</span>\n",
       "</pre>\n"
      ],
      "text/plain": [
       "   - \u001b[32m'Two year'\u001b[0m\n"
      ]
     },
     "metadata": {},
     "output_type": "display_data"
    },
    {
     "data": {
      "text/html": [
       "<pre style=\"white-space:pre;overflow-x:auto;line-height:normal;font-family:Menlo,'DejaVu Sans Mono',consolas,'Courier New',monospace\">   - <span style=\"color: #008000; text-decoration-color: #008000\">'One year'</span>\n",
       "</pre>\n"
      ],
      "text/plain": [
       "   - \u001b[32m'One year'\u001b[0m\n"
      ]
     },
     "metadata": {},
     "output_type": "display_data"
    },
    {
     "data": {
      "text/html": [
       "<pre style=\"white-space:pre;overflow-x:auto;line-height:normal;font-family:Menlo,'DejaVu Sans Mono',consolas,'Courier New',monospace\">\n",
       "</pre>\n"
      ],
      "text/plain": [
       "\n"
      ]
     },
     "metadata": {},
     "output_type": "display_data"
    },
    {
     "data": {
      "text/html": [
       "<pre style=\"white-space:pre;overflow-x:auto;line-height:normal;font-family:Menlo,'DejaVu Sans Mono',consolas,'Courier New',monospace\">📊 Contract Summary Columns:\n",
       "</pre>\n"
      ],
      "text/plain": [
       "📊 Contract Summary Columns:\n"
      ]
     },
     "metadata": {},
     "output_type": "display_data"
    },
    {
     "data": {
      "text/html": [
       "<pre style=\"white-space:pre;overflow-x:auto;line-height:normal;font-family:Menlo,'DejaVu Sans Mono',consolas,'Courier New',monospace\"><span style=\"font-weight: bold\">[</span>\n",
       "    <span style=\"color: #008000; text-decoration-color: #008000\">'Contract'</span>,\n",
       "    <span style=\"color: #008000; text-decoration-color: #008000\">'total_customers'</span>,\n",
       "    <span style=\"color: #008000; text-decoration-color: #008000\">'churned_customers'</span>,\n",
       "    <span style=\"color: #008000; text-decoration-color: #008000\">'total_monthly_revenue'</span>,\n",
       "    <span style=\"color: #008000; text-decoration-color: #008000\">'avg_monthly_charge'</span>,\n",
       "    <span style=\"color: #008000; text-decoration-color: #008000\">'avg_tenure'</span>,\n",
       "    <span style=\"color: #008000; text-decoration-color: #008000\">'churn_rate'</span>,\n",
       "    <span style=\"color: #008000; text-decoration-color: #008000\">'annual_revenue_lost'</span>\n",
       "<span style=\"font-weight: bold\">]</span>\n",
       "</pre>\n"
      ],
      "text/plain": [
       "\u001b[1m[\u001b[0m\n",
       "    \u001b[32m'Contract'\u001b[0m,\n",
       "    \u001b[32m'total_customers'\u001b[0m,\n",
       "    \u001b[32m'churned_customers'\u001b[0m,\n",
       "    \u001b[32m'total_monthly_revenue'\u001b[0m,\n",
       "    \u001b[32m'avg_monthly_charge'\u001b[0m,\n",
       "    \u001b[32m'avg_tenure'\u001b[0m,\n",
       "    \u001b[32m'churn_rate'\u001b[0m,\n",
       "    \u001b[32m'annual_revenue_lost'\u001b[0m\n",
       "\u001b[1m]\u001b[0m\n"
      ]
     },
     "metadata": {},
     "output_type": "display_data"
    },
    {
     "data": {
      "text/html": [
       "<pre style=\"white-space:pre;overflow-x:auto;line-height:normal;font-family:Menlo,'DejaVu Sans Mono',consolas,'Courier New',monospace\">\n",
       "</pre>\n"
      ],
      "text/plain": [
       "\n"
      ]
     },
     "metadata": {},
     "output_type": "display_data"
    },
    {
     "data": {
      "text/html": [
       "<pre style=\"white-space:pre;overflow-x:auto;line-height:normal;font-family:Menlo,'DejaVu Sans Mono',consolas,'Courier New',monospace\"><span style=\"color: #008000; text-decoration-color: #008000; font-weight: bold\">                                        📊 Contract Type Financial Analysis                                        </span>\n",
       "╭──────────────┬──────────────┬──────────────┬─────────────┬──────────────┬────────────┬────────────┬─────────────╮\n",
       "│<span style=\"color: #000080; text-decoration-color: #000080; font-weight: bold\">              </span>│<span style=\"color: #000080; text-decoration-color: #000080; font-weight: bold\">              </span>│<span style=\"color: #000080; text-decoration-color: #000080; font-weight: bold\">              </span>│<span style=\"color: #000080; text-decoration-color: #000080; font-weight: bold\">       Total </span>│<span style=\"color: #000080; text-decoration-color: #000080; font-weight: bold\">              </span>│<span style=\"color: #000080; text-decoration-color: #000080; font-weight: bold\">            </span>│<span style=\"color: #000080; text-decoration-color: #000080; font-weight: bold\">            </span>│<span style=\"color: #000080; text-decoration-color: #000080; font-weight: bold\">      Annual </span>│\n",
       "│<span style=\"color: #000080; text-decoration-color: #000080; font-weight: bold\">              </span>│<span style=\"color: #000080; text-decoration-color: #000080; font-weight: bold\">        Total </span>│<span style=\"color: #000080; text-decoration-color: #000080; font-weight: bold\">      Churned </span>│<span style=\"color: #000080; text-decoration-color: #000080; font-weight: bold\">     Monthly </span>│<span style=\"color: #000080; text-decoration-color: #000080; font-weight: bold\">  Avg Monthly </span>│<span style=\"color: #000080; text-decoration-color: #000080; font-weight: bold\">            </span>│<span style=\"color: #000080; text-decoration-color: #000080; font-weight: bold\">            </span>│<span style=\"color: #000080; text-decoration-color: #000080; font-weight: bold\">     Revenue </span>│\n",
       "│<span style=\"color: #000080; text-decoration-color: #000080; font-weight: bold\"> Contract     </span>│<span style=\"color: #000080; text-decoration-color: #000080; font-weight: bold\">    Customers </span>│<span style=\"color: #000080; text-decoration-color: #000080; font-weight: bold\">    Customers </span>│<span style=\"color: #000080; text-decoration-color: #000080; font-weight: bold\">     Revenue </span>│<span style=\"color: #000080; text-decoration-color: #000080; font-weight: bold\">       Charge </span>│<span style=\"color: #000080; text-decoration-color: #000080; font-weight: bold\"> Avg Tenure </span>│<span style=\"color: #000080; text-decoration-color: #000080; font-weight: bold\"> Churn Rate </span>│<span style=\"color: #000080; text-decoration-color: #000080; font-weight: bold\">        Lost </span>│\n",
       "├──────────────┼──────────────┼──────────────┼─────────────┼──────────────┼────────────┼────────────┼─────────────┤\n",
       "│ Two year     │<span style=\"color: #7f7f7f; text-decoration-color: #7f7f7f\">        1,695 </span>│<span style=\"color: #7f7f7f; text-decoration-color: #7f7f7f\">           48 </span>│    <span style=\"color: #008000; text-decoration-color: #008000\">$103,006</span> │          <span style=\"color: #008000; text-decoration-color: #008000\">$61</span> │   56.74    │       <span style=\"color: #008000; text-decoration-color: #008000\">2.8%</span> │     <span style=\"color: #008000; text-decoration-color: #008000\">$35,004</span> │\n",
       "├──────────────┼──────────────┼──────────────┼─────────────┼──────────────┼────────────┼────────────┼─────────────┤\n",
       "│ Month-to-mo… │<span style=\"color: #7f7f7f; text-decoration-color: #7f7f7f\">        3,875 </span>│<span style=\"color: #7f7f7f; text-decoration-color: #7f7f7f\">        1,655 </span>│    <span style=\"color: #008000; text-decoration-color: #008000\">$257,294</span> │          <span style=\"color: #008000; text-decoration-color: #008000\">$66</span> │   18.04    │      <span style=\"color: #800000; text-decoration-color: #800000\">42.7%</span> │  <span style=\"color: #008000; text-decoration-color: #008000\">$1,318,674</span> │\n",
       "├──────────────┼──────────────┼──────────────┼─────────────┼──────────────┼────────────┼────────────┼─────────────┤\n",
       "│ One year     │<span style=\"color: #7f7f7f; text-decoration-color: #7f7f7f\">        1,473 </span>│<span style=\"color: #7f7f7f; text-decoration-color: #7f7f7f\">          166 </span>│     <span style=\"color: #008000; text-decoration-color: #008000\">$95,817</span> │          <span style=\"color: #008000; text-decoration-color: #008000\">$65</span> │   42.04    │      <span style=\"color: #008000; text-decoration-color: #008000\">11.3%</span> │    <span style=\"color: #008000; text-decoration-color: #008000\">$129,577</span> │\n",
       "╰──────────────┴──────────────┴──────────────┴─────────────┴──────────────┴────────────┴────────────┴─────────────╯\n",
       "</pre>\n"
      ],
      "text/plain": [
       "\u001b[1;32m                                        📊 Contract Type Financial Analysis                                        \u001b[0m\n",
       "╭──────────────┬──────────────┬──────────────┬─────────────┬──────────────┬────────────┬────────────┬─────────────╮\n",
       "│\u001b[1;34m              \u001b[0m│\u001b[1;34m              \u001b[0m│\u001b[1;34m              \u001b[0m│\u001b[1;34m \u001b[0m\u001b[1;34m      Total\u001b[0m\u001b[1;34m \u001b[0m│\u001b[1;34m              \u001b[0m│\u001b[1;34m            \u001b[0m│\u001b[1;34m            \u001b[0m│\u001b[1;34m \u001b[0m\u001b[1;34m     Annual\u001b[0m\u001b[1;34m \u001b[0m│\n",
       "│\u001b[1;34m              \u001b[0m│\u001b[1;34m \u001b[0m\u001b[1;34m       Total\u001b[0m\u001b[1;34m \u001b[0m│\u001b[1;34m \u001b[0m\u001b[1;34m     Churned\u001b[0m\u001b[1;34m \u001b[0m│\u001b[1;34m \u001b[0m\u001b[1;34m    Monthly\u001b[0m\u001b[1;34m \u001b[0m│\u001b[1;34m \u001b[0m\u001b[1;34m Avg Monthly\u001b[0m\u001b[1;34m \u001b[0m│\u001b[1;34m            \u001b[0m│\u001b[1;34m            \u001b[0m│\u001b[1;34m \u001b[0m\u001b[1;34m    Revenue\u001b[0m\u001b[1;34m \u001b[0m│\n",
       "│\u001b[1;34m \u001b[0m\u001b[1;34mContract    \u001b[0m\u001b[1;34m \u001b[0m│\u001b[1;34m \u001b[0m\u001b[1;34m   Customers\u001b[0m\u001b[1;34m \u001b[0m│\u001b[1;34m \u001b[0m\u001b[1;34m   Customers\u001b[0m\u001b[1;34m \u001b[0m│\u001b[1;34m \u001b[0m\u001b[1;34m    Revenue\u001b[0m\u001b[1;34m \u001b[0m│\u001b[1;34m \u001b[0m\u001b[1;34m      Charge\u001b[0m\u001b[1;34m \u001b[0m│\u001b[1;34m \u001b[0m\u001b[1;34mAvg Tenure\u001b[0m\u001b[1;34m \u001b[0m│\u001b[1;34m \u001b[0m\u001b[1;34mChurn Rate\u001b[0m\u001b[1;34m \u001b[0m│\u001b[1;34m \u001b[0m\u001b[1;34m       Lost\u001b[0m\u001b[1;34m \u001b[0m│\n",
       "├──────────────┼──────────────┼──────────────┼─────────────┼──────────────┼────────────┼────────────┼─────────────┤\n",
       "│ Two year     │\u001b[2m \u001b[0m\u001b[2m       1,695\u001b[0m\u001b[2m \u001b[0m│\u001b[2m \u001b[0m\u001b[2m          48\u001b[0m\u001b[2m \u001b[0m│    \u001b[32m$103,006\u001b[0m │          \u001b[32m$61\u001b[0m │   56.74    │       \u001b[32m2.8%\u001b[0m │     \u001b[32m$35,004\u001b[0m │\n",
       "├──────────────┼──────────────┼──────────────┼─────────────┼──────────────┼────────────┼────────────┼─────────────┤\n",
       "│ Month-to-mo… │\u001b[2m \u001b[0m\u001b[2m       3,875\u001b[0m\u001b[2m \u001b[0m│\u001b[2m \u001b[0m\u001b[2m       1,655\u001b[0m\u001b[2m \u001b[0m│    \u001b[32m$257,294\u001b[0m │          \u001b[32m$66\u001b[0m │   18.04    │      \u001b[31m42.7%\u001b[0m │  \u001b[32m$1,318,674\u001b[0m │\n",
       "├──────────────┼──────────────┼──────────────┼─────────────┼──────────────┼────────────┼────────────┼─────────────┤\n",
       "│ One year     │\u001b[2m \u001b[0m\u001b[2m       1,473\u001b[0m\u001b[2m \u001b[0m│\u001b[2m \u001b[0m\u001b[2m         166\u001b[0m\u001b[2m \u001b[0m│     \u001b[32m$95,817\u001b[0m │          \u001b[32m$65\u001b[0m │   42.04    │      \u001b[32m11.3%\u001b[0m │    \u001b[32m$129,577\u001b[0m │\n",
       "╰──────────────┴──────────────┴──────────────┴─────────────┴──────────────┴────────────┴────────────┴─────────────╯\n"
      ]
     },
     "metadata": {},
     "output_type": "display_data"
    },
    {
     "name": "stdout",
     "output_type": "stream",
     "text": [
      "\n"
     ]
    },
    {
     "data": {
      "text/html": [
       "<pre style=\"white-space:pre;overflow-x:auto;line-height:normal;font-family:Menlo,'DejaVu Sans Mono',consolas,'Courier New',monospace\">💡 BUSINESS INSIGHTS ANALYSIS:\n",
       "</pre>\n"
      ],
      "text/plain": [
       "💡 BUSINESS INSIGHTS ANALYSIS:\n"
      ]
     },
     "metadata": {},
     "output_type": "display_data"
    },
    {
     "data": {
      "text/html": [
       "<pre style=\"white-space:pre;overflow-x:auto;line-height:normal;font-family:Menlo,'DejaVu Sans Mono',consolas,'Courier New',monospace\">----------------------------------------\n",
       "</pre>\n"
      ],
      "text/plain": [
       "----------------------------------------\n"
      ]
     },
     "metadata": {},
     "output_type": "display_data"
    },
    {
     "data": {
      "text/html": [
       "<pre style=\"white-space:pre;overflow-x:auto;line-height:normal;font-family:Menlo,'DejaVu Sans Mono',consolas,'Courier New',monospace\">✅ Found month-to-month contract type: <span style=\"color: #008000; text-decoration-color: #008000\">'Month-to-month'</span>\n",
       "</pre>\n"
      ],
      "text/plain": [
       "✅ Found month-to-month contract type: \u001b[32m'Month-to-month'\u001b[0m\n"
      ]
     },
     "metadata": {},
     "output_type": "display_data"
    },
    {
     "data": {
      "text/html": [
       "<pre style=\"white-space:pre;overflow-x:auto;line-height:normal;font-family:Menlo,'DejaVu Sans Mono',consolas,'Courier New',monospace\"><span style=\"color: #000080; text-decoration-color: #000080\">╭───────────────────────────────────────── 💡 Contract Analysis Insights ─────────────────────────────────────────╮</span>\n",
       "<span style=\"color: #000080; text-decoration-color: #000080\">│</span>                                                                                                                 <span style=\"color: #000080; text-decoration-color: #000080\">│</span>\n",
       "<span style=\"color: #000080; text-decoration-color: #000080\">│</span>  <span style=\"color: #c0c0c0; text-decoration-color: #c0c0c0; font-weight: bold\">1. Month-to-month contracts lose $1,318,674 annually</span>                                                           <span style=\"color: #000080; text-decoration-color: #000080\">│</span>\n",
       "<span style=\"color: #000080; text-decoration-color: #000080\">│</span>  <span style=\"color: #c0c0c0; text-decoration-color: #c0c0c0; font-weight: bold\">2. This represents 88.9% of total revenue loss</span>                                                                 <span style=\"color: #000080; text-decoration-color: #000080\">│</span>\n",
       "<span style=\"color: #000080; text-decoration-color: #000080\">│</span>  <span style=\"color: #c0c0c0; text-decoration-color: #c0c0c0; font-weight: bold\">3. Contract length is a critical retention factor</span>                                                              <span style=\"color: #000080; text-decoration-color: #000080\">│</span>\n",
       "<span style=\"color: #000080; text-decoration-color: #000080\">│</span>  <span style=\"color: #c0c0c0; text-decoration-color: #c0c0c0; font-weight: bold\">4. Longer contracts significantly reduce churn risk</span>                                                            <span style=\"color: #000080; text-decoration-color: #000080\">│</span>\n",
       "<span style=\"color: #000080; text-decoration-color: #000080\">│</span>                                                                                                                 <span style=\"color: #000080; text-decoration-color: #000080\">│</span>\n",
       "<span style=\"color: #000080; text-decoration-color: #000080\">│</span>                                                                                                                 <span style=\"color: #000080; text-decoration-color: #000080\">│</span>\n",
       "<span style=\"color: #000080; text-decoration-color: #000080\">╰─────────────────────────────────────────────────────────────────────────────────────────────────────────────────╯</span>\n",
       "</pre>\n"
      ],
      "text/plain": [
       "\u001b[34m╭─\u001b[0m\u001b[34m────────────────────────────────────────\u001b[0m\u001b[34m 💡 Contract Analysis Insights \u001b[0m\u001b[34m────────────────────────────────────────\u001b[0m\u001b[34m─╮\u001b[0m\n",
       "\u001b[34m│\u001b[0m                                                                                                                 \u001b[34m│\u001b[0m\n",
       "\u001b[34m│\u001b[0m  \u001b[1;37m1. Month-to-month contracts lose $1,318,674 annually\u001b[0m                                                           \u001b[34m│\u001b[0m\n",
       "\u001b[34m│\u001b[0m  \u001b[1;37m2. This represents 88.9% of total revenue loss\u001b[0m                                                                 \u001b[34m│\u001b[0m\n",
       "\u001b[34m│\u001b[0m  \u001b[1;37m3. Contract length is a critical retention factor\u001b[0m                                                              \u001b[34m│\u001b[0m\n",
       "\u001b[34m│\u001b[0m  \u001b[1;37m4. Longer contracts significantly reduce churn risk\u001b[0m                                                            \u001b[34m│\u001b[0m\n",
       "\u001b[34m│\u001b[0m                                                                                                                 \u001b[34m│\u001b[0m\n",
       "\u001b[34m│\u001b[0m                                                                                                                 \u001b[34m│\u001b[0m\n",
       "\u001b[34m╰─────────────────────────────────────────────────────────────────────────────────────────────────────────────────╯\u001b[0m\n"
      ]
     },
     "metadata": {},
     "output_type": "display_data"
    },
    {
     "name": "stdout",
     "output_type": "stream",
     "text": [
      "\n"
     ]
    },
    {
     "data": {
      "text/html": [
       "<pre style=\"white-space:pre;overflow-x:auto;line-height:normal;font-family:Menlo,'DejaVu Sans Mono',consolas,'Courier New',monospace\"><span style=\"color: #800000; text-decoration-color: #800000\">╭─────────────────────────────────────────────── 🚨 Critical Alert ───────────────────────────────────────────────╮</span>\n",
       "<span style=\"color: #800000; text-decoration-color: #800000\">│</span>                                                                                                                 <span style=\"color: #800000; text-decoration-color: #800000\">│</span>\n",
       "<span style=\"color: #800000; text-decoration-color: #800000\">│</span>  <span style=\"color: #800000; text-decoration-color: #800000; font-weight: bold\">Month-to-month contracts represent $1,318,674 in annual revenue loss</span>                                           <span style=\"color: #800000; text-decoration-color: #800000\">│</span>\n",
       "<span style=\"color: #800000; text-decoration-color: #800000\">│</span>                                                                                                                 <span style=\"color: #800000; text-decoration-color: #800000\">│</span>\n",
       "<span style=\"color: #800000; text-decoration-color: #800000\">│</span>  <span style=\"font-weight: bold\">Details:</span>                                                                                                       <span style=\"color: #800000; text-decoration-color: #800000\">│</span>\n",
       "<span style=\"color: #800000; text-decoration-color: #800000\">│</span>  <span style=\"color: #800000; text-decoration-color: #800000\">• Immediate contract strategy review needed</span>                                                                    <span style=\"color: #800000; text-decoration-color: #800000\">│</span>\n",
       "<span style=\"color: #800000; text-decoration-color: #800000\">│</span>  <span style=\"color: #800000; text-decoration-color: #800000\">• Consider incentives for longer-term contracts</span>                                                                <span style=\"color: #800000; text-decoration-color: #800000\">│</span>\n",
       "<span style=\"color: #800000; text-decoration-color: #800000\">│</span>  <span style=\"color: #800000; text-decoration-color: #800000\">• Target month-to-month customers with retention campaigns</span>                                                     <span style=\"color: #800000; text-decoration-color: #800000\">│</span>\n",
       "<span style=\"color: #800000; text-decoration-color: #800000\">│</span>                                                                                                                 <span style=\"color: #800000; text-decoration-color: #800000\">│</span>\n",
       "<span style=\"color: #800000; text-decoration-color: #800000\">│</span>                                                                                                                 <span style=\"color: #800000; text-decoration-color: #800000\">│</span>\n",
       "<span style=\"color: #800000; text-decoration-color: #800000\">╰─────────────────────────────────────────────────────────────────────────────────────────────────────────────────╯</span>\n",
       "</pre>\n"
      ],
      "text/plain": [
       "\u001b[31m╭─\u001b[0m\u001b[31m──────────────────────────────────────────────\u001b[0m\u001b[31m 🚨 Critical Alert \u001b[0m\u001b[31m──────────────────────────────────────────────\u001b[0m\u001b[31m─╮\u001b[0m\n",
       "\u001b[31m│\u001b[0m                                                                                                                 \u001b[31m│\u001b[0m\n",
       "\u001b[31m│\u001b[0m  \u001b[1;31mMonth-to-month contracts represent $1,318,674 in annual revenue loss\u001b[0m                                           \u001b[31m│\u001b[0m\n",
       "\u001b[31m│\u001b[0m                                                                                                                 \u001b[31m│\u001b[0m\n",
       "\u001b[31m│\u001b[0m  \u001b[1mDetails:\u001b[0m                                                                                                       \u001b[31m│\u001b[0m\n",
       "\u001b[31m│\u001b[0m  \u001b[31m• Immediate contract strategy review needed\u001b[0m                                                                    \u001b[31m│\u001b[0m\n",
       "\u001b[31m│\u001b[0m  \u001b[31m• Consider incentives for longer-term contracts\u001b[0m                                                                \u001b[31m│\u001b[0m\n",
       "\u001b[31m│\u001b[0m  \u001b[31m• Target month-to-month customers with retention campaigns\u001b[0m                                                     \u001b[31m│\u001b[0m\n",
       "\u001b[31m│\u001b[0m                                                                                                                 \u001b[31m│\u001b[0m\n",
       "\u001b[31m│\u001b[0m                                                                                                                 \u001b[31m│\u001b[0m\n",
       "\u001b[31m╰─────────────────────────────────────────────────────────────────────────────────────────────────────────────────╯\u001b[0m\n"
      ]
     },
     "metadata": {},
     "output_type": "display_data"
    },
    {
     "name": "stdout",
     "output_type": "stream",
     "text": [
      "\n"
     ]
    }
   ],
   "source": [
    "# Cell: Contract Type Financial Analysis\n",
    "print(\"📋 CONTRACT TYPE REVENUE IMPACT\")\n",
    "print(\"=\" * 50)\n",
    "\n",
    "contract_revenue_analysis = df.group_by([\"Contract\", \"Churn\"]).agg([\n",
    "    pl.col(\"customerID\").count().alias(\"customer_count\"),\n",
    "    pl.col(\"MonthlyCharges\").sum().alias(\"monthly_revenue\"),\n",
    "    pl.col(\"MonthlyCharges\").mean().alias(\"avg_monthly_charge\"),\n",
    "    pl.col(\"tenure\").mean().alias(\"avg_tenure\")\n",
    "])\n",
    "\n",
    "# Calculating contract-specific insights\n",
    "contract_summary = df.group_by(\"Contract\").agg([\n",
    "    pl.col(\"customerID\").count().alias(\"total_customers\"),\n",
    "    (pl.col(\"Churn\") == \"Yes\").sum().alias(\"churned_customers\"),\n",
    "    pl.col(\"MonthlyCharges\").sum().alias(\"total_monthly_revenue\"),\n",
    "    pl.col(\"MonthlyCharges\").mean().alias(\"avg_monthly_charge\"),\n",
    "    pl.col(\"tenure\").mean().alias(\"avg_tenure\")\n",
    "]).with_columns([\n",
    "    (pl.col(\"churned_customers\") / pl.col(\"total_customers\") * 100).alias(\"churn_rate\"),\n",
    "    (pl.col(\"churned_customers\") * pl.col(\"avg_monthly_charge\") * 12).alias(\"annual_revenue_lost\")\n",
    "])\n",
    "\n",
    "# Debug: Check what contract types exist\n",
    "print(\"🔍 Available Contract Types:\")\n",
    "contract_types = df[\"Contract\"].unique().to_list()\n",
    "for contract_type in contract_types:\n",
    "    print(f\"   - '{contract_type}'\")\n",
    "print()\n",
    "\n",
    "# Debug: Check contract_summary columns\n",
    "print(\"📊 Contract Summary Columns:\")\n",
    "print(contract_summary.columns)\n",
    "print()\n",
    "\n",
    "# Displaying Table (Fixed typo: total_customer -> total_customers)\n",
    "create_rich_table(\n",
    "    df=contract_summary,\n",
    "    title=\"Contract Type Financial Analysis\",\n",
    "    money_columns=[\"total_monthly_revenue\", \"avg_monthly_charge\", \"annual_revenue_lost\"],\n",
    "    percentage_columns=[\"churn_rate\"],\n",
    "    integer_columns=[\"total_customers\", \"churned_customers\"]  # Fixed typo here\n",
    ")\n",
    "\n",
    "# Business Insights - Fixed with proper case sensitivity and error handling\n",
    "print(\"💡 BUSINESS INSIGHTS ANALYSIS:\")\n",
    "print(\"-\" * 40)\n",
    "\n",
    "# Find the correct month-to-month contract name\n",
    "month_to_month_variants = [\"Month-to-month\", \"month-to-month\", \"Monthly\"]\n",
    "month_to_month_contract = None\n",
    "\n",
    "for variant in month_to_month_variants:\n",
    "    filtered_result = contract_summary.filter(pl.col(\"Contract\") == variant)\n",
    "    if filtered_result.height > 0:\n",
    "        month_to_month_contract = variant\n",
    "        month_to_month_loss = filtered_result[\"annual_revenue_lost\"][0]\n",
    "        break\n",
    "\n",
    "if month_to_month_contract:\n",
    "    print(f\"✅ Found month-to-month contract type: '{month_to_month_contract}'\")\n",
    "    \n",
    "    # Fixed column name: annual_revenue_lost (not Annual_Revenue_Lost)\n",
    "    total_annual_loss = contract_summary[\"annual_revenue_lost\"].sum()\n",
    "    \n",
    "    insights = [\n",
    "        f\"Month-to-month contracts lose ${month_to_month_loss:,.0f} annually\",\n",
    "        f\"This represents {(month_to_month_loss/total_annual_loss)*100:.1f}% of total revenue loss\",\n",
    "        \"Contract length is a critical retention factor\",\n",
    "        \"Longer contracts significantly reduce churn risk\"\n",
    "    ]\n",
    "    \n",
    "    display_insights_summary(insights, \"Contract Analysis Insights\")\n",
    "    \n",
    "    # Critical Alerts\n",
    "    if month_to_month_loss > 1000000:  # 1M\n",
    "        display_business_alert(\n",
    "            message=f\"Month-to-month contracts represent ${month_to_month_loss:,.0f} in annual revenue loss\",\n",
    "            alert_type=\"critical\",\n",
    "            details=[\n",
    "                \"Immediate contract strategy review needed\",\n",
    "                \"Consider incentives for longer-term contracts\",\n",
    "                \"Target month-to-month customers with retention campaigns\"\n",
    "            ]\n",
    "        )\n",
    "    else:\n",
    "        display_business_alert(\n",
    "            message=f\"Month-to-month revenue loss: ${month_to_month_loss:,.0f}\",\n",
    "            alert_type=\"warning\",\n",
    "            details=[\n",
    "                \"Monitor contract mix closely\",\n",
    "                \"Consider contract incentive programs\"\n",
    "            ]\n",
    "        )\n",
    "else:\n",
    "    print(\"❌ Could not find month-to-month contract type\")\n",
    "    print(\"Available contract types:\")\n",
    "    for contract_type in contract_types:\n",
    "        churn_data = contract_summary.filter(pl.col(\"Contract\") == contract_type)\n",
    "        if churn_data.height > 0:\n",
    "            churn_rate = churn_data[\"churn_rate\"][0]\n",
    "            revenue_lost = churn_data[\"annual_revenue_lost\"][0]\n",
    "            print(f\"   📋 {contract_type}: {churn_rate:.1f}% churn, ${revenue_lost:,.0f} lost\")"
   ]
  },
  {
   "cell_type": "code",
   "execution_count": 22,
   "metadata": {
    "scrolled": true
   },
   "outputs": [
    {
     "data": {
      "text/html": [
       "<pre style=\"white-space:pre;overflow-x:auto;line-height:normal;font-family:Menlo,'DejaVu Sans Mono',consolas,'Courier New',monospace\">💳 PAYMENT METHOD REVENUE RISK\n",
       "</pre>\n"
      ],
      "text/plain": [
       "💳 PAYMENT METHOD REVENUE RISK\n"
      ]
     },
     "metadata": {},
     "output_type": "display_data"
    },
    {
     "data": {
      "text/html": [
       "<pre style=\"white-space:pre;overflow-x:auto;line-height:normal;font-family:Menlo,'DejaVu Sans Mono',consolas,'Courier New',monospace\">==================================================\n",
       "</pre>\n"
      ],
      "text/plain": [
       "==================================================\n"
      ]
     },
     "metadata": {},
     "output_type": "display_data"
    },
    {
     "data": {
      "text/html": [
       "<pre style=\"white-space:pre;overflow-x:auto;line-height:normal;font-family:Menlo,'DejaVu Sans Mono',consolas,'Courier New',monospace\"><span style=\"color: #008000; text-decoration-color: #008000; font-weight: bold\">                                          📊 Payment Method Risk Analysis                                          </span>\n",
       "╭────────────────┬────────────────┬────────────────┬────────────────┬───────────────┬────────────┬────────────────╮\n",
       "│<span style=\"color: #000080; text-decoration-color: #000080; font-weight: bold\">                </span>│<span style=\"color: #000080; text-decoration-color: #000080; font-weight: bold\">          Total </span>│<span style=\"color: #000080; text-decoration-color: #000080; font-weight: bold\">        Churned </span>│<span style=\"color: #000080; text-decoration-color: #000080; font-weight: bold\">  Total Monthly </span>│<span style=\"color: #000080; text-decoration-color: #000080; font-weight: bold\">   Avg Monthly </span>│<span style=\"color: #000080; text-decoration-color: #000080; font-weight: bold\">            </span>│<span style=\"color: #000080; text-decoration-color: #000080; font-weight: bold\"> Annual Revenue </span>│\n",
       "│<span style=\"color: #000080; text-decoration-color: #000080; font-weight: bold\"> Paymentmethod  </span>│<span style=\"color: #000080; text-decoration-color: #000080; font-weight: bold\">      Customers </span>│<span style=\"color: #000080; text-decoration-color: #000080; font-weight: bold\">      Customers </span>│<span style=\"color: #000080; text-decoration-color: #000080; font-weight: bold\">        Revenue </span>│<span style=\"color: #000080; text-decoration-color: #000080; font-weight: bold\">        Charge </span>│<span style=\"color: #000080; text-decoration-color: #000080; font-weight: bold\"> Churn Rate </span>│<span style=\"color: #000080; text-decoration-color: #000080; font-weight: bold\">        At Risk </span>│\n",
       "├────────────────┼────────────────┼────────────────┼────────────────┼───────────────┼────────────┼────────────────┤\n",
       "│ Electronic     │<span style=\"color: #7f7f7f; text-decoration-color: #7f7f7f\">          2,365 </span>│<span style=\"color: #7f7f7f; text-decoration-color: #7f7f7f\">          1,071 </span>│       <span style=\"color: #008000; text-decoration-color: #008000\">$180,345</span> │           <span style=\"color: #008000; text-decoration-color: #008000\">$76</span> │      <span style=\"color: #800000; text-decoration-color: #800000\">45.3%</span> │       <span style=\"color: #008000; text-decoration-color: #008000\">$980,040</span> │\n",
       "│ check          │<span style=\"color: #7f7f7f; text-decoration-color: #7f7f7f\">                </span>│<span style=\"color: #7f7f7f; text-decoration-color: #7f7f7f\">                </span>│                │               │            │                │\n",
       "├────────────────┼────────────────┼────────────────┼────────────────┼───────────────┼────────────┼────────────────┤\n",
       "│ Mailed check   │<span style=\"color: #7f7f7f; text-decoration-color: #7f7f7f\">          1,612 </span>│<span style=\"color: #7f7f7f; text-decoration-color: #7f7f7f\">            308 </span>│        <span style=\"color: #008000; text-decoration-color: #008000\">$70,794</span> │           <span style=\"color: #008000; text-decoration-color: #008000\">$44</span> │      <span style=\"color: #008000; text-decoration-color: #008000\">19.1%</span> │       <span style=\"color: #008000; text-decoration-color: #008000\">$162,317</span> │\n",
       "├────────────────┼────────────────┼────────────────┼────────────────┼───────────────┼────────────┼────────────────┤\n",
       "│ Bank transfer  │<span style=\"color: #7f7f7f; text-decoration-color: #7f7f7f\">          1,544 </span>│<span style=\"color: #7f7f7f; text-decoration-color: #7f7f7f\">            258 </span>│       <span style=\"color: #008000; text-decoration-color: #008000\">$103,745</span> │           <span style=\"color: #008000; text-decoration-color: #008000\">$67</span> │      <span style=\"color: #008000; text-decoration-color: #008000\">16.7%</span> │       <span style=\"color: #008000; text-decoration-color: #008000\">$208,028</span> │\n",
       "│ (automatic)    │<span style=\"color: #7f7f7f; text-decoration-color: #7f7f7f\">                </span>│<span style=\"color: #7f7f7f; text-decoration-color: #7f7f7f\">                </span>│                │               │            │                │\n",
       "├────────────────┼────────────────┼────────────────┼────────────────┼───────────────┼────────────┼────────────────┤\n",
       "│ Credit card    │<span style=\"color: #7f7f7f; text-decoration-color: #7f7f7f\">          1,522 </span>│<span style=\"color: #7f7f7f; text-decoration-color: #7f7f7f\">            232 </span>│       <span style=\"color: #008000; text-decoration-color: #008000\">$101,232</span> │           <span style=\"color: #008000; text-decoration-color: #008000\">$67</span> │      <span style=\"color: #008000; text-decoration-color: #008000\">15.2%</span> │       <span style=\"color: #008000; text-decoration-color: #008000\">$185,170</span> │\n",
       "│ (automatic)    │<span style=\"color: #7f7f7f; text-decoration-color: #7f7f7f\">                </span>│<span style=\"color: #7f7f7f; text-decoration-color: #7f7f7f\">                </span>│                │               │            │                │\n",
       "╰────────────────┴────────────────┴────────────────┴────────────────┴───────────────┴────────────┴────────────────╯\n",
       "</pre>\n"
      ],
      "text/plain": [
       "\u001b[1;32m                                          📊 Payment Method Risk Analysis                                          \u001b[0m\n",
       "╭────────────────┬────────────────┬────────────────┬────────────────┬───────────────┬────────────┬────────────────╮\n",
       "│\u001b[1;34m                \u001b[0m│\u001b[1;34m \u001b[0m\u001b[1;34m         Total\u001b[0m\u001b[1;34m \u001b[0m│\u001b[1;34m \u001b[0m\u001b[1;34m       Churned\u001b[0m\u001b[1;34m \u001b[0m│\u001b[1;34m \u001b[0m\u001b[1;34m Total Monthly\u001b[0m\u001b[1;34m \u001b[0m│\u001b[1;34m \u001b[0m\u001b[1;34m  Avg Monthly\u001b[0m\u001b[1;34m \u001b[0m│\u001b[1;34m            \u001b[0m│\u001b[1;34m \u001b[0m\u001b[1;34mAnnual Revenue\u001b[0m\u001b[1;34m \u001b[0m│\n",
       "│\u001b[1;34m \u001b[0m\u001b[1;34mPaymentmethod \u001b[0m\u001b[1;34m \u001b[0m│\u001b[1;34m \u001b[0m\u001b[1;34m     Customers\u001b[0m\u001b[1;34m \u001b[0m│\u001b[1;34m \u001b[0m\u001b[1;34m     Customers\u001b[0m\u001b[1;34m \u001b[0m│\u001b[1;34m \u001b[0m\u001b[1;34m       Revenue\u001b[0m\u001b[1;34m \u001b[0m│\u001b[1;34m \u001b[0m\u001b[1;34m       Charge\u001b[0m\u001b[1;34m \u001b[0m│\u001b[1;34m \u001b[0m\u001b[1;34mChurn Rate\u001b[0m\u001b[1;34m \u001b[0m│\u001b[1;34m \u001b[0m\u001b[1;34m       At Risk\u001b[0m\u001b[1;34m \u001b[0m│\n",
       "├────────────────┼────────────────┼────────────────┼────────────────┼───────────────┼────────────┼────────────────┤\n",
       "│ Electronic     │\u001b[2m \u001b[0m\u001b[2m         2,365\u001b[0m\u001b[2m \u001b[0m│\u001b[2m \u001b[0m\u001b[2m         1,071\u001b[0m\u001b[2m \u001b[0m│       \u001b[32m$180,345\u001b[0m │           \u001b[32m$76\u001b[0m │      \u001b[31m45.3%\u001b[0m │       \u001b[32m$980,040\u001b[0m │\n",
       "│ check          │\u001b[2m                \u001b[0m│\u001b[2m                \u001b[0m│                │               │            │                │\n",
       "├────────────────┼────────────────┼────────────────┼────────────────┼───────────────┼────────────┼────────────────┤\n",
       "│ Mailed check   │\u001b[2m \u001b[0m\u001b[2m         1,612\u001b[0m\u001b[2m \u001b[0m│\u001b[2m \u001b[0m\u001b[2m           308\u001b[0m\u001b[2m \u001b[0m│        \u001b[32m$70,794\u001b[0m │           \u001b[32m$44\u001b[0m │      \u001b[32m19.1%\u001b[0m │       \u001b[32m$162,317\u001b[0m │\n",
       "├────────────────┼────────────────┼────────────────┼────────────────┼───────────────┼────────────┼────────────────┤\n",
       "│ Bank transfer  │\u001b[2m \u001b[0m\u001b[2m         1,544\u001b[0m\u001b[2m \u001b[0m│\u001b[2m \u001b[0m\u001b[2m           258\u001b[0m\u001b[2m \u001b[0m│       \u001b[32m$103,745\u001b[0m │           \u001b[32m$67\u001b[0m │      \u001b[32m16.7%\u001b[0m │       \u001b[32m$208,028\u001b[0m │\n",
       "│ (automatic)    │\u001b[2m                \u001b[0m│\u001b[2m                \u001b[0m│                │               │            │                │\n",
       "├────────────────┼────────────────┼────────────────┼────────────────┼───────────────┼────────────┼────────────────┤\n",
       "│ Credit card    │\u001b[2m \u001b[0m\u001b[2m         1,522\u001b[0m\u001b[2m \u001b[0m│\u001b[2m \u001b[0m\u001b[2m           232\u001b[0m\u001b[2m \u001b[0m│       \u001b[32m$101,232\u001b[0m │           \u001b[32m$67\u001b[0m │      \u001b[32m15.2%\u001b[0m │       \u001b[32m$185,170\u001b[0m │\n",
       "│ (automatic)    │\u001b[2m                \u001b[0m│\u001b[2m                \u001b[0m│                │               │            │                │\n",
       "╰────────────────┴────────────────┴────────────────┴────────────────┴───────────────┴────────────┴────────────────╯\n"
      ]
     },
     "metadata": {},
     "output_type": "display_data"
    },
    {
     "name": "stdout",
     "output_type": "stream",
     "text": [
      "\n"
     ]
    },
    {
     "data": {
      "text/html": [
       "<pre style=\"white-space:pre;overflow-x:auto;line-height:normal;font-family:Menlo,'DejaVu Sans Mono',consolas,'Courier New',monospace\"><span style=\"color: #000080; text-decoration-color: #000080\">╭────────────────────────────────────── 💡 Payment Method Analysis Insights ──────────────────────────────────────╮</span>\n",
       "<span style=\"color: #000080; text-decoration-color: #000080\">│</span>                                                                                                                 <span style=\"color: #000080; text-decoration-color: #000080\">│</span>\n",
       "<span style=\"color: #000080; text-decoration-color: #000080\">│</span>  <span style=\"color: #c0c0c0; text-decoration-color: #c0c0c0; font-weight: bold\">1. Highest risk payment method: Electronic check (45.3% churn)</span>                                                 <span style=\"color: #000080; text-decoration-color: #000080\">│</span>\n",
       "<span style=\"color: #000080; text-decoration-color: #000080\">│</span>  <span style=\"color: #c0c0c0; text-decoration-color: #c0c0c0; font-weight: bold\">2. Annual revenue at risk from Electronic check: $980,040</span>                                                      <span style=\"color: #000080; text-decoration-color: #000080\">│</span>\n",
       "<span style=\"color: #000080; text-decoration-color: #000080\">│</span>  <span style=\"color: #c0c0c0; text-decoration-color: #c0c0c0; font-weight: bold\">3. Best performing payment method: Credit card (automatic) (15.2% churn)</span>                                       <span style=\"color: #000080; text-decoration-color: #000080\">│</span>\n",
       "<span style=\"color: #000080; text-decoration-color: #000080\">│</span>  <span style=\"color: #c0c0c0; text-decoration-color: #c0c0c0; font-weight: bold\">4. Payment method churn gap: 30.0 percentage points</span>                                                            <span style=\"color: #000080; text-decoration-color: #000080\">│</span>\n",
       "<span style=\"color: #000080; text-decoration-color: #000080\">│</span>  <span style=\"color: #c0c0c0; text-decoration-color: #c0c0c0; font-weight: bold\">5. Total annual revenue at risk across all payment methods: $1,535,556</span>                                         <span style=\"color: #000080; text-decoration-color: #000080\">│</span>\n",
       "<span style=\"color: #000080; text-decoration-color: #000080\">│</span>                                                                                                                 <span style=\"color: #000080; text-decoration-color: #000080\">│</span>\n",
       "<span style=\"color: #000080; text-decoration-color: #000080\">│</span>                                                                                                                 <span style=\"color: #000080; text-decoration-color: #000080\">│</span>\n",
       "<span style=\"color: #000080; text-decoration-color: #000080\">╰─────────────────────────────────────────────────────────────────────────────────────────────────────────────────╯</span>\n",
       "</pre>\n"
      ],
      "text/plain": [
       "\u001b[34m╭─\u001b[0m\u001b[34m─────────────────────────────────────\u001b[0m\u001b[34m 💡 Payment Method Analysis Insights \u001b[0m\u001b[34m─────────────────────────────────────\u001b[0m\u001b[34m─╮\u001b[0m\n",
       "\u001b[34m│\u001b[0m                                                                                                                 \u001b[34m│\u001b[0m\n",
       "\u001b[34m│\u001b[0m  \u001b[1;37m1. Highest risk payment method: Electronic check (45.3% churn)\u001b[0m                                                 \u001b[34m│\u001b[0m\n",
       "\u001b[34m│\u001b[0m  \u001b[1;37m2. Annual revenue at risk from Electronic check: $980,040\u001b[0m                                                      \u001b[34m│\u001b[0m\n",
       "\u001b[34m│\u001b[0m  \u001b[1;37m3. Best performing payment method: Credit card (automatic) (15.2% churn)\u001b[0m                                       \u001b[34m│\u001b[0m\n",
       "\u001b[34m│\u001b[0m  \u001b[1;37m4. Payment method churn gap: 30.0 percentage points\u001b[0m                                                            \u001b[34m│\u001b[0m\n",
       "\u001b[34m│\u001b[0m  \u001b[1;37m5. Total annual revenue at risk across all payment methods: $1,535,556\u001b[0m                                         \u001b[34m│\u001b[0m\n",
       "\u001b[34m│\u001b[0m                                                                                                                 \u001b[34m│\u001b[0m\n",
       "\u001b[34m│\u001b[0m                                                                                                                 \u001b[34m│\u001b[0m\n",
       "\u001b[34m╰─────────────────────────────────────────────────────────────────────────────────────────────────────────────────╯\u001b[0m\n"
      ]
     },
     "metadata": {},
     "output_type": "display_data"
    },
    {
     "name": "stdout",
     "output_type": "stream",
     "text": [
      "\n"
     ]
    },
    {
     "data": {
      "text/html": [
       "<pre style=\"white-space:pre;overflow-x:auto;line-height:normal;font-family:Menlo,'DejaVu Sans Mono',consolas,'Courier New',monospace\"><span style=\"color: #800000; text-decoration-color: #800000\">╭─────────────────────────────────────────────── 🚨 Critical Alert ───────────────────────────────────────────────╮</span>\n",
       "<span style=\"color: #800000; text-decoration-color: #800000\">│</span>                                                                                                                 <span style=\"color: #800000; text-decoration-color: #800000\">│</span>\n",
       "<span style=\"color: #800000; text-decoration-color: #800000\">│</span>  <span style=\"color: #800000; text-decoration-color: #800000; font-weight: bold\">Critical payment friction detected: Electronic check shows 45.3% churn</span>                                         <span style=\"color: #800000; text-decoration-color: #800000\">│</span>\n",
       "<span style=\"color: #800000; text-decoration-color: #800000\">│</span>                                                                                                                 <span style=\"color: #800000; text-decoration-color: #800000\">│</span>\n",
       "<span style=\"color: #800000; text-decoration-color: #800000\">│</span>  <span style=\"font-weight: bold\">Details:</span>                                                                                                       <span style=\"color: #800000; text-decoration-color: #800000\">│</span>\n",
       "<span style=\"color: #800000; text-decoration-color: #800000\">│</span>  <span style=\"color: #800000; text-decoration-color: #800000\">• Revenue impact: $980,040 annually</span>                                                                            <span style=\"color: #800000; text-decoration-color: #800000\">│</span>\n",
       "<span style=\"color: #800000; text-decoration-color: #800000\">│</span>  <span style=\"color: #800000; text-decoration-color: #800000\">• Investigate payment process friction</span>                                                                         <span style=\"color: #800000; text-decoration-color: #800000\">│</span>\n",
       "<span style=\"color: #800000; text-decoration-color: #800000\">│</span>  <span style=\"color: #800000; text-decoration-color: #800000\">• Migrate Electronic check users to Credit card (automatic)</span>                                                    <span style=\"color: #800000; text-decoration-color: #800000\">│</span>\n",
       "<span style=\"color: #800000; text-decoration-color: #800000\">│</span>  <span style=\"color: #800000; text-decoration-color: #800000\">• Consider payment method incentives or discounts</span>                                                              <span style=\"color: #800000; text-decoration-color: #800000\">│</span>\n",
       "<span style=\"color: #800000; text-decoration-color: #800000\">│</span>                                                                                                                 <span style=\"color: #800000; text-decoration-color: #800000\">│</span>\n",
       "<span style=\"color: #800000; text-decoration-color: #800000\">│</span>                                                                                                                 <span style=\"color: #800000; text-decoration-color: #800000\">│</span>\n",
       "<span style=\"color: #800000; text-decoration-color: #800000\">╰─────────────────────────────────────────────────────────────────────────────────────────────────────────────────╯</span>\n",
       "</pre>\n"
      ],
      "text/plain": [
       "\u001b[31m╭─\u001b[0m\u001b[31m──────────────────────────────────────────────\u001b[0m\u001b[31m 🚨 Critical Alert \u001b[0m\u001b[31m──────────────────────────────────────────────\u001b[0m\u001b[31m─╮\u001b[0m\n",
       "\u001b[31m│\u001b[0m                                                                                                                 \u001b[31m│\u001b[0m\n",
       "\u001b[31m│\u001b[0m  \u001b[1;31mCritical payment friction detected: Electronic check shows 45.3% churn\u001b[0m                                         \u001b[31m│\u001b[0m\n",
       "\u001b[31m│\u001b[0m                                                                                                                 \u001b[31m│\u001b[0m\n",
       "\u001b[31m│\u001b[0m  \u001b[1mDetails:\u001b[0m                                                                                                       \u001b[31m│\u001b[0m\n",
       "\u001b[31m│\u001b[0m  \u001b[31m• Revenue impact: $980,040 annually\u001b[0m                                                                            \u001b[31m│\u001b[0m\n",
       "\u001b[31m│\u001b[0m  \u001b[31m• Investigate payment process friction\u001b[0m                                                                         \u001b[31m│\u001b[0m\n",
       "\u001b[31m│\u001b[0m  \u001b[31m• Migrate Electronic check users to Credit card (automatic)\u001b[0m                                                    \u001b[31m│\u001b[0m\n",
       "\u001b[31m│\u001b[0m  \u001b[31m• Consider payment method incentives or discounts\u001b[0m                                                              \u001b[31m│\u001b[0m\n",
       "\u001b[31m│\u001b[0m                                                                                                                 \u001b[31m│\u001b[0m\n",
       "\u001b[31m│\u001b[0m                                                                                                                 \u001b[31m│\u001b[0m\n",
       "\u001b[31m╰─────────────────────────────────────────────────────────────────────────────────────────────────────────────────╯\u001b[0m\n"
      ]
     },
     "metadata": {},
     "output_type": "display_data"
    },
    {
     "name": "stdout",
     "output_type": "stream",
     "text": [
      "\n"
     ]
    }
   ],
   "source": [
    "# Cell: Payment Method Risk Analysis\n",
    "print(\"💳 PAYMENT METHOD REVENUE RISK\")\n",
    "print(\"=\" * 50)\n",
    "\n",
    "payment_analysis = df.group_by(\"PaymentMethod\").agg([\n",
    "    pl.col(\"customerID\").count().alias(\"total_customers\"),\n",
    "    (pl.col(\"Churn\") == \"Yes\").sum().alias(\"churned_customers\"),\n",
    "    pl.col(\"MonthlyCharges\").sum().alias(\"total_monthly_revenue\"),\n",
    "    pl.col(\"MonthlyCharges\").mean().alias(\"avg_monthly_charge\")\n",
    "]).with_columns([\n",
    "    (pl.col(\"churned_customers\") / pl.col(\"total_customers\") * 100).alias(\"churn_rate\"),\n",
    "    (pl.col(\"churned_customers\") * pl.col(\"avg_monthly_charge\") * 12).alias(\"annual_revenue_at_risk\")\n",
    "]).sort(\"churn_rate\", descending=True)\n",
    "\n",
    "# Display with Rich formatting\n",
    "create_rich_table(\n",
    "    df=payment_analysis,\n",
    "    title=\"Payment Method Risk Analysis\",\n",
    "    money_columns=[\"total_monthly_revenue\", \"avg_monthly_charge\", \"annual_revenue_at_risk\"],\n",
    "    percentage_columns=[\"churn_rate\"],\n",
    "    integer_columns=[\"total_customers\", \"churned_customers\"]\n",
    ")\n",
    "\n",
    "# Identify highest risk payment method\n",
    "highest_risk_payment = payment_analysis.filter(pl.col(\"churn_rate\") == pl.col(\"churn_rate\").max())\n",
    "lowest_risk_payment = payment_analysis.filter(pl.col(\"churn_rate\") == pl.col(\"churn_rate\").min())\n",
    "\n",
    "# Extract key metrics for insights\n",
    "highest_risk_method = highest_risk_payment[\"PaymentMethod\"][0]\n",
    "highest_risk_rate = highest_risk_payment[\"churn_rate\"][0]\n",
    "highest_risk_revenue = highest_risk_payment[\"annual_revenue_at_risk\"][0]\n",
    "\n",
    "lowest_risk_method = lowest_risk_payment[\"PaymentMethod\"][0]\n",
    "lowest_risk_rate = lowest_risk_payment[\"churn_rate\"][0]\n",
    "\n",
    "total_payment_risk = payment_analysis[\"annual_revenue_at_risk\"].sum()\n",
    "\n",
    "# Generate business insights\n",
    "insights = [\n",
    "    f\"Highest risk payment method: {highest_risk_method} ({highest_risk_rate:.1f}% churn)\",\n",
    "    f\"Annual revenue at risk from {highest_risk_method}: ${highest_risk_revenue:,.0f}\",\n",
    "    f\"Best performing payment method: {lowest_risk_method} ({lowest_risk_rate:.1f}% churn)\",\n",
    "    f\"Payment method churn gap: {highest_risk_rate - lowest_risk_rate:.1f} percentage points\",\n",
    "    f\"Total annual revenue at risk across all payment methods: ${total_payment_risk:,.0f}\"\n",
    "]\n",
    "\n",
    "display_insights_summary(insights, \"Payment Method Analysis Insights\")\n",
    "\n",
    "# Critical business alerts\n",
    "if highest_risk_rate > 40:\n",
    "    display_business_alert(\n",
    "        message=f\"Critical payment friction detected: {highest_risk_method} shows {highest_risk_rate:.1f}% churn\",\n",
    "        alert_type=\"critical\",\n",
    "        details=[\n",
    "            f\"Revenue impact: ${highest_risk_revenue:,.0f} annually\",\n",
    "            \"Investigate payment process friction\",\n",
    "            f\"Migrate {highest_risk_method} users to {lowest_risk_method}\",\n",
    "            \"Consider payment method incentives or discounts\"\n",
    "        ]\n",
    "    )\n",
    "elif highest_risk_rate > 25:\n",
    "    display_business_alert(\n",
    "        message=f\"Payment method concern: {highest_risk_method} exceeds 25% churn threshold\",\n",
    "        alert_type=\"warning\",\n",
    "        details=[\n",
    "            f\"Monitor {highest_risk_method} customer satisfaction\",\n",
    "            \"Consider payment process improvements\",\n",
    "            f\"Promote {lowest_risk_method} as preferred option\"\n",
    "        ]\n",
    "    )\n",
    "else:\n",
    "    display_business_alert(\n",
    "        message=\"Payment method performance within acceptable ranges\",\n",
    "        alert_type=\"success\",\n",
    "        details=[\n",
    "            \"Continue monitoring payment method trends\",\n",
    "            \"Maintain current payment options\"\n",
    "        ]\n",
    "    )\n"
   ]
  },
  {
   "cell_type": "code",
   "execution_count": 28,
   "metadata": {
    "scrolled": true
   },
   "outputs": [
    {
     "data": {
      "text/html": [
       "<pre style=\"white-space:pre;overflow-x:auto;line-height:normal;font-family:Menlo,'DejaVu Sans Mono',consolas,'Courier New',monospace\">📱 SERVICE ADOPTION REVENUE IMPACT\n",
       "</pre>\n"
      ],
      "text/plain": [
       "📱 SERVICE ADOPTION REVENUE IMPACT\n"
      ]
     },
     "metadata": {},
     "output_type": "display_data"
    },
    {
     "data": {
      "text/html": [
       "<pre style=\"white-space:pre;overflow-x:auto;line-height:normal;font-family:Menlo,'DejaVu Sans Mono',consolas,'Courier New',monospace\">==================================================\n",
       "</pre>\n"
      ],
      "text/plain": [
       "==================================================\n"
      ]
     },
     "metadata": {},
     "output_type": "display_data"
    },
    {
     "data": {
      "text/html": [
       "<pre style=\"white-space:pre;overflow-x:auto;line-height:normal;font-family:Menlo,'DejaVu Sans Mono',consolas,'Courier New',monospace\"><span style=\"color: #008000; text-decoration-color: #008000; font-weight: bold\">                                     📊 Internet Service Type Revenue Analysis                                     </span>\n",
       "╭────────────────┬────────────────┬────────────────┬────────────────┬───────────────┬────────────┬────────────────╮\n",
       "│<span style=\"color: #000080; text-decoration-color: #000080; font-weight: bold\">                </span>│<span style=\"color: #000080; text-decoration-color: #000080; font-weight: bold\">          Total </span>│<span style=\"color: #000080; text-decoration-color: #000080; font-weight: bold\">        Churned </span>│<span style=\"color: #000080; text-decoration-color: #000080; font-weight: bold\">    Avg Monthly </span>│<span style=\"color: #000080; text-decoration-color: #000080; font-weight: bold\"> Total Monthly </span>│<span style=\"color: #000080; text-decoration-color: #000080; font-weight: bold\">            </span>│<span style=\"color: #000080; text-decoration-color: #000080; font-weight: bold\"> Annual Revenue </span>│\n",
       "│<span style=\"color: #000080; text-decoration-color: #000080; font-weight: bold\"> Internetservi… </span>│<span style=\"color: #000080; text-decoration-color: #000080; font-weight: bold\">      Customers </span>│<span style=\"color: #000080; text-decoration-color: #000080; font-weight: bold\">      Customers </span>│<span style=\"color: #000080; text-decoration-color: #000080; font-weight: bold\">         Charge </span>│<span style=\"color: #000080; text-decoration-color: #000080; font-weight: bold\">       Revenue </span>│<span style=\"color: #000080; text-decoration-color: #000080; font-weight: bold\"> Churn Rate </span>│<span style=\"color: #000080; text-decoration-color: #000080; font-weight: bold\">        At Risk </span>│\n",
       "├────────────────┼────────────────┼────────────────┼────────────────┼───────────────┼────────────┼────────────────┤\n",
       "│ Fiber optic    │<span style=\"color: #7f7f7f; text-decoration-color: #7f7f7f\">          3,096 </span>│<span style=\"color: #7f7f7f; text-decoration-color: #7f7f7f\">          1,297 </span>│            <span style=\"color: #008000; text-decoration-color: #008000\">$92</span> │      <span style=\"color: #008000; text-decoration-color: #008000\">$283,284</span> │      <span style=\"color: #800000; text-decoration-color: #800000\">41.9%</span> │     <span style=\"color: #008000; text-decoration-color: #008000\">$1,424,108</span> │\n",
       "├────────────────┼────────────────┼────────────────┼────────────────┼───────────────┼────────────┼────────────────┤\n",
       "│ No             │<span style=\"color: #7f7f7f; text-decoration-color: #7f7f7f\">          1,526 </span>│<span style=\"color: #7f7f7f; text-decoration-color: #7f7f7f\">            113 </span>│            <span style=\"color: #008000; text-decoration-color: #008000\">$21</span> │       <span style=\"color: #008000; text-decoration-color: #008000\">$32,167</span> │       <span style=\"color: #008000; text-decoration-color: #008000\">7.4%</span> │        <span style=\"color: #008000; text-decoration-color: #008000\">$28,583</span> │\n",
       "├────────────────┼────────────────┼────────────────┼────────────────┼───────────────┼────────────┼────────────────┤\n",
       "│ DSL            │<span style=\"color: #7f7f7f; text-decoration-color: #7f7f7f\">          2,421 </span>│<span style=\"color: #7f7f7f; text-decoration-color: #7f7f7f\">            459 </span>│            <span style=\"color: #008000; text-decoration-color: #008000\">$58</span> │      <span style=\"color: #008000; text-decoration-color: #008000\">$140,665</span> │      <span style=\"color: #008000; text-decoration-color: #008000\">19.0%</span> │       <span style=\"color: #008000; text-decoration-color: #008000\">$320,027</span> │\n",
       "╰────────────────┴────────────────┴────────────────┴────────────────┴───────────────┴────────────┴────────────────╯\n",
       "</pre>\n"
      ],
      "text/plain": [
       "\u001b[1;32m                                     📊 Internet Service Type Revenue Analysis                                     \u001b[0m\n",
       "╭────────────────┬────────────────┬────────────────┬────────────────┬───────────────┬────────────┬────────────────╮\n",
       "│\u001b[1;34m                \u001b[0m│\u001b[1;34m \u001b[0m\u001b[1;34m         Total\u001b[0m\u001b[1;34m \u001b[0m│\u001b[1;34m \u001b[0m\u001b[1;34m       Churned\u001b[0m\u001b[1;34m \u001b[0m│\u001b[1;34m \u001b[0m\u001b[1;34m   Avg Monthly\u001b[0m\u001b[1;34m \u001b[0m│\u001b[1;34m \u001b[0m\u001b[1;34mTotal Monthly\u001b[0m\u001b[1;34m \u001b[0m│\u001b[1;34m            \u001b[0m│\u001b[1;34m \u001b[0m\u001b[1;34mAnnual Revenue\u001b[0m\u001b[1;34m \u001b[0m│\n",
       "│\u001b[1;34m \u001b[0m\u001b[1;34mInternetservi…\u001b[0m\u001b[1;34m \u001b[0m│\u001b[1;34m \u001b[0m\u001b[1;34m     Customers\u001b[0m\u001b[1;34m \u001b[0m│\u001b[1;34m \u001b[0m\u001b[1;34m     Customers\u001b[0m\u001b[1;34m \u001b[0m│\u001b[1;34m \u001b[0m\u001b[1;34m        Charge\u001b[0m\u001b[1;34m \u001b[0m│\u001b[1;34m \u001b[0m\u001b[1;34m      Revenue\u001b[0m\u001b[1;34m \u001b[0m│\u001b[1;34m \u001b[0m\u001b[1;34mChurn Rate\u001b[0m\u001b[1;34m \u001b[0m│\u001b[1;34m \u001b[0m\u001b[1;34m       At Risk\u001b[0m\u001b[1;34m \u001b[0m│\n",
       "├────────────────┼────────────────┼────────────────┼────────────────┼───────────────┼────────────┼────────────────┤\n",
       "│ Fiber optic    │\u001b[2m \u001b[0m\u001b[2m         3,096\u001b[0m\u001b[2m \u001b[0m│\u001b[2m \u001b[0m\u001b[2m         1,297\u001b[0m\u001b[2m \u001b[0m│            \u001b[32m$92\u001b[0m │      \u001b[32m$283,284\u001b[0m │      \u001b[31m41.9%\u001b[0m │     \u001b[32m$1,424,108\u001b[0m │\n",
       "├────────────────┼────────────────┼────────────────┼────────────────┼───────────────┼────────────┼────────────────┤\n",
       "│ No             │\u001b[2m \u001b[0m\u001b[2m         1,526\u001b[0m\u001b[2m \u001b[0m│\u001b[2m \u001b[0m\u001b[2m           113\u001b[0m\u001b[2m \u001b[0m│            \u001b[32m$21\u001b[0m │       \u001b[32m$32,167\u001b[0m │       \u001b[32m7.4%\u001b[0m │        \u001b[32m$28,583\u001b[0m │\n",
       "├────────────────┼────────────────┼────────────────┼────────────────┼───────────────┼────────────┼────────────────┤\n",
       "│ DSL            │\u001b[2m \u001b[0m\u001b[2m         2,421\u001b[0m\u001b[2m \u001b[0m│\u001b[2m \u001b[0m\u001b[2m           459\u001b[0m\u001b[2m \u001b[0m│            \u001b[32m$58\u001b[0m │      \u001b[32m$140,665\u001b[0m │      \u001b[32m19.0%\u001b[0m │       \u001b[32m$320,027\u001b[0m │\n",
       "╰────────────────┴────────────────┴────────────────┴────────────────┴───────────────┴────────────┴────────────────╯\n"
      ]
     },
     "metadata": {},
     "output_type": "display_data"
    },
    {
     "name": "stdout",
     "output_type": "stream",
     "text": [
      "\n"
     ]
    },
    {
     "data": {
      "text/html": [
       "<pre style=\"white-space:pre;overflow-x:auto;line-height:normal;font-family:Menlo,'DejaVu Sans Mono',consolas,'Courier New',monospace\">\n",
       "🔢 SERVICE BUNDLE ANALYSIS\n",
       "</pre>\n"
      ],
      "text/plain": [
       "\n",
       "🔢 SERVICE BUNDLE ANALYSIS\n"
      ]
     },
     "metadata": {},
     "output_type": "display_data"
    },
    {
     "data": {
      "text/html": [
       "<pre style=\"white-space:pre;overflow-x:auto;line-height:normal;font-family:Menlo,'DejaVu Sans Mono',consolas,'Courier New',monospace\">==================================================\n",
       "</pre>\n"
      ],
      "text/plain": [
       "==================================================\n"
      ]
     },
     "metadata": {},
     "output_type": "display_data"
    },
    {
     "data": {
      "text/html": [
       "<pre style=\"white-space:pre;overflow-x:auto;line-height:normal;font-family:Menlo,'DejaVu Sans Mono',consolas,'Courier New',monospace\"><span style=\"color: #008000; text-decoration-color: #008000; font-weight: bold\">                            📊 Churn Rate by Number of Services                             </span>\n",
       "╭────────────────┬───────────┬─────────┬─────────────┬────────────┬────────────────────────╮\n",
       "│<span style=\"color: #000080; text-decoration-color: #000080; font-weight: bold\"> Total Services </span>│<span style=\"color: #000080; text-decoration-color: #000080; font-weight: bold\"> Customers </span>│<span style=\"color: #000080; text-decoration-color: #000080; font-weight: bold\"> Churned </span>│<span style=\"color: #000080; text-decoration-color: #000080; font-weight: bold\"> Avg Monthly </span>│<span style=\"color: #000080; text-decoration-color: #000080; font-weight: bold\"> Churn Rate </span>│<span style=\"color: #000080; text-decoration-color: #000080; font-weight: bold\"> Annual Revenue At Risk </span>│\n",
       "├────────────────┼───────────┼─────────┼─────────────┼────────────┼────────────────────────┤\n",
       "│<span style=\"color: #7f7f7f; text-decoration-color: #7f7f7f\">              0 </span>│<span style=\"color: #7f7f7f; text-decoration-color: #7f7f7f\">        80 </span>│<span style=\"color: #7f7f7f; text-decoration-color: #7f7f7f\">      35 </span>│         <span style=\"color: #008000; text-decoration-color: #008000\">$25</span> │      <span style=\"color: #800000; text-decoration-color: #800000\">43.8%</span> │                <span style=\"color: #008000; text-decoration-color: #008000\">$10,460</span> │\n",
       "├────────────────┼───────────┼─────────┼─────────────┼────────────┼────────────────────────┤\n",
       "│<span style=\"color: #7f7f7f; text-decoration-color: #7f7f7f\">              1 </span>│<span style=\"color: #7f7f7f; text-decoration-color: #7f7f7f\">     2,253 </span>│<span style=\"color: #7f7f7f; text-decoration-color: #7f7f7f\">     488 </span>│         <span style=\"color: #008000; text-decoration-color: #008000\">$33</span> │      <span style=\"color: #808000; text-decoration-color: #808000\">21.7%</span> │               <span style=\"color: #008000; text-decoration-color: #008000\">$193,241</span> │\n",
       "├────────────────┼───────────┼─────────┼─────────────┼────────────┼────────────────────────┤\n",
       "│<span style=\"color: #7f7f7f; text-decoration-color: #7f7f7f\">              2 </span>│<span style=\"color: #7f7f7f; text-decoration-color: #7f7f7f\">       996 </span>│<span style=\"color: #7f7f7f; text-decoration-color: #7f7f7f\">     433 </span>│         <span style=\"color: #008000; text-decoration-color: #008000\">$66</span> │      <span style=\"color: #800000; text-decoration-color: #800000\">43.5%</span> │               <span style=\"color: #008000; text-decoration-color: #008000\">$340,483</span> │\n",
       "├────────────────┼───────────┼─────────┼─────────────┼────────────┼────────────────────────┤\n",
       "│<span style=\"color: #7f7f7f; text-decoration-color: #7f7f7f\">              3 </span>│<span style=\"color: #7f7f7f; text-decoration-color: #7f7f7f\">     1,041 </span>│<span style=\"color: #7f7f7f; text-decoration-color: #7f7f7f\">     361 </span>│         <span style=\"color: #008000; text-decoration-color: #008000\">$73</span> │      <span style=\"color: #800000; text-decoration-color: #800000\">34.7%</span> │               <span style=\"color: #008000; text-decoration-color: #008000\">$316,949</span> │\n",
       "├────────────────┼───────────┼─────────┼─────────────┼────────────┼────────────────────────┤\n",
       "│<span style=\"color: #7f7f7f; text-decoration-color: #7f7f7f\">              4 </span>│<span style=\"color: #7f7f7f; text-decoration-color: #7f7f7f\">     1,062 </span>│<span style=\"color: #7f7f7f; text-decoration-color: #7f7f7f\">     289 </span>│         <span style=\"color: #008000; text-decoration-color: #008000\">$83</span> │      <span style=\"color: #808000; text-decoration-color: #808000\">27.2%</span> │               <span style=\"color: #008000; text-decoration-color: #008000\">$286,347</span> │\n",
       "├────────────────┼───────────┼─────────┼─────────────┼────────────┼────────────────────────┤\n",
       "│<span style=\"color: #7f7f7f; text-decoration-color: #7f7f7f\">              5 </span>│<span style=\"color: #7f7f7f; text-decoration-color: #7f7f7f\">       827 </span>│<span style=\"color: #7f7f7f; text-decoration-color: #7f7f7f\">     182 </span>│         <span style=\"color: #008000; text-decoration-color: #008000\">$89</span> │      <span style=\"color: #808000; text-decoration-color: #808000\">22.0%</span> │               <span style=\"color: #008000; text-decoration-color: #008000\">$195,351</span> │\n",
       "├────────────────┼───────────┼─────────┼─────────────┼────────────┼────────────────────────┤\n",
       "│<span style=\"color: #7f7f7f; text-decoration-color: #7f7f7f\">              6 </span>│<span style=\"color: #7f7f7f; text-decoration-color: #7f7f7f\">       525 </span>│<span style=\"color: #7f7f7f; text-decoration-color: #7f7f7f\">      66 </span>│         <span style=\"color: #008000; text-decoration-color: #008000\">$95</span> │      <span style=\"color: #008000; text-decoration-color: #008000\">12.6%</span> │                <span style=\"color: #008000; text-decoration-color: #008000\">$75,564</span> │\n",
       "├────────────────┼───────────┼─────────┼─────────────┼────────────┼────────────────────────┤\n",
       "│<span style=\"color: #7f7f7f; text-decoration-color: #7f7f7f\">              7 </span>│<span style=\"color: #7f7f7f; text-decoration-color: #7f7f7f\">       259 </span>│<span style=\"color: #7f7f7f; text-decoration-color: #7f7f7f\">      15 </span>│        <span style=\"color: #008000; text-decoration-color: #008000\">$103</span> │       <span style=\"color: #008000; text-decoration-color: #008000\">5.8%</span> │                <span style=\"color: #008000; text-decoration-color: #008000\">$18,485</span> │\n",
       "╰────────────────┴───────────┴─────────┴─────────────┴────────────┴────────────────────────╯\n",
       "</pre>\n"
      ],
      "text/plain": [
       "\u001b[1;32m                            📊 Churn Rate by Number of Services                             \u001b[0m\n",
       "╭────────────────┬───────────┬─────────┬─────────────┬────────────┬────────────────────────╮\n",
       "│\u001b[1;34m \u001b[0m\u001b[1;34mTotal Services\u001b[0m\u001b[1;34m \u001b[0m│\u001b[1;34m \u001b[0m\u001b[1;34mCustomers\u001b[0m\u001b[1;34m \u001b[0m│\u001b[1;34m \u001b[0m\u001b[1;34mChurned\u001b[0m\u001b[1;34m \u001b[0m│\u001b[1;34m \u001b[0m\u001b[1;34mAvg Monthly\u001b[0m\u001b[1;34m \u001b[0m│\u001b[1;34m \u001b[0m\u001b[1;34mChurn Rate\u001b[0m\u001b[1;34m \u001b[0m│\u001b[1;34m \u001b[0m\u001b[1;34mAnnual Revenue At Risk\u001b[0m\u001b[1;34m \u001b[0m│\n",
       "├────────────────┼───────────┼─────────┼─────────────┼────────────┼────────────────────────┤\n",
       "│\u001b[2m \u001b[0m\u001b[2m             0\u001b[0m\u001b[2m \u001b[0m│\u001b[2m \u001b[0m\u001b[2m       80\u001b[0m\u001b[2m \u001b[0m│\u001b[2m \u001b[0m\u001b[2m     35\u001b[0m\u001b[2m \u001b[0m│         \u001b[32m$25\u001b[0m │      \u001b[31m43.8%\u001b[0m │                \u001b[32m$10,460\u001b[0m │\n",
       "├────────────────┼───────────┼─────────┼─────────────┼────────────┼────────────────────────┤\n",
       "│\u001b[2m \u001b[0m\u001b[2m             1\u001b[0m\u001b[2m \u001b[0m│\u001b[2m \u001b[0m\u001b[2m    2,253\u001b[0m\u001b[2m \u001b[0m│\u001b[2m \u001b[0m\u001b[2m    488\u001b[0m\u001b[2m \u001b[0m│         \u001b[32m$33\u001b[0m │      \u001b[33m21.7%\u001b[0m │               \u001b[32m$193,241\u001b[0m │\n",
       "├────────────────┼───────────┼─────────┼─────────────┼────────────┼────────────────────────┤\n",
       "│\u001b[2m \u001b[0m\u001b[2m             2\u001b[0m\u001b[2m \u001b[0m│\u001b[2m \u001b[0m\u001b[2m      996\u001b[0m\u001b[2m \u001b[0m│\u001b[2m \u001b[0m\u001b[2m    433\u001b[0m\u001b[2m \u001b[0m│         \u001b[32m$66\u001b[0m │      \u001b[31m43.5%\u001b[0m │               \u001b[32m$340,483\u001b[0m │\n",
       "├────────────────┼───────────┼─────────┼─────────────┼────────────┼────────────────────────┤\n",
       "│\u001b[2m \u001b[0m\u001b[2m             3\u001b[0m\u001b[2m \u001b[0m│\u001b[2m \u001b[0m\u001b[2m    1,041\u001b[0m\u001b[2m \u001b[0m│\u001b[2m \u001b[0m\u001b[2m    361\u001b[0m\u001b[2m \u001b[0m│         \u001b[32m$73\u001b[0m │      \u001b[31m34.7%\u001b[0m │               \u001b[32m$316,949\u001b[0m │\n",
       "├────────────────┼───────────┼─────────┼─────────────┼────────────┼────────────────────────┤\n",
       "│\u001b[2m \u001b[0m\u001b[2m             4\u001b[0m\u001b[2m \u001b[0m│\u001b[2m \u001b[0m\u001b[2m    1,062\u001b[0m\u001b[2m \u001b[0m│\u001b[2m \u001b[0m\u001b[2m    289\u001b[0m\u001b[2m \u001b[0m│         \u001b[32m$83\u001b[0m │      \u001b[33m27.2%\u001b[0m │               \u001b[32m$286,347\u001b[0m │\n",
       "├────────────────┼───────────┼─────────┼─────────────┼────────────┼────────────────────────┤\n",
       "│\u001b[2m \u001b[0m\u001b[2m             5\u001b[0m\u001b[2m \u001b[0m│\u001b[2m \u001b[0m\u001b[2m      827\u001b[0m\u001b[2m \u001b[0m│\u001b[2m \u001b[0m\u001b[2m    182\u001b[0m\u001b[2m \u001b[0m│         \u001b[32m$89\u001b[0m │      \u001b[33m22.0%\u001b[0m │               \u001b[32m$195,351\u001b[0m │\n",
       "├────────────────┼───────────┼─────────┼─────────────┼────────────┼────────────────────────┤\n",
       "│\u001b[2m \u001b[0m\u001b[2m             6\u001b[0m\u001b[2m \u001b[0m│\u001b[2m \u001b[0m\u001b[2m      525\u001b[0m\u001b[2m \u001b[0m│\u001b[2m \u001b[0m\u001b[2m     66\u001b[0m\u001b[2m \u001b[0m│         \u001b[32m$95\u001b[0m │      \u001b[32m12.6%\u001b[0m │                \u001b[32m$75,564\u001b[0m │\n",
       "├────────────────┼───────────┼─────────┼─────────────┼────────────┼────────────────────────┤\n",
       "│\u001b[2m \u001b[0m\u001b[2m             7\u001b[0m\u001b[2m \u001b[0m│\u001b[2m \u001b[0m\u001b[2m      259\u001b[0m\u001b[2m \u001b[0m│\u001b[2m \u001b[0m\u001b[2m     15\u001b[0m\u001b[2m \u001b[0m│        \u001b[32m$103\u001b[0m │       \u001b[32m5.8%\u001b[0m │                \u001b[32m$18,485\u001b[0m │\n",
       "╰────────────────┴───────────┴─────────┴─────────────┴────────────┴────────────────────────╯\n"
      ]
     },
     "metadata": {},
     "output_type": "display_data"
    },
    {
     "name": "stdout",
     "output_type": "stream",
     "text": [
      "\n"
     ]
    },
    {
     "data": {
      "text/html": [
       "<pre style=\"white-space:pre;overflow-x:auto;line-height:normal;font-family:Menlo,'DejaVu Sans Mono',consolas,'Courier New',monospace\">\n",
       "📋 INDIVIDUAL SERVICE IMPACT ANALYSIS\n",
       "</pre>\n"
      ],
      "text/plain": [
       "\n",
       "📋 INDIVIDUAL SERVICE IMPACT ANALYSIS\n"
      ]
     },
     "metadata": {},
     "output_type": "display_data"
    },
    {
     "data": {
      "text/html": [
       "<pre style=\"white-space:pre;overflow-x:auto;line-height:normal;font-family:Menlo,'DejaVu Sans Mono',consolas,'Courier New',monospace\">==================================================\n",
       "</pre>\n"
      ],
      "text/plain": [
       "==================================================\n"
      ]
     },
     "metadata": {},
     "output_type": "display_data"
    },
    {
     "name": "stderr",
     "output_type": "stream",
     "text": [
      "C:\\Users\\joaqu\\AppData\\Local\\Temp\\ipykernel_10248\\1846903040.py:79: DeprecationWarning:\n",
      "\n",
      "the argument `columns` for `DataFrame.pivot` is deprecated. It was renamed to `on` in version 1.0.0.\n",
      "\n"
     ]
    },
    {
     "data": {
      "text/html": [
       "<pre style=\"white-space:pre;overflow-x:auto;line-height:normal;font-family:Menlo,'DejaVu Sans Mono',consolas,'Courier New',monospace\"><span style=\"color: #008000; text-decoration-color: #008000; font-weight: bold\">                 📊 Individual Service Churn Analysis                  </span>\n",
       "╭──────────────────┬─────────────────┬───────────────────┬────────────╮\n",
       "│<span style=\"color: #000080; text-decoration-color: #000080; font-weight: bold\"> Service          </span>│<span style=\"color: #000080; text-decoration-color: #000080; font-weight: bold\"> Total Customers </span>│<span style=\"color: #000080; text-decoration-color: #000080; font-weight: bold\"> Churned Customers </span>│<span style=\"color: #000080; text-decoration-color: #000080; font-weight: bold\"> Churn Rate </span>│\n",
       "├──────────────────┼─────────────────┼───────────────────┼────────────┤\n",
       "│ StreamingTV      │<span style=\"color: #7f7f7f; text-decoration-color: #7f7f7f\">           2,707 </span>│<span style=\"color: #7f7f7f; text-decoration-color: #7f7f7f\">               814 </span>│      <span style=\"color: #800000; text-decoration-color: #800000\">30.1%</span> │\n",
       "├──────────────────┼─────────────────┼───────────────────┼────────────┤\n",
       "│ StreamingMovies  │<span style=\"color: #7f7f7f; text-decoration-color: #7f7f7f\">           2,732 </span>│<span style=\"color: #7f7f7f; text-decoration-color: #7f7f7f\">               818 </span>│      <span style=\"color: #808000; text-decoration-color: #808000\">29.9%</span> │\n",
       "├──────────────────┼─────────────────┼───────────────────┼────────────┤\n",
       "│ PhoneService     │<span style=\"color: #7f7f7f; text-decoration-color: #7f7f7f\">           6,361 </span>│<span style=\"color: #7f7f7f; text-decoration-color: #7f7f7f\">             1,699 </span>│      <span style=\"color: #808000; text-decoration-color: #808000\">26.7%</span> │\n",
       "├──────────────────┼─────────────────┼───────────────────┼────────────┤\n",
       "│ DeviceProtection │<span style=\"color: #7f7f7f; text-decoration-color: #7f7f7f\">           2,422 </span>│<span style=\"color: #7f7f7f; text-decoration-color: #7f7f7f\">               545 </span>│      <span style=\"color: #808000; text-decoration-color: #808000\">22.5%</span> │\n",
       "├──────────────────┼─────────────────┼───────────────────┼────────────┤\n",
       "│ OnlineBackup     │<span style=\"color: #7f7f7f; text-decoration-color: #7f7f7f\">           2,429 </span>│<span style=\"color: #7f7f7f; text-decoration-color: #7f7f7f\">               523 </span>│      <span style=\"color: #808000; text-decoration-color: #808000\">21.5%</span> │\n",
       "├──────────────────┼─────────────────┼───────────────────┼────────────┤\n",
       "│ TechSupport      │<span style=\"color: #7f7f7f; text-decoration-color: #7f7f7f\">           2,044 </span>│<span style=\"color: #7f7f7f; text-decoration-color: #7f7f7f\">               310 </span>│      <span style=\"color: #008000; text-decoration-color: #008000\">15.2%</span> │\n",
       "├──────────────────┼─────────────────┼───────────────────┼────────────┤\n",
       "│ OnlineSecurity   │<span style=\"color: #7f7f7f; text-decoration-color: #7f7f7f\">           2,019 </span>│<span style=\"color: #7f7f7f; text-decoration-color: #7f7f7f\">               295 </span>│      <span style=\"color: #008000; text-decoration-color: #008000\">14.6%</span> │\n",
       "╰──────────────────┴─────────────────┴───────────────────┴────────────╯\n",
       "</pre>\n"
      ],
      "text/plain": [
       "\u001b[1;32m                 📊 Individual Service Churn Analysis                  \u001b[0m\n",
       "╭──────────────────┬─────────────────┬───────────────────┬────────────╮\n",
       "│\u001b[1;34m \u001b[0m\u001b[1;34mService         \u001b[0m\u001b[1;34m \u001b[0m│\u001b[1;34m \u001b[0m\u001b[1;34mTotal Customers\u001b[0m\u001b[1;34m \u001b[0m│\u001b[1;34m \u001b[0m\u001b[1;34mChurned Customers\u001b[0m\u001b[1;34m \u001b[0m│\u001b[1;34m \u001b[0m\u001b[1;34mChurn Rate\u001b[0m\u001b[1;34m \u001b[0m│\n",
       "├──────────────────┼─────────────────┼───────────────────┼────────────┤\n",
       "│ StreamingTV      │\u001b[2m \u001b[0m\u001b[2m          2,707\u001b[0m\u001b[2m \u001b[0m│\u001b[2m \u001b[0m\u001b[2m              814\u001b[0m\u001b[2m \u001b[0m│      \u001b[31m30.1%\u001b[0m │\n",
       "├──────────────────┼─────────────────┼───────────────────┼────────────┤\n",
       "│ StreamingMovies  │\u001b[2m \u001b[0m\u001b[2m          2,732\u001b[0m\u001b[2m \u001b[0m│\u001b[2m \u001b[0m\u001b[2m              818\u001b[0m\u001b[2m \u001b[0m│      \u001b[33m29.9%\u001b[0m │\n",
       "├──────────────────┼─────────────────┼───────────────────┼────────────┤\n",
       "│ PhoneService     │\u001b[2m \u001b[0m\u001b[2m          6,361\u001b[0m\u001b[2m \u001b[0m│\u001b[2m \u001b[0m\u001b[2m            1,699\u001b[0m\u001b[2m \u001b[0m│      \u001b[33m26.7%\u001b[0m │\n",
       "├──────────────────┼─────────────────┼───────────────────┼────────────┤\n",
       "│ DeviceProtection │\u001b[2m \u001b[0m\u001b[2m          2,422\u001b[0m\u001b[2m \u001b[0m│\u001b[2m \u001b[0m\u001b[2m              545\u001b[0m\u001b[2m \u001b[0m│      \u001b[33m22.5%\u001b[0m │\n",
       "├──────────────────┼─────────────────┼───────────────────┼────────────┤\n",
       "│ OnlineBackup     │\u001b[2m \u001b[0m\u001b[2m          2,429\u001b[0m\u001b[2m \u001b[0m│\u001b[2m \u001b[0m\u001b[2m              523\u001b[0m\u001b[2m \u001b[0m│      \u001b[33m21.5%\u001b[0m │\n",
       "├──────────────────┼─────────────────┼───────────────────┼────────────┤\n",
       "│ TechSupport      │\u001b[2m \u001b[0m\u001b[2m          2,044\u001b[0m\u001b[2m \u001b[0m│\u001b[2m \u001b[0m\u001b[2m              310\u001b[0m\u001b[2m \u001b[0m│      \u001b[32m15.2%\u001b[0m │\n",
       "├──────────────────┼─────────────────┼───────────────────┼────────────┤\n",
       "│ OnlineSecurity   │\u001b[2m \u001b[0m\u001b[2m          2,019\u001b[0m\u001b[2m \u001b[0m│\u001b[2m \u001b[0m\u001b[2m              295\u001b[0m\u001b[2m \u001b[0m│      \u001b[32m14.6%\u001b[0m │\n",
       "╰──────────────────┴─────────────────┴───────────────────┴────────────╯\n"
      ]
     },
     "metadata": {},
     "output_type": "display_data"
    },
    {
     "name": "stdout",
     "output_type": "stream",
     "text": [
      "\n"
     ]
    },
    {
     "data": {
      "text/html": [
       "<pre style=\"white-space:pre;overflow-x:auto;line-height:normal;font-family:Menlo,'DejaVu Sans Mono',consolas,'Courier New',monospace\">\n",
       "💡 SERVICE ADOPTION INSIGHTS\n",
       "</pre>\n"
      ],
      "text/plain": [
       "\n",
       "💡 SERVICE ADOPTION INSIGHTS\n"
      ]
     },
     "metadata": {},
     "output_type": "display_data"
    },
    {
     "data": {
      "text/html": [
       "<pre style=\"white-space:pre;overflow-x:auto;line-height:normal;font-family:Menlo,'DejaVu Sans Mono',consolas,'Courier New',monospace\">==================================================\n",
       "</pre>\n"
      ],
      "text/plain": [
       "==================================================\n"
      ]
     },
     "metadata": {},
     "output_type": "display_data"
    },
    {
     "data": {
      "text/html": [
       "<pre style=\"white-space:pre;overflow-x:auto;line-height:normal;font-family:Menlo,'DejaVu Sans Mono',consolas,'Courier New',monospace\"><span style=\"color: #000080; text-decoration-color: #000080\">╭───────────────────────────────────── 💡 Service Adoption Analysis Insights ─────────────────────────────────────╮</span>\n",
       "<span style=\"color: #000080; text-decoration-color: #000080\">│</span>                                                                                                                 <span style=\"color: #000080; text-decoration-color: #000080\">│</span>\n",
       "<span style=\"color: #000080; text-decoration-color: #000080\">│</span>  <span style=\"color: #c0c0c0; text-decoration-color: #c0c0c0; font-weight: bold\">1. Fiber optic customers show 41.9% churn vs DSL at 19.0%</span>                                                      <span style=\"color: #000080; text-decoration-color: #000080\">│</span>\n",
       "<span style=\"color: #000080; text-decoration-color: #000080\">│</span>  <span style=\"color: #c0c0c0; text-decoration-color: #c0c0c0; font-weight: bold\">2. Fiber optic revenue at risk: $1,424,108 annually</span>                                                            <span style=\"color: #000080; text-decoration-color: #000080\">│</span>\n",
       "<span style=\"color: #000080; text-decoration-color: #000080\">│</span>  <span style=\"color: #c0c0c0; text-decoration-color: #c0c0c0; font-weight: bold\">3. Optimal service count: 7 services (5.8% churn)</span>                                                              <span style=\"color: #000080; text-decoration-color: #000080\">│</span>\n",
       "<span style=\"color: #000080; text-decoration-color: #000080\">│</span>  <span style=\"color: #c0c0c0; text-decoration-color: #c0c0c0; font-weight: bold\">4. Highest risk: 0 services (43.8% churn)</span>                                                                      <span style=\"color: #000080; text-decoration-color: #000080\">│</span>\n",
       "<span style=\"color: #000080; text-decoration-color: #000080\">│</span>  <span style=\"color: #c0c0c0; text-decoration-color: #c0c0c0; font-weight: bold\">5. Service bundle strategy impact: 38.0 percentage points</span>                                                      <span style=\"color: #000080; text-decoration-color: #000080\">│</span>\n",
       "<span style=\"color: #000080; text-decoration-color: #000080\">│</span>  <span style=\"color: #c0c0c0; text-decoration-color: #c0c0c0; font-weight: bold\">6. Most sticky service: OnlineSecurity (14.6% churn)</span>                                                           <span style=\"color: #000080; text-decoration-color: #000080\">│</span>\n",
       "<span style=\"color: #000080; text-decoration-color: #000080\">│</span>  <span style=\"color: #c0c0c0; text-decoration-color: #c0c0c0; font-weight: bold\">7. Highest risk service: StreamingTV (30.1% churn)</span>                                                             <span style=\"color: #000080; text-decoration-color: #000080\">│</span>\n",
       "<span style=\"color: #000080; text-decoration-color: #000080\">│</span>  <span style=\"color: #c0c0c0; text-decoration-color: #c0c0c0; font-weight: bold\">8. Service bundling appears to impact customer retention</span>                                                       <span style=\"color: #000080; text-decoration-color: #000080\">│</span>\n",
       "<span style=\"color: #000080; text-decoration-color: #000080\">│</span>  <span style=\"color: #c0c0c0; text-decoration-color: #c0c0c0; font-weight: bold\">9. Internet service type significantly affects churn behavior</span>                                                  <span style=\"color: #000080; text-decoration-color: #000080\">│</span>\n",
       "<span style=\"color: #000080; text-decoration-color: #000080\">│</span>  <span style=\"color: #c0c0c0; text-decoration-color: #c0c0c0; font-weight: bold\">10. Individual services show varying retention effectiveness</span>                                                   <span style=\"color: #000080; text-decoration-color: #000080\">│</span>\n",
       "<span style=\"color: #000080; text-decoration-color: #000080\">│</span>                                                                                                                 <span style=\"color: #000080; text-decoration-color: #000080\">│</span>\n",
       "<span style=\"color: #000080; text-decoration-color: #000080\">│</span>                                                                                                                 <span style=\"color: #000080; text-decoration-color: #000080\">│</span>\n",
       "<span style=\"color: #000080; text-decoration-color: #000080\">╰─────────────────────────────────────────────────────────────────────────────────────────────────────────────────╯</span>\n",
       "</pre>\n"
      ],
      "text/plain": [
       "\u001b[34m╭─\u001b[0m\u001b[34m────────────────────────────────────\u001b[0m\u001b[34m 💡 Service Adoption Analysis Insights \u001b[0m\u001b[34m────────────────────────────────────\u001b[0m\u001b[34m─╮\u001b[0m\n",
       "\u001b[34m│\u001b[0m                                                                                                                 \u001b[34m│\u001b[0m\n",
       "\u001b[34m│\u001b[0m  \u001b[1;37m1. Fiber optic customers show 41.9% churn vs DSL at 19.0%\u001b[0m                                                      \u001b[34m│\u001b[0m\n",
       "\u001b[34m│\u001b[0m  \u001b[1;37m2. Fiber optic revenue at risk: $1,424,108 annually\u001b[0m                                                            \u001b[34m│\u001b[0m\n",
       "\u001b[34m│\u001b[0m  \u001b[1;37m3. Optimal service count: 7 services (5.8% churn)\u001b[0m                                                              \u001b[34m│\u001b[0m\n",
       "\u001b[34m│\u001b[0m  \u001b[1;37m4. Highest risk: 0 services (43.8% churn)\u001b[0m                                                                      \u001b[34m│\u001b[0m\n",
       "\u001b[34m│\u001b[0m  \u001b[1;37m5. Service bundle strategy impact: 38.0 percentage points\u001b[0m                                                      \u001b[34m│\u001b[0m\n",
       "\u001b[34m│\u001b[0m  \u001b[1;37m6. Most sticky service: OnlineSecurity (14.6% churn)\u001b[0m                                                           \u001b[34m│\u001b[0m\n",
       "\u001b[34m│\u001b[0m  \u001b[1;37m7. Highest risk service: StreamingTV (30.1% churn)\u001b[0m                                                             \u001b[34m│\u001b[0m\n",
       "\u001b[34m│\u001b[0m  \u001b[1;37m8. Service bundling appears to impact customer retention\u001b[0m                                                       \u001b[34m│\u001b[0m\n",
       "\u001b[34m│\u001b[0m  \u001b[1;37m9. Internet service type significantly affects churn behavior\u001b[0m                                                  \u001b[34m│\u001b[0m\n",
       "\u001b[34m│\u001b[0m  \u001b[1;37m10. Individual services show varying retention effectiveness\u001b[0m                                                   \u001b[34m│\u001b[0m\n",
       "\u001b[34m│\u001b[0m                                                                                                                 \u001b[34m│\u001b[0m\n",
       "\u001b[34m│\u001b[0m                                                                                                                 \u001b[34m│\u001b[0m\n",
       "\u001b[34m╰─────────────────────────────────────────────────────────────────────────────────────────────────────────────────╯\u001b[0m\n"
      ]
     },
     "metadata": {},
     "output_type": "display_data"
    },
    {
     "name": "stdout",
     "output_type": "stream",
     "text": [
      "\n"
     ]
    },
    {
     "data": {
      "text/html": [
       "<pre style=\"white-space:pre;overflow-x:auto;line-height:normal;font-family:Menlo,'DejaVu Sans Mono',consolas,'Courier New',monospace\"><span style=\"color: #808000; text-decoration-color: #808000\">╭─────────────────────────────────────────────────── ⚠️ Warning ───────────────────────────────────────────────────╮</span>\n",
       "<span style=\"color: #808000; text-decoration-color: #808000\">│</span>                                                                                                                 <span style=\"color: #808000; text-decoration-color: #808000\">│</span>\n",
       "<span style=\"color: #808000; text-decoration-color: #808000\">│</span>  <span style=\"color: #808000; text-decoration-color: #808000; font-weight: bold\">Fiber optic service shows elevated churn: 41.9%</span>                                                                <span style=\"color: #808000; text-decoration-color: #808000\">│</span>\n",
       "<span style=\"color: #808000; text-decoration-color: #808000\">│</span>                                                                                                                 <span style=\"color: #808000; text-decoration-color: #808000\">│</span>\n",
       "<span style=\"color: #808000; text-decoration-color: #808000\">│</span>  <span style=\"font-weight: bold\">Details:</span>                                                                                                       <span style=\"color: #808000; text-decoration-color: #808000\">│</span>\n",
       "<span style=\"color: #808000; text-decoration-color: #808000\">│</span>  <span style=\"color: #808000; text-decoration-color: #808000\">• Investigate fiber service quality issues</span>                                                                     <span style=\"color: #808000; text-decoration-color: #808000\">│</span>\n",
       "<span style=\"color: #808000; text-decoration-color: #808000\">│</span>  <span style=\"color: #808000; text-decoration-color: #808000\">• Review fiber pricing strategy</span>                                                                                <span style=\"color: #808000; text-decoration-color: #808000\">│</span>\n",
       "<span style=\"color: #808000; text-decoration-color: #808000\">│</span>  <span style=\"color: #808000; text-decoration-color: #808000\">• Consider fiber customer satisfaction survey</span>                                                                  <span style=\"color: #808000; text-decoration-color: #808000\">│</span>\n",
       "<span style=\"color: #808000; text-decoration-color: #808000\">│</span>  <span style=\"color: #808000; text-decoration-color: #808000\">• Revenue at risk: $1,424,108</span>                                                                                  <span style=\"color: #808000; text-decoration-color: #808000\">│</span>\n",
       "<span style=\"color: #808000; text-decoration-color: #808000\">│</span>                                                                                                                 <span style=\"color: #808000; text-decoration-color: #808000\">│</span>\n",
       "<span style=\"color: #808000; text-decoration-color: #808000\">│</span>                                                                                                                 <span style=\"color: #808000; text-decoration-color: #808000\">│</span>\n",
       "<span style=\"color: #808000; text-decoration-color: #808000\">╰─────────────────────────────────────────────────────────────────────────────────────────────────────────────────╯</span>\n",
       "</pre>\n"
      ],
      "text/plain": [
       "\u001b[33m╭─\u001b[0m\u001b[33m──────────────────────────────────────────────────\u001b[0m\u001b[33m ⚠️ Warning \u001b[0m\u001b[33m──────────────────────────────────────────────────\u001b[0m\u001b[33m─╮\u001b[0m\n",
       "\u001b[33m│\u001b[0m                                                                                                                 \u001b[33m│\u001b[0m\n",
       "\u001b[33m│\u001b[0m  \u001b[1;33mFiber optic service shows elevated churn: 41.9%\u001b[0m                                                                \u001b[33m│\u001b[0m\n",
       "\u001b[33m│\u001b[0m                                                                                                                 \u001b[33m│\u001b[0m\n",
       "\u001b[33m│\u001b[0m  \u001b[1mDetails:\u001b[0m                                                                                                       \u001b[33m│\u001b[0m\n",
       "\u001b[33m│\u001b[0m  \u001b[33m• Investigate fiber service quality issues\u001b[0m                                                                     \u001b[33m│\u001b[0m\n",
       "\u001b[33m│\u001b[0m  \u001b[33m• Review fiber pricing strategy\u001b[0m                                                                                \u001b[33m│\u001b[0m\n",
       "\u001b[33m│\u001b[0m  \u001b[33m• Consider fiber customer satisfaction survey\u001b[0m                                                                  \u001b[33m│\u001b[0m\n",
       "\u001b[33m│\u001b[0m  \u001b[33m• Revenue at risk: $1,424,108\u001b[0m                                                                                  \u001b[33m│\u001b[0m\n",
       "\u001b[33m│\u001b[0m                                                                                                                 \u001b[33m│\u001b[0m\n",
       "\u001b[33m│\u001b[0m                                                                                                                 \u001b[33m│\u001b[0m\n",
       "\u001b[33m╰─────────────────────────────────────────────────────────────────────────────────────────────────────────────────╯\u001b[0m\n"
      ]
     },
     "metadata": {},
     "output_type": "display_data"
    },
    {
     "name": "stdout",
     "output_type": "stream",
     "text": [
      "\n"
     ]
    },
    {
     "data": {
      "text/html": [
       "<pre style=\"white-space:pre;overflow-x:auto;line-height:normal;font-family:Menlo,'DejaVu Sans Mono',consolas,'Courier New',monospace\"><span style=\"color: #000080; text-decoration-color: #000080\">╭───────────────────────────────────────────────── ℹ️ Information ─────────────────────────────────────────────────╮</span>\n",
       "<span style=\"color: #000080; text-decoration-color: #000080\">│</span>                                                                                                                 <span style=\"color: #000080; text-decoration-color: #000080\">│</span>\n",
       "<span style=\"color: #000080; text-decoration-color: #000080\">│</span>  <span style=\"color: #000080; text-decoration-color: #000080; font-weight: bold\">Service optimization opportunity identified</span>                                                                    <span style=\"color: #000080; text-decoration-color: #000080\">│</span>\n",
       "<span style=\"color: #000080; text-decoration-color: #000080\">│</span>                                                                                                                 <span style=\"color: #000080; text-decoration-color: #000080\">│</span>\n",
       "<span style=\"color: #000080; text-decoration-color: #000080\">│</span>  <span style=\"font-weight: bold\">Details:</span>                                                                                                       <span style=\"color: #000080; text-decoration-color: #000080\">│</span>\n",
       "<span style=\"color: #000080; text-decoration-color: #000080\">│</span>  <span style=\"color: #000080; text-decoration-color: #000080\">• Revenue at risk from suboptimal service adoption: $667,892</span>                                                   <span style=\"color: #000080; text-decoration-color: #000080\">│</span>\n",
       "<span style=\"color: #000080; text-decoration-color: #000080\">│</span>  <span style=\"color: #000080; text-decoration-color: #000080\">• Consider service bundling incentives</span>                                                                         <span style=\"color: #000080; text-decoration-color: #000080\">│</span>\n",
       "<span style=\"color: #000080; text-decoration-color: #000080\">│</span>  <span style=\"color: #000080; text-decoration-color: #000080\">• Analyze customer service adoption patterns</span>                                                                   <span style=\"color: #000080; text-decoration-color: #000080\">│</span>\n",
       "<span style=\"color: #000080; text-decoration-color: #000080\">│</span>  <span style=\"color: #000080; text-decoration-color: #000080\">• Develop targeted upselling strategies</span>                                                                        <span style=\"color: #000080; text-decoration-color: #000080\">│</span>\n",
       "<span style=\"color: #000080; text-decoration-color: #000080\">│</span>                                                                                                                 <span style=\"color: #000080; text-decoration-color: #000080\">│</span>\n",
       "<span style=\"color: #000080; text-decoration-color: #000080\">│</span>                                                                                                                 <span style=\"color: #000080; text-decoration-color: #000080\">│</span>\n",
       "<span style=\"color: #000080; text-decoration-color: #000080\">╰─────────────────────────────────────────────────────────────────────────────────────────────────────────────────╯</span>\n",
       "</pre>\n"
      ],
      "text/plain": [
       "\u001b[34m╭─\u001b[0m\u001b[34m────────────────────────────────────────────────\u001b[0m\u001b[34m ℹ️ Information \u001b[0m\u001b[34m────────────────────────────────────────────────\u001b[0m\u001b[34m─╮\u001b[0m\n",
       "\u001b[34m│\u001b[0m                                                                                                                 \u001b[34m│\u001b[0m\n",
       "\u001b[34m│\u001b[0m  \u001b[1;34mService optimization opportunity identified\u001b[0m                                                                    \u001b[34m│\u001b[0m\n",
       "\u001b[34m│\u001b[0m                                                                                                                 \u001b[34m│\u001b[0m\n",
       "\u001b[34m│\u001b[0m  \u001b[1mDetails:\u001b[0m                                                                                                       \u001b[34m│\u001b[0m\n",
       "\u001b[34m│\u001b[0m  \u001b[34m• Revenue at risk from suboptimal service adoption: $667,892\u001b[0m                                                   \u001b[34m│\u001b[0m\n",
       "\u001b[34m│\u001b[0m  \u001b[34m• Consider service bundling incentives\u001b[0m                                                                         \u001b[34m│\u001b[0m\n",
       "\u001b[34m│\u001b[0m  \u001b[34m• Analyze customer service adoption patterns\u001b[0m                                                                   \u001b[34m│\u001b[0m\n",
       "\u001b[34m│\u001b[0m  \u001b[34m• Develop targeted upselling strategies\u001b[0m                                                                        \u001b[34m│\u001b[0m\n",
       "\u001b[34m│\u001b[0m                                                                                                                 \u001b[34m│\u001b[0m\n",
       "\u001b[34m│\u001b[0m                                                                                                                 \u001b[34m│\u001b[0m\n",
       "\u001b[34m╰─────────────────────────────────────────────────────────────────────────────────────────────────────────────────╯\u001b[0m\n"
      ]
     },
     "metadata": {},
     "output_type": "display_data"
    },
    {
     "name": "stdout",
     "output_type": "stream",
     "text": [
      "\n"
     ]
    }
   ],
   "source": [
    "# Cell: Service Mix Revenue Analysis - Fixed\n",
    "print(\"📱 SERVICE ADOPTION REVENUE IMPACT\")\n",
    "print(\"=\" * 50)\n",
    "\n",
    "# Analyze revenue by internet service type\n",
    "internet_analysis = df.group_by(\"InternetService\").agg([\n",
    "    pl.col(\"customerID\").count().alias(\"total_customers\"),\n",
    "    (pl.col(\"Churn\") == \"Yes\").sum().alias(\"churned_customers\"),\n",
    "    pl.col(\"MonthlyCharges\").mean().alias(\"avg_monthly_charge\"),\n",
    "    pl.col(\"MonthlyCharges\").sum().alias(\"total_monthly_revenue\")\n",
    "]).with_columns([\n",
    "    (pl.col(\"churned_customers\") / pl.col(\"total_customers\") * 100).alias(\"churn_rate\"),\n",
    "    (pl.col(\"churned_customers\") * pl.col(\"avg_monthly_charge\") * 12).alias(\"annual_revenue_at_risk\")\n",
    "])\n",
    "\n",
    "# Display Internet Service Analysis with Rich Table\n",
    "create_rich_table(\n",
    "    df=internet_analysis,\n",
    "    title=\"Internet Service Type Revenue Analysis\",\n",
    "    money_columns=[\"avg_monthly_charge\", \"total_monthly_revenue\", \"annual_revenue_at_risk\"],\n",
    "    percentage_columns=[\"churn_rate\"],\n",
    "    integer_columns=[\"total_customers\", \"churned_customers\"]\n",
    ")\n",
    "\n",
    "# Fixed service counting logic\n",
    "print(\"\\n🔢 SERVICE BUNDLE ANALYSIS\")\n",
    "print(\"=\" * 50)\n",
    "\n",
    "# Create service count properly - split into steps\n",
    "df_with_service_counts = df.with_columns([\n",
    "    # Individual service indicators\n",
    "    pl.when(pl.col(\"PhoneService\") == \"Yes\").then(1).otherwise(0).alias(\"phone_count\"),\n",
    "    pl.when(pl.col(\"OnlineSecurity\") == \"Yes\").then(1).otherwise(0).alias(\"security_count\"),\n",
    "    pl.when(pl.col(\"OnlineBackup\") == \"Yes\").then(1).otherwise(0).alias(\"backup_count\"),\n",
    "    pl.when(pl.col(\"DeviceProtection\") == \"Yes\").then(1).otherwise(0).alias(\"protection_count\"),\n",
    "    pl.when(pl.col(\"TechSupport\") == \"Yes\").then(1).otherwise(0).alias(\"support_count\"),\n",
    "    pl.when(pl.col(\"StreamingTV\") == \"Yes\").then(1).otherwise(0).alias(\"tv_count\"),\n",
    "    pl.when(pl.col(\"StreamingMovies\") == \"Yes\").then(1).otherwise(0).alias(\"movies_count\")\n",
    "])\n",
    "\n",
    "# Now calculate total services\n",
    "df_service_analysis = df_with_service_counts.with_columns([\n",
    "    (pl.col(\"phone_count\") + pl.col(\"security_count\") + pl.col(\"backup_count\") + \n",
    "     pl.col(\"protection_count\") + pl.col(\"support_count\") + pl.col(\"tv_count\") + \n",
    "     pl.col(\"movies_count\")).alias(\"total_services\")\n",
    "])\n",
    "\n",
    "# Analyze by service count\n",
    "service_count_analysis = df_service_analysis.group_by(\"total_services\").agg([\n",
    "    pl.col(\"customerID\").count().alias(\"customers\"),\n",
    "    (pl.col(\"Churn\") == \"Yes\").sum().alias(\"churned\"),\n",
    "    pl.col(\"MonthlyCharges\").mean().alias(\"avg_monthly\")  # Fixed: removed _clean\n",
    "]).with_columns([\n",
    "    (pl.col(\"churned\") / pl.col(\"customers\") * 100).alias(\"churn_rate\"),\n",
    "    (pl.col(\"churned\") * pl.col(\"avg_monthly\") * 12).alias(\"annual_revenue_at_risk\")\n",
    "]).sort(\"total_services\")\n",
    "\n",
    "# Display Service Count Analysis\n",
    "create_rich_table(\n",
    "    df=service_count_analysis,\n",
    "    title=\"Churn Rate by Number of Services\",\n",
    "    money_columns=[\"avg_monthly\", \"annual_revenue_at_risk\"],\n",
    "    percentage_columns=[\"churn_rate\"],\n",
    "    integer_columns=[\"customers\", \"churned\", \"total_services\"]\n",
    ")\n",
    "\n",
    "# Individual Service Analysis\n",
    "print(\"\\n📋 INDIVIDUAL SERVICE IMPACT ANALYSIS\")\n",
    "print(\"=\" * 50)\n",
    "\n",
    "service_columns = [\"PhoneService\", \"OnlineSecurity\", \"OnlineBackup\", \n",
    "                  \"DeviceProtection\", \"TechSupport\", \"StreamingTV\", \"StreamingMovies\"]\n",
    "\n",
    "# Analyze each service individually\n",
    "individual_service_results = []\n",
    "\n",
    "for service in service_columns:\n",
    "    if service in df.columns:\n",
    "        service_analysis = df.group_by([service, \"Churn\"]).len().pivot(\n",
    "            index=service, columns=\"Churn\", values=\"len\"\n",
    "        ).fill_null(0).with_columns([\n",
    "            (pl.col(\"Yes\") / (pl.col(\"Yes\") + pl.col(\"No\")) * 100).alias(\"churn_rate\")\n",
    "        ])\n",
    "        \n",
    "        # Get churn rate for \"Yes\" (has service)\n",
    "        has_service = service_analysis.filter(pl.col(service) == \"Yes\")\n",
    "        if has_service.height > 0:\n",
    "            churn_rate = has_service[\"churn_rate\"][0]\n",
    "            total_customers = has_service[\"Yes\"][0] + has_service[\"No\"][0]\n",
    "            churned_customers = has_service[\"Yes\"][0]\n",
    "            \n",
    "            individual_service_results.append({\n",
    "                \"Service\": service,\n",
    "                \"Total_Customers\": total_customers,\n",
    "                \"Churned_Customers\": churned_customers,\n",
    "                \"Churn_Rate\": churn_rate\n",
    "            })\n",
    "\n",
    "# Convert to DataFrame for display\n",
    "if individual_service_results:\n",
    "    service_df = pl.DataFrame(individual_service_results).sort(\"Churn_Rate\", descending=True)\n",
    "    \n",
    "    create_rich_table(\n",
    "        df=service_df,\n",
    "        title=\"Individual Service Churn Analysis\",\n",
    "        percentage_columns=[\"Churn_Rate\"],\n",
    "        integer_columns=[\"Total_Customers\", \"Churned_Customers\"]\n",
    "    )\n",
    "\n",
    "# Generate insights\n",
    "print(\"\\n💡 SERVICE ADOPTION INSIGHTS\")\n",
    "print(\"=\" * 50)\n",
    "\n",
    "# Internet service insights\n",
    "fiber_data = internet_analysis.filter(pl.col(\"InternetService\") == \"Fiber optic\")\n",
    "dsl_data = internet_analysis.filter(pl.col(\"InternetService\") == \"DSL\")\n",
    "no_internet_data = internet_analysis.filter(pl.col(\"InternetService\") == \"No\")\n",
    "\n",
    "insights = []\n",
    "\n",
    "if fiber_data.height > 0 and dsl_data.height > 0:\n",
    "    fiber_churn = fiber_data[\"churn_rate\"][0]\n",
    "    dsl_churn = dsl_data[\"churn_rate\"][0]\n",
    "    fiber_revenue_risk = fiber_data[\"annual_revenue_at_risk\"][0]\n",
    "    \n",
    "    insights.extend([\n",
    "        f\"Fiber optic customers show {fiber_churn:.1f}% churn vs DSL at {dsl_churn:.1f}%\",\n",
    "        f\"Fiber optic revenue at risk: ${fiber_revenue_risk:,.0f} annually\"\n",
    "    ])\n",
    "\n",
    "# Service bundle insights\n",
    "if service_count_analysis.height > 0:\n",
    "    # Find optimal service count\n",
    "    lowest_churn = service_count_analysis.filter(pl.col(\"churn_rate\") == pl.col(\"churn_rate\").min())\n",
    "    highest_churn = service_count_analysis.filter(pl.col(\"churn_rate\") == pl.col(\"churn_rate\").max())\n",
    "    \n",
    "    if lowest_churn.height > 0 and highest_churn.height > 0:\n",
    "        optimal_services = lowest_churn[\"total_services\"][0]\n",
    "        optimal_churn = lowest_churn[\"churn_rate\"][0]\n",
    "        worst_services = highest_churn[\"total_services\"][0]\n",
    "        worst_churn = highest_churn[\"churn_rate\"][0]\n",
    "        \n",
    "        insights.extend([\n",
    "            f\"Optimal service count: {optimal_services} services ({optimal_churn:.1f}% churn)\",\n",
    "            f\"Highest risk: {worst_services} services ({worst_churn:.1f}% churn)\",\n",
    "            f\"Service bundle strategy impact: {worst_churn - optimal_churn:.1f} percentage points\"\n",
    "        ])\n",
    "\n",
    "# Individual service insights\n",
    "if individual_service_results:\n",
    "    best_service = service_df.filter(pl.col(\"Churn_Rate\") == pl.col(\"Churn_Rate\").min())\n",
    "    worst_service = service_df.filter(pl.col(\"Churn_Rate\") == pl.col(\"Churn_Rate\").max())\n",
    "    \n",
    "    if best_service.height > 0 and worst_service.height > 0:\n",
    "        best_service_name = best_service[\"Service\"][0]\n",
    "        best_churn = best_service[\"Churn_Rate\"][0]\n",
    "        worst_service_name = worst_service[\"Service\"][0]\n",
    "        worst_churn = worst_service[\"Churn_Rate\"][0]\n",
    "        \n",
    "        insights.extend([\n",
    "            f\"Most sticky service: {best_service_name} ({best_churn:.1f}% churn)\",\n",
    "            f\"Highest risk service: {worst_service_name} ({worst_churn:.1f}% churn)\"\n",
    "        ])\n",
    "\n",
    "# Add general insights\n",
    "insights.extend([\n",
    "    \"Service bundling appears to impact customer retention\",\n",
    "    \"Internet service type significantly affects churn behavior\",\n",
    "    \"Individual services show varying retention effectiveness\"\n",
    "])\n",
    "\n",
    "display_insights_summary(insights, \"Service Adoption Analysis Insights\")\n",
    "\n",
    "# Service strategy alerts\n",
    "total_service_revenue_risk = internet_analysis[\"annual_revenue_at_risk\"].sum()\n",
    "\n",
    "if fiber_data.height > 0:\n",
    "    fiber_churn = fiber_data[\"churn_rate\"][0]\n",
    "    if fiber_churn > 30:\n",
    "        display_business_alert(\n",
    "            message=f\"Fiber optic service shows elevated churn: {fiber_churn:.1f}%\",\n",
    "            alert_type=\"warning\",\n",
    "            details=[\n",
    "                \"Investigate fiber service quality issues\",\n",
    "                \"Review fiber pricing strategy\",\n",
    "                \"Consider fiber customer satisfaction survey\",\n",
    "                f\"Revenue at risk: ${fiber_data['annual_revenue_at_risk'][0]:,.0f}\"\n",
    "            ]\n",
    "        )\n",
    "\n",
    "# Service optimization opportunity\n",
    "if service_count_analysis.height > 0:\n",
    "    service_opportunity = service_count_analysis.filter(pl.col(\"churn_rate\") > 30)\n",
    "    if service_opportunity.height > 0:\n",
    "        high_risk_revenue = service_opportunity[\"annual_revenue_at_risk\"].sum()\n",
    "        display_business_alert(\n",
    "            message=\"Service optimization opportunity identified\",\n",
    "            alert_type=\"info\",\n",
    "            details=[\n",
    "                f\"Revenue at risk from suboptimal service adoption: ${high_risk_revenue:,.0f}\",\n",
    "                \"Consider service bundling incentives\",\n",
    "                \"Analyze customer service adoption patterns\",\n",
    "                \"Develop targeted upselling strategies\"\n",
    "            ]\n",
    "        )"
   ]
  },
  {
   "cell_type": "code",
   "execution_count": 37,
   "metadata": {},
   "outputs": [
    {
     "data": {
      "text/html": [
       "<pre style=\"white-space:pre;overflow-x:auto;line-height:normal;font-family:Menlo,'DejaVu Sans Mono',consolas,'Courier New',monospace\">📊 CREATING FINANCIAL IMPACT VISUALIZATIONS\n",
       "</pre>\n"
      ],
      "text/plain": [
       "📊 CREATING FINANCIAL IMPACT VISUALIZATIONS\n"
      ]
     },
     "metadata": {},
     "output_type": "display_data"
    },
    {
     "data": {
      "text/html": [
       "<pre style=\"white-space:pre;overflow-x:auto;line-height:normal;font-family:Menlo,'DejaVu Sans Mono',consolas,'Courier New',monospace\">==================================================\n",
       "</pre>\n"
      ],
      "text/plain": [
       "==================================================\n"
      ]
     },
     "metadata": {},
     "output_type": "display_data"
    },
    {
     "data": {
      "text/html": [
       "<pre style=\"white-space:pre;overflow-x:auto;line-height:normal;font-family:Menlo,'DejaVu Sans Mono',consolas,'Courier New',monospace\">Contract revenue column: annual_revenue_lost\n",
       "</pre>\n"
      ],
      "text/plain": [
       "Contract revenue column: annual_revenue_lost\n"
      ]
     },
     "metadata": {},
     "output_type": "display_data"
    },
    {
     "data": {
      "text/html": [
       "<pre style=\"white-space:pre;overflow-x:auto;line-height:normal;font-family:Menlo,'DejaVu Sans Mono',consolas,'Courier New',monospace\">Payment revenue column: annual_revenue_at_risk\n",
       "</pre>\n"
      ],
      "text/plain": [
       "Payment revenue column: annual_revenue_at_risk\n"
      ]
     },
     "metadata": {},
     "output_type": "display_data"
    },
    {
     "data": {
      "text/html": [
       "<pre style=\"white-space:pre;overflow-x:auto;line-height:normal;font-family:Menlo,'DejaVu Sans Mono',consolas,'Courier New',monospace\">Service columns: <span style=\"color: #800080; text-decoration-color: #800080; font-weight: bold\">Index</span><span style=\"font-weight: bold\">([</span><span style=\"color: #008000; text-decoration-color: #008000\">'total_services'</span>, <span style=\"color: #008000; text-decoration-color: #008000\">'customers'</span>, <span style=\"color: #008000; text-decoration-color: #008000\">'churned'</span>, <span style=\"color: #008000; text-decoration-color: #008000\">'avg_monthly'</span>, <span style=\"color: #008000; text-decoration-color: #008000\">'churn_rate'</span>,\n",
       "       <span style=\"color: #008000; text-decoration-color: #008000\">'annual_revenue_at_risk'</span><span style=\"font-weight: bold\">]</span>,\n",
       "      <span style=\"color: #808000; text-decoration-color: #808000\">dtype</span>=<span style=\"color: #008000; text-decoration-color: #008000\">'object'</span><span style=\"font-weight: bold\">)</span>\n",
       "</pre>\n"
      ],
      "text/plain": [
       "Service columns: \u001b[1;35mIndex\u001b[0m\u001b[1m(\u001b[0m\u001b[1m[\u001b[0m\u001b[32m'total_services'\u001b[0m, \u001b[32m'customers'\u001b[0m, \u001b[32m'churned'\u001b[0m, \u001b[32m'avg_monthly'\u001b[0m, \u001b[32m'churn_rate'\u001b[0m,\n",
       "       \u001b[32m'annual_revenue_at_risk'\u001b[0m\u001b[1m]\u001b[0m,\n",
       "      \u001b[33mdtype\u001b[0m=\u001b[32m'object'\u001b[0m\u001b[1m)\u001b[0m\n"
      ]
     },
     "metadata": {},
     "output_type": "display_data"
    },
    {
     "data": {
      "image/png": "[encoded data removed]",
      "text/plain": [
       "<Figure size 1600x1200 with 4 Axes>"
      ]
     },
     "metadata": {},
     "output_type": "display_data"
    },
    {
     "data": {
      "text/html": [
       "<pre style=\"white-space:pre;overflow-x:auto;line-height:normal;font-family:Menlo,'DejaVu Sans Mono',consolas,'Courier New',monospace\">📊 Plot saved: financial_impact_analysis\n",
       "</pre>\n"
      ],
      "text/plain": [
       "📊 Plot saved: financial_impact_analysis\n"
      ]
     },
     "metadata": {},
     "output_type": "display_data"
    },
    {
     "data": {
      "text/plain": [
       "<Figure size 1200x800 with 0 Axes>"
      ]
     },
     "metadata": {},
     "output_type": "display_data"
    }
   ],
   "source": [
    "# Cell: Financial Impact Visualization - Fixed\n",
    "print(\"📊 CREATING FINANCIAL IMPACT VISUALIZATIONS\")\n",
    "print(\"=\" * 50)\n",
    "\n",
    "#\n",
    "# Create the visualization with corrected column names\n",
    "fig, ((ax1, ax2), (ax3, ax4)) = plt.subplots(2, 2, figsize=(16, 12))\n",
    "\n",
    "# 1. Revenue at risk by customer segment\n",
    "try:\n",
    "    segment_data = segment_summary.to_pandas()\n",
    "    \n",
    "    # Check what the actual column name is for value segment\n",
    "    value_col = None\n",
    "    revenue_col = None\n",
    "    \n",
    "    for col in segment_data.columns:\n",
    "        if 'segment' in col.lower() or 'value' in col.lower():\n",
    "            value_col = col\n",
    "        if 'revenue' in col.lower() and 'risk' in col.lower():\n",
    "            revenue_col = col\n",
    "    \n",
    "    \n",
    "    if value_col and revenue_col:\n",
    "        ax1.bar(segment_data[value_col], segment_data[revenue_col], \n",
    "                color='coral', alpha=0.7)\n",
    "        ax1.set_title('Annual Revenue at Risk by Customer Segment')\n",
    "        ax1.set_ylabel('Annual Revenue at Risk ($)')\n",
    "        ax1.tick_params(axis='x', rotation=45)\n",
    "        \n",
    "        # Format y-axis as currency\n",
    "        ax1.yaxis.set_major_formatter(plt.FuncFormatter(lambda x, p: f'${x:,.0f}'))\n",
    "    else:\n",
    "        ax1.text(0.5, 0.5, 'Segment data not available', ha='center', va='center', transform=ax1.transAxes)\n",
    "        ax1.set_title('Customer Segment Analysis')\n",
    "        \n",
    "except Exception as e:\n",
    "    print(f\"Error with segment plot: {e}\")\n",
    "    ax1.text(0.5, 0.5, f'Segment plot error:\\n{str(e)[:50]}', ha='center', va='center', transform=ax1.transAxes)\n",
    "\n",
    "# 2. Contract type revenue impact\n",
    "try:\n",
    "    contract_data = contract_summary.to_pandas()\n",
    "    \n",
    "    # Find the correct column names\n",
    "    contract_col = 'Contract'\n",
    "    revenue_col = None\n",
    "    \n",
    "    for col in contract_data.columns:\n",
    "        if 'revenue' in col.lower() and ('lost' in col.lower() or 'risk' in col.lower()):\n",
    "            revenue_col = col\n",
    "            break\n",
    "    \n",
    "    print(f\"Contract revenue column: {revenue_col}\")\n",
    "    \n",
    "    if revenue_col:\n",
    "        bars = ax2.bar(contract_data[contract_col], contract_data[revenue_col], \n",
    "                      color='lightblue', alpha=0.7)\n",
    "        ax2.set_title('Annual Revenue Lost by Contract Type')\n",
    "        ax2.set_ylabel('Annual Revenue Lost ($)')\n",
    "        ax2.yaxis.set_major_formatter(plt.FuncFormatter(lambda x, p: f'${x:,.0f}'))\n",
    "        \n",
    "        # Add value labels on bars\n",
    "        for bar in bars:\n",
    "            height = bar.get_height()\n",
    "            ax2.text(bar.get_x() + bar.get_width()/2., height,\n",
    "                    f'${height:,.0f}', ha='center', va='bottom', fontsize=9)\n",
    "    else:\n",
    "        ax2.text(0.5, 0.5, 'Contract data not available', ha='center', va='center', transform=ax2.transAxes)\n",
    "        \n",
    "except Exception as e:\n",
    "    print(f\"Error with contract plot: {e}\")\n",
    "    ax2.text(0.5, 0.5, f'Contract plot error', ha='center', va='center', transform=ax2.transAxes)\n",
    "\n",
    "# 3. Payment method risk\n",
    "try:\n",
    "    payment_data = payment_analysis.to_pandas()\n",
    "    \n",
    "    # Find correct column names\n",
    "    payment_col = 'PaymentMethod'\n",
    "    revenue_col = None\n",
    "    \n",
    "    for col in payment_data.columns:\n",
    "        if 'revenue' in col.lower() and 'risk' in col.lower():\n",
    "            revenue_col = col\n",
    "            break\n",
    "    \n",
    "    print(f\"Payment revenue column: {revenue_col}\")\n",
    "    \n",
    "    if revenue_col:\n",
    "        bars = ax3.bar(payment_data[payment_col], payment_data[revenue_col], \n",
    "                      color='lightgreen', alpha=0.7)\n",
    "        ax3.set_title('Revenue at Risk by Payment Method')\n",
    "        ax3.set_ylabel('Annual Revenue at Risk ($)')\n",
    "        ax3.tick_params(axis='x', rotation=45)\n",
    "        ax3.yaxis.set_major_formatter(plt.FuncFormatter(lambda x, p: f'${x:,.0f}'))\n",
    "        \n",
    "        # Add value labels on bars\n",
    "        for bar in bars:\n",
    "            height = bar.get_height()\n",
    "            if height > 0:\n",
    "                ax3.text(bar.get_x() + bar.get_width()/2., height,\n",
    "                        f'${height:,.0f}', ha='center', va='bottom', fontsize=8, rotation=90)\n",
    "    else:\n",
    "        ax3.text(0.5, 0.5, 'Payment data not available', ha='center', va='center', transform=ax3.transAxes)\n",
    "        \n",
    "except Exception as e:\n",
    "    print(f\"Error with payment plot: {e}\")\n",
    "    ax3.text(0.5, 0.5, f'Payment plot error', ha='center', va='center', transform=ax3.transAxes)\n",
    "\n",
    "# 4. Service count vs churn rate\n",
    "try:\n",
    "    service_data = service_count_analysis.to_pandas()\n",
    "    \n",
    "    # Find correct column names\n",
    "    services_col = 'total_services'\n",
    "    churn_col = 'churn_rate'\n",
    "    \n",
    "    print(f\"Service columns: {service_data.columns}\")\n",
    "    \n",
    "    if services_col in service_data.columns and churn_col in service_data.columns:\n",
    "        ax4.plot(service_data[services_col], service_data[churn_col], \n",
    "                marker='o', linewidth=3, markersize=10, color='purple', markerfacecolor='white', \n",
    "                markeredgecolor='purple', markeredgewidth=2)\n",
    "        ax4.set_title('Churn Rate by Number of Services')\n",
    "        ax4.set_xlabel('Number of Services')\n",
    "        ax4.set_ylabel('Churn Rate (%)')\n",
    "        ax4.grid(True, alpha=0.3)\n",
    "        ax4.set_ylim(0, max(service_data[churn_col]) * 1.1)\n",
    "        \n",
    "        # Add value labels on points\n",
    "        for i, (x, y) in enumerate(zip(service_data[services_col], service_data[churn_col])):\n",
    "            ax4.annotate(f'{y:.1f}%', (x, y), textcoords=\"offset points\", \n",
    "                        xytext=(0,10), ha='center', fontsize=8)\n",
    "    else:\n",
    "        ax4.text(0.5, 0.5, 'Service data not available', ha='center', va='center', transform=ax4.transAxes)\n",
    "        \n",
    "except Exception as e:\n",
    "    print(f\"Error with service plot: {e}\")\n",
    "    ax4.text(0.5, 0.5, f'Service plot error', ha='center', va='center', transform=ax4.transAxes)\n",
    "\n",
    "plt.tight_layout()\n",
    "plt.show()\n",
    "\n",
    "# Save the plot (you'll need to implement this function)\n",
    "try:\n",
    "    # Create a simple save function if it doesn't exist\n",
    "    from pathlib import Path\n",
    "    from datetime import datetime\n",
    "    \n",
    "    def save_plot_for_report(fig, filename, title=\"\"):\n",
    "        \"\"\"Save plots with consistent formatting for reports.\"\"\"\n",
    "        \n",
    "        # Ensure figures directory exists\n",
    "        figures_dir = Path(\"../outputs/figures\")\n",
    "        figures_dir.mkdir(parents=True, exist_ok=True)\n",
    "        \n",
    "        # Save with metadata\n",
    "        if title:\n",
    "            fig.suptitle(f\"{title}\\nGenerated: {datetime.now().strftime('%Y-%m-%d')}\", y=0.98)\n",
    "        \n",
    "        # Save in multiple formats\n",
    "        fig.savefig(figures_dir / f\"{filename}.png\", dpi=300, bbox_inches='tight')\n",
    "        fig.savefig(figures_dir / f\"{filename}.pdf\", bbox_inches='tight')\n",
    "        \n",
    "        print(f\"📊 Plot saved: {filename}\")\n",
    "    \n",
    "    save_plot_for_report(plt.gcf(), \"financial_impact_analysis\", \"Customer Churn Financial Impact Analysis\")\n",
    "    \n",
    "except Exception as e:\n",
    "    print(f\"Note: Could not save plot - {e}\")"
   ]
  },
  {
   "cell_type": "code",
   "execution_count": null,
   "metadata": {},
   "outputs": [],
   "source": []
  }
 ],
 "metadata": {
  "kernelspec": {
   "display_name": "Python 3 (ipykernel)",
   "language": "python",
   "name": "python3"
  },
  "language_info": {
   "codemirror_mode": {
    "name": "ipython",
    "version": 3
   },
   "file_extension": ".py",
   "mimetype": "text/x-python",
   "name": "python",
   "nbconvert_exporter": "python",
   "pygments_lexer": "ipython3",
   "version": "3.13.2"
  }
 },
 "nbformat": 4,
 "nbformat_minor": 4
}

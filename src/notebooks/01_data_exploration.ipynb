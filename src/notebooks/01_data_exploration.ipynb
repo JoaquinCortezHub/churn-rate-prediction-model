{
 "cells": [
  {
   "cell_type": "code",
   "execution_count": 4,
   "metadata": {},
   "outputs": [],
   "source": [
    "# Cell 1: Imports and setup\n",
    "import sys\n",
    "from pathlib import Path\n",
    "\n",
    "# Adding src to path for imports\n",
    "project_root = Path.cwd().parent if Path.cwd().name == 'notebooks' else Path.cwd()\n",
    "sys.path.append(str(project_root / 'src'))\n",
    "\n",
    "# Custom modules\n",
    "from churn_analysis.config.settings import TELCO_RAW_FILE, FIGURE_SIZE, RANDOM_STATE\n",
    "\n",
    "# Standard libraries\n",
    "import polars as pl\n",
    "import pandas as pd\n",
    "import numpy as np\n",
    "import matplotlib.pyplot as plt\n",
    "import seaborn as sns\n",
    "import plotly.express as px\n",
    "from rich import print\n",
    "\n",
    "# Notebook setup\n",
    "plt.style.use('seaborn-v0_8')\n",
    "plt.rcParams['figure.figsize'] = FIGURE_SIZE\n",
    "sns.set_palette(\"husl\")\n"
   ]
  },
  {
   "cell_type": "code",
   "execution_count": 7,
   "metadata": {},
   "outputs": [
    {
     "data": {
      "text/html": [
       "<pre style=\"white-space:pre;overflow-x:auto;line-height:normal;font-family:Menlo,'DejaVu Sans Mono',consolas,'Courier New',monospace\">🔍 Loading Telco Customer Churn Dataset<span style=\"color: #808000; text-decoration-color: #808000\">...</span>\n",
       "</pre>\n"
      ],
      "text/plain": [
       "🔍 Loading Telco Customer Churn Dataset\u001b[33m...\u001b[0m\n"
      ]
     },
     "metadata": {},
     "output_type": "display_data"
    },
    {
     "name": "stdout",
     "output_type": "stream",
     "text": [
      "✅ Dataset loaded: 7043 rows, 21 columns\n"
     ]
    },
    {
     "data": {
      "text/html": [
       "<pre style=\"white-space:pre;overflow-x:auto;line-height:normal;font-family:Menlo,'DejaVu Sans Mono',consolas,'Courier New',monospace\">📊 Dataset Info: <span style=\"font-weight: bold\">{</span><span style=\"color: #008000; text-decoration-color: #008000\">'shape'</span>: <span style=\"font-weight: bold\">(</span><span style=\"color: #008080; text-decoration-color: #008080; font-weight: bold\">7043</span>, <span style=\"color: #008080; text-decoration-color: #008080; font-weight: bold\">21</span><span style=\"font-weight: bold\">)</span>, <span style=\"color: #008000; text-decoration-color: #008000\">'columns'</span>: <span style=\"font-weight: bold\">[</span><span style=\"color: #008000; text-decoration-color: #008000\">'customerID'</span>, <span style=\"color: #008000; text-decoration-color: #008000\">'gender'</span>, <span style=\"color: #008000; text-decoration-color: #008000\">'SeniorCitizen'</span>, <span style=\"color: #008000; text-decoration-color: #008000\">'Partner'</span>, \n",
       "<span style=\"color: #008000; text-decoration-color: #008000\">'Dependents'</span>, <span style=\"color: #008000; text-decoration-color: #008000\">'tenure'</span>, <span style=\"color: #008000; text-decoration-color: #008000\">'PhoneService'</span>, <span style=\"color: #008000; text-decoration-color: #008000\">'MultipleLines'</span>, <span style=\"color: #008000; text-decoration-color: #008000\">'InternetService'</span>, <span style=\"color: #008000; text-decoration-color: #008000\">'OnlineSecurity'</span>, <span style=\"color: #008000; text-decoration-color: #008000\">'OnlineBackup'</span>, \n",
       "<span style=\"color: #008000; text-decoration-color: #008000\">'DeviceProtection'</span>, <span style=\"color: #008000; text-decoration-color: #008000\">'TechSupport'</span>, <span style=\"color: #008000; text-decoration-color: #008000\">'StreamingTV'</span>, <span style=\"color: #008000; text-decoration-color: #008000\">'StreamingMovies'</span>, <span style=\"color: #008000; text-decoration-color: #008000\">'Contract'</span>, <span style=\"color: #008000; text-decoration-color: #008000\">'PaperlessBilling'</span>, \n",
       "<span style=\"color: #008000; text-decoration-color: #008000\">'PaymentMethod'</span>, <span style=\"color: #008000; text-decoration-color: #008000\">'MonthlyCharges'</span>, <span style=\"color: #008000; text-decoration-color: #008000\">'TotalCharges'</span>, <span style=\"color: #008000; text-decoration-color: #008000\">'Churn'</span><span style=\"font-weight: bold\">]</span>, <span style=\"color: #008000; text-decoration-color: #008000\">'null_count'</span>: <span style=\"color: #008080; text-decoration-color: #008080; font-weight: bold\">11</span>, <span style=\"color: #008000; text-decoration-color: #008000\">'dtypes'</span>: <span style=\"font-weight: bold\">{</span><span style=\"color: #008000; text-decoration-color: #008000\">'customerID'</span>: <span style=\"color: #008000; text-decoration-color: #008000\">'String'</span>, \n",
       "<span style=\"color: #008000; text-decoration-color: #008000\">'gender'</span>: <span style=\"color: #008000; text-decoration-color: #008000\">'String'</span>, <span style=\"color: #008000; text-decoration-color: #008000\">'SeniorCitizen'</span>: <span style=\"color: #008000; text-decoration-color: #008000\">'Int64'</span>, <span style=\"color: #008000; text-decoration-color: #008000\">'Partner'</span>: <span style=\"color: #008000; text-decoration-color: #008000\">'String'</span>, <span style=\"color: #008000; text-decoration-color: #008000\">'Dependents'</span>: <span style=\"color: #008000; text-decoration-color: #008000\">'String'</span>, <span style=\"color: #008000; text-decoration-color: #008000\">'tenure'</span>: <span style=\"color: #008000; text-decoration-color: #008000\">'Int64'</span>, \n",
       "<span style=\"color: #008000; text-decoration-color: #008000\">'PhoneService'</span>: <span style=\"color: #008000; text-decoration-color: #008000\">'String'</span>, <span style=\"color: #008000; text-decoration-color: #008000\">'MultipleLines'</span>: <span style=\"color: #008000; text-decoration-color: #008000\">'String'</span>, <span style=\"color: #008000; text-decoration-color: #008000\">'InternetService'</span>: <span style=\"color: #008000; text-decoration-color: #008000\">'String'</span>, <span style=\"color: #008000; text-decoration-color: #008000\">'OnlineSecurity'</span>: <span style=\"color: #008000; text-decoration-color: #008000\">'String'</span>, \n",
       "<span style=\"color: #008000; text-decoration-color: #008000\">'OnlineBackup'</span>: <span style=\"color: #008000; text-decoration-color: #008000\">'String'</span>, <span style=\"color: #008000; text-decoration-color: #008000\">'DeviceProtection'</span>: <span style=\"color: #008000; text-decoration-color: #008000\">'String'</span>, <span style=\"color: #008000; text-decoration-color: #008000\">'TechSupport'</span>: <span style=\"color: #008000; text-decoration-color: #008000\">'String'</span>, <span style=\"color: #008000; text-decoration-color: #008000\">'StreamingTV'</span>: <span style=\"color: #008000; text-decoration-color: #008000\">'String'</span>, \n",
       "<span style=\"color: #008000; text-decoration-color: #008000\">'StreamingMovies'</span>: <span style=\"color: #008000; text-decoration-color: #008000\">'String'</span>, <span style=\"color: #008000; text-decoration-color: #008000\">'Contract'</span>: <span style=\"color: #008000; text-decoration-color: #008000\">'String'</span>, <span style=\"color: #008000; text-decoration-color: #008000\">'PaperlessBilling'</span>: <span style=\"color: #008000; text-decoration-color: #008000\">'String'</span>, <span style=\"color: #008000; text-decoration-color: #008000\">'PaymentMethod'</span>: <span style=\"color: #008000; text-decoration-color: #008000\">'String'</span>, \n",
       "<span style=\"color: #008000; text-decoration-color: #008000\">'MonthlyCharges'</span>: <span style=\"color: #008000; text-decoration-color: #008000\">'Float64'</span>, <span style=\"color: #008000; text-decoration-color: #008000\">'TotalCharges'</span>: <span style=\"color: #008000; text-decoration-color: #008000\">'Float64'</span>, <span style=\"color: #008000; text-decoration-color: #008000\">'Churn'</span>: <span style=\"color: #008000; text-decoration-color: #008000\">'String'</span><span style=\"font-weight: bold\">}}</span>\n",
       "</pre>\n"
      ],
      "text/plain": [
       "📊 Dataset Info: \u001b[1m{\u001b[0m\u001b[32m'shape'\u001b[0m: \u001b[1m(\u001b[0m\u001b[1;36m7043\u001b[0m, \u001b[1;36m21\u001b[0m\u001b[1m)\u001b[0m, \u001b[32m'columns'\u001b[0m: \u001b[1m[\u001b[0m\u001b[32m'customerID'\u001b[0m, \u001b[32m'gender'\u001b[0m, \u001b[32m'SeniorCitizen'\u001b[0m, \u001b[32m'Partner'\u001b[0m, \n",
       "\u001b[32m'Dependents'\u001b[0m, \u001b[32m'tenure'\u001b[0m, \u001b[32m'PhoneService'\u001b[0m, \u001b[32m'MultipleLines'\u001b[0m, \u001b[32m'InternetService'\u001b[0m, \u001b[32m'OnlineSecurity'\u001b[0m, \u001b[32m'OnlineBackup'\u001b[0m, \n",
       "\u001b[32m'DeviceProtection'\u001b[0m, \u001b[32m'TechSupport'\u001b[0m, \u001b[32m'StreamingTV'\u001b[0m, \u001b[32m'StreamingMovies'\u001b[0m, \u001b[32m'Contract'\u001b[0m, \u001b[32m'PaperlessBilling'\u001b[0m, \n",
       "\u001b[32m'PaymentMethod'\u001b[0m, \u001b[32m'MonthlyCharges'\u001b[0m, \u001b[32m'TotalCharges'\u001b[0m, \u001b[32m'Churn'\u001b[0m\u001b[1m]\u001b[0m, \u001b[32m'null_count'\u001b[0m: \u001b[1;36m11\u001b[0m, \u001b[32m'dtypes'\u001b[0m: \u001b[1m{\u001b[0m\u001b[32m'customerID'\u001b[0m: \u001b[32m'String'\u001b[0m, \n",
       "\u001b[32m'gender'\u001b[0m: \u001b[32m'String'\u001b[0m, \u001b[32m'SeniorCitizen'\u001b[0m: \u001b[32m'Int64'\u001b[0m, \u001b[32m'Partner'\u001b[0m: \u001b[32m'String'\u001b[0m, \u001b[32m'Dependents'\u001b[0m: \u001b[32m'String'\u001b[0m, \u001b[32m'tenure'\u001b[0m: \u001b[32m'Int64'\u001b[0m, \n",
       "\u001b[32m'PhoneService'\u001b[0m: \u001b[32m'String'\u001b[0m, \u001b[32m'MultipleLines'\u001b[0m: \u001b[32m'String'\u001b[0m, \u001b[32m'InternetService'\u001b[0m: \u001b[32m'String'\u001b[0m, \u001b[32m'OnlineSecurity'\u001b[0m: \u001b[32m'String'\u001b[0m, \n",
       "\u001b[32m'OnlineBackup'\u001b[0m: \u001b[32m'String'\u001b[0m, \u001b[32m'DeviceProtection'\u001b[0m: \u001b[32m'String'\u001b[0m, \u001b[32m'TechSupport'\u001b[0m: \u001b[32m'String'\u001b[0m, \u001b[32m'StreamingTV'\u001b[0m: \u001b[32m'String'\u001b[0m, \n",
       "\u001b[32m'StreamingMovies'\u001b[0m: \u001b[32m'String'\u001b[0m, \u001b[32m'Contract'\u001b[0m: \u001b[32m'String'\u001b[0m, \u001b[32m'PaperlessBilling'\u001b[0m: \u001b[32m'String'\u001b[0m, \u001b[32m'PaymentMethod'\u001b[0m: \u001b[32m'String'\u001b[0m, \n",
       "\u001b[32m'MonthlyCharges'\u001b[0m: \u001b[32m'Float64'\u001b[0m, \u001b[32m'TotalCharges'\u001b[0m: \u001b[32m'Float64'\u001b[0m, \u001b[32m'Churn'\u001b[0m: \u001b[32m'String'\u001b[0m\u001b[1m}\u001b[0m\u001b[1m}\u001b[0m\n"
      ]
     },
     "metadata": {},
     "output_type": "display_data"
    }
   ],
   "source": [
    "# Cell 2: Load and initial inspection\n",
    "from churn_analysis.data.loaders.loaders import load_telco_data, get_dataset_info\n",
    "\n",
    "print(\"🔍 Loading Telco Customer Churn Dataset...\")\n",
    "df= load_telco_data()\n",
    "\n",
    "info= get_dataset_info(df)\n",
    "print(f\"📊 Dataset Info: {info}\")"
   ]
  },
  {
   "cell_type": "code",
   "execution_count": null,
   "metadata": {},
   "outputs": [],
   "source": []
  }
 ],
 "metadata": {
  "kernelspec": {
   "display_name": "Python 3 (ipykernel)",
   "language": "python",
   "name": "python3"
  },
  "language_info": {
   "codemirror_mode": {
    "name": "ipython",
    "version": 3
   },
   "file_extension": ".py",
   "mimetype": "text/x-python",
   "name": "python",
   "nbconvert_exporter": "python",
   "pygments_lexer": "ipython3",
   "version": "3.13.2"
  }
 },
 "nbformat": 4,
 "nbformat_minor": 4
}

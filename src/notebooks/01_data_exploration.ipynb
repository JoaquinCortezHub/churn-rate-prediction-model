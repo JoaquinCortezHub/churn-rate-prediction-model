{
 "cells": [
  {
   "cell_type": "code",
   "execution_count": 3,
   "metadata": {},
   "outputs": [
    {
     "name": "stdout",
     "output_type": "stream",
     "text": [
      "🔧 SETTING UP PROJECT PATHS\n",
      "==============================\n",
      "Current directory: C:\\Users\\joaqu\\Desktop\\code\\ML\\churn-prediction-project\\src\\notebooks\n",
      "Project root (src folder): C:\\Users\\joaqu\\Desktop\\code\\ML\\churn-prediction-project\\src\n",
      "Adding to Python path: C:\\Users\\joaqu\\Desktop\\code\\ML\\churn-prediction-project\\src\n",
      "✅ Added to Python path: C:\\Users\\joaqu\\Desktop\\code\\ML\\churn-prediction-project\\src\n",
      "Looking for churn_analysis at: C:\\Users\\joaqu\\Desktop\\code\\ML\\churn-prediction-project\\src\\churn_analysis\n",
      "churn_analysis exists: True\n",
      "Config folder exists: True\n",
      "✅ Successfully imported settings!\n",
      "Data file path: C:\\Users\\joaqu\\Desktop\\code\\ML\\churn-prediction-project\\src\\data\\raw\\WA_Fn-UseC_-Telco-Customer-Churn.csv\n",
      "Data file exists: True\n"
     ]
    },
    {
     "data": {
      "text/html": [
       "<pre style=\"white-space:pre;overflow-x:auto;line-height:normal;font-family:Menlo,'DejaVu Sans Mono',consolas,'Courier New',monospace\">✅ Visualization settings applied\n",
       "</pre>\n"
      ],
      "text/plain": [
       "✅ Visualization settings applied\n"
      ]
     },
     "metadata": {},
     "output_type": "display_data"
    }
   ],
   "source": [
    "import sys\n",
    "from pathlib import Path\n",
    "\n",
    "print(\"🔧 SETTING UP PROJECT PATHS\")\n",
    "print(\"=\" * 30)\n",
    "\n",
    "current_dir = Path.cwd()\n",
    "print(f\"Current directory: {current_dir}\")\n",
    "\n",
    "# Adding current_dir.parent to Python path (which contains churn_analysis)\n",
    "project_root = current_dir.parent\n",
    "src_path = project_root\n",
    "\n",
    "print(f\"Project root (src folder): {project_root}\")\n",
    "print(f\"Adding to Python path: {src_path}\")\n",
    "\n",
    "# Adding the src folder (project_root) to Python path\n",
    "if str(src_path) not in sys.path:\n",
    "    sys.path.insert(0, str(src_path))\n",
    "    print(f\"✅ Added to Python path: {src_path}\")\n",
    "\n",
    "# Verifying churn_analysis module is accessible\n",
    "churn_analysis_path = src_path / 'churn_analysis'\n",
    "print(f\"Looking for churn_analysis at: {churn_analysis_path}\")\n",
    "print(f\"churn_analysis exists: {churn_analysis_path.exists()}\")\n",
    "\n",
    "# Checking config folder\n",
    "config_path = churn_analysis_path / 'config'\n",
    "print(f\"Config folder exists: {config_path.exists()}\")\n",
    "\n",
    "# Trying to import\n",
    "try:\n",
    "    from churn_analysis.config.settings import TELCO_RAW_FILE, FIGURE_SIZE, RANDOM_STATE\n",
    "    print(\"✅ Successfully imported settings!\")\n",
    "    \n",
    "    # Testing the settings\n",
    "    print(f\"Data file path: {TELCO_RAW_FILE}\")\n",
    "    print(f\"Data file exists: {TELCO_RAW_FILE.exists()}\")\n",
    "    \n",
    "except ImportError as e:\n",
    "    print(f\"❌ Import failed: {e}\")\n",
    "    \n",
    "    # Debugging the config folder contents\n",
    "    if config_path.exists():\n",
    "        print(f\"Files in config folder:\")\n",
    "        for file in config_path.iterdir():\n",
    "            print(f\"  📄 {file.name}\")\n",
    "\n",
    "# Standard libraries\n",
    "import polars as pl\n",
    "import pandas as pd\n",
    "import numpy as np\n",
    "import matplotlib.pyplot as plt\n",
    "import seaborn as sns\n",
    "import plotly.express as px\n",
    "from rich import print\n",
    "import pyarrow as pa\n",
    "\n",
    "# Notebook setup\n",
    "try:\n",
    "    plt.style.use('seaborn-v0_8')\n",
    "    plt.rcParams['figure.figsize'] = FIGURE_SIZE\n",
    "    sns.set_palette(\"husl\")\n",
    "    print(\"✅ Visualization settings applied\")\n",
    "except:\n",
    "    # Fallback if settings import failed\n",
    "    plt.rcParams['figure.figsize'] = (12, 8)\n",
    "    print(\"⚠️ Using fallback visualization settings\")"
   ]
  },
  {
   "cell_type": "code",
   "execution_count": 16,
   "metadata": {},
   "outputs": [
    {
     "data": {
      "text/html": [
       "<pre style=\"white-space:pre;overflow-x:auto;line-height:normal;font-family:Menlo,'DejaVu Sans Mono',consolas,'Courier New',monospace\">🔍 Loading Telco Customer Churn Dataset<span style=\"color: #808000; text-decoration-color: #808000\">...</span>\n",
       "</pre>\n"
      ],
      "text/plain": [
       "🔍 Loading Telco Customer Churn Dataset\u001b[33m...\u001b[0m\n"
      ]
     },
     "metadata": {},
     "output_type": "display_data"
    },
    {
     "name": "stdout",
     "output_type": "stream",
     "text": [
      "✅ Dataset loaded: 7043 rows, 21 columns\n"
     ]
    },
    {
     "data": {
      "text/html": [
       "<pre style=\"white-space:pre;overflow-x:auto;line-height:normal;font-family:Menlo,'DejaVu Sans Mono',consolas,'Courier New',monospace\">📊 Dataset Info: <span style=\"font-weight: bold\">{</span><span style=\"color: #008000; text-decoration-color: #008000\">'shape'</span>: <span style=\"font-weight: bold\">(</span><span style=\"color: #008080; text-decoration-color: #008080; font-weight: bold\">7043</span>, <span style=\"color: #008080; text-decoration-color: #008080; font-weight: bold\">21</span><span style=\"font-weight: bold\">)</span>, <span style=\"color: #008000; text-decoration-color: #008000\">'columns'</span>: <span style=\"font-weight: bold\">[</span><span style=\"color: #008000; text-decoration-color: #008000\">'customerID'</span>, <span style=\"color: #008000; text-decoration-color: #008000\">'gender'</span>, <span style=\"color: #008000; text-decoration-color: #008000\">'SeniorCitizen'</span>, <span style=\"color: #008000; text-decoration-color: #008000\">'Partner'</span>, \n",
       "<span style=\"color: #008000; text-decoration-color: #008000\">'Dependents'</span>, <span style=\"color: #008000; text-decoration-color: #008000\">'tenure'</span>, <span style=\"color: #008000; text-decoration-color: #008000\">'PhoneService'</span>, <span style=\"color: #008000; text-decoration-color: #008000\">'MultipleLines'</span>, <span style=\"color: #008000; text-decoration-color: #008000\">'InternetService'</span>, <span style=\"color: #008000; text-decoration-color: #008000\">'OnlineSecurity'</span>, <span style=\"color: #008000; text-decoration-color: #008000\">'OnlineBackup'</span>, \n",
       "<span style=\"color: #008000; text-decoration-color: #008000\">'DeviceProtection'</span>, <span style=\"color: #008000; text-decoration-color: #008000\">'TechSupport'</span>, <span style=\"color: #008000; text-decoration-color: #008000\">'StreamingTV'</span>, <span style=\"color: #008000; text-decoration-color: #008000\">'StreamingMovies'</span>, <span style=\"color: #008000; text-decoration-color: #008000\">'Contract'</span>, <span style=\"color: #008000; text-decoration-color: #008000\">'PaperlessBilling'</span>, \n",
       "<span style=\"color: #008000; text-decoration-color: #008000\">'PaymentMethod'</span>, <span style=\"color: #008000; text-decoration-color: #008000\">'MonthlyCharges'</span>, <span style=\"color: #008000; text-decoration-color: #008000\">'TotalCharges'</span>, <span style=\"color: #008000; text-decoration-color: #008000\">'Churn'</span><span style=\"font-weight: bold\">]</span>, <span style=\"color: #008000; text-decoration-color: #008000\">'null_count'</span>: <span style=\"color: #008080; text-decoration-color: #008080; font-weight: bold\">11</span>, <span style=\"color: #008000; text-decoration-color: #008000\">'dtypes'</span>: <span style=\"font-weight: bold\">{</span><span style=\"color: #008000; text-decoration-color: #008000\">'customerID'</span>: <span style=\"color: #008000; text-decoration-color: #008000\">'String'</span>, \n",
       "<span style=\"color: #008000; text-decoration-color: #008000\">'gender'</span>: <span style=\"color: #008000; text-decoration-color: #008000\">'String'</span>, <span style=\"color: #008000; text-decoration-color: #008000\">'SeniorCitizen'</span>: <span style=\"color: #008000; text-decoration-color: #008000\">'Int64'</span>, <span style=\"color: #008000; text-decoration-color: #008000\">'Partner'</span>: <span style=\"color: #008000; text-decoration-color: #008000\">'String'</span>, <span style=\"color: #008000; text-decoration-color: #008000\">'Dependents'</span>: <span style=\"color: #008000; text-decoration-color: #008000\">'String'</span>, <span style=\"color: #008000; text-decoration-color: #008000\">'tenure'</span>: <span style=\"color: #008000; text-decoration-color: #008000\">'Int64'</span>, \n",
       "<span style=\"color: #008000; text-decoration-color: #008000\">'PhoneService'</span>: <span style=\"color: #008000; text-decoration-color: #008000\">'String'</span>, <span style=\"color: #008000; text-decoration-color: #008000\">'MultipleLines'</span>: <span style=\"color: #008000; text-decoration-color: #008000\">'String'</span>, <span style=\"color: #008000; text-decoration-color: #008000\">'InternetService'</span>: <span style=\"color: #008000; text-decoration-color: #008000\">'String'</span>, <span style=\"color: #008000; text-decoration-color: #008000\">'OnlineSecurity'</span>: <span style=\"color: #008000; text-decoration-color: #008000\">'String'</span>, \n",
       "<span style=\"color: #008000; text-decoration-color: #008000\">'OnlineBackup'</span>: <span style=\"color: #008000; text-decoration-color: #008000\">'String'</span>, <span style=\"color: #008000; text-decoration-color: #008000\">'DeviceProtection'</span>: <span style=\"color: #008000; text-decoration-color: #008000\">'String'</span>, <span style=\"color: #008000; text-decoration-color: #008000\">'TechSupport'</span>: <span style=\"color: #008000; text-decoration-color: #008000\">'String'</span>, <span style=\"color: #008000; text-decoration-color: #008000\">'StreamingTV'</span>: <span style=\"color: #008000; text-decoration-color: #008000\">'String'</span>, \n",
       "<span style=\"color: #008000; text-decoration-color: #008000\">'StreamingMovies'</span>: <span style=\"color: #008000; text-decoration-color: #008000\">'String'</span>, <span style=\"color: #008000; text-decoration-color: #008000\">'Contract'</span>: <span style=\"color: #008000; text-decoration-color: #008000\">'String'</span>, <span style=\"color: #008000; text-decoration-color: #008000\">'PaperlessBilling'</span>: <span style=\"color: #008000; text-decoration-color: #008000\">'String'</span>, <span style=\"color: #008000; text-decoration-color: #008000\">'PaymentMethod'</span>: <span style=\"color: #008000; text-decoration-color: #008000\">'String'</span>, \n",
       "<span style=\"color: #008000; text-decoration-color: #008000\">'MonthlyCharges'</span>: <span style=\"color: #008000; text-decoration-color: #008000\">'Float64'</span>, <span style=\"color: #008000; text-decoration-color: #008000\">'TotalCharges'</span>: <span style=\"color: #008000; text-decoration-color: #008000\">'Float64'</span>, <span style=\"color: #008000; text-decoration-color: #008000\">'Churn'</span>: <span style=\"color: #008000; text-decoration-color: #008000\">'String'</span><span style=\"font-weight: bold\">}}</span>\n",
       "</pre>\n"
      ],
      "text/plain": [
       "📊 Dataset Info: \u001b[1m{\u001b[0m\u001b[32m'shape'\u001b[0m: \u001b[1m(\u001b[0m\u001b[1;36m7043\u001b[0m, \u001b[1;36m21\u001b[0m\u001b[1m)\u001b[0m, \u001b[32m'columns'\u001b[0m: \u001b[1m[\u001b[0m\u001b[32m'customerID'\u001b[0m, \u001b[32m'gender'\u001b[0m, \u001b[32m'SeniorCitizen'\u001b[0m, \u001b[32m'Partner'\u001b[0m, \n",
       "\u001b[32m'Dependents'\u001b[0m, \u001b[32m'tenure'\u001b[0m, \u001b[32m'PhoneService'\u001b[0m, \u001b[32m'MultipleLines'\u001b[0m, \u001b[32m'InternetService'\u001b[0m, \u001b[32m'OnlineSecurity'\u001b[0m, \u001b[32m'OnlineBackup'\u001b[0m, \n",
       "\u001b[32m'DeviceProtection'\u001b[0m, \u001b[32m'TechSupport'\u001b[0m, \u001b[32m'StreamingTV'\u001b[0m, \u001b[32m'StreamingMovies'\u001b[0m, \u001b[32m'Contract'\u001b[0m, \u001b[32m'PaperlessBilling'\u001b[0m, \n",
       "\u001b[32m'PaymentMethod'\u001b[0m, \u001b[32m'MonthlyCharges'\u001b[0m, \u001b[32m'TotalCharges'\u001b[0m, \u001b[32m'Churn'\u001b[0m\u001b[1m]\u001b[0m, \u001b[32m'null_count'\u001b[0m: \u001b[1;36m11\u001b[0m, \u001b[32m'dtypes'\u001b[0m: \u001b[1m{\u001b[0m\u001b[32m'customerID'\u001b[0m: \u001b[32m'String'\u001b[0m, \n",
       "\u001b[32m'gender'\u001b[0m: \u001b[32m'String'\u001b[0m, \u001b[32m'SeniorCitizen'\u001b[0m: \u001b[32m'Int64'\u001b[0m, \u001b[32m'Partner'\u001b[0m: \u001b[32m'String'\u001b[0m, \u001b[32m'Dependents'\u001b[0m: \u001b[32m'String'\u001b[0m, \u001b[32m'tenure'\u001b[0m: \u001b[32m'Int64'\u001b[0m, \n",
       "\u001b[32m'PhoneService'\u001b[0m: \u001b[32m'String'\u001b[0m, \u001b[32m'MultipleLines'\u001b[0m: \u001b[32m'String'\u001b[0m, \u001b[32m'InternetService'\u001b[0m: \u001b[32m'String'\u001b[0m, \u001b[32m'OnlineSecurity'\u001b[0m: \u001b[32m'String'\u001b[0m, \n",
       "\u001b[32m'OnlineBackup'\u001b[0m: \u001b[32m'String'\u001b[0m, \u001b[32m'DeviceProtection'\u001b[0m: \u001b[32m'String'\u001b[0m, \u001b[32m'TechSupport'\u001b[0m: \u001b[32m'String'\u001b[0m, \u001b[32m'StreamingTV'\u001b[0m: \u001b[32m'String'\u001b[0m, \n",
       "\u001b[32m'StreamingMovies'\u001b[0m: \u001b[32m'String'\u001b[0m, \u001b[32m'Contract'\u001b[0m: \u001b[32m'String'\u001b[0m, \u001b[32m'PaperlessBilling'\u001b[0m: \u001b[32m'String'\u001b[0m, \u001b[32m'PaymentMethod'\u001b[0m: \u001b[32m'String'\u001b[0m, \n",
       "\u001b[32m'MonthlyCharges'\u001b[0m: \u001b[32m'Float64'\u001b[0m, \u001b[32m'TotalCharges'\u001b[0m: \u001b[32m'Float64'\u001b[0m, \u001b[32m'Churn'\u001b[0m: \u001b[32m'String'\u001b[0m\u001b[1m}\u001b[0m\u001b[1m}\u001b[0m\n"
      ]
     },
     "metadata": {},
     "output_type": "display_data"
    }
   ],
   "source": [
    "# Cell 2: Load and initial inspection\n",
    "from data.loaders.loaders import load_telco_data, get_dataset_info\n",
    "from churn_analysis.visualization.display_utils import create_rich_table, display_insights_summary, display_business_alert\n",
    "\n",
    "print(\"🔍 Loading Telco Customer Churn Dataset...\")\n",
    "df= load_telco_data()\n",
    "\n",
    "info= get_dataset_info(df)\n",
    "print(f\"📊 Dataset Info: {info}\")"
   ]
  },
  {
   "cell_type": "code",
   "execution_count": 5,
   "metadata": {
    "scrolled": true
   },
   "outputs": [
    {
     "data": {
      "text/html": [
       "<pre style=\"white-space:pre;overflow-x:auto;line-height:normal;font-family:Menlo,'DejaVu Sans Mono',consolas,'Courier New',monospace\">🎯 TARGET VARIABLE ANALYSIS <span style=\"font-weight: bold\">(</span>CHURN RATE<span style=\"font-weight: bold\">)</span>\n",
       "</pre>\n"
      ],
      "text/plain": [
       "🎯 TARGET VARIABLE ANALYSIS \u001b[1m(\u001b[0mCHURN RATE\u001b[1m)\u001b[0m\n"
      ]
     },
     "metadata": {},
     "output_type": "display_data"
    },
    {
     "data": {
      "text/html": [
       "<pre style=\"white-space:pre;overflow-x:auto;line-height:normal;font-family:Menlo,'DejaVu Sans Mono',consolas,'Courier New',monospace\">========================================\n",
       "</pre>\n"
      ],
      "text/plain": [
       "========================================\n"
      ]
     },
     "metadata": {},
     "output_type": "display_data"
    },
    {
     "data": {
      "text/html": [
       "<pre style=\"white-space:pre;overflow-x:auto;line-height:normal;font-family:Menlo,'DejaVu Sans Mono',consolas,'Courier New',monospace\">Comprehensive Churn Analysis:\n",
       "</pre>\n"
      ],
      "text/plain": [
       "Comprehensive Churn Analysis:\n"
      ]
     },
     "metadata": {},
     "output_type": "display_data"
    },
    {
     "data": {
      "text/html": [
       "<pre style=\"white-space:pre;overflow-x:auto;line-height:normal;font-family:Menlo,'DejaVu Sans Mono',consolas,'Courier New',monospace\">shape: <span style=\"font-weight: bold\">(</span><span style=\"color: #008080; text-decoration-color: #008080; font-weight: bold\">2</span>, <span style=\"color: #008080; text-decoration-color: #008080; font-weight: bold\">3</span><span style=\"font-weight: bold\">)</span>\n",
       "┌───────┬───────┬────────────┐\n",
       "│ Churn ┆ count ┆ percentage │\n",
       "│ ---   ┆ ---   ┆ ---        │\n",
       "│ str   ┆ u32   ┆ f64        │\n",
       "╞═══════╪═══════╪════════════╡\n",
       "│ No    ┆ <span style=\"color: #008080; text-decoration-color: #008080; font-weight: bold\">5174</span>  ┆ <span style=\"color: #008080; text-decoration-color: #008080; font-weight: bold\">73.463013</span>  │\n",
       "│ Yes   ┆ <span style=\"color: #008080; text-decoration-color: #008080; font-weight: bold\">1869</span>  ┆ <span style=\"color: #008080; text-decoration-color: #008080; font-weight: bold\">26.536987</span>  │\n",
       "└───────┴───────┴────────────┘\n",
       "</pre>\n"
      ],
      "text/plain": [
       "shape: \u001b[1m(\u001b[0m\u001b[1;36m2\u001b[0m, \u001b[1;36m3\u001b[0m\u001b[1m)\u001b[0m\n",
       "┌───────┬───────┬────────────┐\n",
       "│ Churn ┆ count ┆ percentage │\n",
       "│ ---   ┆ ---   ┆ ---        │\n",
       "│ str   ┆ u32   ┆ f64        │\n",
       "╞═══════╪═══════╪════════════╡\n",
       "│ No    ┆ \u001b[1;36m5174\u001b[0m  ┆ \u001b[1;36m73.463013\u001b[0m  │\n",
       "│ Yes   ┆ \u001b[1;36m1869\u001b[0m  ┆ \u001b[1;36m26.536987\u001b[0m  │\n",
       "└───────┴───────┴────────────┘\n"
      ]
     },
     "metadata": {},
     "output_type": "display_data"
    },
    {
     "data": {
      "text/html": [
       "<pre style=\"white-space:pre;overflow-x:auto;line-height:normal;font-family:Menlo,'DejaVu Sans Mono',consolas,'Courier New',monospace\">\n",
       "📊 KEY METRICS:\n",
       "</pre>\n"
      ],
      "text/plain": [
       "\n",
       "📊 KEY METRICS:\n"
      ]
     },
     "metadata": {},
     "output_type": "display_data"
    },
    {
     "data": {
      "text/html": [
       "<pre style=\"white-space:pre;overflow-x:auto;line-height:normal;font-family:Menlo,'DejaVu Sans Mono',consolas,'Courier New',monospace\">   Total Customers: <span style=\"color: #008080; text-decoration-color: #008080; font-weight: bold\">7</span>,<span style=\"color: #008080; text-decoration-color: #008080; font-weight: bold\">043</span>\n",
       "</pre>\n"
      ],
      "text/plain": [
       "   Total Customers: \u001b[1;36m7\u001b[0m,\u001b[1;36m043\u001b[0m\n"
      ]
     },
     "metadata": {},
     "output_type": "display_data"
    },
    {
     "data": {
      "text/html": [
       "<pre style=\"white-space:pre;overflow-x:auto;line-height:normal;font-family:Menlo,'DejaVu Sans Mono',consolas,'Courier New',monospace\">   Churned Customers: <span style=\"color: #008080; text-decoration-color: #008080; font-weight: bold\">1</span>,<span style=\"color: #008080; text-decoration-color: #008080; font-weight: bold\">869</span>\n",
       "</pre>\n"
      ],
      "text/plain": [
       "   Churned Customers: \u001b[1;36m1\u001b[0m,\u001b[1;36m869\u001b[0m\n"
      ]
     },
     "metadata": {},
     "output_type": "display_data"
    },
    {
     "data": {
      "text/html": [
       "<pre style=\"white-space:pre;overflow-x:auto;line-height:normal;font-family:Menlo,'DejaVu Sans Mono',consolas,'Courier New',monospace\">   Retention Rate: <span style=\"color: #008080; text-decoration-color: #008080; font-weight: bold\">73.5</span>%\n",
       "</pre>\n"
      ],
      "text/plain": [
       "   Retention Rate: \u001b[1;36m73.5\u001b[0m%\n"
      ]
     },
     "metadata": {},
     "output_type": "display_data"
    },
    {
     "data": {
      "text/html": [
       "<pre style=\"white-space:pre;overflow-x:auto;line-height:normal;font-family:Menlo,'DejaVu Sans Mono',consolas,'Courier New',monospace\">   🚨 CHURN RATE: <span style=\"color: #008080; text-decoration-color: #008080; font-weight: bold\">26.5</span>%\n",
       "</pre>\n"
      ],
      "text/plain": [
       "   🚨 CHURN RATE: \u001b[1;36m26.5\u001b[0m%\n"
      ]
     },
     "metadata": {},
     "output_type": "display_data"
    },
    {
     "data": {
      "application/vnd.plotly.v1+json": {
       "config": {
        "plotlyServerURL": "https://plot.ly"
       },
       "data": [
        {
         "marker": {
          "color": [
           "lightblue",
           "lightcoral"
          ]
         },
         "name": "Count",
         "type": "bar",
         "x": [
          "No",
          "Yes"
         ],
         "xaxis": "x",
         "y": {
          "bdata": "NhQAAE0HAAA=",
          "dtype": "u4"
         },
         "yaxis": "y"
        },
        {
         "domain": {
          "x": [
           0.55,
           1
          ],
          "y": [
           0,
           1
          ]
         },
         "labels": [
          "No",
          "Yes"
         ],
         "marker": {
          "colors": [
           "lightblue",
           "lightcoral"
          ]
         },
         "name": "Percentage",
         "type": "pie",
         "values": {
          "bdata": "6u7xAKJdUkBWRDj8d4k6QA==",
          "dtype": "f8"
         }
        }
       ],
       "layout": {
        "annotations": [
         {
          "font": {
           "size": 16
          },
          "showarrow": false,
          "text": "Customers that Churn",
          "x": 0.225,
          "xanchor": "center",
          "xref": "paper",
          "y": 1,
          "yanchor": "bottom",
          "yref": "paper"
         },
         {
          "font": {
           "size": 16
          },
          "showarrow": false,
          "text": "Percentage Distribution",
          "x": 0.775,
          "xanchor": "center",
          "xref": "paper",
          "y": 1,
          "yanchor": "bottom",
          "yref": "paper"
         }
        ],
        "height": 400,
        "showlegend": false,
        "template": {
         "data": {
          "bar": [
           {
            "error_x": {
             "color": "#2a3f5f"
            },
            "error_y": {
             "color": "#2a3f5f"
            },
            "marker": {
             "line": {
              "color": "#E5ECF6",
              "width": 0.5
             },
             "pattern": {
              "fillmode": "overlay",
              "size": 10,
              "solidity": 0.2
             }
            },
            "type": "bar"
           }
          ],
          "barpolar": [
           {
            "marker": {
             "line": {
              "color": "#E5ECF6",
              "width": 0.5
             },
             "pattern": {
              "fillmode": "overlay",
              "size": 10,
              "solidity": 0.2
             }
            },
            "type": "barpolar"
           }
          ],
          "carpet": [
           {
            "aaxis": {
             "endlinecolor": "#2a3f5f",
             "gridcolor": "white",
             "linecolor": "white",
             "minorgridcolor": "white",
             "startlinecolor": "#2a3f5f"
            },
            "baxis": {
             "endlinecolor": "#2a3f5f",
             "gridcolor": "white",
             "linecolor": "white",
             "minorgridcolor": "white",
             "startlinecolor": "#2a3f5f"
            },
            "type": "carpet"
           }
          ],
          "choropleth": [
           {
            "colorbar": {
             "outlinewidth": 0,
             "ticks": ""
            },
            "type": "choropleth"
           }
          ],
          "contour": [
           {
            "colorbar": {
             "outlinewidth": 0,
             "ticks": ""
            },
            "colorscale": [
             [
              0,
              "#0d0887"
             ],
             [
              0.1111111111111111,
              "#46039f"
             ],
             [
              0.2222222222222222,
              "#7201a8"
             ],
             [
              0.3333333333333333,
              "#9c179e"
             ],
             [
              0.4444444444444444,
              "#bd3786"
             ],
             [
              0.5555555555555556,
              "#d8576b"
             ],
             [
              0.6666666666666666,
              "#ed7953"
             ],
             [
              0.7777777777777778,
              "#fb9f3a"
             ],
             [
              0.8888888888888888,
              "#fdca26"
             ],
             [
              1,
              "#f0f921"
             ]
            ],
            "type": "contour"
           }
          ],
          "contourcarpet": [
           {
            "colorbar": {
             "outlinewidth": 0,
             "ticks": ""
            },
            "type": "contourcarpet"
           }
          ],
          "heatmap": [
           {
            "colorbar": {
             "outlinewidth": 0,
             "ticks": ""
            },
            "colorscale": [
             [
              0,
              "#0d0887"
             ],
             [
              0.1111111111111111,
              "#46039f"
             ],
             [
              0.2222222222222222,
              "#7201a8"
             ],
             [
              0.3333333333333333,
              "#9c179e"
             ],
             [
              0.4444444444444444,
              "#bd3786"
             ],
             [
              0.5555555555555556,
              "#d8576b"
             ],
             [
              0.6666666666666666,
              "#ed7953"
             ],
             [
              0.7777777777777778,
              "#fb9f3a"
             ],
             [
              0.8888888888888888,
              "#fdca26"
             ],
             [
              1,
              "#f0f921"
             ]
            ],
            "type": "heatmap"
           }
          ],
          "histogram": [
           {
            "marker": {
             "pattern": {
              "fillmode": "overlay",
              "size": 10,
              "solidity": 0.2
             }
            },
            "type": "histogram"
           }
          ],
          "histogram2d": [
           {
            "colorbar": {
             "outlinewidth": 0,
             "ticks": ""
            },
            "colorscale": [
             [
              0,
              "#0d0887"
             ],
             [
              0.1111111111111111,
              "#46039f"
             ],
             [
              0.2222222222222222,
              "#7201a8"
             ],
             [
              0.3333333333333333,
              "#9c179e"
             ],
             [
              0.4444444444444444,
              "#bd3786"
             ],
             [
              0.5555555555555556,
              "#d8576b"
             ],
             [
              0.6666666666666666,
              "#ed7953"
             ],
             [
              0.7777777777777778,
              "#fb9f3a"
             ],
             [
              0.8888888888888888,
              "#fdca26"
             ],
             [
              1,
              "#f0f921"
             ]
            ],
            "type": "histogram2d"
           }
          ],
          "histogram2dcontour": [
           {
            "colorbar": {
             "outlinewidth": 0,
             "ticks": ""
            },
            "colorscale": [
             [
              0,
              "#0d0887"
             ],
             [
              0.1111111111111111,
              "#46039f"
             ],
             [
              0.2222222222222222,
              "#7201a8"
             ],
             [
              0.3333333333333333,
              "#9c179e"
             ],
             [
              0.4444444444444444,
              "#bd3786"
             ],
             [
              0.5555555555555556,
              "#d8576b"
             ],
             [
              0.6666666666666666,
              "#ed7953"
             ],
             [
              0.7777777777777778,
              "#fb9f3a"
             ],
             [
              0.8888888888888888,
              "#fdca26"
             ],
             [
              1,
              "#f0f921"
             ]
            ],
            "type": "histogram2dcontour"
           }
          ],
          "mesh3d": [
           {
            "colorbar": {
             "outlinewidth": 0,
             "ticks": ""
            },
            "type": "mesh3d"
           }
          ],
          "parcoords": [
           {
            "line": {
             "colorbar": {
              "outlinewidth": 0,
              "ticks": ""
             }
            },
            "type": "parcoords"
           }
          ],
          "pie": [
           {
            "automargin": true,
            "type": "pie"
           }
          ],
          "scatter": [
           {
            "fillpattern": {
             "fillmode": "overlay",
             "size": 10,
             "solidity": 0.2
            },
            "type": "scatter"
           }
          ],
          "scatter3d": [
           {
            "line": {
             "colorbar": {
              "outlinewidth": 0,
              "ticks": ""
             }
            },
            "marker": {
             "colorbar": {
              "outlinewidth": 0,
              "ticks": ""
             }
            },
            "type": "scatter3d"
           }
          ],
          "scattercarpet": [
           {
            "marker": {
             "colorbar": {
              "outlinewidth": 0,
              "ticks": ""
             }
            },
            "type": "scattercarpet"
           }
          ],
          "scattergeo": [
           {
            "marker": {
             "colorbar": {
              "outlinewidth": 0,
              "ticks": ""
             }
            },
            "type": "scattergeo"
           }
          ],
          "scattergl": [
           {
            "marker": {
             "colorbar": {
              "outlinewidth": 0,
              "ticks": ""
             }
            },
            "type": "scattergl"
           }
          ],
          "scattermap": [
           {
            "marker": {
             "colorbar": {
              "outlinewidth": 0,
              "ticks": ""
             }
            },
            "type": "scattermap"
           }
          ],
          "scattermapbox": [
           {
            "marker": {
             "colorbar": {
              "outlinewidth": 0,
              "ticks": ""
             }
            },
            "type": "scattermapbox"
           }
          ],
          "scatterpolar": [
           {
            "marker": {
             "colorbar": {
              "outlinewidth": 0,
              "ticks": ""
             }
            },
            "type": "scatterpolar"
           }
          ],
          "scatterpolargl": [
           {
            "marker": {
             "colorbar": {
              "outlinewidth": 0,
              "ticks": ""
             }
            },
            "type": "scatterpolargl"
           }
          ],
          "scatterternary": [
           {
            "marker": {
             "colorbar": {
              "outlinewidth": 0,
              "ticks": ""
             }
            },
            "type": "scatterternary"
           }
          ],
          "surface": [
           {
            "colorbar": {
             "outlinewidth": 0,
             "ticks": ""
            },
            "colorscale": [
             [
              0,
              "#0d0887"
             ],
             [
              0.1111111111111111,
              "#46039f"
             ],
             [
              0.2222222222222222,
              "#7201a8"
             ],
             [
              0.3333333333333333,
              "#9c179e"
             ],
             [
              0.4444444444444444,
              "#bd3786"
             ],
             [
              0.5555555555555556,
              "#d8576b"
             ],
             [
              0.6666666666666666,
              "#ed7953"
             ],
             [
              0.7777777777777778,
              "#fb9f3a"
             ],
             [
              0.8888888888888888,
              "#fdca26"
             ],
             [
              1,
              "#f0f921"
             ]
            ],
            "type": "surface"
           }
          ],
          "table": [
           {
            "cells": {
             "fill": {
              "color": "#EBF0F8"
             },
             "line": {
              "color": "white"
             }
            },
            "header": {
             "fill": {
              "color": "#C8D4E3"
             },
             "line": {
              "color": "white"
             }
            },
            "type": "table"
           }
          ]
         },
         "layout": {
          "annotationdefaults": {
           "arrowcolor": "#2a3f5f",
           "arrowhead": 0,
           "arrowwidth": 1
          },
          "autotypenumbers": "strict",
          "coloraxis": {
           "colorbar": {
            "outlinewidth": 0,
            "ticks": ""
           }
          },
          "colorscale": {
           "diverging": [
            [
             0,
             "#8e0152"
            ],
            [
             0.1,
             "#c51b7d"
            ],
            [
             0.2,
             "#de77ae"
            ],
            [
             0.3,
             "#f1b6da"
            ],
            [
             0.4,
             "#fde0ef"
            ],
            [
             0.5,
             "#f7f7f7"
            ],
            [
             0.6,
             "#e6f5d0"
            ],
            [
             0.7,
             "#b8e186"
            ],
            [
             0.8,
             "#7fbc41"
            ],
            [
             0.9,
             "#4d9221"
            ],
            [
             1,
             "#276419"
            ]
           ],
           "sequential": [
            [
             0,
             "#0d0887"
            ],
            [
             0.1111111111111111,
             "#46039f"
            ],
            [
             0.2222222222222222,
             "#7201a8"
            ],
            [
             0.3333333333333333,
             "#9c179e"
            ],
            [
             0.4444444444444444,
             "#bd3786"
            ],
            [
             0.5555555555555556,
             "#d8576b"
            ],
            [
             0.6666666666666666,
             "#ed7953"
            ],
            [
             0.7777777777777778,
             "#fb9f3a"
            ],
            [
             0.8888888888888888,
             "#fdca26"
            ],
            [
             1,
             "#f0f921"
            ]
           ],
           "sequentialminus": [
            [
             0,
             "#0d0887"
            ],
            [
             0.1111111111111111,
             "#46039f"
            ],
            [
             0.2222222222222222,
             "#7201a8"
            ],
            [
             0.3333333333333333,
             "#9c179e"
            ],
            [
             0.4444444444444444,
             "#bd3786"
            ],
            [
             0.5555555555555556,
             "#d8576b"
            ],
            [
             0.6666666666666666,
             "#ed7953"
            ],
            [
             0.7777777777777778,
             "#fb9f3a"
            ],
            [
             0.8888888888888888,
             "#fdca26"
            ],
            [
             1,
             "#f0f921"
            ]
           ]
          },
          "colorway": [
           "#636efa",
           "#EF553B",
           "#00cc96",
           "#ab63fa",
           "#FFA15A",
           "#19d3f3",
           "#FF6692",
           "#B6E880",
           "#FF97FF",
           "#FECB52"
          ],
          "font": {
           "color": "#2a3f5f"
          },
          "geo": {
           "bgcolor": "white",
           "lakecolor": "white",
           "landcolor": "#E5ECF6",
           "showlakes": true,
           "showland": true,
           "subunitcolor": "white"
          },
          "hoverlabel": {
           "align": "left"
          },
          "hovermode": "closest",
          "mapbox": {
           "style": "light"
          },
          "paper_bgcolor": "white",
          "plot_bgcolor": "#E5ECF6",
          "polar": {
           "angularaxis": {
            "gridcolor": "white",
            "linecolor": "white",
            "ticks": ""
           },
           "bgcolor": "#E5ECF6",
           "radialaxis": {
            "gridcolor": "white",
            "linecolor": "white",
            "ticks": ""
           }
          },
          "scene": {
           "xaxis": {
            "backgroundcolor": "#E5ECF6",
            "gridcolor": "white",
            "gridwidth": 2,
            "linecolor": "white",
            "showbackground": true,
            "ticks": "",
            "zerolinecolor": "white"
           },
           "yaxis": {
            "backgroundcolor": "#E5ECF6",
            "gridcolor": "white",
            "gridwidth": 2,
            "linecolor": "white",
            "showbackground": true,
            "ticks": "",
            "zerolinecolor": "white"
           },
           "zaxis": {
            "backgroundcolor": "#E5ECF6",
            "gridcolor": "white",
            "gridwidth": 2,
            "linecolor": "white",
            "showbackground": true,
            "ticks": "",
            "zerolinecolor": "white"
           }
          },
          "shapedefaults": {
           "line": {
            "color": "#2a3f5f"
           }
          },
          "ternary": {
           "aaxis": {
            "gridcolor": "white",
            "linecolor": "white",
            "ticks": ""
           },
           "baxis": {
            "gridcolor": "white",
            "linecolor": "white",
            "ticks": ""
           },
           "bgcolor": "#E5ECF6",
           "caxis": {
            "gridcolor": "white",
            "linecolor": "white",
            "ticks": ""
           }
          },
          "title": {
           "x": 0.05
          },
          "xaxis": {
           "automargin": true,
           "gridcolor": "white",
           "linecolor": "white",
           "ticks": "",
           "title": {
            "standoff": 15
           },
           "zerolinecolor": "white",
           "zerolinewidth": 2
          },
          "yaxis": {
           "automargin": true,
           "gridcolor": "white",
           "linecolor": "white",
           "ticks": "",
           "title": {
            "standoff": 15
           },
           "zerolinecolor": "white",
           "zerolinewidth": 2
          }
         }
        },
        "title": {
         "text": "Customer Churn Rate Analysis"
        },
        "xaxis": {
         "anchor": "y",
         "domain": [
          0,
          0.45
         ]
        },
        "yaxis": {
         "anchor": "x",
         "domain": [
          0,
          1
         ]
        }
       }
      },
      "image/png": "[encoded data removed]"
     },
     "metadata": {},
     "output_type": "display_data"
    }
   ],
   "source": [
    "# Cell 3: Target Variable Analysis - Churn Rate\n",
    "print(\"🎯 TARGET VARIABLE ANALYSIS (CHURN RATE)\")\n",
    "print(\"=\" * 40)\n",
    "\n",
    "churn_analysis = df.select([\n",
    "    pl.col(\"Churn\").value_counts().alias(\"distribution\")\n",
    "]).unnest(\"distribution\").with_columns([\n",
    "    (pl.col(\"count\") / pl.col(\"count\").sum() * 100).alias(\"percentage\")\n",
    "]).sort(\"Churn\")\n",
    "\n",
    "print(\"Comprehensive Churn Analysis:\")\n",
    "print(churn_analysis)\n",
    "\n",
    "# Extracting key metrics\n",
    "total_customers = df.height\n",
    "churned_customers = df.filter(pl.col(\"Churn\") == \"Yes\").height\n",
    "churn_rate = (churned_customers / total_customers) * 100\n",
    "\n",
    "print(f\"\\n📊 KEY METRICS:\")\n",
    "print(f\"   Total Customers: {total_customers:,}\")\n",
    "print(f\"   Churned Customers: {churned_customers:,}\")\n",
    "print(f\"   Retention Rate: {100 - churn_rate:.1f}%\")\n",
    "print(f\"   🚨 CHURN RATE: {churn_rate:.1f}%\")\n",
    "\n",
    "# Visualization with plotly\n",
    "import plotly.graph_objects as go\n",
    "from plotly.subplots import make_subplots\n",
    "\n",
    "# Converting to pandas for easier plotting\n",
    "churn_data = churn_analysis.to_pandas()\n",
    "\n",
    "# Creating subplots\n",
    "fig = make_subplots(\n",
    "    rows=1, cols=2,\n",
    "    subplot_titles=('Customers that Churn', 'Percentage Distribution'),\n",
    "    specs=[[{\"type\": \"bar\"}, {\"type\": \"pie\"}]]\n",
    ")\n",
    "\n",
    "# Bar chart\n",
    "fig.add_trace(\n",
    "    go.Bar(\n",
    "        x=churn_data[\"Churn\"],\n",
    "        y=churn_data[\"count\"],\n",
    "        marker_color=['lightblue', 'lightcoral'],\n",
    "        name=\"Count\"\n",
    "    ),\n",
    "    row=1, col=1\n",
    ")\n",
    "\n",
    "# Pie chart\n",
    "fig.add_trace(\n",
    "    go.Pie(\n",
    "        labels=churn_data[\"Churn\"],\n",
    "        values=churn_data[\"percentage\"],\n",
    "        marker_colors=['lightblue', 'lightcoral'],\n",
    "        name=\"Percentage\"\n",
    "    ),\n",
    "    row=1, col=2\n",
    ")\n",
    "\n",
    "fig.update_layout(\n",
    "    title_text=\"Customer Churn Rate Analysis\",\n",
    "    height=400,\n",
    "    showlegend=False\n",
    ")\n",
    "\n",
    "fig.show()"
   ]
  },
  {
   "cell_type": "code",
   "execution_count": 20,
   "metadata": {
    "scrolled": true
   },
   "outputs": [
    {
     "data": {
      "text/html": [
       "<pre style=\"white-space:pre;overflow-x:auto;line-height:normal;font-family:Menlo,'DejaVu Sans Mono',consolas,'Courier New',monospace\">💰 FINANCIAL IMPACT OF CUSTUMER CHURN\n",
       "</pre>\n"
      ],
      "text/plain": [
       "💰 FINANCIAL IMPACT OF CUSTUMER CHURN\n"
      ]
     },
     "metadata": {},
     "output_type": "display_data"
    },
    {
     "data": {
      "text/html": [
       "<pre style=\"white-space:pre;overflow-x:auto;line-height:normal;font-family:Menlo,'DejaVu Sans Mono',consolas,'Courier New',monospace\">========================================\n",
       "</pre>\n"
      ],
      "text/plain": [
       "========================================\n"
      ]
     },
     "metadata": {},
     "output_type": "display_data"
    },
    {
     "data": {
      "text/html": [
       "<pre style=\"white-space:pre;overflow-x:auto;line-height:normal;font-family:Menlo,'DejaVu Sans Mono',consolas,'Courier New',monospace\">💳 Revenue Analysis by Churn Status:\n",
       "</pre>\n"
      ],
      "text/plain": [
       "💳 Revenue Analysis by Churn Status:\n"
      ]
     },
     "metadata": {},
     "output_type": "display_data"
    },
    {
     "data": {
      "text/html": [
       "<pre style=\"white-space:pre;overflow-x:auto;line-height:normal;font-family:Menlo,'DejaVu Sans Mono',consolas,'Courier New',monospace\">shape: <span style=\"font-weight: bold\">(</span><span style=\"color: #008080; text-decoration-color: #008080; font-weight: bold\">2</span>, <span style=\"color: #008080; text-decoration-color: #008080; font-weight: bold\">7</span><span style=\"font-weight: bold\">)</span>\n",
       "┌─────┬─────┬─────┬─────┬─────┬─────┬─────┐\n",
       "│ Chu ┆ Cus ┆ Avg ┆ Tot ┆ Avg ┆ Tot ┆ Avg │\n",
       "│ rn  ┆ tom ┆ _Mo ┆ al_ ┆ _Li ┆ al_ ┆ _Te │\n",
       "│ --- ┆ er_ ┆ nth ┆ Mon ┆ fet ┆ Lif ┆ nur │\n",
       "│ str ┆ cou ┆ ly_ ┆ thl ┆ ime ┆ eti ┆ e_M │\n",
       "│     ┆ nt  ┆ Rev ┆ y_R ┆ _Va ┆ me_ ┆ ont │\n",
       "│     ┆ --- ┆ enu ┆ eve ┆ lue ┆ Rev ┆ hs  │\n",
       "│     ┆ u32 ┆ e   ┆ nue ┆ --- ┆ enu ┆ --- │\n",
       "│     ┆     ┆ --- ┆ --- ┆ f64 ┆ e   ┆ f64 │\n",
       "│     ┆     ┆ f64 ┆ f64 ┆     ┆ --- ┆     │\n",
       "│     ┆     ┆     ┆     ┆     ┆ f64 ┆     │\n",
       "╞═════╪═════╪═════╪═════╪═════╪═════╪═════╡\n",
       "│ Yes ┆ <span style=\"color: #008080; text-decoration-color: #008080; font-weight: bold\">186</span> ┆ <span style=\"color: #008080; text-decoration-color: #008080; font-weight: bold\">74</span>. ┆ <span style=\"color: #008080; text-decoration-color: #008080; font-weight: bold\">139</span> ┆ <span style=\"color: #008080; text-decoration-color: #008080; font-weight: bold\">153</span> ┆ <span style=\"color: #008080; text-decoration-color: #008080; font-weight: bold\">2.8</span> ┆ <span style=\"color: #008080; text-decoration-color: #008080; font-weight: bold\">17</span>. │\n",
       "│     ┆ <span style=\"color: #008080; text-decoration-color: #008080; font-weight: bold\">9</span>   ┆ <span style=\"color: #008080; text-decoration-color: #008080; font-weight: bold\">441</span> ┆ <span style=\"color: #008080; text-decoration-color: #008080; font-weight: bold\">130</span> ┆ <span style=\"color: #008080; text-decoration-color: #008080; font-weight: bold\">1.7</span> ┆ <span style=\"color: #008080; text-decoration-color: #008080; font-weight: bold\">629</span> ┆ <span style=\"color: #008080; text-decoration-color: #008080; font-weight: bold\">979</span> │\n",
       "│     ┆     ┆ <span style=\"color: #008080; text-decoration-color: #008080; font-weight: bold\">332</span> ┆ .<span style=\"color: #008080; text-decoration-color: #008080; font-weight: bold\">85</span> ┆ <span style=\"color: #008080; text-decoration-color: #008080; font-weight: bold\">960</span> ┆ e6  ┆ <span style=\"color: #008080; text-decoration-color: #008080; font-weight: bold\">133</span> │\n",
       "│     ┆     ┆     ┆     ┆ <span style=\"color: #008080; text-decoration-color: #008080; font-weight: bold\">94</span>  ┆     ┆     │\n",
       "│ No  ┆ <span style=\"color: #008080; text-decoration-color: #008080; font-weight: bold\">517</span> ┆ <span style=\"color: #008080; text-decoration-color: #008080; font-weight: bold\">61</span>. ┆ <span style=\"color: #008080; text-decoration-color: #008080; font-weight: bold\">316</span> ┆ <span style=\"color: #008080; text-decoration-color: #008080; font-weight: bold\">255</span> ┆ <span style=\"color: #008080; text-decoration-color: #008080; font-weight: bold\">1.3</span> ┆ <span style=\"color: #008080; text-decoration-color: #008080; font-weight: bold\">37</span>. │\n",
       "│     ┆ <span style=\"color: #008080; text-decoration-color: #008080; font-weight: bold\">4</span>   ┆ <span style=\"color: #008080; text-decoration-color: #008080; font-weight: bold\">265</span> ┆ <span style=\"color: #008080; text-decoration-color: #008080; font-weight: bold\">985</span> ┆ <span style=\"color: #008080; text-decoration-color: #008080; font-weight: bold\">5.3</span> ┆ <span style=\"color: #008080; text-decoration-color: #008080; font-weight: bold\">193</span> ┆ <span style=\"color: #008080; text-decoration-color: #008080; font-weight: bold\">569</span> │\n",
       "│     ┆     ┆ <span style=\"color: #008080; text-decoration-color: #008080; font-weight: bold\">124</span> ┆ .<span style=\"color: #008080; text-decoration-color: #008080; font-weight: bold\">75</span> ┆ <span style=\"color: #008080; text-decoration-color: #008080; font-weight: bold\">441</span> ┆ e7  ┆ <span style=\"color: #008080; text-decoration-color: #008080; font-weight: bold\">965</span> │\n",
       "│     ┆     ┆     ┆     ┆ <span style=\"color: #008080; text-decoration-color: #008080; font-weight: bold\">41</span>  ┆     ┆     │\n",
       "└─────┴─────┴─────┴─────┴─────┴─────┴─────┘\n",
       "</pre>\n"
      ],
      "text/plain": [
       "shape: \u001b[1m(\u001b[0m\u001b[1;36m2\u001b[0m, \u001b[1;36m7\u001b[0m\u001b[1m)\u001b[0m\n",
       "┌─────┬─────┬─────┬─────┬─────┬─────┬─────┐\n",
       "│ Chu ┆ Cus ┆ Avg ┆ Tot ┆ Avg ┆ Tot ┆ Avg │\n",
       "│ rn  ┆ tom ┆ _Mo ┆ al_ ┆ _Li ┆ al_ ┆ _Te │\n",
       "│ --- ┆ er_ ┆ nth ┆ Mon ┆ fet ┆ Lif ┆ nur │\n",
       "│ str ┆ cou ┆ ly_ ┆ thl ┆ ime ┆ eti ┆ e_M │\n",
       "│     ┆ nt  ┆ Rev ┆ y_R ┆ _Va ┆ me_ ┆ ont │\n",
       "│     ┆ --- ┆ enu ┆ eve ┆ lue ┆ Rev ┆ hs  │\n",
       "│     ┆ u32 ┆ e   ┆ nue ┆ --- ┆ enu ┆ --- │\n",
       "│     ┆     ┆ --- ┆ --- ┆ f64 ┆ e   ┆ f64 │\n",
       "│     ┆     ┆ f64 ┆ f64 ┆     ┆ --- ┆     │\n",
       "│     ┆     ┆     ┆     ┆     ┆ f64 ┆     │\n",
       "╞═════╪═════╪═════╪═════╪═════╪═════╪═════╡\n",
       "│ Yes ┆ \u001b[1;36m186\u001b[0m ┆ \u001b[1;36m74\u001b[0m. ┆ \u001b[1;36m139\u001b[0m ┆ \u001b[1;36m153\u001b[0m ┆ \u001b[1;36m2.8\u001b[0m ┆ \u001b[1;36m17\u001b[0m. │\n",
       "│     ┆ \u001b[1;36m9\u001b[0m   ┆ \u001b[1;36m441\u001b[0m ┆ \u001b[1;36m130\u001b[0m ┆ \u001b[1;36m1.7\u001b[0m ┆ \u001b[1;36m629\u001b[0m ┆ \u001b[1;36m979\u001b[0m │\n",
       "│     ┆     ┆ \u001b[1;36m332\u001b[0m ┆ .\u001b[1;36m85\u001b[0m ┆ \u001b[1;36m960\u001b[0m ┆ e6  ┆ \u001b[1;36m133\u001b[0m │\n",
       "│     ┆     ┆     ┆     ┆ \u001b[1;36m94\u001b[0m  ┆     ┆     │\n",
       "│ No  ┆ \u001b[1;36m517\u001b[0m ┆ \u001b[1;36m61\u001b[0m. ┆ \u001b[1;36m316\u001b[0m ┆ \u001b[1;36m255\u001b[0m ┆ \u001b[1;36m1.3\u001b[0m ┆ \u001b[1;36m37\u001b[0m. │\n",
       "│     ┆ \u001b[1;36m4\u001b[0m   ┆ \u001b[1;36m265\u001b[0m ┆ \u001b[1;36m985\u001b[0m ┆ \u001b[1;36m5.3\u001b[0m ┆ \u001b[1;36m193\u001b[0m ┆ \u001b[1;36m569\u001b[0m │\n",
       "│     ┆     ┆ \u001b[1;36m124\u001b[0m ┆ .\u001b[1;36m75\u001b[0m ┆ \u001b[1;36m441\u001b[0m ┆ e7  ┆ \u001b[1;36m965\u001b[0m │\n",
       "│     ┆     ┆     ┆     ┆ \u001b[1;36m41\u001b[0m  ┆     ┆     │\n",
       "└─────┴─────┴─────┴─────┴─────┴─────┴─────┘\n"
      ]
     },
     "metadata": {},
     "output_type": "display_data"
    },
    {
     "data": {
      "text/html": [
       "<pre style=\"white-space:pre;overflow-x:auto;line-height:normal;font-family:Menlo,'DejaVu Sans Mono',consolas,'Courier New',monospace\">\n",
       "🚨 FINANCIAL IMPACT SUMMARY:\n",
       "</pre>\n"
      ],
      "text/plain": [
       "\n",
       "🚨 FINANCIAL IMPACT SUMMARY:\n"
      ]
     },
     "metadata": {},
     "output_type": "display_data"
    },
    {
     "data": {
      "text/html": [
       "<pre style=\"white-space:pre;overflow-x:auto;line-height:normal;font-family:Menlo,'DejaVu Sans Mono',consolas,'Courier New',monospace\">   Monthly Revenue Lost: $<span style=\"color: #008080; text-decoration-color: #008080; font-weight: bold\">139</span>,<span style=\"color: #008080; text-decoration-color: #008080; font-weight: bold\">131</span>\n",
       "</pre>\n"
      ],
      "text/plain": [
       "   Monthly Revenue Lost: $\u001b[1;36m139\u001b[0m,\u001b[1;36m131\u001b[0m\n"
      ]
     },
     "metadata": {},
     "output_type": "display_data"
    },
    {
     "data": {
      "text/html": [
       "<pre style=\"white-space:pre;overflow-x:auto;line-height:normal;font-family:Menlo,'DejaVu Sans Mono',consolas,'Courier New',monospace\">   Annual Revenue Lost: $<span style=\"color: #008080; text-decoration-color: #008080; font-weight: bold\">1</span>,<span style=\"color: #008080; text-decoration-color: #008080; font-weight: bold\">669</span>,<span style=\"color: #008080; text-decoration-color: #008080; font-weight: bold\">570</span>\n",
       "</pre>\n"
      ],
      "text/plain": [
       "   Annual Revenue Lost: $\u001b[1;36m1\u001b[0m,\u001b[1;36m669\u001b[0m,\u001b[1;36m570\u001b[0m\n"
      ]
     },
     "metadata": {},
     "output_type": "display_data"
    },
    {
     "data": {
      "text/html": [
       "<pre style=\"white-space:pre;overflow-x:auto;line-height:normal;font-family:Menlo,'DejaVu Sans Mono',consolas,'Courier New',monospace\">   Average Monthly Value per Churned Customer: $<span style=\"color: #008080; text-decoration-color: #008080; font-weight: bold\">74.44</span>\n",
       "</pre>\n"
      ],
      "text/plain": [
       "   Average Monthly Value per Churned Customer: $\u001b[1;36m74.44\u001b[0m\n"
      ]
     },
     "metadata": {},
     "output_type": "display_data"
    },
    {
     "data": {
      "text/html": [
       "<pre style=\"white-space:pre;overflow-x:auto;line-height:normal;font-family:Menlo,'DejaVu Sans Mono',consolas,'Courier New',monospace\">   Average Lifetime Value Lost per Churned Customer: $<span style=\"color: #008080; text-decoration-color: #008080; font-weight: bold\">1531.80</span>\n",
       "</pre>\n"
      ],
      "text/plain": [
       "   Average Lifetime Value Lost per Churned Customer: $\u001b[1;36m1531.80\u001b[0m\n"
      ]
     },
     "metadata": {},
     "output_type": "display_data"
    },
    {
     "data": {
      "text/html": [
       "<pre style=\"white-space:pre;overflow-x:auto;line-height:normal;font-family:Menlo,'DejaVu Sans Mono',consolas,'Courier New',monospace\">   Total Customer Lifetime Value Lost: $<span style=\"color: #008080; text-decoration-color: #008080; font-weight: bold\">2</span>,<span style=\"color: #008080; text-decoration-color: #008080; font-weight: bold\">862</span>,<span style=\"color: #008080; text-decoration-color: #008080; font-weight: bold\">927</span>\n",
       "</pre>\n"
      ],
      "text/plain": [
       "   Total Customer Lifetime Value Lost: $\u001b[1;36m2\u001b[0m,\u001b[1;36m862\u001b[0m,\u001b[1;36m927\u001b[0m\n"
      ]
     },
     "metadata": {},
     "output_type": "display_data"
    }
   ],
   "source": [
    "print(\"💰 FINANCIAL IMPACT OF CUSTUMER CHURN\")\n",
    "print(\"=\" * 40)\n",
    "\n",
    "#Revenue Analysis:\n",
    "revenue_analysis= df.group_by(\"Churn\").agg([\n",
    "    pl.col(\"customerID\").count().alias(\"Customer_count\"),\n",
    "    pl.col(\"MonthlyCharges\").mean().alias(\"Avg_Monthly_Revenue\"),\n",
    "    pl.col(\"MonthlyCharges\").sum().alias(\"Total_Monthly_Revenue\"),\n",
    "    pl.col(\"TotalCharges\").mean().alias(\"Avg_Lifetime_Value\"),\n",
    "    pl.col(\"TotalCharges\").sum().alias(\"Total_Lifetime_Revenue\"),\n",
    "    pl.col(\"tenure\").mean().alias(\"Avg_Tenure_Months\")\n",
    "])\n",
    "\n",
    "print(\"💳 Revenue Analysis by Churn Status:\")\n",
    "print(revenue_analysis)\n",
    "\n",
    "#Calculating finantial impacts:\n",
    "churned_revenue= revenue_analysis.filter(pl.col(\"Churn\") == \"Yes\")\n",
    "retained_revenue= revenue_analysis.filter(pl.col(\"Churn\") == \"No\")\n",
    "\n",
    "#Extracting values for calculations:\n",
    "churned_monthly= churned_revenue[\"Total_Monthly_Revenue\"][0]\n",
    "churned_avg_monthly= churned_revenue[\"Avg_Monthly_Revenue\"][0]\n",
    "churned_avg_lifetime= churned_revenue[\"Avg_Lifetime_Value\"][0]\n",
    "\n",
    "retained_monthly= retained_revenue[\"Total_Monthly_Revenue\"][0]\n",
    "retained_avg_monthly= retained_revenue[\"Avg_Monthly_Revenue\"][0]\n",
    "retained_avg_lifetime= retained_revenue[\"Avg_Lifetime_Value\"][0]\n",
    "\n",
    "#Calculating annual impact:\n",
    "monthly_revenue_lost= churned_monthly\n",
    "annual_revenue_lost= monthly_revenue_lost * 12\n",
    "\n",
    "print(f\"\\n🚨 FINANCIAL IMPACT SUMMARY:\")\n",
    "print(f\"   Monthly Revenue Lost: ${monthly_revenue_lost:,.0f}\")\n",
    "print(f\"   Annual Revenue Lost: ${annual_revenue_lost:,.0f}\")\n",
    "print(f\"   Average Monthly Value per Churned Customer: ${churned_avg_monthly:.2f}\")\n",
    "print(f\"   Average Lifetime Value Lost per Churned Customer: ${churned_avg_lifetime:.2f}\")\n",
    "\n",
    "# Customer acquisition cost perspective\n",
    "total_lifetime_lost = churned_revenue[\"Total_Lifetime_Revenue\"][0]\n",
    "print(f\"   Total Customer Lifetime Value Lost: ${total_lifetime_lost:,.0f}\")\n"
   ]
  },
  {
   "cell_type": "code",
   "execution_count": 25,
   "metadata": {
    "scrolled": true
   },
   "outputs": [
    {
     "data": {
      "text/html": [
       "<pre style=\"white-space:pre;overflow-x:auto;line-height:normal;font-family:Menlo,'DejaVu Sans Mono',consolas,'Courier New',monospace\">📊 REVENUE RISK BY CUSTOMER SEGMENTS\n",
       "</pre>\n"
      ],
      "text/plain": [
       "📊 REVENUE RISK BY CUSTOMER SEGMENTS\n"
      ]
     },
     "metadata": {},
     "output_type": "display_data"
    },
    {
     "data": {
      "text/html": [
       "<pre style=\"white-space:pre;overflow-x:auto;line-height:normal;font-family:Menlo,'DejaVu Sans Mono',consolas,'Courier New',monospace\">========================================\n",
       "</pre>\n"
      ],
      "text/plain": [
       "========================================\n"
      ]
     },
     "metadata": {},
     "output_type": "display_data"
    },
    {
     "data": {
      "text/html": [
       "<pre style=\"white-space:pre;overflow-x:auto;line-height:normal;font-family:Menlo,'DejaVu Sans Mono',consolas,'Courier New',monospace\">Revenue Analysis by Customer Value Segment:\n",
       "</pre>\n"
      ],
      "text/plain": [
       "Revenue Analysis by Customer Value Segment:\n"
      ]
     },
     "metadata": {},
     "output_type": "display_data"
    },
    {
     "data": {
      "text/html": [
       "<pre style=\"white-space:pre;overflow-x:auto;line-height:normal;font-family:Menlo,'DejaVu Sans Mono',consolas,'Courier New',monospace\">shape: <span style=\"font-weight: bold\">(</span><span style=\"color: #008080; text-decoration-color: #008080; font-weight: bold\">8</span>, <span style=\"color: #008080; text-decoration-color: #008080; font-weight: bold\">5</span><span style=\"font-weight: bold\">)</span>\n",
       "┌───────┬───────┬───────┬───────┬───────┐\n",
       "│ Value ┆ Churn ┆ Custo ┆ Month ┆ Avg_M │\n",
       "│ _Segm ┆ ---   ┆ mer_C ┆ ly_Re ┆ onthl │\n",
       "│ ent   ┆ str   ┆ ount  ┆ venue ┆ y_Cha │\n",
       "│ ---   ┆       ┆ ---   ┆ ---   ┆ rge   │\n",
       "│ str   ┆       ┆ u32   ┆ f64   ┆ ---   │\n",
       "│       ┆       ┆       ┆       ┆ f64   │\n",
       "╞═══════╪═══════╪═══════╪═══════╪═══════╡\n",
       "│ High  ┆ Yes   ┆ <span style=\"color: #008080; text-decoration-color: #008080; font-weight: bold\">910</span>   ┆ <span style=\"color: #008080; text-decoration-color: #008080; font-weight: bold\">85669</span> ┆ <span style=\"color: #008080; text-decoration-color: #008080; font-weight: bold\">94.14</span> │\n",
       "│ Value ┆       ┆       ┆ .<span style=\"color: #008080; text-decoration-color: #008080; font-weight: bold\">35</span>   ┆ <span style=\"color: #008080; text-decoration-color: #008080; font-weight: bold\">2143</span>  │\n",
       "│ <span style=\"font-weight: bold\">(</span>+$<span style=\"color: #008080; text-decoration-color: #008080; font-weight: bold\">80</span> ┆       ┆       ┆       ┆       │\n",
       "│ <span style=\"font-weight: bold\">)</span>     ┆       ┆       ┆       ┆       │\n",
       "│ High  ┆ No    ┆ <span style=\"color: #008080; text-decoration-color: #008080; font-weight: bold\">1767</span>  ┆ <span style=\"color: #008080; text-decoration-color: #008080; font-weight: bold\">16961</span> ┆ <span style=\"color: #008080; text-decoration-color: #008080; font-weight: bold\">95.98</span> │\n",
       "│ Value ┆       ┆       ┆ <span style=\"color: #008080; text-decoration-color: #008080; font-weight: bold\">1.5</span>   ┆ <span style=\"color: #008080; text-decoration-color: #008080; font-weight: bold\">8398</span>  │\n",
       "│ <span style=\"font-weight: bold\">(</span>+$<span style=\"color: #008080; text-decoration-color: #008080; font-weight: bold\">80</span> ┆       ┆       ┆       ┆       │\n",
       "│ <span style=\"font-weight: bold\">)</span>     ┆       ┆       ┆       ┆       │\n",
       "│ Low   ┆ Yes   ┆ <span style=\"color: #008080; text-decoration-color: #008080; font-weight: bold\">162</span>   ┆ <span style=\"color: #008080; text-decoration-color: #008080; font-weight: bold\">3583</span>. ┆ <span style=\"color: #008080; text-decoration-color: #008080; font-weight: bold\">22.12</span> │\n",
       "│ Value ┆       ┆       ┆ <span style=\"color: #008080; text-decoration-color: #008080; font-weight: bold\">75</span>    ┆ <span style=\"color: #008080; text-decoration-color: #008080; font-weight: bold\">1914</span>  │\n",
       "│ <span style=\"font-weight: bold\">(</span>&lt;$<span style=\"color: #008080; text-decoration-color: #008080; font-weight: bold\">30</span> ┆       ┆       ┆       ┆       │\n",
       "│ <span style=\"font-weight: bold\">)</span>     ┆       ┆       ┆       ┆       │\n",
       "│ Low   ┆ No    ┆ <span style=\"color: #008080; text-decoration-color: #008080; font-weight: bold\">1491</span>  ┆ <span style=\"color: #008080; text-decoration-color: #008080; font-weight: bold\">31961</span> ┆ <span style=\"color: #008080; text-decoration-color: #008080; font-weight: bold\">21.43</span> │\n",
       "│ Value ┆       ┆       ┆ .<span style=\"color: #008080; text-decoration-color: #008080; font-weight: bold\">6</span>    ┆ <span style=\"color: #008080; text-decoration-color: #008080; font-weight: bold\">6351</span>  │\n",
       "│ <span style=\"font-weight: bold\">(</span>&lt;$<span style=\"color: #008080; text-decoration-color: #008080; font-weight: bold\">30</span> ┆       ┆       ┆       ┆       │\n",
       "│ <span style=\"font-weight: bold\">)</span>     ┆       ┆       ┆       ┆       │\n",
       "│ Low-M ┆ Yes   ┆ <span style=\"color: #008080; text-decoration-color: #008080; font-weight: bold\">199</span>   ┆ <span style=\"color: #008080; text-decoration-color: #008080; font-weight: bold\">8527</span>. ┆ <span style=\"color: #008080; text-decoration-color: #008080; font-weight: bold\">42.85</span> │\n",
       "│ edium ┆       ┆       ┆ <span style=\"color: #008080; text-decoration-color: #008080; font-weight: bold\">15</span>    ┆       │\n",
       "│ Value ┆       ┆       ┆       ┆       │\n",
       "│ <span style=\"font-weight: bold\">(</span>$<span style=\"color: #008080; text-decoration-color: #008080; font-weight: bold\">30</span>- ┆       ┆       ┆       ┆       │\n",
       "│ <span style=\"color: #008080; text-decoration-color: #008080; font-weight: bold\">49</span><span style=\"font-weight: bold\">)</span>   ┆       ┆       ┆       ┆       │\n",
       "│ Low-M ┆ No    ┆ <span style=\"color: #008080; text-decoration-color: #008080; font-weight: bold\">442</span>   ┆ <span style=\"color: #008080; text-decoration-color: #008080; font-weight: bold\">18867</span> ┆ <span style=\"color: #008080; text-decoration-color: #008080; font-weight: bold\">42.68</span> │\n",
       "│ edium ┆       ┆       ┆ .<span style=\"color: #008080; text-decoration-color: #008080; font-weight: bold\">6</span>    ┆ <span style=\"color: #008080; text-decoration-color: #008080; font-weight: bold\">6878</span>  │\n",
       "│ Value ┆       ┆       ┆       ┆       │\n",
       "│ <span style=\"font-weight: bold\">(</span>$<span style=\"color: #008080; text-decoration-color: #008080; font-weight: bold\">30</span>- ┆       ┆       ┆       ┆       │\n",
       "│ <span style=\"color: #008080; text-decoration-color: #008080; font-weight: bold\">49</span><span style=\"font-weight: bold\">)</span>   ┆       ┆       ┆       ┆       │\n",
       "│ Mediu ┆ No    ┆ <span style=\"color: #008080; text-decoration-color: #008080; font-weight: bold\">1474</span>  ┆ <span style=\"color: #008080; text-decoration-color: #008080; font-weight: bold\">96545</span> ┆ <span style=\"color: #008080; text-decoration-color: #008080; font-weight: bold\">65.49</span> │\n",
       "│ m     ┆       ┆       ┆ .<span style=\"color: #008080; text-decoration-color: #008080; font-weight: bold\">05</span>   ┆ <span style=\"color: #008080; text-decoration-color: #008080; font-weight: bold\">8677</span>  │\n",
       "│ Value ┆       ┆       ┆       ┆       │\n",
       "│ <span style=\"font-weight: bold\">(</span>$<span style=\"color: #008080; text-decoration-color: #008080; font-weight: bold\">50</span>- ┆       ┆       ┆       ┆       │\n",
       "│ <span style=\"color: #008080; text-decoration-color: #008080; font-weight: bold\">79</span><span style=\"font-weight: bold\">)</span>   ┆       ┆       ┆       ┆       │\n",
       "│ Mediu ┆ Yes   ┆ <span style=\"color: #008080; text-decoration-color: #008080; font-weight: bold\">598</span>   ┆ <span style=\"color: #008080; text-decoration-color: #008080; font-weight: bold\">41350</span> ┆ <span style=\"color: #008080; text-decoration-color: #008080; font-weight: bold\">69.14</span> │\n",
       "│ m     ┆       ┆       ┆ .<span style=\"color: #008080; text-decoration-color: #008080; font-weight: bold\">6</span>    ┆ <span style=\"color: #008080; text-decoration-color: #008080; font-weight: bold\">8161</span>  │\n",
       "│ Value ┆       ┆       ┆       ┆       │\n",
       "│ <span style=\"font-weight: bold\">(</span>$<span style=\"color: #008080; text-decoration-color: #008080; font-weight: bold\">50</span>- ┆       ┆       ┆       ┆       │\n",
       "│ <span style=\"color: #008080; text-decoration-color: #008080; font-weight: bold\">79</span><span style=\"font-weight: bold\">)</span>   ┆       ┆       ┆       ┆       │\n",
       "└───────┴───────┴───────┴───────┴───────┘\n",
       "</pre>\n"
      ],
      "text/plain": [
       "shape: \u001b[1m(\u001b[0m\u001b[1;36m8\u001b[0m, \u001b[1;36m5\u001b[0m\u001b[1m)\u001b[0m\n",
       "┌───────┬───────┬───────┬───────┬───────┐\n",
       "│ Value ┆ Churn ┆ Custo ┆ Month ┆ Avg_M │\n",
       "│ _Segm ┆ ---   ┆ mer_C ┆ ly_Re ┆ onthl │\n",
       "│ ent   ┆ str   ┆ ount  ┆ venue ┆ y_Cha │\n",
       "│ ---   ┆       ┆ ---   ┆ ---   ┆ rge   │\n",
       "│ str   ┆       ┆ u32   ┆ f64   ┆ ---   │\n",
       "│       ┆       ┆       ┆       ┆ f64   │\n",
       "╞═══════╪═══════╪═══════╪═══════╪═══════╡\n",
       "│ High  ┆ Yes   ┆ \u001b[1;36m910\u001b[0m   ┆ \u001b[1;36m85669\u001b[0m ┆ \u001b[1;36m94.14\u001b[0m │\n",
       "│ Value ┆       ┆       ┆ .\u001b[1;36m35\u001b[0m   ┆ \u001b[1;36m2143\u001b[0m  │\n",
       "│ \u001b[1m(\u001b[0m+$\u001b[1;36m80\u001b[0m ┆       ┆       ┆       ┆       │\n",
       "│ \u001b[1m)\u001b[0m     ┆       ┆       ┆       ┆       │\n",
       "│ High  ┆ No    ┆ \u001b[1;36m1767\u001b[0m  ┆ \u001b[1;36m16961\u001b[0m ┆ \u001b[1;36m95.98\u001b[0m │\n",
       "│ Value ┆       ┆       ┆ \u001b[1;36m1.5\u001b[0m   ┆ \u001b[1;36m8398\u001b[0m  │\n",
       "│ \u001b[1m(\u001b[0m+$\u001b[1;36m80\u001b[0m ┆       ┆       ┆       ┆       │\n",
       "│ \u001b[1m)\u001b[0m     ┆       ┆       ┆       ┆       │\n",
       "│ Low   ┆ Yes   ┆ \u001b[1;36m162\u001b[0m   ┆ \u001b[1;36m3583\u001b[0m. ┆ \u001b[1;36m22.12\u001b[0m │\n",
       "│ Value ┆       ┆       ┆ \u001b[1;36m75\u001b[0m    ┆ \u001b[1;36m1914\u001b[0m  │\n",
       "│ \u001b[1m(\u001b[0m<$\u001b[1;36m30\u001b[0m ┆       ┆       ┆       ┆       │\n",
       "│ \u001b[1m)\u001b[0m     ┆       ┆       ┆       ┆       │\n",
       "│ Low   ┆ No    ┆ \u001b[1;36m1491\u001b[0m  ┆ \u001b[1;36m31961\u001b[0m ┆ \u001b[1;36m21.43\u001b[0m │\n",
       "│ Value ┆       ┆       ┆ .\u001b[1;36m6\u001b[0m    ┆ \u001b[1;36m6351\u001b[0m  │\n",
       "│ \u001b[1m(\u001b[0m<$\u001b[1;36m30\u001b[0m ┆       ┆       ┆       ┆       │\n",
       "│ \u001b[1m)\u001b[0m     ┆       ┆       ┆       ┆       │\n",
       "│ Low-M ┆ Yes   ┆ \u001b[1;36m199\u001b[0m   ┆ \u001b[1;36m8527\u001b[0m. ┆ \u001b[1;36m42.85\u001b[0m │\n",
       "│ edium ┆       ┆       ┆ \u001b[1;36m15\u001b[0m    ┆       │\n",
       "│ Value ┆       ┆       ┆       ┆       │\n",
       "│ \u001b[1m(\u001b[0m$\u001b[1;36m30\u001b[0m- ┆       ┆       ┆       ┆       │\n",
       "│ \u001b[1;36m49\u001b[0m\u001b[1m)\u001b[0m   ┆       ┆       ┆       ┆       │\n",
       "│ Low-M ┆ No    ┆ \u001b[1;36m442\u001b[0m   ┆ \u001b[1;36m18867\u001b[0m ┆ \u001b[1;36m42.68\u001b[0m │\n",
       "│ edium ┆       ┆       ┆ .\u001b[1;36m6\u001b[0m    ┆ \u001b[1;36m6878\u001b[0m  │\n",
       "│ Value ┆       ┆       ┆       ┆       │\n",
       "│ \u001b[1m(\u001b[0m$\u001b[1;36m30\u001b[0m- ┆       ┆       ┆       ┆       │\n",
       "│ \u001b[1;36m49\u001b[0m\u001b[1m)\u001b[0m   ┆       ┆       ┆       ┆       │\n",
       "│ Mediu ┆ No    ┆ \u001b[1;36m1474\u001b[0m  ┆ \u001b[1;36m96545\u001b[0m ┆ \u001b[1;36m65.49\u001b[0m │\n",
       "│ m     ┆       ┆       ┆ .\u001b[1;36m05\u001b[0m   ┆ \u001b[1;36m8677\u001b[0m  │\n",
       "│ Value ┆       ┆       ┆       ┆       │\n",
       "│ \u001b[1m(\u001b[0m$\u001b[1;36m50\u001b[0m- ┆       ┆       ┆       ┆       │\n",
       "│ \u001b[1;36m79\u001b[0m\u001b[1m)\u001b[0m   ┆       ┆       ┆       ┆       │\n",
       "│ Mediu ┆ Yes   ┆ \u001b[1;36m598\u001b[0m   ┆ \u001b[1;36m41350\u001b[0m ┆ \u001b[1;36m69.14\u001b[0m │\n",
       "│ m     ┆       ┆       ┆ .\u001b[1;36m6\u001b[0m    ┆ \u001b[1;36m8161\u001b[0m  │\n",
       "│ Value ┆       ┆       ┆       ┆       │\n",
       "│ \u001b[1m(\u001b[0m$\u001b[1;36m50\u001b[0m- ┆       ┆       ┆       ┆       │\n",
       "│ \u001b[1;36m79\u001b[0m\u001b[1m)\u001b[0m   ┆       ┆       ┆       ┆       │\n",
       "└───────┴───────┴───────┴───────┴───────┘\n"
      ]
     },
     "metadata": {},
     "output_type": "display_data"
    },
    {
     "data": {
      "text/html": [
       "<pre style=\"white-space:pre;overflow-x:auto;line-height:normal;font-family:Menlo,'DejaVu Sans Mono',consolas,'Courier New',monospace\">\n",
       "🔍 KEY INSIGHTS FROM SEGMENT ANALYSIS:\n",
       "</pre>\n"
      ],
      "text/plain": [
       "\n",
       "🔍 KEY INSIGHTS FROM SEGMENT ANALYSIS:\n"
      ]
     },
     "metadata": {},
     "output_type": "display_data"
    },
    {
     "data": {
      "text/html": [
       "<pre style=\"white-space:pre;overflow-x:auto;line-height:normal;font-family:Menlo,'DejaVu Sans Mono',consolas,'Courier New',monospace\">---------------------------------------------\n",
       "</pre>\n"
      ],
      "text/plain": [
       "---------------------------------------------\n"
      ]
     },
     "metadata": {},
     "output_type": "display_data"
    },
    {
     "data": {
      "text/html": [
       "<pre style=\"white-space:pre;overflow-x:auto;line-height:normal;font-family:Menlo,'DejaVu Sans Mono',consolas,'Courier New',monospace\">📈 Low-Medium Value <span style=\"font-weight: bold\">(</span>$<span style=\"color: #008080; text-decoration-color: #008080; font-weight: bold\">30</span>-<span style=\"color: #008080; text-decoration-color: #008080; font-weight: bold\">49</span><span style=\"font-weight: bold\">)</span>:\n",
       "</pre>\n"
      ],
      "text/plain": [
       "📈 Low-Medium Value \u001b[1m(\u001b[0m$\u001b[1;36m30\u001b[0m-\u001b[1;36m49\u001b[0m\u001b[1m)\u001b[0m:\n"
      ]
     },
     "metadata": {},
     "output_type": "display_data"
    },
    {
     "data": {
      "text/html": [
       "<pre style=\"white-space:pre;overflow-x:auto;line-height:normal;font-family:Menlo,'DejaVu Sans Mono',consolas,'Courier New',monospace\">   └── Total customers: <span style=\"color: #008080; text-decoration-color: #008080; font-weight: bold\">641</span>\n",
       "</pre>\n"
      ],
      "text/plain": [
       "   └── Total customers: \u001b[1;36m641\u001b[0m\n"
      ]
     },
     "metadata": {},
     "output_type": "display_data"
    },
    {
     "data": {
      "text/html": [
       "<pre style=\"white-space:pre;overflow-x:auto;line-height:normal;font-family:Menlo,'DejaVu Sans Mono',consolas,'Courier New',monospace\">   └── Churned: <span style=\"color: #008080; text-decoration-color: #008080; font-weight: bold\">199</span> <span style=\"font-weight: bold\">(</span><span style=\"color: #008080; text-decoration-color: #008080; font-weight: bold\">31.0</span>%<span style=\"font-weight: bold\">)</span>\n",
       "</pre>\n"
      ],
      "text/plain": [
       "   └── Churned: \u001b[1;36m199\u001b[0m \u001b[1m(\u001b[0m\u001b[1;36m31.0\u001b[0m%\u001b[1m)\u001b[0m\n"
      ]
     },
     "metadata": {},
     "output_type": "display_data"
    },
    {
     "data": {
      "text/html": [
       "<pre style=\"white-space:pre;overflow-x:auto;line-height:normal;font-family:Menlo,'DejaVu Sans Mono',consolas,'Courier New',monospace\">\n",
       "</pre>\n"
      ],
      "text/plain": [
       "\n"
      ]
     },
     "metadata": {},
     "output_type": "display_data"
    },
    {
     "data": {
      "text/html": [
       "<pre style=\"white-space:pre;overflow-x:auto;line-height:normal;font-family:Menlo,'DejaVu Sans Mono',consolas,'Courier New',monospace\">📈 High Value <span style=\"font-weight: bold\">(</span>+$<span style=\"color: #008080; text-decoration-color: #008080; font-weight: bold\">80</span><span style=\"font-weight: bold\">)</span>:\n",
       "</pre>\n"
      ],
      "text/plain": [
       "📈 High Value \u001b[1m(\u001b[0m+$\u001b[1;36m80\u001b[0m\u001b[1m)\u001b[0m:\n"
      ]
     },
     "metadata": {},
     "output_type": "display_data"
    },
    {
     "data": {
      "text/html": [
       "<pre style=\"white-space:pre;overflow-x:auto;line-height:normal;font-family:Menlo,'DejaVu Sans Mono',consolas,'Courier New',monospace\">   └── Total customers: <span style=\"color: #008080; text-decoration-color: #008080; font-weight: bold\">2</span>,<span style=\"color: #008080; text-decoration-color: #008080; font-weight: bold\">677</span>\n",
       "</pre>\n"
      ],
      "text/plain": [
       "   └── Total customers: \u001b[1;36m2\u001b[0m,\u001b[1;36m677\u001b[0m\n"
      ]
     },
     "metadata": {},
     "output_type": "display_data"
    },
    {
     "data": {
      "text/html": [
       "<pre style=\"white-space:pre;overflow-x:auto;line-height:normal;font-family:Menlo,'DejaVu Sans Mono',consolas,'Courier New',monospace\">   └── Churned: <span style=\"color: #008080; text-decoration-color: #008080; font-weight: bold\">910</span> <span style=\"font-weight: bold\">(</span><span style=\"color: #008080; text-decoration-color: #008080; font-weight: bold\">34.0</span>%<span style=\"font-weight: bold\">)</span>\n",
       "</pre>\n"
      ],
      "text/plain": [
       "   └── Churned: \u001b[1;36m910\u001b[0m \u001b[1m(\u001b[0m\u001b[1;36m34.0\u001b[0m%\u001b[1m)\u001b[0m\n"
      ]
     },
     "metadata": {},
     "output_type": "display_data"
    },
    {
     "data": {
      "text/html": [
       "<pre style=\"white-space:pre;overflow-x:auto;line-height:normal;font-family:Menlo,'DejaVu Sans Mono',consolas,'Courier New',monospace\">\n",
       "</pre>\n"
      ],
      "text/plain": [
       "\n"
      ]
     },
     "metadata": {},
     "output_type": "display_data"
    },
    {
     "data": {
      "text/html": [
       "<pre style=\"white-space:pre;overflow-x:auto;line-height:normal;font-family:Menlo,'DejaVu Sans Mono',consolas,'Courier New',monospace\">📈 Low Value <span style=\"font-weight: bold\">(</span>&lt;$<span style=\"color: #008080; text-decoration-color: #008080; font-weight: bold\">30</span><span style=\"font-weight: bold\">)</span>:\n",
       "</pre>\n"
      ],
      "text/plain": [
       "📈 Low Value \u001b[1m(\u001b[0m<$\u001b[1;36m30\u001b[0m\u001b[1m)\u001b[0m:\n"
      ]
     },
     "metadata": {},
     "output_type": "display_data"
    },
    {
     "data": {
      "text/html": [
       "<pre style=\"white-space:pre;overflow-x:auto;line-height:normal;font-family:Menlo,'DejaVu Sans Mono',consolas,'Courier New',monospace\">   └── Total customers: <span style=\"color: #008080; text-decoration-color: #008080; font-weight: bold\">1</span>,<span style=\"color: #008080; text-decoration-color: #008080; font-weight: bold\">653</span>\n",
       "</pre>\n"
      ],
      "text/plain": [
       "   └── Total customers: \u001b[1;36m1\u001b[0m,\u001b[1;36m653\u001b[0m\n"
      ]
     },
     "metadata": {},
     "output_type": "display_data"
    },
    {
     "data": {
      "text/html": [
       "<pre style=\"white-space:pre;overflow-x:auto;line-height:normal;font-family:Menlo,'DejaVu Sans Mono',consolas,'Courier New',monospace\">   └── Churned: <span style=\"color: #008080; text-decoration-color: #008080; font-weight: bold\">162</span> <span style=\"font-weight: bold\">(</span><span style=\"color: #008080; text-decoration-color: #008080; font-weight: bold\">9.8</span>%<span style=\"font-weight: bold\">)</span>\n",
       "</pre>\n"
      ],
      "text/plain": [
       "   └── Churned: \u001b[1;36m162\u001b[0m \u001b[1m(\u001b[0m\u001b[1;36m9.8\u001b[0m%\u001b[1m)\u001b[0m\n"
      ]
     },
     "metadata": {},
     "output_type": "display_data"
    },
    {
     "data": {
      "text/html": [
       "<pre style=\"white-space:pre;overflow-x:auto;line-height:normal;font-family:Menlo,'DejaVu Sans Mono',consolas,'Courier New',monospace\">\n",
       "</pre>\n"
      ],
      "text/plain": [
       "\n"
      ]
     },
     "metadata": {},
     "output_type": "display_data"
    },
    {
     "data": {
      "text/html": [
       "<pre style=\"white-space:pre;overflow-x:auto;line-height:normal;font-family:Menlo,'DejaVu Sans Mono',consolas,'Courier New',monospace\">📈 Medium Value <span style=\"font-weight: bold\">(</span>$<span style=\"color: #008080; text-decoration-color: #008080; font-weight: bold\">50</span>-<span style=\"color: #008080; text-decoration-color: #008080; font-weight: bold\">79</span><span style=\"font-weight: bold\">)</span>:\n",
       "</pre>\n"
      ],
      "text/plain": [
       "📈 Medium Value \u001b[1m(\u001b[0m$\u001b[1;36m50\u001b[0m-\u001b[1;36m79\u001b[0m\u001b[1m)\u001b[0m:\n"
      ]
     },
     "metadata": {},
     "output_type": "display_data"
    },
    {
     "data": {
      "text/html": [
       "<pre style=\"white-space:pre;overflow-x:auto;line-height:normal;font-family:Menlo,'DejaVu Sans Mono',consolas,'Courier New',monospace\">   └── Total customers: <span style=\"color: #008080; text-decoration-color: #008080; font-weight: bold\">2</span>,<span style=\"color: #008080; text-decoration-color: #008080; font-weight: bold\">072</span>\n",
       "</pre>\n"
      ],
      "text/plain": [
       "   └── Total customers: \u001b[1;36m2\u001b[0m,\u001b[1;36m072\u001b[0m\n"
      ]
     },
     "metadata": {},
     "output_type": "display_data"
    },
    {
     "data": {
      "text/html": [
       "<pre style=\"white-space:pre;overflow-x:auto;line-height:normal;font-family:Menlo,'DejaVu Sans Mono',consolas,'Courier New',monospace\">   └── Churned: <span style=\"color: #008080; text-decoration-color: #008080; font-weight: bold\">598</span> <span style=\"font-weight: bold\">(</span><span style=\"color: #008080; text-decoration-color: #008080; font-weight: bold\">28.9</span>%<span style=\"font-weight: bold\">)</span>\n",
       "</pre>\n"
      ],
      "text/plain": [
       "   └── Churned: \u001b[1;36m598\u001b[0m \u001b[1m(\u001b[0m\u001b[1;36m28.9\u001b[0m%\u001b[1m)\u001b[0m\n"
      ]
     },
     "metadata": {},
     "output_type": "display_data"
    },
    {
     "data": {
      "text/html": [
       "<pre style=\"white-space:pre;overflow-x:auto;line-height:normal;font-family:Menlo,'DejaVu Sans Mono',consolas,'Courier New',monospace\">\n",
       "</pre>\n"
      ],
      "text/plain": [
       "\n"
      ]
     },
     "metadata": {},
     "output_type": "display_data"
    },
    {
     "data": {
      "text/html": [
       "<pre style=\"white-space:pre;overflow-x:auto;line-height:normal;font-family:Menlo,'DejaVu Sans Mono',consolas,'Courier New',monospace\">\n",
       "💰 Revenue Risk Summary by Segment:\n",
       "</pre>\n"
      ],
      "text/plain": [
       "\n",
       "💰 Revenue Risk Summary by Segment:\n"
      ]
     },
     "metadata": {},
     "output_type": "display_data"
    },
    {
     "data": {
      "text/html": [
       "<pre style=\"white-space:pre;overflow-x:auto;line-height:normal;font-family:Menlo,'DejaVu Sans Mono',consolas,'Courier New',monospace\">shape: <span style=\"font-weight: bold\">(</span><span style=\"color: #008080; text-decoration-color: #008080; font-weight: bold\">4</span>, <span style=\"color: #008080; text-decoration-color: #008080; font-weight: bold\">7</span><span style=\"font-weight: bold\">)</span>\n",
       "┌─────┬─────┬─────┬─────┬─────┬─────┬─────┐\n",
       "│ Val ┆ Tot ┆ Chu ┆ Tot ┆ Avg ┆ Chu ┆ Ann │\n",
       "│ ue_ ┆ al_ ┆ rne ┆ al_ ┆ _Mo ┆ rn_ ┆ ual │\n",
       "│ Seg ┆ Cus ┆ d_C ┆ Mon ┆ nth ┆ Rat ┆ _Re │\n",
       "│ men ┆ tom ┆ ust ┆ thl ┆ ly_ ┆ e   ┆ ven │\n",
       "│ t   ┆ ers ┆ ome ┆ y_R ┆ Cha ┆ --- ┆ ue_ │\n",
       "│ --- ┆ --- ┆ rs  ┆ eve ┆ rge ┆ f64 ┆ At_ │\n",
       "│ str ┆ u32 ┆ --- ┆ nue ┆ s   ┆     ┆ Ris │\n",
       "│     ┆     ┆ u32 ┆ --- ┆ --- ┆     ┆ k   │\n",
       "│     ┆     ┆     ┆ f64 ┆ f64 ┆     ┆ --- │\n",
       "│     ┆     ┆     ┆     ┆     ┆     ┆ f64 │\n",
       "╞═════╪═════╪═════╪═════╪═════╪═════╪═════╡\n",
       "│ Hig ┆ <span style=\"color: #008080; text-decoration-color: #008080; font-weight: bold\">267</span> ┆ <span style=\"color: #008080; text-decoration-color: #008080; font-weight: bold\">910</span> ┆ <span style=\"color: #008080; text-decoration-color: #008080; font-weight: bold\">255</span> ┆ <span style=\"color: #008080; text-decoration-color: #008080; font-weight: bold\">95</span>. ┆ <span style=\"color: #008080; text-decoration-color: #008080; font-weight: bold\">33</span>. ┆ <span style=\"color: #008080; text-decoration-color: #008080; font-weight: bold\">1.0</span> │\n",
       "│ h   ┆ <span style=\"color: #008080; text-decoration-color: #008080; font-weight: bold\">7</span>   ┆     ┆ <span style=\"color: #008080; text-decoration-color: #008080; font-weight: bold\">280</span> ┆ <span style=\"color: #008080; text-decoration-color: #008080; font-weight: bold\">360</span> ┆ <span style=\"color: #008080; text-decoration-color: #008080; font-weight: bold\">993</span> ┆ <span style=\"color: #008080; text-decoration-color: #008080; font-weight: bold\">413</span> │\n",
       "│ Val ┆     ┆     ┆ .<span style=\"color: #008080; text-decoration-color: #008080; font-weight: bold\">85</span> ┆ <span style=\"color: #008080; text-decoration-color: #008080; font-weight: bold\">796</span> ┆ <span style=\"color: #008080; text-decoration-color: #008080; font-weight: bold\">276</span> ┆ e6  │\n",
       "│ ue  ┆     ┆     ┆     ┆     ┆     ┆     │\n",
       "│ <span style=\"font-weight: bold\">(</span>+$ ┆     ┆     ┆     ┆     ┆     ┆     │\n",
       "│ <span style=\"color: #008080; text-decoration-color: #008080; font-weight: bold\">80</span><span style=\"font-weight: bold\">)</span> ┆     ┆     ┆     ┆     ┆     ┆     │\n",
       "│ Med ┆ <span style=\"color: #008080; text-decoration-color: #008080; font-weight: bold\">207</span> ┆ <span style=\"color: #008080; text-decoration-color: #008080; font-weight: bold\">598</span> ┆ <span style=\"color: #008080; text-decoration-color: #008080; font-weight: bold\">137</span> ┆ <span style=\"color: #008080; text-decoration-color: #008080; font-weight: bold\">66</span>. ┆ <span style=\"color: #008080; text-decoration-color: #008080; font-weight: bold\">28</span>. ┆ <span style=\"color: #008080; text-decoration-color: #008080; font-weight: bold\">477</span> │\n",
       "│ ium ┆ <span style=\"color: #008080; text-decoration-color: #008080; font-weight: bold\">2</span>   ┆     ┆ <span style=\"color: #008080; text-decoration-color: #008080; font-weight: bold\">895</span> ┆ <span style=\"color: #008080; text-decoration-color: #008080; font-weight: bold\">551</span> ┆ <span style=\"color: #008080; text-decoration-color: #008080; font-weight: bold\">861</span> ┆ <span style=\"color: #008080; text-decoration-color: #008080; font-weight: bold\">576</span> │\n",
       "│ Val ┆     ┆     ┆ .<span style=\"color: #008080; text-decoration-color: #008080; font-weight: bold\">65</span> ┆ <span style=\"color: #008080; text-decoration-color: #008080; font-weight: bold\">955</span> ┆ <span style=\"color: #008080; text-decoration-color: #008080; font-weight: bold\">004</span> ┆ .<span style=\"color: #008080; text-decoration-color: #008080; font-weight: bold\">82</span> │\n",
       "│ ue  ┆     ┆     ┆     ┆     ┆     ┆ <span style=\"color: #008080; text-decoration-color: #008080; font-weight: bold\">644</span> │\n",
       "│ <span style=\"font-weight: bold\">(</span>$<span style=\"color: #008080; text-decoration-color: #008080; font-weight: bold\">5</span> ┆     ┆     ┆     ┆     ┆     ┆ <span style=\"color: #008080; text-decoration-color: #008080; font-weight: bold\">8</span>   │\n",
       "│ <span style=\"color: #008080; text-decoration-color: #008080; font-weight: bold\">0</span>-<span style=\"color: #008080; text-decoration-color: #008080; font-weight: bold\">7</span> ┆     ┆     ┆     ┆     ┆     ┆     │\n",
       "│ <span style=\"color: #008080; text-decoration-color: #008080; font-weight: bold\">9</span><span style=\"font-weight: bold\">)</span>  ┆     ┆     ┆     ┆     ┆     ┆     │\n",
       "│ Low ┆ <span style=\"color: #008080; text-decoration-color: #008080; font-weight: bold\">641</span> ┆ <span style=\"color: #008080; text-decoration-color: #008080; font-weight: bold\">199</span> ┆ <span style=\"color: #008080; text-decoration-color: #008080; font-weight: bold\">273</span> ┆ <span style=\"color: #008080; text-decoration-color: #008080; font-weight: bold\">42</span>. ┆ <span style=\"color: #008080; text-decoration-color: #008080; font-weight: bold\">31</span>. ┆ <span style=\"color: #008080; text-decoration-color: #008080; font-weight: bold\">102</span> │\n",
       "│ -Me ┆     ┆     ┆ <span style=\"color: #008080; text-decoration-color: #008080; font-weight: bold\">94</span>. ┆ <span style=\"color: #008080; text-decoration-color: #008080; font-weight: bold\">737</span> ┆ <span style=\"color: #008080; text-decoration-color: #008080; font-weight: bold\">045</span> ┆ <span style=\"color: #008080; text-decoration-color: #008080; font-weight: bold\">057</span> │\n",
       "│ diu ┆     ┆     ┆ <span style=\"color: #008080; text-decoration-color: #008080; font-weight: bold\">75</span>  ┆ <span style=\"color: #008080; text-decoration-color: #008080; font-weight: bold\">52</span>  ┆ <span style=\"color: #008080; text-decoration-color: #008080; font-weight: bold\">242</span> ┆ .<span style=\"color: #008080; text-decoration-color: #008080; font-weight: bold\">19</span> │\n",
       "│ m   ┆     ┆     ┆     ┆     ┆     ┆ <span style=\"color: #008080; text-decoration-color: #008080; font-weight: bold\">656</span> │\n",
       "│ Val ┆     ┆     ┆     ┆     ┆     ┆ <span style=\"color: #008080; text-decoration-color: #008080; font-weight: bold\">8</span>   │\n",
       "│ ue  ┆     ┆     ┆     ┆     ┆     ┆     │\n",
       "│ <span style=\"font-weight: bold\">(</span>$<span style=\"color: #008080; text-decoration-color: #008080; font-weight: bold\">3</span> ┆     ┆     ┆     ┆     ┆     ┆     │\n",
       "│ <span style=\"color: #008080; text-decoration-color: #008080; font-weight: bold\">0</span>-<span style=\"color: #008080; text-decoration-color: #008080; font-weight: bold\">4</span> ┆     ┆     ┆     ┆     ┆     ┆     │\n",
       "│ <span style=\"color: #008080; text-decoration-color: #008080; font-weight: bold\">9</span><span style=\"font-weight: bold\">)</span>  ┆     ┆     ┆     ┆     ┆     ┆     │\n",
       "│ Low ┆ <span style=\"color: #008080; text-decoration-color: #008080; font-weight: bold\">165</span> ┆ <span style=\"color: #008080; text-decoration-color: #008080; font-weight: bold\">162</span> ┆ <span style=\"color: #008080; text-decoration-color: #008080; font-weight: bold\">355</span> ┆ <span style=\"color: #008080; text-decoration-color: #008080; font-weight: bold\">21</span>. ┆ <span style=\"color: #008080; text-decoration-color: #008080; font-weight: bold\">9.8</span> ┆ <span style=\"color: #008080; text-decoration-color: #008080; font-weight: bold\">418</span> │\n",
       "│ Val ┆ <span style=\"color: #008080; text-decoration-color: #008080; font-weight: bold\">3</span>   ┆     ┆ <span style=\"color: #008080; text-decoration-color: #008080; font-weight: bold\">45</span>. ┆ <span style=\"color: #008080; text-decoration-color: #008080; font-weight: bold\">503</span> ┆ <span style=\"color: #008080; text-decoration-color: #008080; font-weight: bold\">003</span> ┆ <span style=\"color: #008080; text-decoration-color: #008080; font-weight: bold\">02</span>. │\n",
       "│ ue  ┆     ┆     ┆ <span style=\"color: #008080; text-decoration-color: #008080; font-weight: bold\">35</span>  ┆ <span style=\"color: #008080; text-decoration-color: #008080; font-weight: bold\">539</span> ┆ <span style=\"color: #008080; text-decoration-color: #008080; font-weight: bold\">63</span>  ┆ <span style=\"color: #008080; text-decoration-color: #008080; font-weight: bold\">879</span> │\n",
       "│ <span style=\"font-weight: bold\">(</span>&lt;$ ┆     ┆     ┆     ┆     ┆     ┆ <span style=\"color: #008080; text-decoration-color: #008080; font-weight: bold\">855</span> │\n",
       "│ <span style=\"color: #008080; text-decoration-color: #008080; font-weight: bold\">30</span><span style=\"font-weight: bold\">)</span> ┆     ┆     ┆     ┆     ┆     ┆     │\n",
       "└─────┴─────┴─────┴─────┴─────┴─────┴─────┘\n",
       "</pre>\n"
      ],
      "text/plain": [
       "shape: \u001b[1m(\u001b[0m\u001b[1;36m4\u001b[0m, \u001b[1;36m7\u001b[0m\u001b[1m)\u001b[0m\n",
       "┌─────┬─────┬─────┬─────┬─────┬─────┬─────┐\n",
       "│ Val ┆ Tot ┆ Chu ┆ Tot ┆ Avg ┆ Chu ┆ Ann │\n",
       "│ ue_ ┆ al_ ┆ rne ┆ al_ ┆ _Mo ┆ rn_ ┆ ual │\n",
       "│ Seg ┆ Cus ┆ d_C ┆ Mon ┆ nth ┆ Rat ┆ _Re │\n",
       "│ men ┆ tom ┆ ust ┆ thl ┆ ly_ ┆ e   ┆ ven │\n",
       "│ t   ┆ ers ┆ ome ┆ y_R ┆ Cha ┆ --- ┆ ue_ │\n",
       "│ --- ┆ --- ┆ rs  ┆ eve ┆ rge ┆ f64 ┆ At_ │\n",
       "│ str ┆ u32 ┆ --- ┆ nue ┆ s   ┆     ┆ Ris │\n",
       "│     ┆     ┆ u32 ┆ --- ┆ --- ┆     ┆ k   │\n",
       "│     ┆     ┆     ┆ f64 ┆ f64 ┆     ┆ --- │\n",
       "│     ┆     ┆     ┆     ┆     ┆     ┆ f64 │\n",
       "╞═════╪═════╪═════╪═════╪═════╪═════╪═════╡\n",
       "│ Hig ┆ \u001b[1;36m267\u001b[0m ┆ \u001b[1;36m910\u001b[0m ┆ \u001b[1;36m255\u001b[0m ┆ \u001b[1;36m95\u001b[0m. ┆ \u001b[1;36m33\u001b[0m. ┆ \u001b[1;36m1.0\u001b[0m │\n",
       "│ h   ┆ \u001b[1;36m7\u001b[0m   ┆     ┆ \u001b[1;36m280\u001b[0m ┆ \u001b[1;36m360\u001b[0m ┆ \u001b[1;36m993\u001b[0m ┆ \u001b[1;36m413\u001b[0m │\n",
       "│ Val ┆     ┆     ┆ .\u001b[1;36m85\u001b[0m ┆ \u001b[1;36m796\u001b[0m ┆ \u001b[1;36m276\u001b[0m ┆ e6  │\n",
       "│ ue  ┆     ┆     ┆     ┆     ┆     ┆     │\n",
       "│ \u001b[1m(\u001b[0m+$ ┆     ┆     ┆     ┆     ┆     ┆     │\n",
       "│ \u001b[1;36m80\u001b[0m\u001b[1m)\u001b[0m ┆     ┆     ┆     ┆     ┆     ┆     │\n",
       "│ Med ┆ \u001b[1;36m207\u001b[0m ┆ \u001b[1;36m598\u001b[0m ┆ \u001b[1;36m137\u001b[0m ┆ \u001b[1;36m66\u001b[0m. ┆ \u001b[1;36m28\u001b[0m. ┆ \u001b[1;36m477\u001b[0m │\n",
       "│ ium ┆ \u001b[1;36m2\u001b[0m   ┆     ┆ \u001b[1;36m895\u001b[0m ┆ \u001b[1;36m551\u001b[0m ┆ \u001b[1;36m861\u001b[0m ┆ \u001b[1;36m576\u001b[0m │\n",
       "│ Val ┆     ┆     ┆ .\u001b[1;36m65\u001b[0m ┆ \u001b[1;36m955\u001b[0m ┆ \u001b[1;36m004\u001b[0m ┆ .\u001b[1;36m82\u001b[0m │\n",
       "│ ue  ┆     ┆     ┆     ┆     ┆     ┆ \u001b[1;36m644\u001b[0m │\n",
       "│ \u001b[1m(\u001b[0m$\u001b[1;36m5\u001b[0m ┆     ┆     ┆     ┆     ┆     ┆ \u001b[1;36m8\u001b[0m   │\n",
       "│ \u001b[1;36m0\u001b[0m-\u001b[1;36m7\u001b[0m ┆     ┆     ┆     ┆     ┆     ┆     │\n",
       "│ \u001b[1;36m9\u001b[0m\u001b[1m)\u001b[0m  ┆     ┆     ┆     ┆     ┆     ┆     │\n",
       "│ Low ┆ \u001b[1;36m641\u001b[0m ┆ \u001b[1;36m199\u001b[0m ┆ \u001b[1;36m273\u001b[0m ┆ \u001b[1;36m42\u001b[0m. ┆ \u001b[1;36m31\u001b[0m. ┆ \u001b[1;36m102\u001b[0m │\n",
       "│ -Me ┆     ┆     ┆ \u001b[1;36m94\u001b[0m. ┆ \u001b[1;36m737\u001b[0m ┆ \u001b[1;36m045\u001b[0m ┆ \u001b[1;36m057\u001b[0m │\n",
       "│ diu ┆     ┆     ┆ \u001b[1;36m75\u001b[0m  ┆ \u001b[1;36m52\u001b[0m  ┆ \u001b[1;36m242\u001b[0m ┆ .\u001b[1;36m19\u001b[0m │\n",
       "│ m   ┆     ┆     ┆     ┆     ┆     ┆ \u001b[1;36m656\u001b[0m │\n",
       "│ Val ┆     ┆     ┆     ┆     ┆     ┆ \u001b[1;36m8\u001b[0m   │\n",
       "│ ue  ┆     ┆     ┆     ┆     ┆     ┆     │\n",
       "│ \u001b[1m(\u001b[0m$\u001b[1;36m3\u001b[0m ┆     ┆     ┆     ┆     ┆     ┆     │\n",
       "│ \u001b[1;36m0\u001b[0m-\u001b[1;36m4\u001b[0m ┆     ┆     ┆     ┆     ┆     ┆     │\n",
       "│ \u001b[1;36m9\u001b[0m\u001b[1m)\u001b[0m  ┆     ┆     ┆     ┆     ┆     ┆     │\n",
       "│ Low ┆ \u001b[1;36m165\u001b[0m ┆ \u001b[1;36m162\u001b[0m ┆ \u001b[1;36m355\u001b[0m ┆ \u001b[1;36m21\u001b[0m. ┆ \u001b[1;36m9.8\u001b[0m ┆ \u001b[1;36m418\u001b[0m │\n",
       "│ Val ┆ \u001b[1;36m3\u001b[0m   ┆     ┆ \u001b[1;36m45\u001b[0m. ┆ \u001b[1;36m503\u001b[0m ┆ \u001b[1;36m003\u001b[0m ┆ \u001b[1;36m02\u001b[0m. │\n",
       "│ ue  ┆     ┆     ┆ \u001b[1;36m35\u001b[0m  ┆ \u001b[1;36m539\u001b[0m ┆ \u001b[1;36m63\u001b[0m  ┆ \u001b[1;36m879\u001b[0m │\n",
       "│ \u001b[1m(\u001b[0m<$ ┆     ┆     ┆     ┆     ┆     ┆ \u001b[1;36m855\u001b[0m │\n",
       "│ \u001b[1;36m30\u001b[0m\u001b[1m)\u001b[0m ┆     ┆     ┆     ┆     ┆     ┆     │\n",
       "└─────┴─────┴─────┴─────┴─────┴─────┴─────┘\n"
      ]
     },
     "metadata": {},
     "output_type": "display_data"
    },
    {
     "data": {
      "text/html": [
       "<pre style=\"white-space:pre;overflow-x:auto;line-height:normal;font-family:Menlo,'DejaVu Sans Mono',consolas,'Courier New',monospace\">\n",
       "💰 FINANCIAL IMPACT INSIGHTS:\n",
       "</pre>\n"
      ],
      "text/plain": [
       "\n",
       "💰 FINANCIAL IMPACT INSIGHTS:\n"
      ]
     },
     "metadata": {},
     "output_type": "display_data"
    },
    {
     "data": {
      "text/html": [
       "<pre style=\"white-space:pre;overflow-x:auto;line-height:normal;font-family:Menlo,'DejaVu Sans Mono',consolas,'Courier New',monospace\">---------------------------------------------\n",
       "</pre>\n"
      ],
      "text/plain": [
       "---------------------------------------------\n"
      ]
     },
     "metadata": {},
     "output_type": "display_data"
    },
    {
     "data": {
      "text/html": [
       "<pre style=\"white-space:pre;overflow-x:auto;line-height:normal;font-family:Menlo,'DejaVu Sans Mono',consolas,'Courier New',monospace\">🚨 TOTAL ANNUAL REVENUE AT RISK: $<span style=\"color: #008080; text-decoration-color: #008080; font-weight: bold\">1</span>,<span style=\"color: #008080; text-decoration-color: #008080; font-weight: bold\">662</span>,<span style=\"color: #008080; text-decoration-color: #008080; font-weight: bold\">777</span>\n",
       "</pre>\n"
      ],
      "text/plain": [
       "🚨 TOTAL ANNUAL REVENUE AT RISK: $\u001b[1;36m1\u001b[0m,\u001b[1;36m662\u001b[0m,\u001b[1;36m777\u001b[0m\n"
      ]
     },
     "metadata": {},
     "output_type": "display_data"
    },
    {
     "data": {
      "text/html": [
       "<pre style=\"white-space:pre;overflow-x:auto;line-height:normal;font-family:Menlo,'DejaVu Sans Mono',consolas,'Courier New',monospace\">\n",
       "</pre>\n"
      ],
      "text/plain": [
       "\n"
      ]
     },
     "metadata": {},
     "output_type": "display_data"
    },
    {
     "data": {
      "text/html": [
       "<pre style=\"white-space:pre;overflow-x:auto;line-height:normal;font-family:Menlo,'DejaVu Sans Mono',consolas,'Courier New',monospace\">💎 High Value <span style=\"font-weight: bold\">(</span>+$<span style=\"color: #008080; text-decoration-color: #008080; font-weight: bold\">80</span><span style=\"font-weight: bold\">)</span> Segment:\n",
       "</pre>\n"
      ],
      "text/plain": [
       "💎 High Value \u001b[1m(\u001b[0m+$\u001b[1;36m80\u001b[0m\u001b[1m)\u001b[0m Segment:\n"
      ]
     },
     "metadata": {},
     "output_type": "display_data"
    },
    {
     "data": {
      "text/html": [
       "<pre style=\"white-space:pre;overflow-x:auto;line-height:normal;font-family:Menlo,'DejaVu Sans Mono',consolas,'Courier New',monospace\">   ├── Risk Level: 🔴 HIGH RISK <span style=\"font-weight: bold\">(</span><span style=\"color: #008080; text-decoration-color: #008080; font-weight: bold\">34.0</span>% churn<span style=\"font-weight: bold\">)</span>\n",
       "</pre>\n"
      ],
      "text/plain": [
       "   ├── Risk Level: 🔴 HIGH RISK \u001b[1m(\u001b[0m\u001b[1;36m34.0\u001b[0m% churn\u001b[1m)\u001b[0m\n"
      ]
     },
     "metadata": {},
     "output_type": "display_data"
    },
    {
     "data": {
      "text/html": [
       "<pre style=\"white-space:pre;overflow-x:auto;line-height:normal;font-family:Menlo,'DejaVu Sans Mono',consolas,'Courier New',monospace\">   ├── Customer Base: <span style=\"color: #008080; text-decoration-color: #008080; font-weight: bold\">2</span>,<span style=\"color: #008080; text-decoration-color: #008080; font-weight: bold\">677</span> customers\n",
       "</pre>\n"
      ],
      "text/plain": [
       "   ├── Customer Base: \u001b[1;36m2\u001b[0m,\u001b[1;36m677\u001b[0m customers\n"
      ]
     },
     "metadata": {},
     "output_type": "display_data"
    },
    {
     "data": {
      "text/html": [
       "<pre style=\"white-space:pre;overflow-x:auto;line-height:normal;font-family:Menlo,'DejaVu Sans Mono',consolas,'Courier New',monospace\">   ├── Average Monthly Value: $<span style=\"color: #008080; text-decoration-color: #008080; font-weight: bold\">95.36</span>\n",
       "</pre>\n"
      ],
      "text/plain": [
       "   ├── Average Monthly Value: $\u001b[1;36m95.36\u001b[0m\n"
      ]
     },
     "metadata": {},
     "output_type": "display_data"
    },
    {
     "data": {
      "text/html": [
       "<pre style=\"white-space:pre;overflow-x:auto;line-height:normal;font-family:Menlo,'DejaVu Sans Mono',consolas,'Courier New',monospace\">   ├── Customers Lost: <span style=\"color: #008080; text-decoration-color: #008080; font-weight: bold\">910</span>\n",
       "</pre>\n"
      ],
      "text/plain": [
       "   ├── Customers Lost: \u001b[1;36m910\u001b[0m\n"
      ]
     },
     "metadata": {},
     "output_type": "display_data"
    },
    {
     "data": {
      "text/html": [
       "<pre style=\"white-space:pre;overflow-x:auto;line-height:normal;font-family:Menlo,'DejaVu Sans Mono',consolas,'Courier New',monospace\">   └── Annual Revenue at Risk: $<span style=\"color: #008080; text-decoration-color: #008080; font-weight: bold\">1</span>,<span style=\"color: #008080; text-decoration-color: #008080; font-weight: bold\">041</span>,<span style=\"color: #008080; text-decoration-color: #008080; font-weight: bold\">340</span>\n",
       "</pre>\n"
      ],
      "text/plain": [
       "   └── Annual Revenue at Risk: $\u001b[1;36m1\u001b[0m,\u001b[1;36m041\u001b[0m,\u001b[1;36m340\u001b[0m\n"
      ]
     },
     "metadata": {},
     "output_type": "display_data"
    },
    {
     "data": {
      "text/html": [
       "<pre style=\"white-space:pre;overflow-x:auto;line-height:normal;font-family:Menlo,'DejaVu Sans Mono',consolas,'Courier New',monospace\">\n",
       "</pre>\n"
      ],
      "text/plain": [
       "\n"
      ]
     },
     "metadata": {},
     "output_type": "display_data"
    },
    {
     "data": {
      "text/html": [
       "<pre style=\"white-space:pre;overflow-x:auto;line-height:normal;font-family:Menlo,'DejaVu Sans Mono',consolas,'Courier New',monospace\">💎 Medium Value <span style=\"font-weight: bold\">(</span>$<span style=\"color: #008080; text-decoration-color: #008080; font-weight: bold\">50</span>-<span style=\"color: #008080; text-decoration-color: #008080; font-weight: bold\">79</span><span style=\"font-weight: bold\">)</span> Segment:\n",
       "</pre>\n"
      ],
      "text/plain": [
       "💎 Medium Value \u001b[1m(\u001b[0m$\u001b[1;36m50\u001b[0m-\u001b[1;36m79\u001b[0m\u001b[1m)\u001b[0m Segment:\n"
      ]
     },
     "metadata": {},
     "output_type": "display_data"
    },
    {
     "data": {
      "text/html": [
       "<pre style=\"white-space:pre;overflow-x:auto;line-height:normal;font-family:Menlo,'DejaVu Sans Mono',consolas,'Courier New',monospace\">   ├── Risk Level: 🟡 MEDIUM RISK <span style=\"font-weight: bold\">(</span><span style=\"color: #008080; text-decoration-color: #008080; font-weight: bold\">28.9</span>% churn<span style=\"font-weight: bold\">)</span>\n",
       "</pre>\n"
      ],
      "text/plain": [
       "   ├── Risk Level: 🟡 MEDIUM RISK \u001b[1m(\u001b[0m\u001b[1;36m28.9\u001b[0m% churn\u001b[1m)\u001b[0m\n"
      ]
     },
     "metadata": {},
     "output_type": "display_data"
    },
    {
     "data": {
      "text/html": [
       "<pre style=\"white-space:pre;overflow-x:auto;line-height:normal;font-family:Menlo,'DejaVu Sans Mono',consolas,'Courier New',monospace\">   ├── Customer Base: <span style=\"color: #008080; text-decoration-color: #008080; font-weight: bold\">2</span>,<span style=\"color: #008080; text-decoration-color: #008080; font-weight: bold\">072</span> customers\n",
       "</pre>\n"
      ],
      "text/plain": [
       "   ├── Customer Base: \u001b[1;36m2\u001b[0m,\u001b[1;36m072\u001b[0m customers\n"
      ]
     },
     "metadata": {},
     "output_type": "display_data"
    },
    {
     "data": {
      "text/html": [
       "<pre style=\"white-space:pre;overflow-x:auto;line-height:normal;font-family:Menlo,'DejaVu Sans Mono',consolas,'Courier New',monospace\">   ├── Average Monthly Value: $<span style=\"color: #008080; text-decoration-color: #008080; font-weight: bold\">66.55</span>\n",
       "</pre>\n"
      ],
      "text/plain": [
       "   ├── Average Monthly Value: $\u001b[1;36m66.55\u001b[0m\n"
      ]
     },
     "metadata": {},
     "output_type": "display_data"
    },
    {
     "data": {
      "text/html": [
       "<pre style=\"white-space:pre;overflow-x:auto;line-height:normal;font-family:Menlo,'DejaVu Sans Mono',consolas,'Courier New',monospace\">   ├── Customers Lost: <span style=\"color: #008080; text-decoration-color: #008080; font-weight: bold\">598</span>\n",
       "</pre>\n"
      ],
      "text/plain": [
       "   ├── Customers Lost: \u001b[1;36m598\u001b[0m\n"
      ]
     },
     "metadata": {},
     "output_type": "display_data"
    },
    {
     "data": {
      "text/html": [
       "<pre style=\"white-space:pre;overflow-x:auto;line-height:normal;font-family:Menlo,'DejaVu Sans Mono',consolas,'Courier New',monospace\">   └── Annual Revenue at Risk: $<span style=\"color: #008080; text-decoration-color: #008080; font-weight: bold\">477</span>,<span style=\"color: #008080; text-decoration-color: #008080; font-weight: bold\">577</span>\n",
       "</pre>\n"
      ],
      "text/plain": [
       "   └── Annual Revenue at Risk: $\u001b[1;36m477\u001b[0m,\u001b[1;36m577\u001b[0m\n"
      ]
     },
     "metadata": {},
     "output_type": "display_data"
    },
    {
     "data": {
      "text/html": [
       "<pre style=\"white-space:pre;overflow-x:auto;line-height:normal;font-family:Menlo,'DejaVu Sans Mono',consolas,'Courier New',monospace\">\n",
       "</pre>\n"
      ],
      "text/plain": [
       "\n"
      ]
     },
     "metadata": {},
     "output_type": "display_data"
    },
    {
     "data": {
      "text/html": [
       "<pre style=\"white-space:pre;overflow-x:auto;line-height:normal;font-family:Menlo,'DejaVu Sans Mono',consolas,'Courier New',monospace\">💎 Low-Medium Value <span style=\"font-weight: bold\">(</span>$<span style=\"color: #008080; text-decoration-color: #008080; font-weight: bold\">30</span>-<span style=\"color: #008080; text-decoration-color: #008080; font-weight: bold\">49</span><span style=\"font-weight: bold\">)</span> Segment:\n",
       "</pre>\n"
      ],
      "text/plain": [
       "💎 Low-Medium Value \u001b[1m(\u001b[0m$\u001b[1;36m30\u001b[0m-\u001b[1;36m49\u001b[0m\u001b[1m)\u001b[0m Segment:\n"
      ]
     },
     "metadata": {},
     "output_type": "display_data"
    },
    {
     "data": {
      "text/html": [
       "<pre style=\"white-space:pre;overflow-x:auto;line-height:normal;font-family:Menlo,'DejaVu Sans Mono',consolas,'Courier New',monospace\">   ├── Risk Level: 🔴 HIGH RISK <span style=\"font-weight: bold\">(</span><span style=\"color: #008080; text-decoration-color: #008080; font-weight: bold\">31.0</span>% churn<span style=\"font-weight: bold\">)</span>\n",
       "</pre>\n"
      ],
      "text/plain": [
       "   ├── Risk Level: 🔴 HIGH RISK \u001b[1m(\u001b[0m\u001b[1;36m31.0\u001b[0m% churn\u001b[1m)\u001b[0m\n"
      ]
     },
     "metadata": {},
     "output_type": "display_data"
    },
    {
     "data": {
      "text/html": [
       "<pre style=\"white-space:pre;overflow-x:auto;line-height:normal;font-family:Menlo,'DejaVu Sans Mono',consolas,'Courier New',monospace\">   ├── Customer Base: <span style=\"color: #008080; text-decoration-color: #008080; font-weight: bold\">641</span> customers\n",
       "</pre>\n"
      ],
      "text/plain": [
       "   ├── Customer Base: \u001b[1;36m641\u001b[0m customers\n"
      ]
     },
     "metadata": {},
     "output_type": "display_data"
    },
    {
     "data": {
      "text/html": [
       "<pre style=\"white-space:pre;overflow-x:auto;line-height:normal;font-family:Menlo,'DejaVu Sans Mono',consolas,'Courier New',monospace\">   ├── Average Monthly Value: $<span style=\"color: #008080; text-decoration-color: #008080; font-weight: bold\">42.74</span>\n",
       "</pre>\n"
      ],
      "text/plain": [
       "   ├── Average Monthly Value: $\u001b[1;36m42.74\u001b[0m\n"
      ]
     },
     "metadata": {},
     "output_type": "display_data"
    },
    {
     "data": {
      "text/html": [
       "<pre style=\"white-space:pre;overflow-x:auto;line-height:normal;font-family:Menlo,'DejaVu Sans Mono',consolas,'Courier New',monospace\">   ├── Customers Lost: <span style=\"color: #008080; text-decoration-color: #008080; font-weight: bold\">199</span>\n",
       "</pre>\n"
      ],
      "text/plain": [
       "   ├── Customers Lost: \u001b[1;36m199\u001b[0m\n"
      ]
     },
     "metadata": {},
     "output_type": "display_data"
    },
    {
     "data": {
      "text/html": [
       "<pre style=\"white-space:pre;overflow-x:auto;line-height:normal;font-family:Menlo,'DejaVu Sans Mono',consolas,'Courier New',monospace\">   └── Annual Revenue at Risk: $<span style=\"color: #008080; text-decoration-color: #008080; font-weight: bold\">102</span>,<span style=\"color: #008080; text-decoration-color: #008080; font-weight: bold\">057</span>\n",
       "</pre>\n"
      ],
      "text/plain": [
       "   └── Annual Revenue at Risk: $\u001b[1;36m102\u001b[0m,\u001b[1;36m057\u001b[0m\n"
      ]
     },
     "metadata": {},
     "output_type": "display_data"
    },
    {
     "data": {
      "text/html": [
       "<pre style=\"white-space:pre;overflow-x:auto;line-height:normal;font-family:Menlo,'DejaVu Sans Mono',consolas,'Courier New',monospace\">\n",
       "</pre>\n"
      ],
      "text/plain": [
       "\n"
      ]
     },
     "metadata": {},
     "output_type": "display_data"
    },
    {
     "data": {
      "text/html": [
       "<pre style=\"white-space:pre;overflow-x:auto;line-height:normal;font-family:Menlo,'DejaVu Sans Mono',consolas,'Courier New',monospace\">💎 Low Value <span style=\"font-weight: bold\">(</span>&lt;$<span style=\"color: #008080; text-decoration-color: #008080; font-weight: bold\">30</span><span style=\"font-weight: bold\">)</span> Segment:\n",
       "</pre>\n"
      ],
      "text/plain": [
       "💎 Low Value \u001b[1m(\u001b[0m<$\u001b[1;36m30\u001b[0m\u001b[1m)\u001b[0m Segment:\n"
      ]
     },
     "metadata": {},
     "output_type": "display_data"
    },
    {
     "data": {
      "text/html": [
       "<pre style=\"white-space:pre;overflow-x:auto;line-height:normal;font-family:Menlo,'DejaVu Sans Mono',consolas,'Courier New',monospace\">   ├── Risk Level: 🟢 LOW RISK <span style=\"font-weight: bold\">(</span><span style=\"color: #008080; text-decoration-color: #008080; font-weight: bold\">9.8</span>% churn<span style=\"font-weight: bold\">)</span>\n",
       "</pre>\n"
      ],
      "text/plain": [
       "   ├── Risk Level: 🟢 LOW RISK \u001b[1m(\u001b[0m\u001b[1;36m9.8\u001b[0m% churn\u001b[1m)\u001b[0m\n"
      ]
     },
     "metadata": {},
     "output_type": "display_data"
    },
    {
     "data": {
      "text/html": [
       "<pre style=\"white-space:pre;overflow-x:auto;line-height:normal;font-family:Menlo,'DejaVu Sans Mono',consolas,'Courier New',monospace\">   ├── Customer Base: <span style=\"color: #008080; text-decoration-color: #008080; font-weight: bold\">1</span>,<span style=\"color: #008080; text-decoration-color: #008080; font-weight: bold\">653</span> customers\n",
       "</pre>\n"
      ],
      "text/plain": [
       "   ├── Customer Base: \u001b[1;36m1\u001b[0m,\u001b[1;36m653\u001b[0m customers\n"
      ]
     },
     "metadata": {},
     "output_type": "display_data"
    },
    {
     "data": {
      "text/html": [
       "<pre style=\"white-space:pre;overflow-x:auto;line-height:normal;font-family:Menlo,'DejaVu Sans Mono',consolas,'Courier New',monospace\">   ├── Average Monthly Value: $<span style=\"color: #008080; text-decoration-color: #008080; font-weight: bold\">21.50</span>\n",
       "</pre>\n"
      ],
      "text/plain": [
       "   ├── Average Monthly Value: $\u001b[1;36m21.50\u001b[0m\n"
      ]
     },
     "metadata": {},
     "output_type": "display_data"
    },
    {
     "data": {
      "text/html": [
       "<pre style=\"white-space:pre;overflow-x:auto;line-height:normal;font-family:Menlo,'DejaVu Sans Mono',consolas,'Courier New',monospace\">   ├── Customers Lost: <span style=\"color: #008080; text-decoration-color: #008080; font-weight: bold\">162</span>\n",
       "</pre>\n"
      ],
      "text/plain": [
       "   ├── Customers Lost: \u001b[1;36m162\u001b[0m\n"
      ]
     },
     "metadata": {},
     "output_type": "display_data"
    },
    {
     "data": {
      "text/html": [
       "<pre style=\"white-space:pre;overflow-x:auto;line-height:normal;font-family:Menlo,'DejaVu Sans Mono',consolas,'Courier New',monospace\">   └── Annual Revenue at Risk: $<span style=\"color: #008080; text-decoration-color: #008080; font-weight: bold\">41</span>,<span style=\"color: #008080; text-decoration-color: #008080; font-weight: bold\">803</span>\n",
       "</pre>\n"
      ],
      "text/plain": [
       "   └── Annual Revenue at Risk: $\u001b[1;36m41\u001b[0m,\u001b[1;36m803\u001b[0m\n"
      ]
     },
     "metadata": {},
     "output_type": "display_data"
    },
    {
     "data": {
      "text/html": [
       "<pre style=\"white-space:pre;overflow-x:auto;line-height:normal;font-family:Menlo,'DejaVu Sans Mono',consolas,'Courier New',monospace\">\n",
       "</pre>\n"
      ],
      "text/plain": [
       "\n"
      ]
     },
     "metadata": {},
     "output_type": "display_data"
    },
    {
     "data": {
      "text/html": [
       "<pre style=\"white-space:pre;overflow-x:auto;line-height:normal;font-family:Menlo,'DejaVu Sans Mono',consolas,'Courier New',monospace\">🎯 STRATEGIC INSIGHTS:\n",
       "</pre>\n"
      ],
      "text/plain": [
       "🎯 STRATEGIC INSIGHTS:\n"
      ]
     },
     "metadata": {},
     "output_type": "display_data"
    },
    {
     "data": {
      "text/html": [
       "<pre style=\"white-space:pre;overflow-x:auto;line-height:normal;font-family:Menlo,'DejaVu Sans Mono',consolas,'Courier New',monospace\">   ⭐ Most Valuable Segment: High Value <span style=\"font-weight: bold\">(</span>+$<span style=\"color: #008080; text-decoration-color: #008080; font-weight: bold\">80</span><span style=\"font-weight: bold\">)</span>\n",
       "</pre>\n"
      ],
      "text/plain": [
       "   ⭐ Most Valuable Segment: High Value \u001b[1m(\u001b[0m+$\u001b[1;36m80\u001b[0m\u001b[1m)\u001b[0m\n"
      ]
     },
     "metadata": {},
     "output_type": "display_data"
    },
    {
     "data": {
      "text/html": [
       "<pre style=\"white-space:pre;overflow-x:auto;line-height:normal;font-family:Menlo,'DejaVu Sans Mono',consolas,'Courier New',monospace\">      └── Churn Rate: <span style=\"color: #008080; text-decoration-color: #008080; font-weight: bold\">34.0</span>% <span style=\"font-weight: bold\">(</span>NEEDS ATTENTION<span style=\"font-weight: bold\">)</span>\n",
       "</pre>\n"
      ],
      "text/plain": [
       "      └── Churn Rate: \u001b[1;36m34.0\u001b[0m% \u001b[1m(\u001b[0mNEEDS ATTENTION\u001b[1m)\u001b[0m\n"
      ]
     },
     "metadata": {},
     "output_type": "display_data"
    },
    {
     "data": {
      "text/html": [
       "<pre style=\"white-space:pre;overflow-x:auto;line-height:normal;font-family:Menlo,'DejaVu Sans Mono',consolas,'Courier New',monospace\">   ⚠️  Highest Risk Segment: High Value <span style=\"font-weight: bold\">(</span>+$<span style=\"color: #008080; text-decoration-color: #008080; font-weight: bold\">80</span><span style=\"font-weight: bold\">)</span> <span style=\"font-weight: bold\">(</span><span style=\"color: #008080; text-decoration-color: #008080; font-weight: bold\">34.0</span>% churn<span style=\"font-weight: bold\">)</span>\n",
       "</pre>\n"
      ],
      "text/plain": [
       "   ⚠️  Highest Risk Segment: High Value \u001b[1m(\u001b[0m+$\u001b[1;36m80\u001b[0m\u001b[1m)\u001b[0m \u001b[1m(\u001b[0m\u001b[1;36m34.0\u001b[0m% churn\u001b[1m)\u001b[0m\n"
      ]
     },
     "metadata": {},
     "output_type": "display_data"
    },
    {
     "data": {
      "text/html": [
       "<pre style=\"white-space:pre;overflow-x:auto;line-height:normal;font-family:Menlo,'DejaVu Sans Mono',consolas,'Courier New',monospace\">\n",
       "🚨 Highest Revenue Risk Segments <span style=\"font-weight: bold\">(</span>+<span style=\"color: #008080; text-decoration-color: #008080; font-weight: bold\">25</span>% churn<span style=\"font-weight: bold\">)</span>:\n",
       "</pre>\n"
      ],
      "text/plain": [
       "\n",
       "🚨 Highest Revenue Risk Segments \u001b[1m(\u001b[0m+\u001b[1;36m25\u001b[0m% churn\u001b[1m)\u001b[0m:\n"
      ]
     },
     "metadata": {},
     "output_type": "display_data"
    },
    {
     "data": {
      "text/html": [
       "<pre style=\"white-space:pre;overflow-x:auto;line-height:normal;font-family:Menlo,'DejaVu Sans Mono',consolas,'Courier New',monospace\">shape: <span style=\"font-weight: bold\">(</span><span style=\"color: #008080; text-decoration-color: #008080; font-weight: bold\">3</span>, <span style=\"color: #008080; text-decoration-color: #008080; font-weight: bold\">3</span><span style=\"font-weight: bold\">)</span>\n",
       "┌─────────────┬────────────┬────────────┐\n",
       "│ Value_Segme ┆ Churn_Rate ┆ Annual_Rev │\n",
       "│ nt          ┆ ---        ┆ enue_At_Ri │\n",
       "│ ---         ┆ f64        ┆ sk         │\n",
       "│ str         ┆            ┆ ---        │\n",
       "│             ┆            ┆ f64        │\n",
       "╞═════════════╪════════════╪════════════╡\n",
       "│ High Value  ┆ <span style=\"color: #008080; text-decoration-color: #008080; font-weight: bold\">33.993276</span>  ┆ <span style=\"color: #008080; text-decoration-color: #008080; font-weight: bold\">1.0413e6</span>   │\n",
       "│ <span style=\"font-weight: bold\">(</span>+$<span style=\"color: #008080; text-decoration-color: #008080; font-weight: bold\">80</span><span style=\"font-weight: bold\">)</span>      ┆            ┆            │\n",
       "│ Medium      ┆ <span style=\"color: #008080; text-decoration-color: #008080; font-weight: bold\">28.861004</span>  ┆ <span style=\"color: #008080; text-decoration-color: #008080; font-weight: bold\">477576.826</span> │\n",
       "│ Value       ┆            ┆ <span style=\"color: #008080; text-decoration-color: #008080; font-weight: bold\">448</span>        │\n",
       "│ <span style=\"font-weight: bold\">(</span>$<span style=\"color: #008080; text-decoration-color: #008080; font-weight: bold\">50</span>-<span style=\"color: #008080; text-decoration-color: #008080; font-weight: bold\">79</span><span style=\"font-weight: bold\">)</span>    ┆            ┆            │\n",
       "│ Low-Medium  ┆ <span style=\"color: #008080; text-decoration-color: #008080; font-weight: bold\">31.045242</span>  ┆ <span style=\"color: #008080; text-decoration-color: #008080; font-weight: bold\">102057.196</span> │\n",
       "│ Value       ┆            ┆ <span style=\"color: #008080; text-decoration-color: #008080; font-weight: bold\">568</span>        │\n",
       "│ <span style=\"font-weight: bold\">(</span>$<span style=\"color: #008080; text-decoration-color: #008080; font-weight: bold\">30</span>-<span style=\"color: #008080; text-decoration-color: #008080; font-weight: bold\">49</span><span style=\"font-weight: bold\">)</span>    ┆            ┆            │\n",
       "└─────────────┴────────────┴────────────┘\n",
       "</pre>\n"
      ],
      "text/plain": [
       "shape: \u001b[1m(\u001b[0m\u001b[1;36m3\u001b[0m, \u001b[1;36m3\u001b[0m\u001b[1m)\u001b[0m\n",
       "┌─────────────┬────────────┬────────────┐\n",
       "│ Value_Segme ┆ Churn_Rate ┆ Annual_Rev │\n",
       "│ nt          ┆ ---        ┆ enue_At_Ri │\n",
       "│ ---         ┆ f64        ┆ sk         │\n",
       "│ str         ┆            ┆ ---        │\n",
       "│             ┆            ┆ f64        │\n",
       "╞═════════════╪════════════╪════════════╡\n",
       "│ High Value  ┆ \u001b[1;36m33.993276\u001b[0m  ┆ \u001b[1;36m1.0413e6\u001b[0m   │\n",
       "│ \u001b[1m(\u001b[0m+$\u001b[1;36m80\u001b[0m\u001b[1m)\u001b[0m      ┆            ┆            │\n",
       "│ Medium      ┆ \u001b[1;36m28.861004\u001b[0m  ┆ \u001b[1;36m477576.826\u001b[0m │\n",
       "│ Value       ┆            ┆ \u001b[1;36m448\u001b[0m        │\n",
       "│ \u001b[1m(\u001b[0m$\u001b[1;36m50\u001b[0m-\u001b[1;36m79\u001b[0m\u001b[1m)\u001b[0m    ┆            ┆            │\n",
       "│ Low-Medium  ┆ \u001b[1;36m31.045242\u001b[0m  ┆ \u001b[1;36m102057.196\u001b[0m │\n",
       "│ Value       ┆            ┆ \u001b[1;36m568\u001b[0m        │\n",
       "│ \u001b[1m(\u001b[0m$\u001b[1;36m30\u001b[0m-\u001b[1;36m49\u001b[0m\u001b[1m)\u001b[0m    ┆            ┆            │\n",
       "└─────────────┴────────────┴────────────┘\n"
      ]
     },
     "metadata": {},
     "output_type": "display_data"
    },
    {
     "data": {
      "text/html": [
       "<pre style=\"white-space:pre;overflow-x:auto;line-height:normal;font-family:Menlo,'DejaVu Sans Mono',consolas,'Courier New',monospace\">\n",
       "🚨 CRITICAL BUSINESS ALERTS:\n",
       "</pre>\n"
      ],
      "text/plain": [
       "\n",
       "🚨 CRITICAL BUSINESS ALERTS:\n"
      ]
     },
     "metadata": {},
     "output_type": "display_data"
    },
    {
     "data": {
      "text/html": [
       "<pre style=\"white-space:pre;overflow-x:auto;line-height:normal;font-family:Menlo,'DejaVu Sans Mono',consolas,'Courier New',monospace\">---------------------------------------------\n",
       "</pre>\n"
      ],
      "text/plain": [
       "---------------------------------------------\n"
      ]
     },
     "metadata": {},
     "output_type": "display_data"
    },
    {
     "data": {
      "text/html": [
       "<pre style=\"white-space:pre;overflow-x:auto;line-height:normal;font-family:Menlo,'DejaVu Sans Mono',consolas,'Courier New',monospace\">⚠️  ALERT #<span style=\"color: #008080; text-decoration-color: #008080; font-weight: bold\">1</span>: High Value <span style=\"font-weight: bold\">(</span>+$<span style=\"color: #008080; text-decoration-color: #008080; font-weight: bold\">80</span><span style=\"font-weight: bold\">)</span>\n",
       "</pre>\n"
      ],
      "text/plain": [
       "⚠️  ALERT #\u001b[1;36m1\u001b[0m: High Value \u001b[1m(\u001b[0m+$\u001b[1;36m80\u001b[0m\u001b[1m)\u001b[0m\n"
      ]
     },
     "metadata": {},
     "output_type": "display_data"
    },
    {
     "data": {
      "text/html": [
       "<pre style=\"white-space:pre;overflow-x:auto;line-height:normal;font-family:Menlo,'DejaVu Sans Mono',consolas,'Courier New',monospace\">   ├── Churn Rate: <span style=\"color: #008080; text-decoration-color: #008080; font-weight: bold\">34.0</span>% <span style=\"font-weight: bold\">(</span>ABOVE <span style=\"color: #008080; text-decoration-color: #008080; font-weight: bold\">25</span>% THRESHOLD<span style=\"font-weight: bold\">)</span>\n",
       "</pre>\n"
      ],
      "text/plain": [
       "   ├── Churn Rate: \u001b[1;36m34.0\u001b[0m% \u001b[1m(\u001b[0mABOVE \u001b[1;36m25\u001b[0m% THRESHOLD\u001b[1m)\u001b[0m\n"
      ]
     },
     "metadata": {},
     "output_type": "display_data"
    },
    {
     "data": {
      "text/html": [
       "<pre style=\"white-space:pre;overflow-x:auto;line-height:normal;font-family:Menlo,'DejaVu Sans Mono',consolas,'Courier New',monospace\">   ├── Revenue at Risk: $<span style=\"color: #008080; text-decoration-color: #008080; font-weight: bold\">1</span>,<span style=\"color: #008080; text-decoration-color: #008080; font-weight: bold\">041</span>,<span style=\"color: #008080; text-decoration-color: #008080; font-weight: bold\">340</span> annually\n",
       "</pre>\n"
      ],
      "text/plain": [
       "   ├── Revenue at Risk: $\u001b[1;36m1\u001b[0m,\u001b[1;36m041\u001b[0m,\u001b[1;36m340\u001b[0m annually\n"
      ]
     },
     "metadata": {},
     "output_type": "display_data"
    },
    {
     "data": {
      "text/html": [
       "<pre style=\"white-space:pre;overflow-x:auto;line-height:normal;font-family:Menlo,'DejaVu Sans Mono',consolas,'Courier New',monospace\">   └── Recommended Action: IMMEDIATE RETENTION STRATEGY\n",
       "</pre>\n"
      ],
      "text/plain": [
       "   └── Recommended Action: IMMEDIATE RETENTION STRATEGY\n"
      ]
     },
     "metadata": {},
     "output_type": "display_data"
    },
    {
     "data": {
      "text/html": [
       "<pre style=\"white-space:pre;overflow-x:auto;line-height:normal;font-family:Menlo,'DejaVu Sans Mono',consolas,'Courier New',monospace\">\n",
       "</pre>\n"
      ],
      "text/plain": [
       "\n"
      ]
     },
     "metadata": {},
     "output_type": "display_data"
    },
    {
     "data": {
      "text/html": [
       "<pre style=\"white-space:pre;overflow-x:auto;line-height:normal;font-family:Menlo,'DejaVu Sans Mono',consolas,'Courier New',monospace\">⚠️  ALERT #<span style=\"color: #008080; text-decoration-color: #008080; font-weight: bold\">2</span>: Medium Value <span style=\"font-weight: bold\">(</span>$<span style=\"color: #008080; text-decoration-color: #008080; font-weight: bold\">50</span>-<span style=\"color: #008080; text-decoration-color: #008080; font-weight: bold\">79</span><span style=\"font-weight: bold\">)</span>\n",
       "</pre>\n"
      ],
      "text/plain": [
       "⚠️  ALERT #\u001b[1;36m2\u001b[0m: Medium Value \u001b[1m(\u001b[0m$\u001b[1;36m50\u001b[0m-\u001b[1;36m79\u001b[0m\u001b[1m)\u001b[0m\n"
      ]
     },
     "metadata": {},
     "output_type": "display_data"
    },
    {
     "data": {
      "text/html": [
       "<pre style=\"white-space:pre;overflow-x:auto;line-height:normal;font-family:Menlo,'DejaVu Sans Mono',consolas,'Courier New',monospace\">   ├── Churn Rate: <span style=\"color: #008080; text-decoration-color: #008080; font-weight: bold\">28.9</span>% <span style=\"font-weight: bold\">(</span>ABOVE <span style=\"color: #008080; text-decoration-color: #008080; font-weight: bold\">25</span>% THRESHOLD<span style=\"font-weight: bold\">)</span>\n",
       "</pre>\n"
      ],
      "text/plain": [
       "   ├── Churn Rate: \u001b[1;36m28.9\u001b[0m% \u001b[1m(\u001b[0mABOVE \u001b[1;36m25\u001b[0m% THRESHOLD\u001b[1m)\u001b[0m\n"
      ]
     },
     "metadata": {},
     "output_type": "display_data"
    },
    {
     "data": {
      "text/html": [
       "<pre style=\"white-space:pre;overflow-x:auto;line-height:normal;font-family:Menlo,'DejaVu Sans Mono',consolas,'Courier New',monospace\">   ├── Revenue at Risk: $<span style=\"color: #008080; text-decoration-color: #008080; font-weight: bold\">477</span>,<span style=\"color: #008080; text-decoration-color: #008080; font-weight: bold\">577</span> annually\n",
       "</pre>\n"
      ],
      "text/plain": [
       "   ├── Revenue at Risk: $\u001b[1;36m477\u001b[0m,\u001b[1;36m577\u001b[0m annually\n"
      ]
     },
     "metadata": {},
     "output_type": "display_data"
    },
    {
     "data": {
      "text/html": [
       "<pre style=\"white-space:pre;overflow-x:auto;line-height:normal;font-family:Menlo,'DejaVu Sans Mono',consolas,'Courier New',monospace\">   └── Recommended Action: IMMEDIATE RETENTION STRATEGY\n",
       "</pre>\n"
      ],
      "text/plain": [
       "   └── Recommended Action: IMMEDIATE RETENTION STRATEGY\n"
      ]
     },
     "metadata": {},
     "output_type": "display_data"
    },
    {
     "data": {
      "text/html": [
       "<pre style=\"white-space:pre;overflow-x:auto;line-height:normal;font-family:Menlo,'DejaVu Sans Mono',consolas,'Courier New',monospace\">\n",
       "</pre>\n"
      ],
      "text/plain": [
       "\n"
      ]
     },
     "metadata": {},
     "output_type": "display_data"
    },
    {
     "data": {
      "text/html": [
       "<pre style=\"white-space:pre;overflow-x:auto;line-height:normal;font-family:Menlo,'DejaVu Sans Mono',consolas,'Courier New',monospace\">⚠️  ALERT #<span style=\"color: #008080; text-decoration-color: #008080; font-weight: bold\">3</span>: Low-Medium Value <span style=\"font-weight: bold\">(</span>$<span style=\"color: #008080; text-decoration-color: #008080; font-weight: bold\">30</span>-<span style=\"color: #008080; text-decoration-color: #008080; font-weight: bold\">49</span><span style=\"font-weight: bold\">)</span>\n",
       "</pre>\n"
      ],
      "text/plain": [
       "⚠️  ALERT #\u001b[1;36m3\u001b[0m: Low-Medium Value \u001b[1m(\u001b[0m$\u001b[1;36m30\u001b[0m-\u001b[1;36m49\u001b[0m\u001b[1m)\u001b[0m\n"
      ]
     },
     "metadata": {},
     "output_type": "display_data"
    },
    {
     "data": {
      "text/html": [
       "<pre style=\"white-space:pre;overflow-x:auto;line-height:normal;font-family:Menlo,'DejaVu Sans Mono',consolas,'Courier New',monospace\">   ├── Churn Rate: <span style=\"color: #008080; text-decoration-color: #008080; font-weight: bold\">31.0</span>% <span style=\"font-weight: bold\">(</span>ABOVE <span style=\"color: #008080; text-decoration-color: #008080; font-weight: bold\">25</span>% THRESHOLD<span style=\"font-weight: bold\">)</span>\n",
       "</pre>\n"
      ],
      "text/plain": [
       "   ├── Churn Rate: \u001b[1;36m31.0\u001b[0m% \u001b[1m(\u001b[0mABOVE \u001b[1;36m25\u001b[0m% THRESHOLD\u001b[1m)\u001b[0m\n"
      ]
     },
     "metadata": {},
     "output_type": "display_data"
    },
    {
     "data": {
      "text/html": [
       "<pre style=\"white-space:pre;overflow-x:auto;line-height:normal;font-family:Menlo,'DejaVu Sans Mono',consolas,'Courier New',monospace\">   ├── Revenue at Risk: $<span style=\"color: #008080; text-decoration-color: #008080; font-weight: bold\">102</span>,<span style=\"color: #008080; text-decoration-color: #008080; font-weight: bold\">057</span> annually\n",
       "</pre>\n"
      ],
      "text/plain": [
       "   ├── Revenue at Risk: $\u001b[1;36m102\u001b[0m,\u001b[1;36m057\u001b[0m annually\n"
      ]
     },
     "metadata": {},
     "output_type": "display_data"
    },
    {
     "data": {
      "text/html": [
       "<pre style=\"white-space:pre;overflow-x:auto;line-height:normal;font-family:Menlo,'DejaVu Sans Mono',consolas,'Courier New',monospace\">   └── Recommended Action: IMMEDIATE RETENTION STRATEGY\n",
       "</pre>\n"
      ],
      "text/plain": [
       "   └── Recommended Action: IMMEDIATE RETENTION STRATEGY\n"
      ]
     },
     "metadata": {},
     "output_type": "display_data"
    },
    {
     "data": {
      "text/html": [
       "<pre style=\"white-space:pre;overflow-x:auto;line-height:normal;font-family:Menlo,'DejaVu Sans Mono',consolas,'Courier New',monospace\">\n",
       "</pre>\n"
      ],
      "text/plain": [
       "\n"
      ]
     },
     "metadata": {},
     "output_type": "display_data"
    },
    {
     "data": {
      "text/html": [
       "<pre style=\"white-space:pre;overflow-x:auto;line-height:normal;font-family:Menlo,'DejaVu Sans Mono',consolas,'Courier New',monospace\">✅ GOOD NEWS: No segments exceed <span style=\"color: #008080; text-decoration-color: #008080; font-weight: bold\">25</span>% churn threshold!\n",
       "</pre>\n"
      ],
      "text/plain": [
       "✅ GOOD NEWS: No segments exceed \u001b[1;36m25\u001b[0m% churn threshold!\n"
      ]
     },
     "metadata": {},
     "output_type": "display_data"
    },
    {
     "data": {
      "text/html": [
       "<pre style=\"white-space:pre;overflow-x:auto;line-height:normal;font-family:Menlo,'DejaVu Sans Mono',consolas,'Courier New',monospace\">\n",
       "============================================================\n",
       "</pre>\n"
      ],
      "text/plain": [
       "\n",
       "============================================================\n"
      ]
     },
     "metadata": {},
     "output_type": "display_data"
    }
   ],
   "source": [
    "# Revenue Risk by Customer Segment:\n",
    "print(\"📊 REVENUE RISK BY CUSTOMER SEGMENTS\")\n",
    "print(\"=\" * 40)\n",
    "\n",
    "# Defining customer value segments based on monthly charges:\n",
    "df_with_segments = df.with_columns([\n",
    "    pl.when(pl.col(\"MonthlyCharges\") >= 80)\n",
    "    .then(pl.lit(\"High Value (+$80)\"))\n",
    "    .when(pl.col(\"MonthlyCharges\") >= 50)\n",
    "    .then(pl.lit(\"Medium Value ($50-79)\"))\n",
    "    .when(pl.col(\"MonthlyCharges\") >= 30)\n",
    "    .then(pl.lit(\"Low-Medium Value ($30-49)\"))\n",
    "    .otherwise(pl.lit(\"Low Value (<$30)\"))\n",
    "    .alias(\"Value_Segment\")\n",
    "])\n",
    "\n",
    "# Analyzing churn and revenue by value segments:\n",
    "segment_analysis = df_with_segments.group_by([\"Value_Segment\", \"Churn\"]).agg([\n",
    "    pl.col(\"customerID\").count().alias(\"Customer_Count\"),\n",
    "    pl.col(\"MonthlyCharges\").sum().alias(\"Monthly_Revenue\"),\n",
    "    pl.col(\"MonthlyCharges\").mean().alias(\"Avg_Monthly_Charge\")\n",
    "]).sort(\"Value_Segment\")\n",
    "\n",
    "print(\"Revenue Analysis by Customer Value Segment:\")\n",
    "print(segment_analysis)\n",
    "\n",
    "# 📊 READABLE INSIGHTS FROM SEGMENT ANALYSIS\n",
    "print(\"\\n\" + \"🔍 KEY INSIGHTS FROM SEGMENT ANALYSIS:\")\n",
    "print(\"-\" * 45)\n",
    "\n",
    "segment_totals = df_with_segments.group_by(\"Value_Segment\").agg([\n",
    "    pl.col(\"customerID\").count().alias(\"total\"),\n",
    "    (pl.col(\"Churn\") == \"Yes\").sum().alias(\"churned\")\n",
    "]).with_columns([\n",
    "    (pl.col(\"churned\") / pl.col(\"total\") * 100).alias(\"churn_rate\")\n",
    "])\n",
    "\n",
    "for row in segment_totals.iter_rows(named=True):\n",
    "    segment = row[\"Value_Segment\"]\n",
    "    total = row[\"total\"]\n",
    "    churned = row[\"churned\"]\n",
    "    churn_rate = row[\"churn_rate\"]\n",
    "    \n",
    "    print(f\"📈 {segment}:\")\n",
    "    print(f\"   └── Total customers: {total:,}\")\n",
    "    print(f\"   └── Churned: {churned:,} ({churn_rate:.1f}%)\")\n",
    "    print()\n",
    "\n",
    "# Calculating churn rate and revenue impact by segment:\n",
    "segment_summary = df_with_segments.group_by(\"Value_Segment\").agg([\n",
    "    pl.col(\"customerID\").count().alias(\"Total_Customers\"),\n",
    "    (pl.col(\"Churn\") == \"Yes\").sum().alias(\"Churned_Customers\"),\n",
    "    pl.col(\"MonthlyCharges\").sum().alias(\"Total_Monthly_Revenue\"),\n",
    "    pl.col(\"MonthlyCharges\").mean().alias(\"Avg_Monthly_Charges\")\n",
    "]).with_columns([\n",
    "    (pl.col(\"Churned_Customers\") / pl.col(\"Total_Customers\") * 100).alias(\"Churn_Rate\"),\n",
    "    (pl.col(\"Churned_Customers\") * pl.col(\"Avg_Monthly_Charges\") * 12).alias(\"Annual_Revenue_At_Risk\")\n",
    "]).sort(\"Avg_Monthly_Charges\", descending=True)\n",
    "\n",
    "print(f\"\\n💰 Revenue Risk Summary by Segment:\")\n",
    "print(segment_summary)\n",
    "\n",
    "# 💰 READABLE FINANCIAL INSIGHTS\n",
    "print(\"\\n\" + \"💰 FINANCIAL IMPACT INSIGHTS:\")\n",
    "print(\"-\" * 45)\n",
    "\n",
    "total_revenue_at_risk = segment_summary[\"Annual_Revenue_At_Risk\"].sum()\n",
    "highest_value_segment = segment_summary.filter(pl.col(\"Avg_Monthly_Charges\") == pl.col(\"Avg_Monthly_Charges\").max())\n",
    "highest_risk_segment = segment_summary.filter(pl.col(\"Churn_Rate\") == pl.col(\"Churn_Rate\").max())\n",
    "\n",
    "print(f\"🚨 TOTAL ANNUAL REVENUE AT RISK: ${total_revenue_at_risk:,.0f}\")\n",
    "print()\n",
    "\n",
    "for row in segment_summary.iter_rows(named=True):\n",
    "    segment = row[\"Value_Segment\"]\n",
    "    customers = row[\"Total_Customers\"]\n",
    "    churned = row[\"Churned_Customers\"]\n",
    "    churn_rate = row[\"Churn_Rate\"]\n",
    "    avg_monthly = row[\"Avg_Monthly_Charges\"]\n",
    "    annual_risk = row[\"Annual_Revenue_At_Risk\"]\n",
    "    \n",
    "    risk_level = \"🔴 HIGH\" if churn_rate > 30 else \"🟡 MEDIUM\" if churn_rate > 20 else \"🟢 LOW\"\n",
    "    \n",
    "    print(f\"💎 {segment} Segment:\")\n",
    "    print(f\"   ├── Risk Level: {risk_level} RISK ({churn_rate:.1f}% churn)\")\n",
    "    print(f\"   ├── Customer Base: {customers:,} customers\")\n",
    "    print(f\"   ├── Average Monthly Value: ${avg_monthly:.2f}\")\n",
    "    print(f\"   ├── Customers Lost: {churned:,}\")\n",
    "    print(f\"   └── Annual Revenue at Risk: ${annual_risk:,.0f}\")\n",
    "    print()\n",
    "\n",
    "# Key business insights\n",
    "highest_value_name = highest_value_segment[\"Value_Segment\"][0]\n",
    "highest_value_churn = highest_value_segment[\"Churn_Rate\"][0]\n",
    "highest_risk_name = highest_risk_segment[\"Value_Segment\"][0]\n",
    "highest_risk_rate = highest_risk_segment[\"Churn_Rate\"][0]\n",
    "\n",
    "print(\"🎯 STRATEGIC INSIGHTS:\")\n",
    "print(f\"   ⭐ Most Valuable Segment: {highest_value_name}\")\n",
    "print(f\"      └── Churn Rate: {highest_value_churn:.1f}% {'(GOOD)' if highest_value_churn < 25 else '(NEEDS ATTENTION)'}\")\n",
    "print(f\"   ⚠️  Highest Risk Segment: {highest_risk_name} ({highest_risk_rate:.1f}% churn)\")\n",
    "\n",
    "# Finding the highest risk segment:\n",
    "high_risk_revenue = segment_summary.filter(pl.col(\"Churn_Rate\") > 25).sort(\"Annual_Revenue_At_Risk\", descending=True)\n",
    "print(f\"\\n🚨 Highest Revenue Risk Segments (+25% churn):\")\n",
    "print(high_risk_revenue.select([\"Value_Segment\", \"Churn_Rate\", \"Annual_Revenue_At_Risk\"]))\n",
    "\n",
    "# 🚨 CRITICAL BUSINESS ALERTS\n",
    "print(\"\\n\" + \"🚨 CRITICAL BUSINESS ALERTS:\")\n",
    "print(\"-\" * 45)\n",
    "\n",
    "critical_segments = high_risk_revenue.iter_rows(named=True)\n",
    "for i, row in enumerate(critical_segments, 1):\n",
    "    segment = row[\"Value_Segment\"]\n",
    "    churn_rate = row[\"Churn_Rate\"]\n",
    "    revenue_risk = row[\"Annual_Revenue_At_Risk\"]\n",
    "    \n",
    "    print(f\"⚠️  ALERT #{i}: {segment}\")\n",
    "    print(f\"   ├── Churn Rate: {churn_rate:.1f}% (ABOVE 25% THRESHOLD)\")\n",
    "    print(f\"   ├── Revenue at Risk: ${revenue_risk:,.0f} annually\")\n",
    "    print(f\"   └── Recommended Action: IMMEDIATE RETENTION STRATEGY\")\n",
    "    print()\n",
    "\n",
    "# Calculate potential impact of improvements\n",
    "if len(list(critical_segments)) > 0:\n",
    "    total_critical_risk = high_risk_revenue[\"Annual_Revenue_At_Risk\"].sum()\n",
    "    potential_savings_25_percent = total_critical_risk * 0.25\n",
    "    potential_savings_50_percent = total_critical_risk * 0.50\n",
    "    \n",
    "    print(\"💡 OPPORTUNITY ANALYSIS:\")\n",
    "    print(f\"   🎯 25% Churn Reduction in High-Risk Segments: ${potential_savings_25_percent:,.0f} savings\")\n",
    "    print(f\"   🎯 50% Churn Reduction in High-Risk Segments: ${potential_savings_50_percent:,.0f} savings\")\n",
    "    print(f\"   📊 Total High-Risk Revenue: ${total_critical_risk:,.0f}\")\n",
    "else:\n",
    "    print(\"✅ GOOD NEWS: No segments exceed 25% churn threshold!\")\n",
    "\n",
    "print(\"\\n\" + \"=\"*60)"
   ]
  },
  {
   "cell_type": "code",
   "execution_count": 17,
   "metadata": {
    "scrolled": true
   },
   "outputs": [
    {
     "data": {
      "text/html": [
       "<pre style=\"white-space:pre;overflow-x:auto;line-height:normal;font-family:Menlo,'DejaVu Sans Mono',consolas,'Courier New',monospace\">📋 CONTRACT TYPE REVENUE IMPACT\n",
       "</pre>\n"
      ],
      "text/plain": [
       "📋 CONTRACT TYPE REVENUE IMPACT\n"
      ]
     },
     "metadata": {},
     "output_type": "display_data"
    },
    {
     "data": {
      "text/html": [
       "<pre style=\"white-space:pre;overflow-x:auto;line-height:normal;font-family:Menlo,'DejaVu Sans Mono',consolas,'Courier New',monospace\">==================================================\n",
       "</pre>\n"
      ],
      "text/plain": [
       "==================================================\n"
      ]
     },
     "metadata": {},
     "output_type": "display_data"
    },
    {
     "data": {
      "text/html": [
       "<pre style=\"white-space:pre;overflow-x:auto;line-height:normal;font-family:Menlo,'DejaVu Sans Mono',consolas,'Courier New',monospace\">🔍 Available Contract Types:\n",
       "</pre>\n"
      ],
      "text/plain": [
       "🔍 Available Contract Types:\n"
      ]
     },
     "metadata": {},
     "output_type": "display_data"
    },
    {
     "data": {
      "text/html": [
       "<pre style=\"white-space:pre;overflow-x:auto;line-height:normal;font-family:Menlo,'DejaVu Sans Mono',consolas,'Courier New',monospace\">   - <span style=\"color: #008000; text-decoration-color: #008000\">'Month-to-month'</span>\n",
       "</pre>\n"
      ],
      "text/plain": [
       "   - \u001b[32m'Month-to-month'\u001b[0m\n"
      ]
     },
     "metadata": {},
     "output_type": "display_data"
    },
    {
     "data": {
      "text/html": [
       "<pre style=\"white-space:pre;overflow-x:auto;line-height:normal;font-family:Menlo,'DejaVu Sans Mono',consolas,'Courier New',monospace\">   - <span style=\"color: #008000; text-decoration-color: #008000\">'Two year'</span>\n",
       "</pre>\n"
      ],
      "text/plain": [
       "   - \u001b[32m'Two year'\u001b[0m\n"
      ]
     },
     "metadata": {},
     "output_type": "display_data"
    },
    {
     "data": {
      "text/html": [
       "<pre style=\"white-space:pre;overflow-x:auto;line-height:normal;font-family:Menlo,'DejaVu Sans Mono',consolas,'Courier New',monospace\">   - <span style=\"color: #008000; text-decoration-color: #008000\">'One year'</span>\n",
       "</pre>\n"
      ],
      "text/plain": [
       "   - \u001b[32m'One year'\u001b[0m\n"
      ]
     },
     "metadata": {},
     "output_type": "display_data"
    },
    {
     "data": {
      "text/html": [
       "<pre style=\"white-space:pre;overflow-x:auto;line-height:normal;font-family:Menlo,'DejaVu Sans Mono',consolas,'Courier New',monospace\">\n",
       "</pre>\n"
      ],
      "text/plain": [
       "\n"
      ]
     },
     "metadata": {},
     "output_type": "display_data"
    },
    {
     "data": {
      "text/html": [
       "<pre style=\"white-space:pre;overflow-x:auto;line-height:normal;font-family:Menlo,'DejaVu Sans Mono',consolas,'Courier New',monospace\">📊 Contract Summary Columns:\n",
       "</pre>\n"
      ],
      "text/plain": [
       "📊 Contract Summary Columns:\n"
      ]
     },
     "metadata": {},
     "output_type": "display_data"
    },
    {
     "data": {
      "text/html": [
       "<pre style=\"white-space:pre;overflow-x:auto;line-height:normal;font-family:Menlo,'DejaVu Sans Mono',consolas,'Courier New',monospace\"><span style=\"font-weight: bold\">[</span>\n",
       "    <span style=\"color: #008000; text-decoration-color: #008000\">'Contract'</span>,\n",
       "    <span style=\"color: #008000; text-decoration-color: #008000\">'total_customers'</span>,\n",
       "    <span style=\"color: #008000; text-decoration-color: #008000\">'churned_customers'</span>,\n",
       "    <span style=\"color: #008000; text-decoration-color: #008000\">'total_monthly_revenue'</span>,\n",
       "    <span style=\"color: #008000; text-decoration-color: #008000\">'avg_monthly_charge'</span>,\n",
       "    <span style=\"color: #008000; text-decoration-color: #008000\">'avg_tenure'</span>,\n",
       "    <span style=\"color: #008000; text-decoration-color: #008000\">'churn_rate'</span>,\n",
       "    <span style=\"color: #008000; text-decoration-color: #008000\">'annual_revenue_lost'</span>\n",
       "<span style=\"font-weight: bold\">]</span>\n",
       "</pre>\n"
      ],
      "text/plain": [
       "\u001b[1m[\u001b[0m\n",
       "    \u001b[32m'Contract'\u001b[0m,\n",
       "    \u001b[32m'total_customers'\u001b[0m,\n",
       "    \u001b[32m'churned_customers'\u001b[0m,\n",
       "    \u001b[32m'total_monthly_revenue'\u001b[0m,\n",
       "    \u001b[32m'avg_monthly_charge'\u001b[0m,\n",
       "    \u001b[32m'avg_tenure'\u001b[0m,\n",
       "    \u001b[32m'churn_rate'\u001b[0m,\n",
       "    \u001b[32m'annual_revenue_lost'\u001b[0m\n",
       "\u001b[1m]\u001b[0m\n"
      ]
     },
     "metadata": {},
     "output_type": "display_data"
    },
    {
     "data": {
      "text/html": [
       "<pre style=\"white-space:pre;overflow-x:auto;line-height:normal;font-family:Menlo,'DejaVu Sans Mono',consolas,'Courier New',monospace\">\n",
       "</pre>\n"
      ],
      "text/plain": [
       "\n"
      ]
     },
     "metadata": {},
     "output_type": "display_data"
    },
    {
     "data": {
      "text/html": [
       "<pre style=\"white-space:pre;overflow-x:auto;line-height:normal;font-family:Menlo,'DejaVu Sans Mono',consolas,'Courier New',monospace\"><span style=\"color: #008000; text-decoration-color: #008000; font-weight: bold\">                                        📊 Contract Type Financial Analysis                                        </span>\n",
       "╭──────────────┬──────────────┬──────────────┬─────────────┬──────────────┬────────────┬────────────┬─────────────╮\n",
       "│<span style=\"color: #000080; text-decoration-color: #000080; font-weight: bold\">              </span>│<span style=\"color: #000080; text-decoration-color: #000080; font-weight: bold\">              </span>│<span style=\"color: #000080; text-decoration-color: #000080; font-weight: bold\">              </span>│<span style=\"color: #000080; text-decoration-color: #000080; font-weight: bold\">       Total </span>│<span style=\"color: #000080; text-decoration-color: #000080; font-weight: bold\">              </span>│<span style=\"color: #000080; text-decoration-color: #000080; font-weight: bold\">            </span>│<span style=\"color: #000080; text-decoration-color: #000080; font-weight: bold\">            </span>│<span style=\"color: #000080; text-decoration-color: #000080; font-weight: bold\">      Annual </span>│\n",
       "│<span style=\"color: #000080; text-decoration-color: #000080; font-weight: bold\">              </span>│<span style=\"color: #000080; text-decoration-color: #000080; font-weight: bold\">        Total </span>│<span style=\"color: #000080; text-decoration-color: #000080; font-weight: bold\">      Churned </span>│<span style=\"color: #000080; text-decoration-color: #000080; font-weight: bold\">     Monthly </span>│<span style=\"color: #000080; text-decoration-color: #000080; font-weight: bold\">  Avg Monthly </span>│<span style=\"color: #000080; text-decoration-color: #000080; font-weight: bold\">            </span>│<span style=\"color: #000080; text-decoration-color: #000080; font-weight: bold\">            </span>│<span style=\"color: #000080; text-decoration-color: #000080; font-weight: bold\">     Revenue </span>│\n",
       "│<span style=\"color: #000080; text-decoration-color: #000080; font-weight: bold\"> Contract     </span>│<span style=\"color: #000080; text-decoration-color: #000080; font-weight: bold\">    Customers </span>│<span style=\"color: #000080; text-decoration-color: #000080; font-weight: bold\">    Customers </span>│<span style=\"color: #000080; text-decoration-color: #000080; font-weight: bold\">     Revenue </span>│<span style=\"color: #000080; text-decoration-color: #000080; font-weight: bold\">       Charge </span>│<span style=\"color: #000080; text-decoration-color: #000080; font-weight: bold\"> Avg Tenure </span>│<span style=\"color: #000080; text-decoration-color: #000080; font-weight: bold\"> Churn Rate </span>│<span style=\"color: #000080; text-decoration-color: #000080; font-weight: bold\">        Lost </span>│\n",
       "├──────────────┼──────────────┼──────────────┼─────────────┼──────────────┼────────────┼────────────┼─────────────┤\n",
       "│ Two year     │<span style=\"color: #7f7f7f; text-decoration-color: #7f7f7f\">        1,695 </span>│<span style=\"color: #7f7f7f; text-decoration-color: #7f7f7f\">           48 </span>│    <span style=\"color: #008000; text-decoration-color: #008000\">$103,006</span> │          <span style=\"color: #008000; text-decoration-color: #008000\">$61</span> │   56.74    │       <span style=\"color: #008000; text-decoration-color: #008000\">2.8%</span> │     <span style=\"color: #008000; text-decoration-color: #008000\">$35,004</span> │\n",
       "├──────────────┼──────────────┼──────────────┼─────────────┼──────────────┼────────────┼────────────┼─────────────┤\n",
       "│ Month-to-mo… │<span style=\"color: #7f7f7f; text-decoration-color: #7f7f7f\">        3,875 </span>│<span style=\"color: #7f7f7f; text-decoration-color: #7f7f7f\">        1,655 </span>│    <span style=\"color: #008000; text-decoration-color: #008000\">$257,294</span> │          <span style=\"color: #008000; text-decoration-color: #008000\">$66</span> │   18.04    │      <span style=\"color: #800000; text-decoration-color: #800000\">42.7%</span> │  <span style=\"color: #008000; text-decoration-color: #008000\">$1,318,674</span> │\n",
       "├──────────────┼──────────────┼──────────────┼─────────────┼──────────────┼────────────┼────────────┼─────────────┤\n",
       "│ One year     │<span style=\"color: #7f7f7f; text-decoration-color: #7f7f7f\">        1,473 </span>│<span style=\"color: #7f7f7f; text-decoration-color: #7f7f7f\">          166 </span>│     <span style=\"color: #008000; text-decoration-color: #008000\">$95,817</span> │          <span style=\"color: #008000; text-decoration-color: #008000\">$65</span> │   42.04    │      <span style=\"color: #008000; text-decoration-color: #008000\">11.3%</span> │    <span style=\"color: #008000; text-decoration-color: #008000\">$129,577</span> │\n",
       "╰──────────────┴──────────────┴──────────────┴─────────────┴──────────────┴────────────┴────────────┴─────────────╯\n",
       "</pre>\n"
      ],
      "text/plain": [
       "\u001b[1;32m                                        📊 Contract Type Financial Analysis                                        \u001b[0m\n",
       "╭──────────────┬──────────────┬──────────────┬─────────────┬──────────────┬────────────┬────────────┬─────────────╮\n",
       "│\u001b[1;34m              \u001b[0m│\u001b[1;34m              \u001b[0m│\u001b[1;34m              \u001b[0m│\u001b[1;34m \u001b[0m\u001b[1;34m      Total\u001b[0m\u001b[1;34m \u001b[0m│\u001b[1;34m              \u001b[0m│\u001b[1;34m            \u001b[0m│\u001b[1;34m            \u001b[0m│\u001b[1;34m \u001b[0m\u001b[1;34m     Annual\u001b[0m\u001b[1;34m \u001b[0m│\n",
       "│\u001b[1;34m              \u001b[0m│\u001b[1;34m \u001b[0m\u001b[1;34m       Total\u001b[0m\u001b[1;34m \u001b[0m│\u001b[1;34m \u001b[0m\u001b[1;34m     Churned\u001b[0m\u001b[1;34m \u001b[0m│\u001b[1;34m \u001b[0m\u001b[1;34m    Monthly\u001b[0m\u001b[1;34m \u001b[0m│\u001b[1;34m \u001b[0m\u001b[1;34m Avg Monthly\u001b[0m\u001b[1;34m \u001b[0m│\u001b[1;34m            \u001b[0m│\u001b[1;34m            \u001b[0m│\u001b[1;34m \u001b[0m\u001b[1;34m    Revenue\u001b[0m\u001b[1;34m \u001b[0m│\n",
       "│\u001b[1;34m \u001b[0m\u001b[1;34mContract    \u001b[0m\u001b[1;34m \u001b[0m│\u001b[1;34m \u001b[0m\u001b[1;34m   Customers\u001b[0m\u001b[1;34m \u001b[0m│\u001b[1;34m \u001b[0m\u001b[1;34m   Customers\u001b[0m\u001b[1;34m \u001b[0m│\u001b[1;34m \u001b[0m\u001b[1;34m    Revenue\u001b[0m\u001b[1;34m \u001b[0m│\u001b[1;34m \u001b[0m\u001b[1;34m      Charge\u001b[0m\u001b[1;34m \u001b[0m│\u001b[1;34m \u001b[0m\u001b[1;34mAvg Tenure\u001b[0m\u001b[1;34m \u001b[0m│\u001b[1;34m \u001b[0m\u001b[1;34mChurn Rate\u001b[0m\u001b[1;34m \u001b[0m│\u001b[1;34m \u001b[0m\u001b[1;34m       Lost\u001b[0m\u001b[1;34m \u001b[0m│\n",
       "├──────────────┼──────────────┼──────────────┼─────────────┼──────────────┼────────────┼────────────┼─────────────┤\n",
       "│ Two year     │\u001b[2m \u001b[0m\u001b[2m       1,695\u001b[0m\u001b[2m \u001b[0m│\u001b[2m \u001b[0m\u001b[2m          48\u001b[0m\u001b[2m \u001b[0m│    \u001b[32m$103,006\u001b[0m │          \u001b[32m$61\u001b[0m │   56.74    │       \u001b[32m2.8%\u001b[0m │     \u001b[32m$35,004\u001b[0m │\n",
       "├──────────────┼──────────────┼──────────────┼─────────────┼──────────────┼────────────┼────────────┼─────────────┤\n",
       "│ Month-to-mo… │\u001b[2m \u001b[0m\u001b[2m       3,875\u001b[0m\u001b[2m \u001b[0m│\u001b[2m \u001b[0m\u001b[2m       1,655\u001b[0m\u001b[2m \u001b[0m│    \u001b[32m$257,294\u001b[0m │          \u001b[32m$66\u001b[0m │   18.04    │      \u001b[31m42.7%\u001b[0m │  \u001b[32m$1,318,674\u001b[0m │\n",
       "├──────────────┼──────────────┼──────────────┼─────────────┼──────────────┼────────────┼────────────┼─────────────┤\n",
       "│ One year     │\u001b[2m \u001b[0m\u001b[2m       1,473\u001b[0m\u001b[2m \u001b[0m│\u001b[2m \u001b[0m\u001b[2m         166\u001b[0m\u001b[2m \u001b[0m│     \u001b[32m$95,817\u001b[0m │          \u001b[32m$65\u001b[0m │   42.04    │      \u001b[32m11.3%\u001b[0m │    \u001b[32m$129,577\u001b[0m │\n",
       "╰──────────────┴──────────────┴──────────────┴─────────────┴──────────────┴────────────┴────────────┴─────────────╯\n"
      ]
     },
     "metadata": {},
     "output_type": "display_data"
    },
    {
     "name": "stdout",
     "output_type": "stream",
     "text": [
      "\n"
     ]
    },
    {
     "data": {
      "text/html": [
       "<pre style=\"white-space:pre;overflow-x:auto;line-height:normal;font-family:Menlo,'DejaVu Sans Mono',consolas,'Courier New',monospace\">💡 BUSINESS INSIGHTS ANALYSIS:\n",
       "</pre>\n"
      ],
      "text/plain": [
       "💡 BUSINESS INSIGHTS ANALYSIS:\n"
      ]
     },
     "metadata": {},
     "output_type": "display_data"
    },
    {
     "data": {
      "text/html": [
       "<pre style=\"white-space:pre;overflow-x:auto;line-height:normal;font-family:Menlo,'DejaVu Sans Mono',consolas,'Courier New',monospace\">----------------------------------------\n",
       "</pre>\n"
      ],
      "text/plain": [
       "----------------------------------------\n"
      ]
     },
     "metadata": {},
     "output_type": "display_data"
    },
    {
     "data": {
      "text/html": [
       "<pre style=\"white-space:pre;overflow-x:auto;line-height:normal;font-family:Menlo,'DejaVu Sans Mono',consolas,'Courier New',monospace\">✅ Found month-to-month contract type: <span style=\"color: #008000; text-decoration-color: #008000\">'Month-to-month'</span>\n",
       "</pre>\n"
      ],
      "text/plain": [
       "✅ Found month-to-month contract type: \u001b[32m'Month-to-month'\u001b[0m\n"
      ]
     },
     "metadata": {},
     "output_type": "display_data"
    },
    {
     "data": {
      "text/html": [
       "<pre style=\"white-space:pre;overflow-x:auto;line-height:normal;font-family:Menlo,'DejaVu Sans Mono',consolas,'Courier New',monospace\"><span style=\"color: #000080; text-decoration-color: #000080\">╭───────────────────────────────────────── 💡 Contract Analysis Insights ─────────────────────────────────────────╮</span>\n",
       "<span style=\"color: #000080; text-decoration-color: #000080\">│</span>                                                                                                                 <span style=\"color: #000080; text-decoration-color: #000080\">│</span>\n",
       "<span style=\"color: #000080; text-decoration-color: #000080\">│</span>  <span style=\"color: #c0c0c0; text-decoration-color: #c0c0c0; font-weight: bold\">1. Month-to-month contracts lose $1,318,674 annually</span>                                                           <span style=\"color: #000080; text-decoration-color: #000080\">│</span>\n",
       "<span style=\"color: #000080; text-decoration-color: #000080\">│</span>  <span style=\"color: #c0c0c0; text-decoration-color: #c0c0c0; font-weight: bold\">2. This represents 88.9% of total revenue loss</span>                                                                 <span style=\"color: #000080; text-decoration-color: #000080\">│</span>\n",
       "<span style=\"color: #000080; text-decoration-color: #000080\">│</span>  <span style=\"color: #c0c0c0; text-decoration-color: #c0c0c0; font-weight: bold\">3. Contract length is a critical retention factor</span>                                                              <span style=\"color: #000080; text-decoration-color: #000080\">│</span>\n",
       "<span style=\"color: #000080; text-decoration-color: #000080\">│</span>  <span style=\"color: #c0c0c0; text-decoration-color: #c0c0c0; font-weight: bold\">4. Longer contracts significantly reduce churn risk</span>                                                            <span style=\"color: #000080; text-decoration-color: #000080\">│</span>\n",
       "<span style=\"color: #000080; text-decoration-color: #000080\">│</span>                                                                                                                 <span style=\"color: #000080; text-decoration-color: #000080\">│</span>\n",
       "<span style=\"color: #000080; text-decoration-color: #000080\">│</span>                                                                                                                 <span style=\"color: #000080; text-decoration-color: #000080\">│</span>\n",
       "<span style=\"color: #000080; text-decoration-color: #000080\">╰─────────────────────────────────────────────────────────────────────────────────────────────────────────────────╯</span>\n",
       "</pre>\n"
      ],
      "text/plain": [
       "\u001b[34m╭─\u001b[0m\u001b[34m────────────────────────────────────────\u001b[0m\u001b[34m 💡 Contract Analysis Insights \u001b[0m\u001b[34m────────────────────────────────────────\u001b[0m\u001b[34m─╮\u001b[0m\n",
       "\u001b[34m│\u001b[0m                                                                                                                 \u001b[34m│\u001b[0m\n",
       "\u001b[34m│\u001b[0m  \u001b[1;37m1. Month-to-month contracts lose $1,318,674 annually\u001b[0m                                                           \u001b[34m│\u001b[0m\n",
       "\u001b[34m│\u001b[0m  \u001b[1;37m2. This represents 88.9% of total revenue loss\u001b[0m                                                                 \u001b[34m│\u001b[0m\n",
       "\u001b[34m│\u001b[0m  \u001b[1;37m3. Contract length is a critical retention factor\u001b[0m                                                              \u001b[34m│\u001b[0m\n",
       "\u001b[34m│\u001b[0m  \u001b[1;37m4. Longer contracts significantly reduce churn risk\u001b[0m                                                            \u001b[34m│\u001b[0m\n",
       "\u001b[34m│\u001b[0m                                                                                                                 \u001b[34m│\u001b[0m\n",
       "\u001b[34m│\u001b[0m                                                                                                                 \u001b[34m│\u001b[0m\n",
       "\u001b[34m╰─────────────────────────────────────────────────────────────────────────────────────────────────────────────────╯\u001b[0m\n"
      ]
     },
     "metadata": {},
     "output_type": "display_data"
    },
    {
     "name": "stdout",
     "output_type": "stream",
     "text": [
      "\n"
     ]
    },
    {
     "data": {
      "text/html": [
       "<pre style=\"white-space:pre;overflow-x:auto;line-height:normal;font-family:Menlo,'DejaVu Sans Mono',consolas,'Courier New',monospace\"><span style=\"color: #800000; text-decoration-color: #800000\">╭─────────────────────────────────────────────── 🚨 Critical Alert ───────────────────────────────────────────────╮</span>\n",
       "<span style=\"color: #800000; text-decoration-color: #800000\">│</span>                                                                                                                 <span style=\"color: #800000; text-decoration-color: #800000\">│</span>\n",
       "<span style=\"color: #800000; text-decoration-color: #800000\">│</span>  <span style=\"color: #800000; text-decoration-color: #800000; font-weight: bold\">Month-to-month contracts represent $1,318,674 in annual revenue loss</span>                                           <span style=\"color: #800000; text-decoration-color: #800000\">│</span>\n",
       "<span style=\"color: #800000; text-decoration-color: #800000\">│</span>                                                                                                                 <span style=\"color: #800000; text-decoration-color: #800000\">│</span>\n",
       "<span style=\"color: #800000; text-decoration-color: #800000\">│</span>  <span style=\"font-weight: bold\">Details:</span>                                                                                                       <span style=\"color: #800000; text-decoration-color: #800000\">│</span>\n",
       "<span style=\"color: #800000; text-decoration-color: #800000\">│</span>  <span style=\"color: #800000; text-decoration-color: #800000\">• Immediate contract strategy review needed</span>                                                                    <span style=\"color: #800000; text-decoration-color: #800000\">│</span>\n",
       "<span style=\"color: #800000; text-decoration-color: #800000\">│</span>  <span style=\"color: #800000; text-decoration-color: #800000\">• Consider incentives for longer-term contracts</span>                                                                <span style=\"color: #800000; text-decoration-color: #800000\">│</span>\n",
       "<span style=\"color: #800000; text-decoration-color: #800000\">│</span>  <span style=\"color: #800000; text-decoration-color: #800000\">• Target month-to-month customers with retention campaigns</span>                                                     <span style=\"color: #800000; text-decoration-color: #800000\">│</span>\n",
       "<span style=\"color: #800000; text-decoration-color: #800000\">│</span>                                                                                                                 <span style=\"color: #800000; text-decoration-color: #800000\">│</span>\n",
       "<span style=\"color: #800000; text-decoration-color: #800000\">│</span>                                                                                                                 <span style=\"color: #800000; text-decoration-color: #800000\">│</span>\n",
       "<span style=\"color: #800000; text-decoration-color: #800000\">╰─────────────────────────────────────────────────────────────────────────────────────────────────────────────────╯</span>\n",
       "</pre>\n"
      ],
      "text/plain": [
       "\u001b[31m╭─\u001b[0m\u001b[31m──────────────────────────────────────────────\u001b[0m\u001b[31m 🚨 Critical Alert \u001b[0m\u001b[31m──────────────────────────────────────────────\u001b[0m\u001b[31m─╮\u001b[0m\n",
       "\u001b[31m│\u001b[0m                                                                                                                 \u001b[31m│\u001b[0m\n",
       "\u001b[31m│\u001b[0m  \u001b[1;31mMonth-to-month contracts represent $1,318,674 in annual revenue loss\u001b[0m                                           \u001b[31m│\u001b[0m\n",
       "\u001b[31m│\u001b[0m                                                                                                                 \u001b[31m│\u001b[0m\n",
       "\u001b[31m│\u001b[0m  \u001b[1mDetails:\u001b[0m                                                                                                       \u001b[31m│\u001b[0m\n",
       "\u001b[31m│\u001b[0m  \u001b[31m• Immediate contract strategy review needed\u001b[0m                                                                    \u001b[31m│\u001b[0m\n",
       "\u001b[31m│\u001b[0m  \u001b[31m• Consider incentives for longer-term contracts\u001b[0m                                                                \u001b[31m│\u001b[0m\n",
       "\u001b[31m│\u001b[0m  \u001b[31m• Target month-to-month customers with retention campaigns\u001b[0m                                                     \u001b[31m│\u001b[0m\n",
       "\u001b[31m│\u001b[0m                                                                                                                 \u001b[31m│\u001b[0m\n",
       "\u001b[31m│\u001b[0m                                                                                                                 \u001b[31m│\u001b[0m\n",
       "\u001b[31m╰─────────────────────────────────────────────────────────────────────────────────────────────────────────────────╯\u001b[0m\n"
      ]
     },
     "metadata": {},
     "output_type": "display_data"
    },
    {
     "name": "stdout",
     "output_type": "stream",
     "text": [
      "\n"
     ]
    }
   ],
   "source": [
    "# Cell: Contract Type Financial Analysis\n",
    "print(\"📋 CONTRACT TYPE REVENUE IMPACT\")\n",
    "print(\"=\" * 50)\n",
    "\n",
    "contract_revenue_analysis = df.group_by([\"Contract\", \"Churn\"]).agg([\n",
    "    pl.col(\"customerID\").count().alias(\"customer_count\"),\n",
    "    pl.col(\"MonthlyCharges\").sum().alias(\"monthly_revenue\"),\n",
    "    pl.col(\"MonthlyCharges\").mean().alias(\"avg_monthly_charge\"),\n",
    "    pl.col(\"tenure\").mean().alias(\"avg_tenure\")\n",
    "])\n",
    "\n",
    "# Calculating contract-specific insights\n",
    "contract_summary = df.group_by(\"Contract\").agg([\n",
    "    pl.col(\"customerID\").count().alias(\"total_customers\"),\n",
    "    (pl.col(\"Churn\") == \"Yes\").sum().alias(\"churned_customers\"),\n",
    "    pl.col(\"MonthlyCharges\").sum().alias(\"total_monthly_revenue\"),\n",
    "    pl.col(\"MonthlyCharges\").mean().alias(\"avg_monthly_charge\"),\n",
    "    pl.col(\"tenure\").mean().alias(\"avg_tenure\")\n",
    "]).with_columns([\n",
    "    (pl.col(\"churned_customers\") / pl.col(\"total_customers\") * 100).alias(\"churn_rate\"),\n",
    "    (pl.col(\"churned_customers\") * pl.col(\"avg_monthly_charge\") * 12).alias(\"annual_revenue_lost\")\n",
    "])\n",
    "\n",
    "# Debug: Check what contract types exist\n",
    "print(\"🔍 Available Contract Types:\")\n",
    "contract_types = df[\"Contract\"].unique().to_list()\n",
    "for contract_type in contract_types:\n",
    "    print(f\"   - '{contract_type}'\")\n",
    "print()\n",
    "\n",
    "# Debug: Check contract_summary columns\n",
    "print(\"📊 Contract Summary Columns:\")\n",
    "print(contract_summary.columns)\n",
    "print()\n",
    "\n",
    "# Displaying Table (Fixed typo: total_customer -> total_customers)\n",
    "create_rich_table(\n",
    "    df=contract_summary,\n",
    "    title=\"Contract Type Financial Analysis\",\n",
    "    money_columns=[\"total_monthly_revenue\", \"avg_monthly_charge\", \"annual_revenue_lost\"],\n",
    "    percentage_columns=[\"churn_rate\"],\n",
    "    integer_columns=[\"total_customers\", \"churned_customers\"]  # Fixed typo here\n",
    ")\n",
    "\n",
    "# Business Insights - Fixed with proper case sensitivity and error handling\n",
    "print(\"💡 BUSINESS INSIGHTS ANALYSIS:\")\n",
    "print(\"-\" * 40)\n",
    "\n",
    "# Find the correct month-to-month contract name\n",
    "month_to_month_variants = [\"Month-to-month\", \"month-to-month\", \"Monthly\"]\n",
    "month_to_month_contract = None\n",
    "\n",
    "for variant in month_to_month_variants:\n",
    "    filtered_result = contract_summary.filter(pl.col(\"Contract\") == variant)\n",
    "    if filtered_result.height > 0:\n",
    "        month_to_month_contract = variant\n",
    "        month_to_month_loss = filtered_result[\"annual_revenue_lost\"][0]\n",
    "        break\n",
    "\n",
    "if month_to_month_contract:\n",
    "    print(f\"✅ Found month-to-month contract type: '{month_to_month_contract}'\")\n",
    "    \n",
    "    # Fixed column name: annual_revenue_lost (not Annual_Revenue_Lost)\n",
    "    total_annual_loss = contract_summary[\"annual_revenue_lost\"].sum()\n",
    "    \n",
    "    insights = [\n",
    "        f\"Month-to-month contracts lose ${month_to_month_loss:,.0f} annually\",\n",
    "        f\"This represents {(month_to_month_loss/total_annual_loss)*100:.1f}% of total revenue loss\",\n",
    "        \"Contract length is a critical retention factor\",\n",
    "        \"Longer contracts significantly reduce churn risk\"\n",
    "    ]\n",
    "    \n",
    "    display_insights_summary(insights, \"Contract Analysis Insights\")\n",
    "    \n",
    "    # Critical Alerts\n",
    "    if month_to_month_loss > 1000000:  # 1M\n",
    "        display_business_alert(\n",
    "            message=f\"Month-to-month contracts represent ${month_to_month_loss:,.0f} in annual revenue loss\",\n",
    "            alert_type=\"critical\",\n",
    "            details=[\n",
    "                \"Immediate contract strategy review needed\",\n",
    "                \"Consider incentives for longer-term contracts\",\n",
    "                \"Target month-to-month customers with retention campaigns\"\n",
    "            ]\n",
    "        )\n",
    "    else:\n",
    "        display_business_alert(\n",
    "            message=f\"Month-to-month revenue loss: ${month_to_month_loss:,.0f}\",\n",
    "            alert_type=\"warning\",\n",
    "            details=[\n",
    "                \"Monitor contract mix closely\",\n",
    "                \"Consider contract incentive programs\"\n",
    "            ]\n",
    "        )\n",
    "else:\n",
    "    print(\"❌ Could not find month-to-month contract type\")\n",
    "    print(\"Available contract types:\")\n",
    "    for contract_type in contract_types:\n",
    "        churn_data = contract_summary.filter(pl.col(\"Contract\") == contract_type)\n",
    "        if churn_data.height > 0:\n",
    "            churn_rate = churn_data[\"churn_rate\"][0]\n",
    "            revenue_lost = churn_data[\"annual_revenue_lost\"][0]\n",
    "            print(f\"   📋 {contract_type}: {churn_rate:.1f}% churn, ${revenue_lost:,.0f} lost\")"
   ]
  },
  {
   "cell_type": "code",
   "execution_count": 22,
   "metadata": {},
   "outputs": [
    {
     "data": {
      "text/html": [
       "<pre style=\"white-space:pre;overflow-x:auto;line-height:normal;font-family:Menlo,'DejaVu Sans Mono',consolas,'Courier New',monospace\">💳 PAYMENT METHOD REVENUE RISK\n",
       "</pre>\n"
      ],
      "text/plain": [
       "💳 PAYMENT METHOD REVENUE RISK\n"
      ]
     },
     "metadata": {},
     "output_type": "display_data"
    },
    {
     "data": {
      "text/html": [
       "<pre style=\"white-space:pre;overflow-x:auto;line-height:normal;font-family:Menlo,'DejaVu Sans Mono',consolas,'Courier New',monospace\">==================================================\n",
       "</pre>\n"
      ],
      "text/plain": [
       "==================================================\n"
      ]
     },
     "metadata": {},
     "output_type": "display_data"
    },
    {
     "data": {
      "text/html": [
       "<pre style=\"white-space:pre;overflow-x:auto;line-height:normal;font-family:Menlo,'DejaVu Sans Mono',consolas,'Courier New',monospace\"><span style=\"color: #008000; text-decoration-color: #008000; font-weight: bold\">                                          📊 Payment Method Risk Analysis                                          </span>\n",
       "╭────────────────┬────────────────┬────────────────┬────────────────┬───────────────┬────────────┬────────────────╮\n",
       "│<span style=\"color: #000080; text-decoration-color: #000080; font-weight: bold\">                </span>│<span style=\"color: #000080; text-decoration-color: #000080; font-weight: bold\">          Total </span>│<span style=\"color: #000080; text-decoration-color: #000080; font-weight: bold\">        Churned </span>│<span style=\"color: #000080; text-decoration-color: #000080; font-weight: bold\">  Total Monthly </span>│<span style=\"color: #000080; text-decoration-color: #000080; font-weight: bold\">   Avg Monthly </span>│<span style=\"color: #000080; text-decoration-color: #000080; font-weight: bold\">            </span>│<span style=\"color: #000080; text-decoration-color: #000080; font-weight: bold\"> Annual Revenue </span>│\n",
       "│<span style=\"color: #000080; text-decoration-color: #000080; font-weight: bold\"> Paymentmethod  </span>│<span style=\"color: #000080; text-decoration-color: #000080; font-weight: bold\">      Customers </span>│<span style=\"color: #000080; text-decoration-color: #000080; font-weight: bold\">      Customers </span>│<span style=\"color: #000080; text-decoration-color: #000080; font-weight: bold\">        Revenue </span>│<span style=\"color: #000080; text-decoration-color: #000080; font-weight: bold\">        Charge </span>│<span style=\"color: #000080; text-decoration-color: #000080; font-weight: bold\"> Churn Rate </span>│<span style=\"color: #000080; text-decoration-color: #000080; font-weight: bold\">        At Risk </span>│\n",
       "├────────────────┼────────────────┼────────────────┼────────────────┼───────────────┼────────────┼────────────────┤\n",
       "│ Electronic     │<span style=\"color: #7f7f7f; text-decoration-color: #7f7f7f\">          2,365 </span>│<span style=\"color: #7f7f7f; text-decoration-color: #7f7f7f\">          1,071 </span>│       <span style=\"color: #008000; text-decoration-color: #008000\">$180,345</span> │           <span style=\"color: #008000; text-decoration-color: #008000\">$76</span> │      <span style=\"color: #800000; text-decoration-color: #800000\">45.3%</span> │       <span style=\"color: #008000; text-decoration-color: #008000\">$980,040</span> │\n",
       "│ check          │<span style=\"color: #7f7f7f; text-decoration-color: #7f7f7f\">                </span>│<span style=\"color: #7f7f7f; text-decoration-color: #7f7f7f\">                </span>│                │               │            │                │\n",
       "├────────────────┼────────────────┼────────────────┼────────────────┼───────────────┼────────────┼────────────────┤\n",
       "│ Mailed check   │<span style=\"color: #7f7f7f; text-decoration-color: #7f7f7f\">          1,612 </span>│<span style=\"color: #7f7f7f; text-decoration-color: #7f7f7f\">            308 </span>│        <span style=\"color: #008000; text-decoration-color: #008000\">$70,794</span> │           <span style=\"color: #008000; text-decoration-color: #008000\">$44</span> │      <span style=\"color: #008000; text-decoration-color: #008000\">19.1%</span> │       <span style=\"color: #008000; text-decoration-color: #008000\">$162,317</span> │\n",
       "├────────────────┼────────────────┼────────────────┼────────────────┼───────────────┼────────────┼────────────────┤\n",
       "│ Bank transfer  │<span style=\"color: #7f7f7f; text-decoration-color: #7f7f7f\">          1,544 </span>│<span style=\"color: #7f7f7f; text-decoration-color: #7f7f7f\">            258 </span>│       <span style=\"color: #008000; text-decoration-color: #008000\">$103,745</span> │           <span style=\"color: #008000; text-decoration-color: #008000\">$67</span> │      <span style=\"color: #008000; text-decoration-color: #008000\">16.7%</span> │       <span style=\"color: #008000; text-decoration-color: #008000\">$208,028</span> │\n",
       "│ (automatic)    │<span style=\"color: #7f7f7f; text-decoration-color: #7f7f7f\">                </span>│<span style=\"color: #7f7f7f; text-decoration-color: #7f7f7f\">                </span>│                │               │            │                │\n",
       "├────────────────┼────────────────┼────────────────┼────────────────┼───────────────┼────────────┼────────────────┤\n",
       "│ Credit card    │<span style=\"color: #7f7f7f; text-decoration-color: #7f7f7f\">          1,522 </span>│<span style=\"color: #7f7f7f; text-decoration-color: #7f7f7f\">            232 </span>│       <span style=\"color: #008000; text-decoration-color: #008000\">$101,232</span> │           <span style=\"color: #008000; text-decoration-color: #008000\">$67</span> │      <span style=\"color: #008000; text-decoration-color: #008000\">15.2%</span> │       <span style=\"color: #008000; text-decoration-color: #008000\">$185,170</span> │\n",
       "│ (automatic)    │<span style=\"color: #7f7f7f; text-decoration-color: #7f7f7f\">                </span>│<span style=\"color: #7f7f7f; text-decoration-color: #7f7f7f\">                </span>│                │               │            │                │\n",
       "╰────────────────┴────────────────┴────────────────┴────────────────┴───────────────┴────────────┴────────────────╯\n",
       "</pre>\n"
      ],
      "text/plain": [
       "\u001b[1;32m                                          📊 Payment Method Risk Analysis                                          \u001b[0m\n",
       "╭────────────────┬────────────────┬────────────────┬────────────────┬───────────────┬────────────┬────────────────╮\n",
       "│\u001b[1;34m                \u001b[0m│\u001b[1;34m \u001b[0m\u001b[1;34m         Total\u001b[0m\u001b[1;34m \u001b[0m│\u001b[1;34m \u001b[0m\u001b[1;34m       Churned\u001b[0m\u001b[1;34m \u001b[0m│\u001b[1;34m \u001b[0m\u001b[1;34m Total Monthly\u001b[0m\u001b[1;34m \u001b[0m│\u001b[1;34m \u001b[0m\u001b[1;34m  Avg Monthly\u001b[0m\u001b[1;34m \u001b[0m│\u001b[1;34m            \u001b[0m│\u001b[1;34m \u001b[0m\u001b[1;34mAnnual Revenue\u001b[0m\u001b[1;34m \u001b[0m│\n",
       "│\u001b[1;34m \u001b[0m\u001b[1;34mPaymentmethod \u001b[0m\u001b[1;34m \u001b[0m│\u001b[1;34m \u001b[0m\u001b[1;34m     Customers\u001b[0m\u001b[1;34m \u001b[0m│\u001b[1;34m \u001b[0m\u001b[1;34m     Customers\u001b[0m\u001b[1;34m \u001b[0m│\u001b[1;34m \u001b[0m\u001b[1;34m       Revenue\u001b[0m\u001b[1;34m \u001b[0m│\u001b[1;34m \u001b[0m\u001b[1;34m       Charge\u001b[0m\u001b[1;34m \u001b[0m│\u001b[1;34m \u001b[0m\u001b[1;34mChurn Rate\u001b[0m\u001b[1;34m \u001b[0m│\u001b[1;34m \u001b[0m\u001b[1;34m       At Risk\u001b[0m\u001b[1;34m \u001b[0m│\n",
       "├────────────────┼────────────────┼────────────────┼────────────────┼───────────────┼────────────┼────────────────┤\n",
       "│ Electronic     │\u001b[2m \u001b[0m\u001b[2m         2,365\u001b[0m\u001b[2m \u001b[0m│\u001b[2m \u001b[0m\u001b[2m         1,071\u001b[0m\u001b[2m \u001b[0m│       \u001b[32m$180,345\u001b[0m │           \u001b[32m$76\u001b[0m │      \u001b[31m45.3%\u001b[0m │       \u001b[32m$980,040\u001b[0m │\n",
       "│ check          │\u001b[2m                \u001b[0m│\u001b[2m                \u001b[0m│                │               │            │                │\n",
       "├────────────────┼────────────────┼────────────────┼────────────────┼───────────────┼────────────┼────────────────┤\n",
       "│ Mailed check   │\u001b[2m \u001b[0m\u001b[2m         1,612\u001b[0m\u001b[2m \u001b[0m│\u001b[2m \u001b[0m\u001b[2m           308\u001b[0m\u001b[2m \u001b[0m│        \u001b[32m$70,794\u001b[0m │           \u001b[32m$44\u001b[0m │      \u001b[32m19.1%\u001b[0m │       \u001b[32m$162,317\u001b[0m │\n",
       "├────────────────┼────────────────┼────────────────┼────────────────┼───────────────┼────────────┼────────────────┤\n",
       "│ Bank transfer  │\u001b[2m \u001b[0m\u001b[2m         1,544\u001b[0m\u001b[2m \u001b[0m│\u001b[2m \u001b[0m\u001b[2m           258\u001b[0m\u001b[2m \u001b[0m│       \u001b[32m$103,745\u001b[0m │           \u001b[32m$67\u001b[0m │      \u001b[32m16.7%\u001b[0m │       \u001b[32m$208,028\u001b[0m │\n",
       "│ (automatic)    │\u001b[2m                \u001b[0m│\u001b[2m                \u001b[0m│                │               │            │                │\n",
       "├────────────────┼────────────────┼────────────────┼────────────────┼───────────────┼────────────┼────────────────┤\n",
       "│ Credit card    │\u001b[2m \u001b[0m\u001b[2m         1,522\u001b[0m\u001b[2m \u001b[0m│\u001b[2m \u001b[0m\u001b[2m           232\u001b[0m\u001b[2m \u001b[0m│       \u001b[32m$101,232\u001b[0m │           \u001b[32m$67\u001b[0m │      \u001b[32m15.2%\u001b[0m │       \u001b[32m$185,170\u001b[0m │\n",
       "│ (automatic)    │\u001b[2m                \u001b[0m│\u001b[2m                \u001b[0m│                │               │            │                │\n",
       "╰────────────────┴────────────────┴────────────────┴────────────────┴───────────────┴────────────┴────────────────╯\n"
      ]
     },
     "metadata": {},
     "output_type": "display_data"
    },
    {
     "name": "stdout",
     "output_type": "stream",
     "text": [
      "\n"
     ]
    },
    {
     "data": {
      "text/html": [
       "<pre style=\"white-space:pre;overflow-x:auto;line-height:normal;font-family:Menlo,'DejaVu Sans Mono',consolas,'Courier New',monospace\"><span style=\"color: #000080; text-decoration-color: #000080\">╭────────────────────────────────────── 💡 Payment Method Analysis Insights ──────────────────────────────────────╮</span>\n",
       "<span style=\"color: #000080; text-decoration-color: #000080\">│</span>                                                                                                                 <span style=\"color: #000080; text-decoration-color: #000080\">│</span>\n",
       "<span style=\"color: #000080; text-decoration-color: #000080\">│</span>  <span style=\"color: #c0c0c0; text-decoration-color: #c0c0c0; font-weight: bold\">1. Highest risk payment method: Electronic check (45.3% churn)</span>                                                 <span style=\"color: #000080; text-decoration-color: #000080\">│</span>\n",
       "<span style=\"color: #000080; text-decoration-color: #000080\">│</span>  <span style=\"color: #c0c0c0; text-decoration-color: #c0c0c0; font-weight: bold\">2. Annual revenue at risk from Electronic check: $980,040</span>                                                      <span style=\"color: #000080; text-decoration-color: #000080\">│</span>\n",
       "<span style=\"color: #000080; text-decoration-color: #000080\">│</span>  <span style=\"color: #c0c0c0; text-decoration-color: #c0c0c0; font-weight: bold\">3. Best performing payment method: Credit card (automatic) (15.2% churn)</span>                                       <span style=\"color: #000080; text-decoration-color: #000080\">│</span>\n",
       "<span style=\"color: #000080; text-decoration-color: #000080\">│</span>  <span style=\"color: #c0c0c0; text-decoration-color: #c0c0c0; font-weight: bold\">4. Payment method churn gap: 30.0 percentage points</span>                                                            <span style=\"color: #000080; text-decoration-color: #000080\">│</span>\n",
       "<span style=\"color: #000080; text-decoration-color: #000080\">│</span>  <span style=\"color: #c0c0c0; text-decoration-color: #c0c0c0; font-weight: bold\">5. Total annual revenue at risk across all payment methods: $1,535,556</span>                                         <span style=\"color: #000080; text-decoration-color: #000080\">│</span>\n",
       "<span style=\"color: #000080; text-decoration-color: #000080\">│</span>                                                                                                                 <span style=\"color: #000080; text-decoration-color: #000080\">│</span>\n",
       "<span style=\"color: #000080; text-decoration-color: #000080\">│</span>                                                                                                                 <span style=\"color: #000080; text-decoration-color: #000080\">│</span>\n",
       "<span style=\"color: #000080; text-decoration-color: #000080\">╰─────────────────────────────────────────────────────────────────────────────────────────────────────────────────╯</span>\n",
       "</pre>\n"
      ],
      "text/plain": [
       "\u001b[34m╭─\u001b[0m\u001b[34m─────────────────────────────────────\u001b[0m\u001b[34m 💡 Payment Method Analysis Insights \u001b[0m\u001b[34m─────────────────────────────────────\u001b[0m\u001b[34m─╮\u001b[0m\n",
       "\u001b[34m│\u001b[0m                                                                                                                 \u001b[34m│\u001b[0m\n",
       "\u001b[34m│\u001b[0m  \u001b[1;37m1. Highest risk payment method: Electronic check (45.3% churn)\u001b[0m                                                 \u001b[34m│\u001b[0m\n",
       "\u001b[34m│\u001b[0m  \u001b[1;37m2. Annual revenue at risk from Electronic check: $980,040\u001b[0m                                                      \u001b[34m│\u001b[0m\n",
       "\u001b[34m│\u001b[0m  \u001b[1;37m3. Best performing payment method: Credit card (automatic) (15.2% churn)\u001b[0m                                       \u001b[34m│\u001b[0m\n",
       "\u001b[34m│\u001b[0m  \u001b[1;37m4. Payment method churn gap: 30.0 percentage points\u001b[0m                                                            \u001b[34m│\u001b[0m\n",
       "\u001b[34m│\u001b[0m  \u001b[1;37m5. Total annual revenue at risk across all payment methods: $1,535,556\u001b[0m                                         \u001b[34m│\u001b[0m\n",
       "\u001b[34m│\u001b[0m                                                                                                                 \u001b[34m│\u001b[0m\n",
       "\u001b[34m│\u001b[0m                                                                                                                 \u001b[34m│\u001b[0m\n",
       "\u001b[34m╰─────────────────────────────────────────────────────────────────────────────────────────────────────────────────╯\u001b[0m\n"
      ]
     },
     "metadata": {},
     "output_type": "display_data"
    },
    {
     "name": "stdout",
     "output_type": "stream",
     "text": [
      "\n"
     ]
    },
    {
     "data": {
      "text/html": [
       "<pre style=\"white-space:pre;overflow-x:auto;line-height:normal;font-family:Menlo,'DejaVu Sans Mono',consolas,'Courier New',monospace\"><span style=\"color: #800000; text-decoration-color: #800000\">╭─────────────────────────────────────────────── 🚨 Critical Alert ───────────────────────────────────────────────╮</span>\n",
       "<span style=\"color: #800000; text-decoration-color: #800000\">│</span>                                                                                                                 <span style=\"color: #800000; text-decoration-color: #800000\">│</span>\n",
       "<span style=\"color: #800000; text-decoration-color: #800000\">│</span>  <span style=\"color: #800000; text-decoration-color: #800000; font-weight: bold\">Critical payment friction detected: Electronic check shows 45.3% churn</span>                                         <span style=\"color: #800000; text-decoration-color: #800000\">│</span>\n",
       "<span style=\"color: #800000; text-decoration-color: #800000\">│</span>                                                                                                                 <span style=\"color: #800000; text-decoration-color: #800000\">│</span>\n",
       "<span style=\"color: #800000; text-decoration-color: #800000\">│</span>  <span style=\"font-weight: bold\">Details:</span>                                                                                                       <span style=\"color: #800000; text-decoration-color: #800000\">│</span>\n",
       "<span style=\"color: #800000; text-decoration-color: #800000\">│</span>  <span style=\"color: #800000; text-decoration-color: #800000\">• Revenue impact: $980,040 annually</span>                                                                            <span style=\"color: #800000; text-decoration-color: #800000\">│</span>\n",
       "<span style=\"color: #800000; text-decoration-color: #800000\">│</span>  <span style=\"color: #800000; text-decoration-color: #800000\">• Investigate payment process friction</span>                                                                         <span style=\"color: #800000; text-decoration-color: #800000\">│</span>\n",
       "<span style=\"color: #800000; text-decoration-color: #800000\">│</span>  <span style=\"color: #800000; text-decoration-color: #800000\">• Migrate Electronic check users to Credit card (automatic)</span>                                                    <span style=\"color: #800000; text-decoration-color: #800000\">│</span>\n",
       "<span style=\"color: #800000; text-decoration-color: #800000\">│</span>  <span style=\"color: #800000; text-decoration-color: #800000\">• Consider payment method incentives or discounts</span>                                                              <span style=\"color: #800000; text-decoration-color: #800000\">│</span>\n",
       "<span style=\"color: #800000; text-decoration-color: #800000\">│</span>                                                                                                                 <span style=\"color: #800000; text-decoration-color: #800000\">│</span>\n",
       "<span style=\"color: #800000; text-decoration-color: #800000\">│</span>                                                                                                                 <span style=\"color: #800000; text-decoration-color: #800000\">│</span>\n",
       "<span style=\"color: #800000; text-decoration-color: #800000\">╰─────────────────────────────────────────────────────────────────────────────────────────────────────────────────╯</span>\n",
       "</pre>\n"
      ],
      "text/plain": [
       "\u001b[31m╭─\u001b[0m\u001b[31m──────────────────────────────────────────────\u001b[0m\u001b[31m 🚨 Critical Alert \u001b[0m\u001b[31m──────────────────────────────────────────────\u001b[0m\u001b[31m─╮\u001b[0m\n",
       "\u001b[31m│\u001b[0m                                                                                                                 \u001b[31m│\u001b[0m\n",
       "\u001b[31m│\u001b[0m  \u001b[1;31mCritical payment friction detected: Electronic check shows 45.3% churn\u001b[0m                                         \u001b[31m│\u001b[0m\n",
       "\u001b[31m│\u001b[0m                                                                                                                 \u001b[31m│\u001b[0m\n",
       "\u001b[31m│\u001b[0m  \u001b[1mDetails:\u001b[0m                                                                                                       \u001b[31m│\u001b[0m\n",
       "\u001b[31m│\u001b[0m  \u001b[31m• Revenue impact: $980,040 annually\u001b[0m                                                                            \u001b[31m│\u001b[0m\n",
       "\u001b[31m│\u001b[0m  \u001b[31m• Investigate payment process friction\u001b[0m                                                                         \u001b[31m│\u001b[0m\n",
       "\u001b[31m│\u001b[0m  \u001b[31m• Migrate Electronic check users to Credit card (automatic)\u001b[0m                                                    \u001b[31m│\u001b[0m\n",
       "\u001b[31m│\u001b[0m  \u001b[31m• Consider payment method incentives or discounts\u001b[0m                                                              \u001b[31m│\u001b[0m\n",
       "\u001b[31m│\u001b[0m                                                                                                                 \u001b[31m│\u001b[0m\n",
       "\u001b[31m│\u001b[0m                                                                                                                 \u001b[31m│\u001b[0m\n",
       "\u001b[31m╰─────────────────────────────────────────────────────────────────────────────────────────────────────────────────╯\u001b[0m\n"
      ]
     },
     "metadata": {},
     "output_type": "display_data"
    },
    {
     "name": "stdout",
     "output_type": "stream",
     "text": [
      "\n"
     ]
    }
   ],
   "source": [
    "# Cell: Payment Method Risk Analysis\n",
    "print(\"💳 PAYMENT METHOD REVENUE RISK\")\n",
    "print(\"=\" * 50)\n",
    "\n",
    "payment_analysis = df.group_by(\"PaymentMethod\").agg([\n",
    "    pl.col(\"customerID\").count().alias(\"total_customers\"),\n",
    "    (pl.col(\"Churn\") == \"Yes\").sum().alias(\"churned_customers\"),\n",
    "    pl.col(\"MonthlyCharges\").sum().alias(\"total_monthly_revenue\"),\n",
    "    pl.col(\"MonthlyCharges\").mean().alias(\"avg_monthly_charge\")\n",
    "]).with_columns([\n",
    "    (pl.col(\"churned_customers\") / pl.col(\"total_customers\") * 100).alias(\"churn_rate\"),\n",
    "    (pl.col(\"churned_customers\") * pl.col(\"avg_monthly_charge\") * 12).alias(\"annual_revenue_at_risk\")\n",
    "]).sort(\"churn_rate\", descending=True)\n",
    "\n",
    "# Display with Rich formatting\n",
    "create_rich_table(\n",
    "    df=payment_analysis,\n",
    "    title=\"Payment Method Risk Analysis\",\n",
    "    money_columns=[\"total_monthly_revenue\", \"avg_monthly_charge\", \"annual_revenue_at_risk\"],\n",
    "    percentage_columns=[\"churn_rate\"],\n",
    "    integer_columns=[\"total_customers\", \"churned_customers\"]\n",
    ")\n",
    "\n",
    "# Identify highest risk payment method\n",
    "highest_risk_payment = payment_analysis.filter(pl.col(\"churn_rate\") == pl.col(\"churn_rate\").max())\n",
    "lowest_risk_payment = payment_analysis.filter(pl.col(\"churn_rate\") == pl.col(\"churn_rate\").min())\n",
    "\n",
    "# Extract key metrics for insights\n",
    "highest_risk_method = highest_risk_payment[\"PaymentMethod\"][0]\n",
    "highest_risk_rate = highest_risk_payment[\"churn_rate\"][0]\n",
    "highest_risk_revenue = highest_risk_payment[\"annual_revenue_at_risk\"][0]\n",
    "\n",
    "lowest_risk_method = lowest_risk_payment[\"PaymentMethod\"][0]\n",
    "lowest_risk_rate = lowest_risk_payment[\"churn_rate\"][0]\n",
    "\n",
    "total_payment_risk = payment_analysis[\"annual_revenue_at_risk\"].sum()\n",
    "\n",
    "# Generate business insights\n",
    "insights = [\n",
    "    f\"Highest risk payment method: {highest_risk_method} ({highest_risk_rate:.1f}% churn)\",\n",
    "    f\"Annual revenue at risk from {highest_risk_method}: ${highest_risk_revenue:,.0f}\",\n",
    "    f\"Best performing payment method: {lowest_risk_method} ({lowest_risk_rate:.1f}% churn)\",\n",
    "    f\"Payment method churn gap: {highest_risk_rate - lowest_risk_rate:.1f} percentage points\",\n",
    "    f\"Total annual revenue at risk across all payment methods: ${total_payment_risk:,.0f}\"\n",
    "]\n",
    "\n",
    "display_insights_summary(insights, \"Payment Method Analysis Insights\")\n",
    "\n",
    "# Critical business alerts\n",
    "if highest_risk_rate > 40:\n",
    "    display_business_alert(\n",
    "        message=f\"Critical payment friction detected: {highest_risk_method} shows {highest_risk_rate:.1f}% churn\",\n",
    "        alert_type=\"critical\",\n",
    "        details=[\n",
    "            f\"Revenue impact: ${highest_risk_revenue:,.0f} annually\",\n",
    "            \"Investigate payment process friction\",\n",
    "            f\"Migrate {highest_risk_method} users to {lowest_risk_method}\",\n",
    "            \"Consider payment method incentives or discounts\"\n",
    "        ]\n",
    "    )\n",
    "elif highest_risk_rate > 25:\n",
    "    display_business_alert(\n",
    "        message=f\"Payment method concern: {highest_risk_method} exceeds 25% churn threshold\",\n",
    "        alert_type=\"warning\",\n",
    "        details=[\n",
    "            f\"Monitor {highest_risk_method} customer satisfaction\",\n",
    "            \"Consider payment process improvements\",\n",
    "            f\"Promote {lowest_risk_method} as preferred option\"\n",
    "        ]\n",
    "    )\n",
    "else:\n",
    "    display_business_alert(\n",
    "        message=\"Payment method performance within acceptable ranges\",\n",
    "        alert_type=\"success\",\n",
    "        details=[\n",
    "            \"Continue monitoring payment method trends\",\n",
    "            \"Maintain current payment options\"\n",
    "        ]\n",
    "    )\n"
   ]
  },
  {
   "cell_type": "code",
   "execution_count": null,
   "metadata": {},
   "outputs": [],
   "source": []
  }
 ],
 "metadata": {
  "kernelspec": {
   "display_name": "Python 3 (ipykernel)",
   "language": "python",
   "name": "python3"
  },
  "language_info": {
   "codemirror_mode": {
    "name": "ipython",
    "version": 3
   },
   "file_extension": ".py",
   "mimetype": "text/x-python",
   "name": "python",
   "nbconvert_exporter": "python",
   "pygments_lexer": "ipython3",
   "version": "3.13.2"
  }
 },
 "nbformat": 4,
 "nbformat_minor": 4
}
